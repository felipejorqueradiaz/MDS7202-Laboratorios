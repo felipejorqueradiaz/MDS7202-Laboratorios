{
 "cells": [
  {
   "cell_type": "markdown",
   "source": "<h1><center>Laboratorio 9: Benchmark Estadístico con Reddit 🧮</center></h1>\n\n<center><strong>MDS7202: Laboratorio de Programación Científica para Ciencia de Datos</strong></center>",
   "metadata": {
    "id": "XUZ1dFPHzAHl",
    "cell_id": "00000-e61b8f99-434b-4848-a553-4bbae63045cc",
    "deepnote_cell_type": "markdown",
    "deepnote_cell_height": 156.390625
   }
  },
  {
   "cell_type": "markdown",
   "source": "### Cuerpo Docente:\n\n- Profesor: Pablo Badilla\n- Auxiliar: Ignacio Meza D.\n- Ayudante: Patricio Ortiz",
   "metadata": {
    "id": "UD8X1uhGzAHq",
    "cell_id": "00001-231091e0-d755-42af-83b0-809301b54cfe",
    "deepnote_cell_type": "markdown",
    "deepnote_cell_height": 165.1875
   }
  },
  {
   "cell_type": "markdown",
   "source": "### Equipo: SUPER IMPORTANTE - notebooks sin nombre no serán revisados\n\n- Nombre de alumno 1:\n- Nombre de alumno 2:\n",
   "metadata": {
    "id": "tXflExjqzAHr",
    "cell_id": "00002-65747a66-3e34-4df6-9e4a-c63f6d47f1f1",
    "deepnote_cell_type": "markdown",
    "deepnote_cell_height": 171.796875
   }
  },
  {
   "cell_type": "markdown",
   "source": "### **Link de repositorio de GitHub:** `http://....`",
   "metadata": {
    "id": "AD-V0bbZzAHr",
    "cell_id": "00003-f842b0e0-851a-405c-a104-53fa53260fa5",
    "deepnote_cell_type": "markdown",
    "deepnote_cell_height": 62
   }
  },
  {
   "cell_type": "markdown",
   "source": "# Temas a tratar\n\n- Optimización de Código en Python.\n- Utilización de librerías para medir el tiempo de ejecución de funciones.\n- Métodos para optimizar el rendimiento de las funciones.\n\n# Reglas:\n\n- Fecha de entrega: 3/12/2021\n- **Grupos de 2 personas**\n- **Ausentes** deberán realizar la actividad solos. \n- Cualquier duda fuera del horario de clases al foro. Mensajes al equipo docente serán respondidos por este medio.\n- Prohibidas las copias. \n- Pueden usar cualquer matrial del curso que estimen conveniente.\n\n# Objetivos principales del laboratorio\n\n- Utilizar la API de Reddit a partir de la librería `praw` y visualizar cuales post son más probables que sean puntuados positivamente.\n- Utilizar `cache_lru` para cachear resultados de funciones.\n- Aplicar un atajo estadístico para obtener la mean posterior de datos.\n- Medir el tiempo de ejecución como también el uso de memoria de la función anterior.\n- Optimizar la función anterior a través de `numba`.",
   "metadata": {
    "id": "6uBLPj1PzAHs",
    "cell_id": "00004-d2b77039-39dd-4985-bec7-914bd5a67d98",
    "deepnote_cell_type": "markdown",
    "deepnote_cell_height": 669
   }
  },
  {
   "cell_type": "markdown",
   "source": "#Importamos librerias utiles 😸",
   "metadata": {
    "id": "MhISwri4zAHy",
    "cell_id": "00005-5a5cbaa6-e809-4c62-9709-7e650430b7ba",
    "deepnote_cell_type": "markdown",
    "deepnote_cell_height": 52.390625
   }
  },
  {
   "cell_type": "code",
   "metadata": {
    "tags": [],
    "cell_id": "00006-375e81a0-63bd-4f61-a2c2-561059d97241",
    "deepnote_to_be_reexecuted": false,
    "source_hash": "251d15fd",
    "execution_start": 1638299125300,
    "execution_millis": 214,
    "deepnote_cell_type": "code",
    "deepnote_cell_height": 168
   },
   "source": "%load_ext autoreload\n%autoreload 2\n",
   "execution_count": null,
   "outputs": [
    {
     "name": "stdout",
     "text": "The autoreload extension is already loaded. To reload it, use:\n  %reload_ext autoreload\n",
     "output_type": "stream"
    }
   ]
  },
  {
   "cell_type": "code",
   "metadata": {
    "deepnote_to_be_reexecuted": false,
    "executionInfo": {
     "elapsed": 10379,
     "status": "ok",
     "timestamp": 1627484630448,
     "user": {
      "displayName": "IGNACIO ALEJANDRO MEZA",
      "photoUrl": "",
      "userId": "17011121633069169364"
     },
     "user_tz": 240
    },
    "execution_millis": 24248,
    "execution_start": 1638299092849,
    "id": "cO7AQ9ciQ59U",
    "source_hash": "1240e4a3",
    "cell_id": "00006-00a9ab85-c6e5-4b3d-b6ba-2004ff409a6d",
    "deepnote_cell_type": "code",
    "deepnote_cell_height": 432.1875
   },
   "source": "%%capture\n!pip install praw\n!pip install line_profiler\n!pip install numba\n\n%load_ext autoreload\n%autoreload 2\n\nimport sys\nimport praw\nimport time\nimport numpy as np\nimport pandas as pd\nfrom numba import jit\nimport plotly.express as px\nfrom functools import lru_cache\nfrom IPython.core.display import Image",
   "execution_count": null,
   "outputs": [
    {
     "output_type": "error",
     "ename": "ImportError",
     "evalue": "Numba needs NumPy 1.20 or less",
     "traceback": [
      "\u001b[0;31m---------------------------------------------------------------------------\u001b[0m",
      "\u001b[0;31mImportError\u001b[0m                               Traceback (most recent call last)",
      "\u001b[0;32m<ipython-input-1-1336e947f281>\u001b[0m in \u001b[0;36m<module>\u001b[0;34m\u001b[0m\n\u001b[1;32m     11\u001b[0m \u001b[0;32mimport\u001b[0m \u001b[0mnumpy\u001b[0m \u001b[0;32mas\u001b[0m \u001b[0mnp\u001b[0m\u001b[0;34m\u001b[0m\u001b[0;34m\u001b[0m\u001b[0m\n\u001b[1;32m     12\u001b[0m \u001b[0;32mimport\u001b[0m \u001b[0mpandas\u001b[0m \u001b[0;32mas\u001b[0m \u001b[0mpd\u001b[0m\u001b[0;34m\u001b[0m\u001b[0;34m\u001b[0m\u001b[0m\n\u001b[0;32m---> 13\u001b[0;31m \u001b[0;32mfrom\u001b[0m \u001b[0mnumba\u001b[0m \u001b[0;32mimport\u001b[0m \u001b[0mjit\u001b[0m\u001b[0;34m\u001b[0m\u001b[0;34m\u001b[0m\u001b[0m\n\u001b[0m\u001b[1;32m     14\u001b[0m \u001b[0;32mimport\u001b[0m \u001b[0mplotly\u001b[0m\u001b[0;34m.\u001b[0m\u001b[0mexpress\u001b[0m \u001b[0;32mas\u001b[0m \u001b[0mpx\u001b[0m\u001b[0;34m\u001b[0m\u001b[0;34m\u001b[0m\u001b[0m\n\u001b[1;32m     15\u001b[0m \u001b[0;32mfrom\u001b[0m \u001b[0mfunctools\u001b[0m \u001b[0;32mimport\u001b[0m \u001b[0mlru_cache\u001b[0m\u001b[0;34m\u001b[0m\u001b[0;34m\u001b[0m\u001b[0m\n",
      "\u001b[0;32m~/venv/lib/python3.9/site-packages/numba/__init__.py\u001b[0m in \u001b[0;36m<module>\u001b[0;34m\u001b[0m\n\u001b[1;32m    196\u001b[0m \u001b[0;34m\u001b[0m\u001b[0m\n\u001b[1;32m    197\u001b[0m \u001b[0m_ensure_llvm\u001b[0m\u001b[0;34m(\u001b[0m\u001b[0;34m)\u001b[0m\u001b[0;34m\u001b[0m\u001b[0;34m\u001b[0m\u001b[0m\n\u001b[0;32m--> 198\u001b[0;31m \u001b[0m_ensure_critical_deps\u001b[0m\u001b[0;34m(\u001b[0m\u001b[0;34m)\u001b[0m\u001b[0;34m\u001b[0m\u001b[0;34m\u001b[0m\u001b[0m\n\u001b[0m\u001b[1;32m    199\u001b[0m \u001b[0;34m\u001b[0m\u001b[0m\n\u001b[1;32m    200\u001b[0m \u001b[0;31m# we know llvmlite is working as the above tests passed, import it now as SVML\u001b[0m\u001b[0;34m\u001b[0m\u001b[0;34m\u001b[0m\u001b[0m\n",
      "\u001b[0;32m~/venv/lib/python3.9/site-packages/numba/__init__.py\u001b[0m in \u001b[0;36m_ensure_critical_deps\u001b[0;34m()\u001b[0m\n\u001b[1;32m    136\u001b[0m         \u001b[0;32mraise\u001b[0m \u001b[0mImportError\u001b[0m\u001b[0;34m(\u001b[0m\u001b[0;34m\"Numba needs NumPy 1.17 or greater\"\u001b[0m\u001b[0;34m)\u001b[0m\u001b[0;34m\u001b[0m\u001b[0;34m\u001b[0m\u001b[0m\n\u001b[1;32m    137\u001b[0m     \u001b[0;32melif\u001b[0m \u001b[0mnumpy_version\u001b[0m \u001b[0;34m>\u001b[0m \u001b[0;34m(\u001b[0m\u001b[0;36m1\u001b[0m\u001b[0;34m,\u001b[0m \u001b[0;36m20\u001b[0m\u001b[0;34m)\u001b[0m\u001b[0;34m:\u001b[0m\u001b[0;34m\u001b[0m\u001b[0;34m\u001b[0m\u001b[0m\n\u001b[0;32m--> 138\u001b[0;31m         \u001b[0;32mraise\u001b[0m \u001b[0mImportError\u001b[0m\u001b[0;34m(\u001b[0m\u001b[0;34m\"Numba needs NumPy 1.20 or less\"\u001b[0m\u001b[0;34m)\u001b[0m\u001b[0;34m\u001b[0m\u001b[0;34m\u001b[0m\u001b[0m\n\u001b[0m\u001b[1;32m    139\u001b[0m \u001b[0;34m\u001b[0m\u001b[0m\n\u001b[1;32m    140\u001b[0m     \u001b[0;32mtry\u001b[0m\u001b[0;34m:\u001b[0m\u001b[0;34m\u001b[0m\u001b[0;34m\u001b[0m\u001b[0m\n",
      "\u001b[0;31mImportError\u001b[0m: Numba needs NumPy 1.20 or less"
     ]
    }
   ]
  },
  {
   "cell_type": "markdown",
   "source": "# 1. Recomendando Posts de Subreddit",
   "metadata": {
    "id": "xpOTbQcxbSiy",
    "cell_id": "00007-853a08fe-06d7-4051-b347-1e29226924ee",
    "deepnote_cell_type": "markdown",
    "deepnote_cell_height": 82
   }
  },
  {
   "cell_type": "markdown",
   "source": "<p align=\"center\">\n  <img src=\"https://preview.redd.it/3sxusxcjge791.png?auto=webp&s=88bc1f9a3c59eafda24b0e32dd87d7cf596d205d\">\n</p>",
   "metadata": {
    "id": "3Q93vbNS25bM",
    "cell_id": "00008-ca941d35-4377-406f-8b9c-cdf3ce096c64",
    "owner_user_id": "d50c3174-babb-4861-9c71-7e3af66458b8",
    "deepnote_cell_type": "markdown",
    "deepnote_cell_height": 376
   }
  },
  {
   "cell_type": "markdown",
   "source": "Unos intrépidos alumnos del curso, quienes frecuentemente participan en subreddits y foros de reviews, se preguntan lo siguiente: ¿Podremos confiar que un post es bueno, si este tiene solamente 1 o 3 votos positivos?. los compañeros, creen que esto claramente no representa una opinión general, ya que estamos mucho menos seguros acerca de la verdadera proporción de votos a favor de los comentarios con pocos datos. ¿Pero cómo podemos obtener una representación más creíble para este problema?.\n\nLo señalado forma parte de un problema estadísticos, donde a través del cálculo de la posterior se puede conocer que tan probable es que un post sea bueno. Para efectos de este laboratorio, no se exige un conocimiento previo para resolver este problema, simplemente se deberá aplicar las ecuaciones presentadas más adelante (De igual forma si quedan interesados sobre el tema se les invita a tomar el ramo [CC6104](https://github.com/dccuchile/CC6104)).",
   "metadata": {
    "id": "jnmZfFpxTTYX",
    "cell_id": "00009-bb6e6ae1-d939-400e-aa39-a9b5cf6fe725",
    "deepnote_cell_type": "markdown",
    "deepnote_cell_height": 245.59375
   }
  },
  {
   "cell_type": "markdown",
   "source": "## 1.1 Obtención de Subrredits y Análisis [1 Punto]",
   "metadata": {
    "id": "xdbrb3AMi6EF",
    "cell_id": "00010-11ff1022-47d3-4e16-a067-862aff4fa1e6",
    "deepnote_cell_type": "markdown",
    "deepnote_cell_height": 70
   }
  },
  {
   "cell_type": "markdown",
   "source": "Para estudiar que tan probable es que un post sea positivo se comenzará cargando datos reales del subreddit chile desde reddit (si usted desea puede cambiar el subreddit a uno de su gusto). Para esto le proponemos la utilización de la función que aparece mas abajo, la que presenta un usuario ya creado por el equipo docente. Dese un tiempo para entender que hace cada parte de la función, visualizando que se obtiene de estas.\n\nRevisada la función, utilice un **perfilador** para monitorear el tiempo y memoria que les toma a cada liena de código para ser ejecutada. Señale cuales son los procesos que mas tiempo consumen en la ejecución del Código, comentando si es posible mejorar el desempeño de la función.\n\n**TO-DO:**\n- [ ] Estudiar la función propuesta por el equipo docente.\n- [ ] Estudiar los tiempos de ejecución del código a través de un perfilador.\n- [ ] Estudiar la memoria ocupada por el código a través de un perfilador.\n- [ ] Comente los resultados. ¿Qué lineas ocupan más memoria o más/menos tiempo?¿Por qué?",
   "metadata": {
    "id": "YI-IRspcjPee",
    "cell_id": "00011-098a5246-642a-47aa-9f10-2261697c2603",
    "deepnote_cell_type": "markdown",
    "deepnote_cell_height": 363.796875
   }
  },
  {
   "cell_type": "code",
   "metadata": {
    "deepnote_to_be_reexecuted": false,
    "executionInfo": {
     "elapsed": 7,
     "status": "ok",
     "timestamp": 1627484630449,
     "user": {
      "displayName": "IGNACIO ALEJANDRO MEZA",
      "photoUrl": "",
      "userId": "17011121633069169364"
     },
     "user_tz": 240
    },
    "execution_millis": 1,
    "execution_start": 1637947497504,
    "id": "R4PQbceVPJzh",
    "source_hash": "a55fad36",
    "cell_id": "00012-48fd53e5-c751-4583-b193-5f95afab5819",
    "deepnote_cell_type": "code",
    "deepnote_cell_height": 675
   },
   "source": "def praw_reddit(nombre_subreddit=\"chile\", n_hot=1000):\n    reddit = praw.Reddit(\n        client_id=\"-w2hyFINxZ8T3g\",\n        client_secret=\"zGPCI4s3g6Ic6AsRi7vIpP0NoxbFdw\",\n        password=\"ClasesMDS7202\",\n        user_agent=\"Clases\",\n        username=\"DocenciaDataScience\",\n        check_for_async=False,\n    )\n    subreddit = reddit.subreddit(nombre_subreddit)\n\n    votes, post, url = {}, {}, {}\n    top_submissions = list(subreddit.hot(limit=n_hot))\n    for it, top_n in enumerate(range(50, len(top_submissions), 50)):\n        top_n_submissions = top_submissions[:top_n]\n        upvotes, downvotes, url[it], post[it] = [], [], [], []\n\n        for submission in top_n_submissions:\n            try:\n                ratio = submission.upvote_ratio\n                ups = int(\n                    round((ratio * submission.score) / (2 * ratio - 1))\n                    if ratio != 0.5\n                    else round(submission.score / 2)\n                )\n                upvotes.append(ups)\n                downvotes.append(ups - submission.score)\n                post[it].append(submission.title)\n                url[it].append(submission.url)\n            except Exception as e:\n                continue\n        votes[it] = np.array([upvotes, downvotes]).T\n    return votes, post, url\n",
   "execution_count": null,
   "outputs": []
  },
  {
   "cell_type": "code",
   "metadata": {
    "deepnote_to_be_reexecuted": false,
    "executionInfo": {
     "elapsed": 14052,
     "status": "ok",
     "timestamp": 1627484649043,
     "user": {
      "displayName": "IGNACIO ALEJANDRO MEZA",
      "photoUrl": "",
      "userId": "17011121633069169364"
     },
     "user_tz": 240
    },
    "execution_millis": 11242,
    "execution_start": 1637947497523,
    "id": "v4rjrWf_pJHJ",
    "source_hash": "4b31fefe",
    "cell_id": "00013-c9f108eb-9054-438f-9360-21669aced1bb",
    "deepnote_cell_type": "code",
    "deepnote_cell_height": 81
   },
   "source": "votes, post, url = praw_reddit()",
   "execution_count": null,
   "outputs": []
  },
  {
   "cell_type": "code",
   "metadata": {
    "cell_id": "00014-ab26b98a-d355-4ce3-909a-c76ea78ab2b3",
    "deepnote_cell_type": "code",
    "deepnote_cell_height": 84
   },
   "source": "###### Código Aquí ######\n",
   "execution_count": null,
   "outputs": []
  },
  {
   "cell_type": "markdown",
   "source": "**Respuesta:**",
   "metadata": {
    "id": "-diI_GpXmzqS",
    "cell_id": "00015-ba1d4036-9f0c-49c7-885f-be416a89deb8",
    "deepnote_cell_type": "markdown",
    "deepnote_cell_height": 52.390625
   }
  },
  {
   "cell_type": "markdown",
   "source": "`Escriba su respuesta aquí`",
   "metadata": {
    "id": "6gdqQBi1m_cu",
    "cell_id": "00016-64888967-a91d-455b-9d60-d105f449ae74",
    "deepnote_cell_type": "markdown",
    "deepnote_cell_height": 52.390625
   }
  },
  {
   "cell_type": "markdown",
   "source": "## 1.2 LRU y Análisis de Tiempo con Cache [1 Punto]",
   "metadata": {
    "id": "tNDS2OpFnMnH",
    "cell_id": "00017-2673822e-79de-4fbe-86af-5fd583216f57",
    "deepnote_cell_type": "markdown",
    "deepnote_cell_height": 70
   }
  },
  {
   "cell_type": "markdown",
   "source": "Respondan las siguientes preguntas:\n\n1.\t¿Qué es la memoria cache y a que se refiere las siglas LRU?\n2.\t¿Cuáles son los costos que tiene la aplicación de técnicas de Caching?\n3. ¿Cuál es la consecuencía de ocupar caching en la función anterior?.\n\nRespondidas las preguntas, se le solicita que aplique alguna técnica de caching para mejorar el desempeño de la función `praw_reddit`. Para esto compare solo el tiempo de ejecución del algoritmo con y sin caching, señalando el tiempo total de ejecución y el tiempo promedio que le toma ejecutar cada loop a la función. Con lo anterior, ¿es posible visualizar mejoras en este caso?.\n\n\n**TO-DO:**\n- [ ] Responder las preguntas.\n- [ ] Mejorar el código con cache.\n- [ ] Explicar las consecuencias de usar lru_cache sobre praw_reddit",
   "metadata": {
    "id": "i3nsxCbAna4t",
    "cell_id": "00018-d9701b8d-f3fe-4cd1-9f59-295dfdaeca48",
    "deepnote_cell_type": "markdown",
    "deepnote_cell_height": 380.796875
   }
  },
  {
   "cell_type": "markdown",
   "source": "**Respuestas Teóricas:**",
   "metadata": {
    "id": "fbQPpvYorOAF",
    "cell_id": "00019-26287e8f-b23a-4e51-9645-b9fb99a93eea",
    "deepnote_cell_type": "markdown",
    "deepnote_cell_height": 52.390625
   }
  },
  {
   "cell_type": "markdown",
   "source": "`Escriba su respuesta aquí`",
   "metadata": {
    "id": "RKfLXDs_rO-w",
    "cell_id": "00020-9507e876-349d-4beb-94e8-c7adc0bbc210",
    "deepnote_cell_type": "markdown",
    "deepnote_cell_height": 52.390625
   }
  },
  {
   "cell_type": "code",
   "metadata": {
    "id": "X0u4WU11rLJd",
    "cell_id": "00021-ed8c6162-10ed-414a-a7c0-e5eed7d2715e",
    "deepnote_cell_type": "code",
    "deepnote_cell_height": 66
   },
   "source": "###### Código Aquí ######",
   "execution_count": null,
   "outputs": []
  },
  {
   "cell_type": "markdown",
   "source": "**Respuesta de lru_cache sobre praw_reddit**",
   "metadata": {
    "cell_id": "00022-f295ab8f-b06d-4171-90b7-73dabfe0598d",
    "deepnote_cell_type": "markdown",
    "deepnote_cell_height": 52.390625
   }
  },
  {
   "cell_type": "markdown",
   "source": "`Escriba su respuesta aquí`",
   "metadata": {
    "cell_id": "00023-56264983-6b36-48c6-a43c-19d19702f8f4",
    "deepnote_cell_type": "markdown",
    "deepnote_cell_height": 52.390625
   }
  },
  {
   "cell_type": "markdown",
   "source": "## 1.3 Obtención de Mean Posterior y Standard Error [1 Punto]\n\nUna forma de obtener la mean posterior y el Standard Error de los datos de reddit es aplicando un atajo de inferencia estadística. Este atajo se define de la siguiente forma:\n\nSea **u** los votos positivos y **d** los votos negativos del subreddit, tendremos que:\n\n$$a = 1+u$$\n\n$$b = 1+d$$\n\n$$\\sigma= 1.65\\sqrt(\\dfrac{ab}{(a + b)^2(a + b + 1)})$$\n\n$$\\mu = \\dfrac{a}{a+b}$$\n\nDonde $\\mu$ es la mean posterior y $\\sigma$ el standard error.\n\nCon lo anterior, genere dos funciones que tengan como salida $\\mu$ y $\\sigma$ de acuerdo a las ecuaciones señaladas. La primera función, deberá ser construida sin el uso de numpy, aplicando for y aplicando comandos nativos de Python. Por otro lado, deberá generar una segunda función con el uso exclusivo de numpy. **OJO** que las funciones deben tener como entrada solo un elemento del diccionario votes (por ejemplo `votes[1]`), por lo que estas no deben tener como entrada el conjunto completo de datos.",
   "metadata": {
    "id": "2pS26u-trdg6",
    "cell_id": "00024-87380659-431c-4ae7-9d12-6647f21ca9ff",
    "deepnote_cell_type": "markdown",
    "deepnote_cell_height": 542.5625
   }
  },
  {
   "cell_type": "code",
   "metadata": {
    "deepnote_to_be_reexecuted": false,
    "executionInfo": {
     "elapsed": 317,
     "status": "ok",
     "timestamp": 1627484660287,
     "user": {
      "displayName": "IGNACIO ALEJANDRO MEZA",
      "photoUrl": "",
      "userId": "17011121633069169364"
     },
     "user_tz": 240
    },
    "execution_millis": 15,
    "execution_start": 1637947536256,
    "id": "ahzpJ-Sk0DOD",
    "source_hash": "b9b21217",
    "cell_id": "00025-f63243e1-47cb-4c2c-be14-9c38dcbd24bb",
    "deepnote_cell_type": "code",
    "deepnote_cell_height": 81
   },
   "source": "###### Código Aquí ######",
   "execution_count": null,
   "outputs": []
  },
  {
   "cell_type": "markdown",
   "source": "## 1.4 Comparación de Rendimiento [2 Puntos]\n\nAhora, aplique el compilador **Numba** sobre las funciones 1.3 y compare el tiempo de ejecución con los obtenidos sin el compilador. \n\nPara esto genere un gráfico de linea utilizando plotly, en donde se pueda observar el tiempo que toma ejecutar cada función (el eje y) diferentes cantidades de datos (ejemplo, en el eje x considerar 100, 200, 300, ..., 1000 datos) sobre cada función implementada (series `Python`, `Numpy`, `Python-JIT`, `Numpy-JIT`). ¿Es posible observar diferencias? ¿A qué se debe esto?.\n\n**Nota:** Ejecuten las funciones compiladas con algún ejemplo antes de graficar. De lo contrario, les indicará el tiempo de compilación, cosa que no queremos medir\n\n**Nota 2**: En el caso que su computador sea muy rápido, se recomienda graficar el eje y (tiempo) como logaritmo usando `log_y=True`.\n",
   "metadata": {
    "id": "VhHhiTRYwpGu",
    "cell_id": "00026-42ed3992-3ac8-4452-b6f1-031bb91fa5e6",
    "owner_user_id": "badcc427-fd3d-4615-9296-faa43ec69cfb",
    "deepnote_cell_type": "markdown",
    "deepnote_cell_height": 352
   }
  },
  {
   "cell_type": "code",
   "metadata": {
    "executionInfo": {
     "elapsed": 2,
     "status": "ok",
     "timestamp": 1627484661131,
     "user": {
      "displayName": "IGNACIO ALEJANDRO MEZA",
      "photoUrl": "",
      "userId": "17011121633069169364"
     },
     "user_tz": 240
    },
    "id": "b02IokToxPpO",
    "cell_id": "00027-a686fa21-e957-40c6-8fd1-a6fef560928c",
    "deepnote_cell_type": "code",
    "deepnote_cell_height": 66
   },
   "source": "###### Código Aquí ######",
   "execution_count": null,
   "outputs": []
  },
  {
   "cell_type": "markdown",
   "source": "## 1.5 Plot de Resultados de Análisis de Votos [1 Punto]",
   "metadata": {
    "id": "DljdJw8m0gYC",
    "cell_id": "00030-01881ca2-384a-44f1-bcaf-ad095552aac2",
    "deepnote_cell_type": "markdown",
    "deepnote_cell_height": 70
   }
  },
  {
   "cell_type": "markdown",
   "source": "Llego la hora de visualizar los resultados obtenidos, para esto solo ejecute las siguientes celdas y observe lo que sucede :3. ¿Qué logra observar de los resultados?, ¿La solución resulta trivial?\n\nEn esta sección esperamos que solo comenten con lo que logran visualizar de los dataframes.",
   "metadata": {
    "id": "cQAxOM5D08Hl",
    "cell_id": "00031-1bfb8e5a-3a40-45f2-8f0f-f94c9264f8e2",
    "deepnote_cell_type": "markdown",
    "deepnote_cell_height": 111.1875
   }
  },
  {
   "cell_type": "code",
   "metadata": {
    "colab": {
     "base_uri": "https://localhost:8080/",
     "height": 737
    },
    "executionInfo": {
     "elapsed": 390,
     "status": "ok",
     "timestamp": 1624645025761,
     "user": {
      "displayName": "IGNACIO ALEJANDRO MEZA",
      "photoUrl": "",
      "userId": "17011121633069169364"
     },
     "user_tz": 240
    },
    "id": "N5E2mNYXaafI",
    "outputId": "36f8a568-fb8d-4a2b-ff8e-651f206fbe53",
    "scrolled": true,
    "cell_id": "00032-107c679d-f291-40ec-8854-fd17864ba743",
    "deepnote_cell_type": "code",
    "deepnote_cell_height": 318
   },
   "source": "votos = votes[len(votes) - 1]\nposteo = post[len(post) - 1]\nprint(\"lower bounds aproximados:\")\nposterior_mean, std_err = intervals_numpy(votos[:, 0], votos[:, 1])\nlb = posterior_mean - std_err\nprint(\"\\nTop 20 post ordenador por el limite inferior:\\n\")\norder = np.argsort(-lb)\nvote_post = {\n    'Votos (+)': votos[order[:20], 0],\n    'Votos (-)': votos[order[:20], 1],\n    'Post': np.array(posteo)[order[:20]],\n    'url': np.array(url[len(url) - 1])[order[:20]]\n}\ndf = pd.DataFrame(data=vote_post)\nordered_post = df.Post",
   "execution_count": null,
   "outputs": []
  },
  {
   "cell_type": "code",
   "source": "r_order = order[::-1][-20:]\ndata_dic = {\n    'mean': posterior_mean[r_order],\n    'std_err': std_err[r_order],\n    'post': ordered_post[::-1]\n}\ndf = pd.DataFrame(data=data_dic)\nfig = px.scatter(df, x=\"mean\", y=\"post\", error_x=\"std_err\")\nfig.show()",
   "metadata": {
    "cell_id": "2a0efceb16224059bb6aca51848d260f",
    "tags": [],
    "deepnote_cell_type": "code",
    "deepnote_cell_height": 210
   },
   "outputs": [],
   "execution_count": null
  },
  {
   "cell_type": "markdown",
   "source": "**Respuesta:**",
   "metadata": {
    "id": "szOjXLKA1Rif",
    "cell_id": "00033-eddd71de-b9a7-4779-924a-964c68603845",
    "deepnote_cell_type": "markdown",
    "deepnote_cell_height": 52.390625
   }
  },
  {
   "cell_type": "markdown",
   "source": "`Escriba su respuesta aquí`",
   "metadata": {
    "id": "0F83QdD61Pd1",
    "cell_id": "00034-92ca5c7c-071c-4e99-9f17-dec033ed4c24",
    "deepnote_cell_type": "markdown",
    "deepnote_cell_height": 52.390625
   }
  },
  {
   "cell_type": "markdown",
   "source": "<p align=\"center\">\n  <img src=\"https://media1.tenor.com/images/fb5bf7cc5a4acb91b4177672886a88ba/tenor.gif?itemid=5591338\">\n</p>",
   "metadata": {
    "id": "Rg4ZMq8ezAH6",
    "cell_id": "00035-93d50cd9-ff61-4aa8-ae41-e84009a3f64e",
    "deepnote_cell_type": "markdown",
    "deepnote_cell_height": 269
   }
  },
  {
   "cell_type": "markdown",
   "source": "<a style='text-decoration:none;line-height:16px;display:flex;color:#5B5B62;padding:10px;justify-content:end;' href='https://deepnote.com?utm_source=created-in-deepnote-cell&projectId=87110296-876e-426f-b91d-aaf681223468' target=\"_blank\">\n<img alt='Created in deepnote.com' style='display:inline;max-height:16px;margin:0px;margin-right:7.5px;' src='data:image/svg+xml;base64,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' > </img>\nCreated in <span style='font-weight:600;margin-left:4px;'>Deepnote</span></a>",
   "metadata": {
    "tags": [],
    "created_in_deepnote_cell": true,
    "deepnote_cell_type": "markdown"
   }
  }
 ],
 "nbformat": 4,
 "nbformat_minor": 1,
 "metadata": {
  "colab": {
   "collapsed_sections": [],
   "name": "Copia de enunciado_Laboratorio5.ipynb",
   "provenance": []
  },
  "deepnote": {},
  "deepnote_execution_queue": [],
  "deepnote_notebook_id": "86c0ae4d-10d9-41be-9dc9-0e76fdf26f7b",
  "kernelspec": {
   "display_name": "Python 3 (ipykernel)",
   "language": "python",
   "name": "python3"
  },
  "language_info": {
   "codemirror_mode": {
    "name": "ipython",
    "version": 3
   },
   "file_extension": ".py",
   "mimetype": "text/x-python",
   "name": "python",
   "nbconvert_exporter": "python",
   "pygments_lexer": "ipython3",
   "version": "3.9.7"
  },
  "toc": {
   "base_numbering": 1,
   "nav_menu": {},
   "number_sections": true,
   "sideBar": true,
   "skip_h1_title": true,
   "title_cell": "Tabla de Contenidos",
   "title_sidebar": "Contenidos",
   "toc_cell": false,
   "toc_position": {
    "height": "calc(100% - 180px)",
    "left": "10px",
    "top": "150px",
    "width": "241.867px"
   },
   "toc_section_display": true,
   "toc_window_display": true
  },
  "varInspector": {
   "cols": {
    "lenName": 16,
    "lenType": 16,
    "lenVar": 40
   },
   "kernels_config": {
    "python": {
     "delete_cmd_postfix": "",
     "delete_cmd_prefix": "del ",
     "library": "var_list.py",
     "varRefreshCmd": "print(var_dic_list())"
    },
    "r": {
     "delete_cmd_postfix": ") ",
     "delete_cmd_prefix": "rm(",
     "library": "var_list.r",
     "varRefreshCmd": "cat(var_dic_list()) "
    }
   },
   "types_to_exclude": [
    "module",
    "function",
    "builtin_function_or_method",
    "instance",
    "_Feature"
   ],
   "window_display": false
  }
 }
}