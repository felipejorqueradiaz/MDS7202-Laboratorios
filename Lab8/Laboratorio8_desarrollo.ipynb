{
 "cells": [
  {
   "cell_type": "markdown",
   "metadata": {
    "cell_id": "00000-7111e3ae-b60e-4569-b774-a13ef1b95f77",
    "deepnote_cell_height": 156.390625,
    "deepnote_cell_type": "markdown",
    "id": "XUZ1dFPHzAHl"
   },
   "source": [
    "<h1><center>Laboratorio 8: ¿Superhéroe o Villano? 🦸</center></h1>\n",
    "\n",
    "<center><strong>MDS7202: Laboratorio de Programación Científica para Ciencia de Datos</strong></center>"
   ]
  },
  {
   "cell_type": "markdown",
   "metadata": {
    "cell_id": "00001-988ebcea-7685-4ad4-968d-5530ff0099a7",
    "deepnote_cell_height": 165.171875,
    "deepnote_cell_type": "markdown",
    "id": "UD8X1uhGzAHq"
   },
   "source": [
    "### Cuerpo Docente:\n",
    "\n",
    "- Profesor: Pablo Badilla\n",
    "- Auxiliar: Ignacio Meza D.\n",
    "- Ayudante: Patricio Ortiz."
   ]
  },
  {
   "cell_type": "markdown",
   "metadata": {
    "cell_id": "00002-038ebafa-6641-4c2a-b2e8-62ad2018b88e",
    "deepnote_cell_height": 171.78125,
    "deepnote_cell_type": "markdown",
    "id": "tXflExjqzAHr"
   },
   "source": [
    "### Equipo: SUPER IMPORTANTE - notebooks sin nombre no serán revisados\n",
    "\n",
    "- Nombre de alumno: Felipe Jorquera Díaz\n"
   ]
  },
  {
   "cell_type": "markdown",
   "metadata": {
    "cell_id": "00003-913d0cc4-e146-4ff9-a0e3-26a20c808d7c",
    "deepnote_cell_height": 63,
    "deepnote_cell_type": "markdown",
    "id": "AD-V0bbZzAHr"
   },
   "source": [
    "### **Link de repositorio de GitHub:** `https://github.com/felipejorqueradiaz/MDS7202-Laboratorios`"
   ]
  },
  {
   "cell_type": "markdown",
   "metadata": {
    "cell_id": "00005-64f7c2d0-4287-4f3a-9b4b-2c5b829f606c",
    "deepnote_cell_height": 651.640625,
    "deepnote_cell_type": "markdown",
    "id": "6uBLPj1PzAHs"
   },
   "source": [
    "## Temas a tratar\n",
    "\n",
    "- Codificación de texto usando Bag of Words.\n",
    "- Búsqueda del modelo óptimo de clasificación usando `GridSearch`\n",
    "- Uso de pipelines.\n",
    "\n",
    "## Reglas:\n",
    "\n",
    "- Fecha de entrega: 23/06/2022\n",
    "- **Grupos de 2 personas**\n",
    "- **Ausentes** deberán realizar la actividad solos. \n",
    "- Cualquier duda fuera del horario de clases al foro. Mensajes al equipo docente serán respondidos por este medio.\n",
    "- Prohibidas las copias. \n",
    "- Pueden usar cualquer matrial del curso que estimen conveniente.\n",
    "\n",
    "### Objetivos principales del laboratorio\n",
    "\n",
    "- Obtener caracteristicas a partir de texto usando `CountVectorizer`.\n",
    "- Fijar un pipeline con un modelo base que luego se irá optimizando.\n",
    "- Comprender como realizar una búsqueda de grilla sobre un conjunto de clasificadores e hiperparámetros usando `GridSearch`.\n",
    "\n",
    "El laboratorio deberá ser desarrollado sin el uso indiscriminado de iteradores nativos de python (aka \"for\", \"while\"). La idea es que aprendan a exprimir al máximo las funciones optimizadas que nos entrega `pandas`, las cuales vale mencionar, son bastante más eficientes que los iteradores nativos sobre DataFrames."
   ]
  },
  {
   "cell_type": "markdown",
   "metadata": {
    "cell_id": "00006-b8353b3b-8f85-4aa6-9379-96902d3d0bf3",
    "deepnote_cell_height": 52.390625,
    "deepnote_cell_type": "markdown",
    "id": "MhISwri4zAHy"
   },
   "source": [
    "#Importamos librerias utiles 😸"
   ]
  },
  {
   "cell_type": "code",
   "execution_count": 1,
   "metadata": {
    "ExecuteTime": {
     "end_time": "2021-03-29T00:08:16.884674Z",
     "start_time": "2021-03-29T00:08:16.349846Z"
    },
    "cell_id": "00007-e696189c-3187-4899-bf04-8034b0e8a595",
    "colab": {
     "base_uri": "https://localhost:8080/"
    },
    "deepnote_cell_height": 1509.1875,
    "deepnote_cell_type": "code",
    "deepnote_output_heights": [
     null,
     21.1875
    ],
    "deepnote_to_be_reexecuted": false,
    "executionInfo": {
     "elapsed": 9106,
     "status": "ok",
     "timestamp": 1625497725070,
     "user": {
      "displayName": "IGNACIO ALEJANDRO MEZA",
      "photoUrl": "",
      "userId": "17011121633069169364"
     },
     "user_tz": 240
    },
    "execution_millis": 36497,
    "execution_start": 1637348694866,
    "id": "uyc33dKdzAHy",
    "outputId": "14d5da48-5dae-4ce4-a8ba-b826ea91a126",
    "source_hash": "7ce9748b"
   },
   "outputs": [
    {
     "name": "stdout",
     "output_type": "stream",
     "text": [
      "Requirement already satisfied: umap-learn in c:\\users\\felipe\\anaconda3\\lib\\site-packages (0.5.3)\n",
      "Requirement already satisfied: tqdm in c:\\users\\felipe\\anaconda3\\lib\\site-packages (from umap-learn) (4.64.0)\n",
      "Requirement already satisfied: scipy>=1.0 in c:\\users\\felipe\\anaconda3\\lib\\site-packages (from umap-learn) (1.7.3)\n",
      "Requirement already satisfied: pynndescent>=0.5 in c:\\users\\felipe\\anaconda3\\lib\\site-packages (from umap-learn) (0.5.7)\n",
      "Requirement already satisfied: numpy>=1.17 in c:\\users\\felipe\\anaconda3\\lib\\site-packages (from umap-learn) (1.21.5)\n",
      "Requirement already satisfied: numba>=0.49 in c:\\users\\felipe\\anaconda3\\lib\\site-packages (from umap-learn) (0.55.1)\n",
      "Requirement already satisfied: scikit-learn>=0.22 in c:\\users\\felipe\\anaconda3\\lib\\site-packages (from umap-learn) (1.0.2)\n",
      "Requirement already satisfied: setuptools in c:\\users\\felipe\\anaconda3\\lib\\site-packages (from numba>=0.49->umap-learn) (61.2.0)\n",
      "Requirement already satisfied: llvmlite<0.39,>=0.38.0rc1 in c:\\users\\felipe\\anaconda3\\lib\\site-packages (from numba>=0.49->umap-learn) (0.38.0)\n",
      "Requirement already satisfied: joblib>=0.11 in c:\\users\\felipe\\anaconda3\\lib\\site-packages (from pynndescent>=0.5->umap-learn) (1.1.0)\n",
      "Requirement already satisfied: threadpoolctl>=2.0.0 in c:\\users\\felipe\\anaconda3\\lib\\site-packages (from scikit-learn>=0.22->umap-learn) (2.2.0)\n",
      "Requirement already satisfied: colorama in c:\\users\\felipe\\anaconda3\\lib\\site-packages (from tqdm->umap-learn) (0.4.4)\n"
     ]
    },
    {
     "name": "stderr",
     "output_type": "stream",
     "text": [
      "[nltk_data] Downloading package stopwords to\n",
      "[nltk_data]     C:\\Users\\Felipe\\AppData\\Roaming\\nltk_data...\n",
      "[nltk_data]   Package stopwords is already up-to-date!\n"
     ]
    },
    {
     "data": {
      "text/plain": [
       "True"
      ]
     },
     "execution_count": 1,
     "metadata": {},
     "output_type": "execute_result"
    }
   ],
   "source": [
    "# Librería Core del lab.\n",
    "import numpy as np\n",
    "import pandas as pd\n",
    "from sklearn.pipeline import Pipeline\n",
    "\n",
    "from sklearn.model_selection import train_test_split \n",
    "\n",
    "# Pre-procesamiento\n",
    "from sklearn.feature_selection import SelectPercentile, f_classif\n",
    "from sklearn.compose import ColumnTransformer\n",
    "from sklearn.preprocessing import MinMaxScaler\n",
    "from sklearn.feature_extraction.text import CountVectorizer\n",
    "\n",
    "# Clasificación\n",
    "from sklearn.svm import SVC\n",
    "from sklearn.naive_bayes import MultinomialNB\n",
    "from sklearn.tree import DecisionTreeClassifier\n",
    "from sklearn.model_selection import GridSearchCV\n",
    "from sklearn.ensemble import RandomForestClassifier\n",
    "from sklearn.linear_model import LogisticRegression\n",
    "\n",
    "# Metricas de evaluación\n",
    "from sklearn.metrics import classification_report\n",
    "from sklearn.metrics import accuracy_score\n",
    "from sklearn.metrics import f1_score\n",
    "from sklearn.metrics import cohen_kappa_score\n",
    "\n",
    "# Librería para plotear\n",
    "#!pip install --upgrade plotly\n",
    "import plotly.express as px\n",
    "from plotly.subplots import make_subplots\n",
    "import plotly.graph_objects as go\n",
    "\n",
    "# Proyecciones en baja dimensionalidad: UMAP\n",
    "!pip install umap-learn\n",
    "\n",
    "# Librería para NLP\n",
    "#!pip install nltk\n",
    "import nltk\n",
    "from nltk.corpus import stopwords\n",
    "from nltk import word_tokenize  \n",
    "from nltk.stem import PorterStemmer\n",
    "nltk.download('stopwords')"
   ]
  },
  {
   "cell_type": "code",
   "execution_count": 2,
   "metadata": {},
   "outputs": [
    {
     "name": "stderr",
     "output_type": "stream",
     "text": [
      "[nltk_data] Downloading package punkt to\n",
      "[nltk_data]     C:\\Users\\Felipe\\AppData\\Roaming\\nltk_data...\n",
      "[nltk_data]   Package punkt is already up-to-date!\n",
      "[nltk_data] Downloading package stopwords to\n",
      "[nltk_data]     C:\\Users\\Felipe\\AppData\\Roaming\\nltk_data...\n",
      "[nltk_data]   Package stopwords is already up-to-date!\n"
     ]
    },
    {
     "data": {
      "text/plain": [
       "True"
      ]
     },
     "execution_count": 2,
     "metadata": {},
     "output_type": "execute_result"
    }
   ],
   "source": [
    "nltk.download('punkt')\n",
    "nltk.download('stopwords')"
   ]
  },
  {
   "cell_type": "markdown",
   "metadata": {
    "cell_id": "00008-9c535dd9-01e0-4804-a325-7b5d36a20a32",
    "deepnote_cell_height": 82,
    "deepnote_cell_type": "markdown",
    "id": "xpOTbQcxbSiy"
   },
   "source": [
    "# 1. ¿Quien es Bat Cow?"
   ]
  },
  {
   "cell_type": "markdown",
   "metadata": {
    "cell_id": "00009-43ac5618-611f-4712-aec7-faaa53d72d08",
    "deepnote_cell_height": 347.8125,
    "deepnote_cell_type": "markdown",
    "id": "3Q93vbNS25bM"
   },
   "source": [
    "<p align=\"center\">\n",
    "  <img src=\"https://i.imgur.com/D9f1RHy.jpg\" width=\"350\">\n",
    "</p>"
   ]
  },
  {
   "cell_type": "markdown",
   "metadata": {
    "cell_id": "00010-632e9494-ce9c-4d54-8e57-e700baed4302",
    "deepnote_cell_height": 503.03125,
    "deepnote_cell_type": "markdown",
    "id": "jnmZfFpxTTYX"
   },
   "source": [
    "En vez de estar desarrollando las evaluaciones correspondientes a su curso, su profesor de catedra y su auxiliar discuten acerca la alineación (héroe o villano) del personaje de ficción Bat-Cow. \n",
    "\n",
    "El cuerpo docente, no logra ponerse de acuerdo si el personaje es bueno, neutral o malo: el auxiliar plantea que Bat-cow posee una siniestra mirada, intrigante pero común característica de los personajes malvados. \n",
    "Por otra parte, extendiendo las ideas de Rousseau, el profesor plantea que tal como los humanos no nacen malos, no existe motivo por el cual una vaca con superpoderes deba serlo.\n",
    "\n",
    "Sin embargo, ambos concuerdan que es difícil estimar la alineación solo usando los atributos físicos, por lo que creen el análisis debe ser complementado aún más antes de comunicarle los resultados a su estudiantado. Buscando más información, ambos sujetos se percatan de la existencia de un excelente antecedente para estimar la alineación: la historia personal de cada superhéroe o villano.\n",
    "\n",
    "Es por esto le solicitan que construya y optimice un clasificador basado en texto el cual analice la alineación de cada personaje basado en su historia personal.\n",
    "\n",
    "Para este laboratorio deben trabajar con los datos `df_comics.csv` y `comics_no_label.csv` subidos a u-cursos. El primero es un conjunto de datos que les servirá para entrenar un modelo de clasificación, mientras que el segundo es un dataset con personajes de ficción no etiquetados a predecir (sí, aquí está la misteriosa Batcow).\n",
    "\n",
    "Para comenzar cargue los dataset señalados y visualice a través de un head los atributos que poseen cada uno de los dataset.\n"
   ]
  },
  {
   "cell_type": "code",
   "execution_count": 3,
   "metadata": {
    "cell_id": "00012-8b0c36c2-aeaa-4ba1-9611-45f0599aa584",
    "deepnote_cell_height": 117,
    "deepnote_cell_type": "code",
    "deepnote_to_be_reexecuted": false,
    "executionInfo": {
     "elapsed": 289,
     "status": "ok",
     "timestamp": 1625499009249,
     "user": {
      "displayName": "IGNACIO ALEJANDRO MEZA",
      "photoUrl": "",
      "userId": "17011121633069169364"
     },
     "user_tz": 240
    },
    "execution_millis": 325,
    "execution_start": 1637348732856,
    "id": "bED3w3tDbSCf",
    "source_hash": "443d6e8"
   },
   "outputs": [],
   "source": [
    "df_comics = pd.read_csv('df_comics.csv')\n",
    "df_comics_no_label = pd.read_csv('comics_no_label.csv')\n",
    "df_comics = df_comics.dropna(subset=['history_text']) # eliminar ejemplos sin historia"
   ]
  },
  {
   "cell_type": "code",
   "execution_count": 4,
   "metadata": {
    "cell_id": "00013-2cd3a433-4f43-4a9e-92f5-caf54a662db2",
    "deepnote_cell_height": 323.1875,
    "deepnote_cell_type": "code",
    "deepnote_output_heights": [
     208.1875
    ],
    "deepnote_to_be_reexecuted": false,
    "execution_millis": 654,
    "execution_start": 1637348731943,
    "source_hash": "b986316d",
    "tags": []
   },
   "outputs": [
    {
     "data": {
      "text/html": [
       "<div>\n",
       "<style scoped>\n",
       "    .dataframe tbody tr th:only-of-type {\n",
       "        vertical-align: middle;\n",
       "    }\n",
       "\n",
       "    .dataframe tbody tr th {\n",
       "        vertical-align: top;\n",
       "    }\n",
       "\n",
       "    .dataframe thead th {\n",
       "        text-align: right;\n",
       "    }\n",
       "</style>\n",
       "<table border=\"1\" class=\"dataframe\">\n",
       "  <thead>\n",
       "    <tr style=\"text-align: right;\">\n",
       "      <th></th>\n",
       "      <th>Unnamed: 0</th>\n",
       "      <th>name</th>\n",
       "      <th>real_name</th>\n",
       "      <th>full_name</th>\n",
       "      <th>overall_score</th>\n",
       "      <th>history_text</th>\n",
       "      <th>powers_text</th>\n",
       "      <th>intelligence_score</th>\n",
       "      <th>strength_score</th>\n",
       "      <th>speed_score</th>\n",
       "      <th>...</th>\n",
       "      <th>has_flight</th>\n",
       "      <th>has_accelerated_healing</th>\n",
       "      <th>has_weapons_master</th>\n",
       "      <th>has_intelligence</th>\n",
       "      <th>has_reflexes</th>\n",
       "      <th>has_super_speed</th>\n",
       "      <th>has_durability</th>\n",
       "      <th>has_stamina</th>\n",
       "      <th>has_agility</th>\n",
       "      <th>has_super_strength</th>\n",
       "    </tr>\n",
       "  </thead>\n",
       "  <tbody>\n",
       "    <tr>\n",
       "      <th>0</th>\n",
       "      <td>0</td>\n",
       "      <td>3-D Man</td>\n",
       "      <td>Delroy Garrett, Jr.</td>\n",
       "      <td>Delroy Garrett, Jr.</td>\n",
       "      <td>6</td>\n",
       "      <td>Delroy Garrett, Jr. grew up to become a track ...</td>\n",
       "      <td>NaN</td>\n",
       "      <td>85</td>\n",
       "      <td>30</td>\n",
       "      <td>60</td>\n",
       "      <td>...</td>\n",
       "      <td>0.0</td>\n",
       "      <td>0.0</td>\n",
       "      <td>0.0</td>\n",
       "      <td>0.0</td>\n",
       "      <td>0.0</td>\n",
       "      <td>1.0</td>\n",
       "      <td>0.0</td>\n",
       "      <td>0.0</td>\n",
       "      <td>0.0</td>\n",
       "      <td>1.0</td>\n",
       "    </tr>\n",
       "    <tr>\n",
       "      <th>1</th>\n",
       "      <td>2</td>\n",
       "      <td>A-Bomb</td>\n",
       "      <td>Richard Milhouse Jones</td>\n",
       "      <td>Richard Milhouse Jones</td>\n",
       "      <td>20</td>\n",
       "      <td>Richard \"Rick\" Jones was orphaned at a young ...</td>\n",
       "      <td>On rare occasions, and through unusual circu...</td>\n",
       "      <td>80</td>\n",
       "      <td>100</td>\n",
       "      <td>80</td>\n",
       "      <td>...</td>\n",
       "      <td>0.0</td>\n",
       "      <td>1.0</td>\n",
       "      <td>0.0</td>\n",
       "      <td>0.0</td>\n",
       "      <td>1.0</td>\n",
       "      <td>1.0</td>\n",
       "      <td>1.0</td>\n",
       "      <td>1.0</td>\n",
       "      <td>1.0</td>\n",
       "      <td>1.0</td>\n",
       "    </tr>\n",
       "    <tr>\n",
       "      <th>2</th>\n",
       "      <td>3</td>\n",
       "      <td>Aa</td>\n",
       "      <td>Aa</td>\n",
       "      <td>NaN</td>\n",
       "      <td>12</td>\n",
       "      <td>Aa is one of the more passive members of the P...</td>\n",
       "      <td>NaN</td>\n",
       "      <td>80</td>\n",
       "      <td>50</td>\n",
       "      <td>55</td>\n",
       "      <td>...</td>\n",
       "      <td>0.0</td>\n",
       "      <td>0.0</td>\n",
       "      <td>0.0</td>\n",
       "      <td>0.0</td>\n",
       "      <td>0.0</td>\n",
       "      <td>0.0</td>\n",
       "      <td>0.0</td>\n",
       "      <td>0.0</td>\n",
       "      <td>0.0</td>\n",
       "      <td>0.0</td>\n",
       "    </tr>\n",
       "    <tr>\n",
       "      <th>3</th>\n",
       "      <td>4</td>\n",
       "      <td>Aaron Cash</td>\n",
       "      <td>Aaron Cash</td>\n",
       "      <td>Aaron Cash</td>\n",
       "      <td>5</td>\n",
       "      <td>Aaron Cash is the head of security at Arkham A...</td>\n",
       "      <td>NaN</td>\n",
       "      <td>80</td>\n",
       "      <td>10</td>\n",
       "      <td>25</td>\n",
       "      <td>...</td>\n",
       "      <td>0.0</td>\n",
       "      <td>0.0</td>\n",
       "      <td>1.0</td>\n",
       "      <td>0.0</td>\n",
       "      <td>0.0</td>\n",
       "      <td>0.0</td>\n",
       "      <td>0.0</td>\n",
       "      <td>0.0</td>\n",
       "      <td>0.0</td>\n",
       "      <td>0.0</td>\n",
       "    </tr>\n",
       "    <tr>\n",
       "      <th>4</th>\n",
       "      <td>5</td>\n",
       "      <td>Aayla Secura</td>\n",
       "      <td>Aayla Secura</td>\n",
       "      <td>NaN</td>\n",
       "      <td>8</td>\n",
       "      <td>ayla Secura was a Rutian Twi'lek Jedi Knight (...</td>\n",
       "      <td>NaN</td>\n",
       "      <td>90</td>\n",
       "      <td>40</td>\n",
       "      <td>45</td>\n",
       "      <td>...</td>\n",
       "      <td>0.0</td>\n",
       "      <td>1.0</td>\n",
       "      <td>0.0</td>\n",
       "      <td>0.0</td>\n",
       "      <td>0.0</td>\n",
       "      <td>0.0</td>\n",
       "      <td>0.0</td>\n",
       "      <td>0.0</td>\n",
       "      <td>1.0</td>\n",
       "      <td>0.0</td>\n",
       "    </tr>\n",
       "  </tbody>\n",
       "</table>\n",
       "<p>5 rows × 82 columns</p>\n",
       "</div>"
      ],
      "text/plain": [
       "   Unnamed: 0          name               real_name               full_name  \\\n",
       "0           0       3-D Man     Delroy Garrett, Jr.     Delroy Garrett, Jr.   \n",
       "1           2        A-Bomb  Richard Milhouse Jones  Richard Milhouse Jones   \n",
       "2           3            Aa                      Aa                     NaN   \n",
       "3           4    Aaron Cash              Aaron Cash              Aaron Cash   \n",
       "4           5  Aayla Secura            Aayla Secura                     NaN   \n",
       "\n",
       "  overall_score                                       history_text  \\\n",
       "0             6  Delroy Garrett, Jr. grew up to become a track ...   \n",
       "1            20   Richard \"Rick\" Jones was orphaned at a young ...   \n",
       "2            12  Aa is one of the more passive members of the P...   \n",
       "3             5  Aaron Cash is the head of security at Arkham A...   \n",
       "4             8  ayla Secura was a Rutian Twi'lek Jedi Knight (...   \n",
       "\n",
       "                                         powers_text  intelligence_score  \\\n",
       "0                                                NaN                  85   \n",
       "1    On rare occasions, and through unusual circu...                  80   \n",
       "2                                                NaN                  80   \n",
       "3                                                NaN                  80   \n",
       "4                                                NaN                  90   \n",
       "\n",
       "   strength_score  speed_score  ...  has_flight  has_accelerated_healing  \\\n",
       "0              30           60  ...         0.0                      0.0   \n",
       "1             100           80  ...         0.0                      1.0   \n",
       "2              50           55  ...         0.0                      0.0   \n",
       "3              10           25  ...         0.0                      0.0   \n",
       "4              40           45  ...         0.0                      1.0   \n",
       "\n",
       "   has_weapons_master has_intelligence has_reflexes has_super_speed  \\\n",
       "0                 0.0              0.0          0.0             1.0   \n",
       "1                 0.0              0.0          1.0             1.0   \n",
       "2                 0.0              0.0          0.0             0.0   \n",
       "3                 1.0              0.0          0.0             0.0   \n",
       "4                 0.0              0.0          0.0             0.0   \n",
       "\n",
       "  has_durability has_stamina has_agility has_super_strength  \n",
       "0            0.0         0.0         0.0                1.0  \n",
       "1            1.0         1.0         1.0                1.0  \n",
       "2            0.0         0.0         0.0                0.0  \n",
       "3            0.0         0.0         0.0                0.0  \n",
       "4            0.0         0.0         1.0                0.0  \n",
       "\n",
       "[5 rows x 82 columns]"
      ]
     },
     "execution_count": 4,
     "metadata": {},
     "output_type": "execute_result"
    }
   ],
   "source": [
    "# queda a labor de su equipo hacer el análisis exploratorio\n",
    "df_comics.head()"
   ]
  },
  {
   "cell_type": "code",
   "execution_count": 5,
   "metadata": {},
   "outputs": [
    {
     "name": "stdout",
     "output_type": "stream",
     "text": [
      "<class 'pandas.core.frame.DataFrame'>\n",
      "Int64Index: 1285 entries, 0 to 1366\n",
      "Data columns (total 82 columns):\n",
      " #   Column                            Non-Null Count  Dtype  \n",
      "---  ------                            --------------  -----  \n",
      " 0   Unnamed: 0                        1285 non-null   int64  \n",
      " 1   name                              1285 non-null   object \n",
      " 2   real_name                         1164 non-null   object \n",
      " 3   full_name                         895 non-null    object \n",
      " 4   overall_score                     1285 non-null   object \n",
      " 5   history_text                      1285 non-null   object \n",
      " 6   powers_text                       961 non-null    object \n",
      " 7   intelligence_score                1285 non-null   int64  \n",
      " 8   strength_score                    1285 non-null   int64  \n",
      " 9   speed_score                       1285 non-null   int64  \n",
      " 10  durability_score                  1285 non-null   int64  \n",
      " 11  power_score                       1285 non-null   int64  \n",
      " 12  combat_score                      1285 non-null   int64  \n",
      " 13  superpowers                       1285 non-null   object \n",
      " 14  alter_egos                        1285 non-null   object \n",
      " 15  aliases                           1285 non-null   object \n",
      " 16  place_of_birth                    734 non-null    object \n",
      " 17  first_appearance                  1142 non-null   object \n",
      " 18  creator                           1166 non-null   object \n",
      " 19  alignment                         1285 non-null   object \n",
      " 20  occupation                        938 non-null    object \n",
      " 21  base                              813 non-null    object \n",
      " 22  teams                             1285 non-null   object \n",
      " 23  relatives                         829 non-null    object \n",
      " 24  gender                            1191 non-null   object \n",
      " 25  type_race                         942 non-null    object \n",
      " 26  height                            1285 non-null   object \n",
      " 27  weight                            1285 non-null   object \n",
      " 28  eye_color                         1091 non-null   object \n",
      " 29  hair_color                        1103 non-null   object \n",
      " 30  skin_color                        154 non-null    object \n",
      " 31  img                               1215 non-null   object \n",
      " 32  has_electrokinesis                1228 non-null   float64\n",
      " 33  has_energy_constructs             1228 non-null   float64\n",
      " 34  has_mind_control_resistance       1228 non-null   float64\n",
      " 35  has_matter_manipulation           1228 non-null   float64\n",
      " 36  has_telepathy_resistance          1228 non-null   float64\n",
      " 37  has_mind_control                  1228 non-null   float64\n",
      " 38  has_enhanced_hearing              1228 non-null   float64\n",
      " 39  has_dimensional_travel            1228 non-null   float64\n",
      " 40  has_element_control               1228 non-null   float64\n",
      " 41  has_size_changing                 1228 non-null   float64\n",
      " 42  has_fire_resistance               1228 non-null   float64\n",
      " 43  has_fire_control                  1228 non-null   float64\n",
      " 44  has_dexterity                     1228 non-null   float64\n",
      " 45  has_reality_warping               1228 non-null   float64\n",
      " 46  has_illusions                     1228 non-null   float64\n",
      " 47  has_energy_beams                  1228 non-null   float64\n",
      " 48  has_peak_human_condition          1228 non-null   float64\n",
      " 49  has_shapeshifting                 1228 non-null   float64\n",
      " 50  has_heat_resistance               1228 non-null   float64\n",
      " 51  has_jump                          1228 non-null   float64\n",
      " 52  has_self-sustenance               1228 non-null   float64\n",
      " 53  has_energy_absorption             1228 non-null   float64\n",
      " 54  has_cold_resistance               1228 non-null   float64\n",
      " 55  has_magic                         1228 non-null   float64\n",
      " 56  has_telekinesis                   1228 non-null   float64\n",
      " 57  has_toxin_and_disease_resistance  1228 non-null   float64\n",
      " 58  has_telepathy                     1228 non-null   float64\n",
      " 59  has_regeneration                  1228 non-null   float64\n",
      " 60  has_immortality                   1228 non-null   float64\n",
      " 61  has_teleportation                 1228 non-null   float64\n",
      " 62  has_force_fields                  1228 non-null   float64\n",
      " 63  has_energy_manipulation           1228 non-null   float64\n",
      " 64  has_endurance                     1228 non-null   float64\n",
      " 65  has_longevity                     1228 non-null   float64\n",
      " 66  has_weapon-based_powers           1228 non-null   float64\n",
      " 67  has_energy_blasts                 1228 non-null   float64\n",
      " 68  has_enhanced_senses               1228 non-null   float64\n",
      " 69  has_invulnerability               1228 non-null   float64\n",
      " 70  has_stealth                       1228 non-null   float64\n",
      " 71  has_marksmanship                  1228 non-null   float64\n",
      " 72  has_flight                        1228 non-null   float64\n",
      " 73  has_accelerated_healing           1228 non-null   float64\n",
      " 74  has_weapons_master                1228 non-null   float64\n",
      " 75  has_intelligence                  1228 non-null   float64\n",
      " 76  has_reflexes                      1228 non-null   float64\n",
      " 77  has_super_speed                   1228 non-null   float64\n",
      " 78  has_durability                    1228 non-null   float64\n",
      " 79  has_stamina                       1228 non-null   float64\n",
      " 80  has_agility                       1228 non-null   float64\n",
      " 81  has_super_strength                1228 non-null   float64\n",
      "dtypes: float64(50), int64(7), object(25)\n",
      "memory usage: 833.2+ KB\n"
     ]
    }
   ],
   "source": [
    "df_comics.info()"
   ]
  },
  {
   "cell_type": "code",
   "execution_count": 6,
   "metadata": {},
   "outputs": [
    {
     "data": {
      "text/plain": [
       "skin_color                          1131\n",
       "place_of_birth                       551\n",
       "base                                 472\n",
       "relatives                            456\n",
       "full_name                            390\n",
       "occupation                           347\n",
       "type_race                            343\n",
       "powers_text                          324\n",
       "eye_color                            194\n",
       "hair_color                           182\n",
       "first_appearance                     143\n",
       "real_name                            121\n",
       "creator                              119\n",
       "gender                                94\n",
       "img                                   70\n",
       "has_immortality                       57\n",
       "has_regeneration                      57\n",
       "has_telepathy                         57\n",
       "has_toxin_and_disease_resistance      57\n",
       "has_telekinesis                       57\n",
       "has_force_fields                      57\n",
       "has_magic                             57\n",
       "has_cold_resistance                   57\n",
       "has_energy_manipulation               57\n",
       "has_energy_absorption                 57\n",
       "has_endurance                         57\n",
       "has_self-sustenance                   57\n",
       "has_longevity                         57\n",
       "has_jump                              57\n",
       "has_teleportation                     57\n",
       "has_size_changing                     57\n",
       "has_weapon-based_powers               57\n",
       "has_weapons_master                    57\n",
       "has_agility                           57\n",
       "has_stamina                           57\n",
       "has_durability                        57\n",
       "has_super_speed                       57\n",
       "has_reflexes                          57\n",
       "has_intelligence                      57\n",
       "has_accelerated_healing               57\n",
       "has_energy_blasts                     57\n",
       "has_flight                            57\n",
       "has_marksmanship                      57\n",
       "has_stealth                           57\n",
       "has_invulnerability                   57\n",
       "has_enhanced_senses                   57\n",
       "has_shapeshifting                     57\n",
       "has_heat_resistance                   57\n",
       "has_super_strength                    57\n",
       "has_peak_human_condition              57\n",
       "dtype: int64"
      ]
     },
     "execution_count": 6,
     "metadata": {},
     "output_type": "execute_result"
    }
   ],
   "source": [
    "df_comics.isna().sum().sort_values(ascending=False).head(50)"
   ]
  },
  {
   "cell_type": "markdown",
   "metadata": {
    "cell_id": "00013-00e51eac-6169-4978-9714-ee8c7a8f55b8",
    "deepnote_cell_height": 410,
    "deepnote_cell_type": "markdown",
    "id": "i4tFPrFA4_O5"
   },
   "source": [
    "## 1.1 Obtención de Features y Bag of Words\n",
    "\n",
    "<p align=\"center\">\n",
    "  <img src=\"https://media0.giphy.com/media/eIUpSyzwGp0YhAMTKr/200.gif\" width=\"300\">\n",
    "</p>"
   ]
  },
  {
   "cell_type": "markdown",
   "metadata": {
    "cell_id": "00014-528c8f39-a27a-40e0-8de0-0cc7f362b4ae",
    "deepnote_cell_height": 561.859375,
    "deepnote_cell_type": "markdown",
    "id": "f_4NF0_V5XZ-"
   },
   "source": [
    "Primero que todo, deben obtener un vector de características del atributo `history_text`, utilizando `Bag of Words`. En este atributo se presenta una breve descripción de la historia de cada uno de los personajes de ficción presentes en el dataset. \n",
    "\n",
    "Pero... antes de empezar, ¿Que es `Bag of Words`?...\n",
    "\n",
    "`Bag of Words` es un modelo de conteo utilizado en Procesamiento de Lenguaje Natural (NLP) que tiene como objetivo generar una representación vectorial (vector de características en nuestro cas) para cada documento a través del conteo de las palabras que contienen. \n",
    "\n",
    "La siguiente figura muestra un ejemplo de `Bag of Words` en acción:\n",
    "\n",
    "<p align=\"center\">\n",
    "  <img src=\"https://user.oc-static.com/upload/2020/10/23/16034397439042_surfin%20bird%20bow.png\" width=\"500\">\n",
    "</p>\n",
    "\n",
    "Como pueden ver, el modelo de `Bag of Words` no resulta tan complicado, ¿pero cómo lo aplicamos en python?. \n",
    "\n",
    "Como podrán darse cuenta del ejemplo anterior, para facilitar el conteo será necesario transformar cada uno de los documentos en vectores, donde cada una de las posiciones posee un carácter. Este proceso es conocido como **tokenización** y lo podemos realizar de la siguiente forma:"
   ]
  },
  {
   "cell_type": "code",
   "execution_count": 7,
   "metadata": {
    "cell_id": "00015-5924cc55-1587-4776-8c5e-cb400ddacaa3",
    "deepnote_cell_height": 227.375,
    "deepnote_cell_type": "code",
    "deepnote_output_heights": [
     40.375
    ],
    "deepnote_to_be_reexecuted": false,
    "execution_millis": 8,
    "execution_start": 1637346921830,
    "source_hash": "57e4888a",
    "tags": []
   },
   "outputs": [
    {
     "data": {
      "text/plain": [
       "[['The', 'teacher', 'rocks', 'like', 'a', 'good', 'rock', '&', 'roll'],\n",
       " ['the', 'rock', 'is', 'the', 'best', 'actor', 'in', 'the', 'world']]"
      ]
     },
     "execution_count": 7,
     "metadata": {},
     "output_type": "execute_result"
    }
   ],
   "source": [
    "docs = ['The teacher rocks like a good rock & roll',\n",
    "             'the rock is the best actor in the world']\n",
    "\n",
    "\n",
    "docs_tokenizados = [word_tokenize(doc)  for doc in docs]\n",
    "docs_tokenizados"
   ]
  },
  {
   "cell_type": "markdown",
   "metadata": {
    "cell_id": "00016-649b0384-cac3-4b79-93ff-75aac3b8c5df",
    "deepnote_cell_height": 424.125,
    "deepnote_cell_type": "markdown",
    "tags": []
   },
   "source": [
    "Podemos mejorar un poco más el proceso de tokenización agregando \n",
    "\n",
    "- Stemming:  Definimos Stemming como un algoritmo basado en reglas que transforma las palabras a una forma general. Un ejemplo de stemming, es el siguiente:\n",
    "- Eliminación de Stopwords: Eliminación de palabras muy frecuentes que entorpecen la clasificación (por ejemplo, el, la los, la, etc...)\n",
    "\n",
    "<p align=\"center\">\n",
    "  <img src=\"https://devopedia.org/images/article/218/8583.1569386710.png\" width=\"300\">\n",
    "</p>\n"
   ]
  },
  {
   "cell_type": "code",
   "execution_count": 8,
   "metadata": {
    "cell_id": "00017-52acaa25-55d2-49ee-a6c8-49437b8d4523",
    "deepnote_cell_height": 690.9375,
    "deepnote_cell_type": "code",
    "deepnote_output_heights": [
     null,
     59.5625
    ],
    "deepnote_to_be_reexecuted": false,
    "execution_millis": 36,
    "execution_start": 1637346924545,
    "source_hash": "d7f59237",
    "tags": []
   },
   "outputs": [
    {
     "name": "stderr",
     "output_type": "stream",
     "text": [
      "[nltk_data] Downloading package stopwords to\n",
      "[nltk_data]     C:\\Users\\Felipe\\AppData\\Roaming\\nltk_data...\n",
      "[nltk_data]   Package stopwords is already up-to-date!\n"
     ]
    },
    {
     "data": {
      "text/plain": [
       "[['the', 'teacher', 'rock', 'like', 'good', 'rock', '&', 'roll'],\n",
       " ['the', 'rock', 'is', 'the', 'best', 'actor', 'in', 'the', 'world'],\n",
       " ['new', 'york', 'is', 'beauti', 'citi']]"
      ]
     },
     "execution_count": 8,
     "metadata": {},
     "output_type": "execute_result"
    }
   ],
   "source": [
    "# Definimos algunas stopword que queremos que sean eliminadas\n",
    "import nltk\n",
    "nltk.download('stopwords')\n",
    "\n",
    "from nltk.corpus import stopwords\n",
    "\n",
    "stop_words = stopwords.words('spanish')\n",
    "\n",
    "# Definimos un tokenizador con Stemming\n",
    "class StemmerTokenizer:\n",
    "    def __init__(self):\n",
    "        self.ps = PorterStemmer()\n",
    "    def __call__(self, doc):\n",
    "        doc_tok = word_tokenize(doc)\n",
    "        doc_tok = [t for t in doc_tok if t not in stop_words]\n",
    "        return [self.ps.stem(t) for t in doc_tok]\n",
    "\n",
    "# Inicializamos tokenizador\n",
    "tokenizador = StemmerTokenizer()\n",
    "\n",
    "# Creamos algunos documentos\n",
    "docs = ['The teacher rocks like a good rock & roll',\n",
    "        'the rock is the best actor in the world',\n",
    "        'New York is a beautiful city']\n",
    "\n",
    "# Obtenemos el token del primer documento\n",
    "[tokenizador(doc) for doc in docs]"
   ]
  },
  {
   "cell_type": "code",
   "execution_count": 9,
   "metadata": {
    "cell_id": "00018-03a0f079-19df-42cb-b3b9-863a9e2ecb7a",
    "deepnote_cell_height": 192.5625,
    "deepnote_cell_type": "code",
    "deepnote_output_heights": [
     59.5625
    ],
    "deepnote_to_be_reexecuted": false,
    "execution_millis": 13,
    "execution_start": 1637346927213,
    "source_hash": "2503a9b4",
    "tags": []
   },
   "outputs": [
    {
     "data": {
      "text/plain": [
       "[['The', 'teacher', 'rocks', 'like', 'a', 'good', 'rock', '&', 'roll'],\n",
       " ['the', 'rock', 'is', 'the', 'best', 'actor', 'in', 'the', 'world'],\n",
       " ['New', 'York', 'is', 'a', 'beautiful', 'city']]"
      ]
     },
     "execution_count": 9,
     "metadata": {},
     "output_type": "execute_result"
    }
   ],
   "source": [
    "# Comparación con el caso anterior\n",
    "docs_tokenizados = [word_tokenize(doc) for doc in docs]\n",
    "docs_tokenizados"
   ]
  },
  {
   "cell_type": "markdown",
   "metadata": {
    "cell_id": "00019-3f862033-7b4e-4623-b17f-545b988af69b",
    "deepnote_cell_height": 110.78125,
    "deepnote_cell_type": "markdown",
    "tags": []
   },
   "source": [
    "#### Al Estilo Scikit\n",
    "\n",
    "Scikit implementa `bag of words` a través de la clase `CountVectorizer()` la cual contiene muchas opciones para mejorar la tokenización."
   ]
  },
  {
   "cell_type": "code",
   "execution_count": 10,
   "metadata": {
    "cell_id": "00020-721a6ba0-0990-4436-9de5-4b4b53c5ff79",
    "deepnote_cell_height": 270,
    "deepnote_cell_type": "code",
    "deepnote_output_heights": [
     119
    ],
    "deepnote_to_be_reexecuted": false,
    "execution_millis": 152,
    "execution_start": 1637346927803,
    "source_hash": "2bc7124d",
    "tags": []
   },
   "outputs": [
    {
     "data": {
      "text/html": [
       "<div>\n",
       "<style scoped>\n",
       "    .dataframe tbody tr th:only-of-type {\n",
       "        vertical-align: middle;\n",
       "    }\n",
       "\n",
       "    .dataframe tbody tr th {\n",
       "        vertical-align: top;\n",
       "    }\n",
       "\n",
       "    .dataframe thead th {\n",
       "        text-align: right;\n",
       "    }\n",
       "</style>\n",
       "<table border=\"1\" class=\"dataframe\">\n",
       "  <thead>\n",
       "    <tr style=\"text-align: right;\">\n",
       "      <th></th>\n",
       "      <th>&amp;</th>\n",
       "      <th>actor</th>\n",
       "      <th>beauti</th>\n",
       "      <th>best</th>\n",
       "      <th>citi</th>\n",
       "      <th>good</th>\n",
       "      <th>in</th>\n",
       "      <th>is</th>\n",
       "      <th>like</th>\n",
       "      <th>new</th>\n",
       "      <th>rock</th>\n",
       "      <th>roll</th>\n",
       "      <th>teacher</th>\n",
       "      <th>the</th>\n",
       "      <th>world</th>\n",
       "      <th>york</th>\n",
       "    </tr>\n",
       "  </thead>\n",
       "  <tbody>\n",
       "    <tr>\n",
       "      <th>0</th>\n",
       "      <td>1</td>\n",
       "      <td>0</td>\n",
       "      <td>0</td>\n",
       "      <td>0</td>\n",
       "      <td>0</td>\n",
       "      <td>1</td>\n",
       "      <td>0</td>\n",
       "      <td>0</td>\n",
       "      <td>1</td>\n",
       "      <td>0</td>\n",
       "      <td>2</td>\n",
       "      <td>1</td>\n",
       "      <td>1</td>\n",
       "      <td>1</td>\n",
       "      <td>0</td>\n",
       "      <td>0</td>\n",
       "    </tr>\n",
       "    <tr>\n",
       "      <th>1</th>\n",
       "      <td>0</td>\n",
       "      <td>1</td>\n",
       "      <td>0</td>\n",
       "      <td>1</td>\n",
       "      <td>0</td>\n",
       "      <td>0</td>\n",
       "      <td>1</td>\n",
       "      <td>1</td>\n",
       "      <td>0</td>\n",
       "      <td>0</td>\n",
       "      <td>1</td>\n",
       "      <td>0</td>\n",
       "      <td>0</td>\n",
       "      <td>3</td>\n",
       "      <td>1</td>\n",
       "      <td>0</td>\n",
       "    </tr>\n",
       "    <tr>\n",
       "      <th>2</th>\n",
       "      <td>0</td>\n",
       "      <td>0</td>\n",
       "      <td>1</td>\n",
       "      <td>0</td>\n",
       "      <td>1</td>\n",
       "      <td>0</td>\n",
       "      <td>0</td>\n",
       "      <td>1</td>\n",
       "      <td>0</td>\n",
       "      <td>1</td>\n",
       "      <td>0</td>\n",
       "      <td>0</td>\n",
       "      <td>0</td>\n",
       "      <td>0</td>\n",
       "      <td>0</td>\n",
       "      <td>1</td>\n",
       "    </tr>\n",
       "  </tbody>\n",
       "</table>\n",
       "</div>"
      ],
      "text/plain": [
       "   &  actor  beauti  best  citi  good  in  is  like  new  rock  roll  teacher  \\\n",
       "0  1      0       0     0     0     1   0   0     1    0     2     1        1   \n",
       "1  0      1       0     1     0     0   1   1     0    0     1     0        0   \n",
       "2  0      0       1     0     1     0   0   1     0    1     0     0        0   \n",
       "\n",
       "   the  world  york  \n",
       "0    1      0     0  \n",
       "1    3      1     0  \n",
       "2    0      0     1  "
      ]
     },
     "execution_count": 10,
     "metadata": {},
     "output_type": "execute_result"
    }
   ],
   "source": [
    "bow = CountVectorizer(tokenizer= StemmerTokenizer())\n",
    "df = bow.fit_transform(docs)\n",
    "\n",
    "pd.DataFrame(df.toarray(), columns=bow.get_feature_names_out())"
   ]
  },
  {
   "cell_type": "markdown",
   "metadata": {
    "cell_id": "00021-b3e721d0-6b1f-4f91-aef8-7b04028286fe",
    "deepnote_cell_height": 155.953125,
    "deepnote_cell_type": "markdown",
    "tags": []
   },
   "source": [
    "Una de las cosas más interesantes que provee son el use de n-gramas, los cuales, en palabras simples, son conjuntos de n-palabras que se concatenan entre si y que se consideran como tokens separados. \n",
    "\n",
    "Pensemos en `Nueva York`. Cuando se tokeniza Nueva York, se generan dos tokens independientes que a simple vista no tienen relación: `Nueva` `York`.\n",
    "Al usar n-gramas (en un rango min=1,max=2) , generamos tanto `Nueva` y `York` como también `Nueva York` como un token independiente."
   ]
  },
  {
   "cell_type": "code",
   "execution_count": 11,
   "metadata": {
    "cell_id": "00022-a7abf0fb-cbf2-4745-a96a-dcad9d4bc00f",
    "deepnote_cell_height": 301.1875,
    "deepnote_cell_type": "code",
    "deepnote_output_heights": [
     150.1875
    ],
    "deepnote_to_be_reexecuted": false,
    "execution_millis": 241,
    "execution_start": 1637346930092,
    "source_hash": "6af25c7e",
    "tags": []
   },
   "outputs": [
    {
     "data": {
      "text/html": [
       "<div>\n",
       "<style scoped>\n",
       "    .dataframe tbody tr th:only-of-type {\n",
       "        vertical-align: middle;\n",
       "    }\n",
       "\n",
       "    .dataframe tbody tr th {\n",
       "        vertical-align: top;\n",
       "    }\n",
       "\n",
       "    .dataframe thead th {\n",
       "        text-align: right;\n",
       "    }\n",
       "</style>\n",
       "<table border=\"1\" class=\"dataframe\">\n",
       "  <thead>\n",
       "    <tr style=\"text-align: right;\">\n",
       "      <th></th>\n",
       "      <th>&amp;</th>\n",
       "      <th>&amp; roll</th>\n",
       "      <th>actor</th>\n",
       "      <th>actor in</th>\n",
       "      <th>beauti</th>\n",
       "      <th>beauti citi</th>\n",
       "      <th>best</th>\n",
       "      <th>best actor</th>\n",
       "      <th>citi</th>\n",
       "      <th>good</th>\n",
       "      <th>...</th>\n",
       "      <th>teacher</th>\n",
       "      <th>teacher rock</th>\n",
       "      <th>the</th>\n",
       "      <th>the best</th>\n",
       "      <th>the rock</th>\n",
       "      <th>the teacher</th>\n",
       "      <th>the world</th>\n",
       "      <th>world</th>\n",
       "      <th>york</th>\n",
       "      <th>york is</th>\n",
       "    </tr>\n",
       "  </thead>\n",
       "  <tbody>\n",
       "    <tr>\n",
       "      <th>0</th>\n",
       "      <td>1</td>\n",
       "      <td>1</td>\n",
       "      <td>0</td>\n",
       "      <td>0</td>\n",
       "      <td>0</td>\n",
       "      <td>0</td>\n",
       "      <td>0</td>\n",
       "      <td>0</td>\n",
       "      <td>0</td>\n",
       "      <td>1</td>\n",
       "      <td>...</td>\n",
       "      <td>1</td>\n",
       "      <td>1</td>\n",
       "      <td>1</td>\n",
       "      <td>0</td>\n",
       "      <td>0</td>\n",
       "      <td>1</td>\n",
       "      <td>0</td>\n",
       "      <td>0</td>\n",
       "      <td>0</td>\n",
       "      <td>0</td>\n",
       "    </tr>\n",
       "    <tr>\n",
       "      <th>1</th>\n",
       "      <td>0</td>\n",
       "      <td>0</td>\n",
       "      <td>1</td>\n",
       "      <td>1</td>\n",
       "      <td>0</td>\n",
       "      <td>0</td>\n",
       "      <td>1</td>\n",
       "      <td>1</td>\n",
       "      <td>0</td>\n",
       "      <td>0</td>\n",
       "      <td>...</td>\n",
       "      <td>0</td>\n",
       "      <td>0</td>\n",
       "      <td>3</td>\n",
       "      <td>1</td>\n",
       "      <td>1</td>\n",
       "      <td>0</td>\n",
       "      <td>1</td>\n",
       "      <td>1</td>\n",
       "      <td>0</td>\n",
       "      <td>0</td>\n",
       "    </tr>\n",
       "    <tr>\n",
       "      <th>2</th>\n",
       "      <td>0</td>\n",
       "      <td>0</td>\n",
       "      <td>0</td>\n",
       "      <td>0</td>\n",
       "      <td>1</td>\n",
       "      <td>1</td>\n",
       "      <td>0</td>\n",
       "      <td>0</td>\n",
       "      <td>1</td>\n",
       "      <td>0</td>\n",
       "      <td>...</td>\n",
       "      <td>0</td>\n",
       "      <td>0</td>\n",
       "      <td>0</td>\n",
       "      <td>0</td>\n",
       "      <td>0</td>\n",
       "      <td>0</td>\n",
       "      <td>0</td>\n",
       "      <td>0</td>\n",
       "      <td>1</td>\n",
       "      <td>1</td>\n",
       "    </tr>\n",
       "  </tbody>\n",
       "</table>\n",
       "<p>3 rows × 35 columns</p>\n",
       "</div>"
      ],
      "text/plain": [
       "   &  & roll  actor  actor in  beauti  beauti citi  best  best actor  citi  \\\n",
       "0  1       1      0         0       0            0     0           0     0   \n",
       "1  0       0      1         1       0            0     1           1     0   \n",
       "2  0       0      0         0       1            1     0           0     1   \n",
       "\n",
       "   good  ...  teacher  teacher rock  the  the best  the rock  the teacher  \\\n",
       "0     1  ...        1             1    1         0         0            1   \n",
       "1     0  ...        0             0    3         1         1            0   \n",
       "2     0  ...        0             0    0         0         0            0   \n",
       "\n",
       "   the world  world  york  york is  \n",
       "0          0      0     0        0  \n",
       "1          1      1     0        0  \n",
       "2          0      0     1        1  \n",
       "\n",
       "[3 rows x 35 columns]"
      ]
     },
     "execution_count": 11,
     "metadata": {},
     "output_type": "execute_result"
    }
   ],
   "source": [
    "bow = CountVectorizer(tokenizer= StemmerTokenizer(), ngram_range=(1,2))\n",
    "df = bow.fit_transform(docs)\n",
    "\n",
    "pd.DataFrame(df.toarray(), columns=bow.get_feature_names_out())"
   ]
  },
  {
   "cell_type": "markdown",
   "metadata": {
    "cell_id": "00023-55bca23d-f3d4-4f39-ae9d-e8810b522c79",
    "deepnote_cell_height": 97.171875,
    "deepnote_cell_type": "markdown",
    "tags": []
   },
   "source": [
    "De los resultados, podemos ver que generamos vectores de conteo para cada una de las palabras que conforman el corpus.  Un punto extra que se agrega en esta obtención de frecuencias son los bigramas, que básicamente son el conjunto de palabras de tamaño de aparecen juntas en el texto."
   ]
  },
  {
   "cell_type": "markdown",
   "metadata": {
    "cell_id": "00024-231f49a8-163f-457d-b933-9e5dad0e1e29",
    "deepnote_cell_height": 547,
    "deepnote_cell_type": "markdown",
    "tags": []
   },
   "source": [
    "## Codificando los Super{heroes, villanos}  [0.5 Puntos]\n",
    "\n",
    "<p align=\"center\">\n",
    "  <img src=\"https://c.tenor.com/LkQzw7k5DV4AAAAd/anime-hacking.gif\" width=\"300\">\n",
    "</p>\n",
    "\n",
    "Conociendo ahora que es el proceso de `bag of words`, aplique este modelo de obtención de caracteristicas de la siguiente forma en un pipeline:\n",
    "\n",
    "- Utilice el tokenizador entregado.\n",
    "- Obtenga caracteristicas de los unigramas y bigramas del texto (tal como el ejemplo).\n",
    "\n",
    "```python\n",
    "bog = CountVectorizer(tokenizer= StemmerTokenizer(),`\n",
    "                      ngram_range=(1,2) # Este punto es opcional y es para generar bigramas\n",
    "                      )\n",
    "```"
   ]
  },
  {
   "cell_type": "markdown",
   "metadata": {
    "cell_id": "00025-145bb273-d73c-4ad1-8b84-46327add3a2e",
    "deepnote_cell_height": 332.90625,
    "deepnote_cell_type": "markdown",
    "tags": []
   },
   "source": [
    "Finalmente, aplique `MinMaxScaler()` sobre `atributos_de_interes` y concatene el valor obtenido con el matriz de caracteristicas obtenidas con bag of words.\n",
    "\n",
    "```python\n",
    "atributos_de_interes = ['intelligence_score', 'strength_score', 'speed_score', 'durability_score', 'power_score', 'combat_score']\n",
    "```\n",
    "\n",
    "No es necesario que obtenga un dataframe en concreto con las características solicitadas. Se le recomienda generar un `ColumnTransformer()` para aplicar las transformaciones solicitadas en un pipeline.\n",
    "\n",
    "**To-Do:**\n",
    "- [ ] Obtener a traves de Bag of Words (`CountVectorizer`) caracteristicas del resumen de historia de cada personaje.\n",
    "- [ ] Aplicar `MinMaxScaler` sobre los atributos de interes."
   ]
  },
  {
   "cell_type": "markdown",
   "metadata": {
    "cell_id": "00026-b13521a0-adf9-4c19-893e-ba6ed644ca12",
    "deepnote_cell_height": 52.390625,
    "deepnote_cell_type": "markdown",
    "tags": []
   },
   "source": [
    "**Respuesta:**"
   ]
  },
  {
   "cell_type": "code",
   "execution_count": 12,
   "metadata": {
    "cell_id": "00026-898e0ee0-748d-4dac-bfc5-d72f4fe21827",
    "deepnote_cell_height": 66,
    "deepnote_cell_type": "code",
    "id": "ay080DunHcOS"
   },
   "outputs": [],
   "source": [
    "#Seteamos el idioma en inglés\n",
    "stop_words = stopwords.words('english')\n",
    "\n",
    "class StemmerTokenizer:\n",
    "    def __init__(self):\n",
    "        self.ps = PorterStemmer()\n",
    "    def __call__(self, doc):\n",
    "        doc_tok = word_tokenize(doc)\n",
    "        doc_tok = [t for t in doc_tok if t not in stop_words]\n",
    "        return [self.ps.stem(t) for t in doc_tok]"
   ]
  },
  {
   "cell_type": "code",
   "execution_count": 13,
   "metadata": {},
   "outputs": [],
   "source": [
    "transformadores = ColumnTransformer(\n",
    "            transformers = [\n",
    "                ('MinMax', MinMaxScaler(),  ['intelligence_score', 'strength_score', 'speed_score',\n",
    "                                             'durability_score', 'power_score', 'combat_score']),\n",
    "                ('BagOfWords', CountVectorizer(tokenizer= StemmerTokenizer(),\n",
    "                                               ngram_range=(1,2) # Este punto es opcional y es para generar bigramas\n",
    "                                              ), 'history_text')\n",
    "            ])"
   ]
  },
  {
   "cell_type": "markdown",
   "metadata": {
    "cell_id": "00029-0baf6cdb-9550-4717-87db-9f9900d5b276",
    "deepnote_cell_height": 317.5,
    "deepnote_cell_type": "markdown",
    "id": "stHncQ-A-j4I",
    "owner_user_id": "d50c3174-babb-4861-9c71-7e3af66458b8"
   },
   "source": [
    "## 1.2 Diseño de Baseline y  Primer Entrenamiento  [1 Puntos]\n",
    "\n",
    "\n",
    "<p align=\"center\">\n",
    "  <img src=\"https://pa1.narvii.com/6374/9eaec1b7bf9157334151452a669516f9a78b954c_hq.gif\" width=\"300\">\n",
    "</p>\n"
   ]
  },
  {
   "cell_type": "markdown",
   "metadata": {
    "cell_id": "00030-1452da19-1559-4b8b-8b73-a134157c0656",
    "deepnote_cell_height": 455.859375,
    "deepnote_cell_type": "markdown",
    "id": "NeMiptpQ_EWb"
   },
   "source": [
    "\n",
    "Genere un Pipeline con las caracteristicas solicitadas en la sección 1.1, un selector de mejores features `SelectPercentile` con métrica `f_classif` y percentile=90 y un clasificador `MultinomialNB()` por defecto.\n",
    "\n",
    "Luego, separe el conjunto de datos en un conjunto de entrenamiento y prueba, donde las etiquetas estará dado por el atributo `alignment`. \n",
    "\n",
    "Entrene el modelo y reporte el desempeño con un `classification_report`. ¿ Nos recomendaría predecir la alineación de BatCow con este clasificador?.\n",
    "\n",
    "Finalmente, compare el modelo entrenado con un modelo Dummy estratificado y responda: ¿El clasificador entrenado es mejor que el dummy que entrega respuestas al azar?\n",
    "\n",
    "**To-do:**\n",
    "- [ ] Realizar un pipeline con las caracteristicas solicitadas en 1.1, ejecutar holdout y aplicar un clasificador `MultinomialNB()`.\n",
    "- [ ] Entrenar el pipeline, calcular el `classification_report` asociado y comentar los resultados.\n",
    "- [ ] Entrenar un `DummyClassifier` con estrategia `statified`, calcular el `classification_report` asociado y comentar que implican los scores obtenidos en comparación con los resultados del baseline."
   ]
  },
  {
   "cell_type": "markdown",
   "metadata": {
    "cell_id": "00029-34f1be30-f2df-45ac-aa14-8e05dc678be9",
    "deepnote_cell_height": 52.390625,
    "deepnote_cell_type": "markdown",
    "tags": []
   },
   "source": [
    "**Respuesta:**"
   ]
  },
  {
   "cell_type": "code",
   "execution_count": 14,
   "metadata": {},
   "outputs": [],
   "source": [
    " "
   ]
  },
  {
   "cell_type": "code",
   "execution_count": 15,
   "metadata": {
    "cell_id": "00031-92f07569-b6ee-48af-be9e-70cd05cb9e5e",
    "deepnote_cell_height": 66,
    "deepnote_cell_type": "code",
    "id": "_hHpPDooPafy"
   },
   "outputs": [],
   "source": [
    "pipeline_MultiNB = Pipeline([\n",
    "    ('preprocesamiento', transformadores),\n",
    "    ('percentiles', SelectPercentile(f_classif, percentile = 90)),\n",
    "    ('modelo', MultinomialNB())\n",
    "     ])"
   ]
  },
  {
   "cell_type": "code",
   "execution_count": 16,
   "metadata": {},
   "outputs": [],
   "source": [
    "pipeline_DummyClas = Pipeline([\n",
    "    ('preprocesamiento', transformadores),\n",
    "    ('percentiles', SelectPercentile(f_classif, percentile = 90)),\n",
    "    ('modelo', DummyClassifier(strategy=\"most_frequent\"))\n",
    "     ])"
   ]
  },
  {
   "cell_type": "code",
   "execution_count": 17,
   "metadata": {},
   "outputs": [],
   "source": [
    "X_train, X_test, y_train, y_test = train_test_split(\n",
    "                                df_comics.drop('alignment', axis=1),\n",
    "                                df_comics['alignment'],\n",
    "                                random_state = 0,\n",
    "                                stratify = df_comics['alignment'],\n",
    "                                test_size = 0.2)"
   ]
  },
  {
   "cell_type": "code",
   "execution_count": 18,
   "metadata": {},
   "outputs": [
    {
     "name": "stdout",
     "output_type": "stream",
     "text": [
      "              precision    recall  f1-score   support\n",
      "\n",
      "         Bad       0.71      0.14      0.23        86\n",
      "        Good       0.60      0.97      0.74       148\n",
      "     Neutral       1.00      0.04      0.08        23\n",
      "\n",
      "    accuracy                           0.61       257\n",
      "   macro avg       0.77      0.39      0.35       257\n",
      "weighted avg       0.67      0.61      0.51       257\n",
      "\n"
     ]
    }
   ],
   "source": [
    "pipeline_MultiNB.fit(X_train, y_train)\n",
    "y_pred = pipeline_MultiNB.predict(X_test)\n",
    "print(classification_report(y_test, y_pred))"
   ]
  },
  {
   "cell_type": "code",
   "execution_count": 19,
   "metadata": {},
   "outputs": [
    {
     "name": "stdout",
     "output_type": "stream",
     "text": [
      "              precision    recall  f1-score   support\n",
      "\n",
      "         Bad       0.00      0.00      0.00        86\n",
      "        Good       0.58      1.00      0.73       148\n",
      "     Neutral       0.00      0.00      0.00        23\n",
      "\n",
      "    accuracy                           0.58       257\n",
      "   macro avg       0.19      0.33      0.24       257\n",
      "weighted avg       0.33      0.58      0.42       257\n",
      "\n"
     ]
    },
    {
     "name": "stderr",
     "output_type": "stream",
     "text": [
      "C:\\Users\\Felipe\\anaconda3\\lib\\site-packages\\sklearn\\metrics\\_classification.py:1318: UndefinedMetricWarning: Precision and F-score are ill-defined and being set to 0.0 in labels with no predicted samples. Use `zero_division` parameter to control this behavior.\n",
      "  _warn_prf(average, modifier, msg_start, len(result))\n",
      "C:\\Users\\Felipe\\anaconda3\\lib\\site-packages\\sklearn\\metrics\\_classification.py:1318: UndefinedMetricWarning: Precision and F-score are ill-defined and being set to 0.0 in labels with no predicted samples. Use `zero_division` parameter to control this behavior.\n",
      "  _warn_prf(average, modifier, msg_start, len(result))\n",
      "C:\\Users\\Felipe\\anaconda3\\lib\\site-packages\\sklearn\\metrics\\_classification.py:1318: UndefinedMetricWarning: Precision and F-score are ill-defined and being set to 0.0 in labels with no predicted samples. Use `zero_division` parameter to control this behavior.\n",
      "  _warn_prf(average, modifier, msg_start, len(result))\n"
     ]
    }
   ],
   "source": [
    "pipeline_DummyClas.fit(X_train, y_train)\n",
    "y_pred = pipeline_DummyClas.predict(X_test)\n",
    "print(classification_report(y_test, y_pred))"
   ]
  },
  {
   "cell_type": "markdown",
   "metadata": {
    "cell_id": "806813f6a2114d46a6165a97c8c483a0",
    "deepnote_cell_height": 70.796875,
    "deepnote_cell_type": "markdown",
    "tags": []
   },
   "source": [
    "Respuesta:\n",
    "\n",
    "El clasificador Naive Bayes tiene la simpleza de que no recibe ningún tipo de parámetro de entrada, por lo que no necesita un optimizador de hiperparámetros ni ningún tipo de cambio especial. Esto lo hace uno de los modelos más simples de aplicar. Sin embargo, es esta simpleza la que también le puede jugar en contra ya que es difícil que pueda adaptarse lo suficientemente bien a ciertos datos. \n",
    "\n",
    "En este caso comparamos un Naive Bayes Multinomial con una decisión aleatoria y el resultado es bastante similar en términos de accuracy (también en recall en este caso, pero puede ir variando según el random_state), lo que implica que MultiNB no es tan eficiente como modelo a la hora de clasificar y se necesita un clasificador más potente y que posea hiperparámetros para así obtener el mejor perfomance."
   ]
  },
  {
   "cell_type": "markdown",
   "metadata": {
    "cell_id": "00035-35040b90-b6b9-4e43-8eff-15b7fa897575",
    "deepnote_cell_height": 400,
    "deepnote_cell_type": "markdown",
    "id": "pfm7I2B7_rfB"
   },
   "source": [
    "## 1.3 Busqueda del Mejor Modelo con Grid Search [4 Puntos]\n",
    "\n",
    "<p align=\"center\">\n",
    "  <img src=\"https://media1.tenor.com/images/70fdfeea52a8e2e4505498c230a0d2f9/tenor.gif?itemid=5134219\" width=\"250\">\n",
    "</p>"
   ]
  },
  {
   "cell_type": "markdown",
   "metadata": {
    "cell_id": "00036-c58166cc-71f7-4fa3-94c8-c67d1145ccf1",
    "deepnote_cell_height": 859.5,
    "deepnote_cell_type": "markdown",
    "id": "14siiavzK67p"
   },
   "source": [
    "No conformes con el rendimiento obtenido en la sección 1.2, el cuerpo docente les pide que realicen un **`HalvingGridSearchCV`** con diferentes parámetros para mejorar el rendimiento de la clasificación. Para esto, se le solicita que defina:\n",
    "\n",
    "- Tres clasificadores distintos en donde varie sus parámetros. Considere usar modelos clásicos como también los basados en ensamblaje.\n",
    "- Modificar `n-gram` range del `CountVectorizer` probando `(1,1), (1,2) y (1,3)`. Examinar también los otros parámetros de CountVectorizer como por ejemplo `max_df`, `min_df`, etc... ([Documentación aquí](https://scikit-learn.org/stable/modules/generated/sklearn.feature_extraction.text.CountVectorizer.html))\n",
    "- Seleccionar las columnas que contribuyen con la mayor información para la clasificación con `SelectPercentile` en los percentiles `[20, 40, 60, 80]` (puede usar la métrica que usted quiera).\n",
    "- Reporte la mejor combinación encontrada y justifique por qué cree que es la mejor según el clasificador usado, la cantidad de columnas seleccionadas y los parámetros de CountVectorizer seleccionados por GridSearch.\n",
    "\n",
    "A continuación, un ejemplo de parametros para GridSearch para una búsqueda de 3 clasificadores distintos:\n",
    "\n",
    "```python\n",
    "params = [\n",
    "       # clasificador 1 + hiperparámetros\n",
    "       {'clf': classificator1(),\n",
    "        'clf__penalty': ['ovr'],\n",
    "       # clasificador 1 + hiperparámetros    \n",
    "       {'clf': classificator2(),\n",
    "        'clf__n_estimators': [200]},\n",
    "       # clasificador 1 + hiperparámetros\n",
    "       {'clf': classificator3(),\n",
    "        ...\n",
    "       }\n",
    "       ]\n",
    "```\n",
    "\n",
    "**Nota 1**: Puede ver los parámetros modificables aplicando el método get_params() sobre su pipeline. Ver la clase de GridSearch para mayor información sobre la sintáxis de las grillas.\n",
    "\n",
    "**Nota 2**: Recuerde inicializar los clasificadores con un random state definido.\n",
    "\n",
    "**Nota 3**: Puede usar en `HalvingGridSearchCV` el parámetro `verbose=10` para ver que GridSearch le indique el estado de su ejecución.\n",
    "\n",
    "**Nota 3:** El GridSearch puede tomar tiempos de búsqueda exorbitantes, por lo que se le recomienda no agrandar mucho el espacio de búsqueda, dejar corriendo el código y tomarse un tecito."
   ]
  },
  {
   "cell_type": "markdown",
   "metadata": {
    "cell_id": "00032-3fea06e0-a390-4ae0-8036-f5fedb6d6baf",
    "deepnote_cell_height": 52.390625,
    "deepnote_cell_type": "markdown",
    "tags": []
   },
   "source": [
    "**Respuesta:**"
   ]
  },
  {
   "cell_type": "code",
   "execution_count": 20,
   "metadata": {},
   "outputs": [],
   "source": [
    "# explicitly require this experimental feature\n",
    "from sklearn.experimental import enable_halving_search_cv # noqa\n",
    "# now you can import normally from model_selection\n",
    "from sklearn.model_selection import HalvingGridSearchCV"
   ]
  },
  {
   "cell_type": "code",
   "execution_count": 21,
   "metadata": {},
   "outputs": [],
   "source": [
    "from sklearn.neighbors import KNeighborsClassifier"
   ]
  },
  {
   "cell_type": "code",
   "execution_count": 22,
   "metadata": {
    "cell_id": "00037-8b06a200-cb7a-485a-b11b-31a3d0ee57f3",
    "deepnote_cell_height": 66,
    "deepnote_cell_type": "code",
    "id": "oNvHOHELUoIv"
   },
   "outputs": [],
   "source": [
    "pipeline_Grid = Pipeline([\n",
    "    ('preprocesamiento', transformadores),\n",
    "    ('percentiles', SelectPercentile(f_classif, percentile = 90)),\n",
    "    ('modelo', MultinomialNB())\n",
    "     ])"
   ]
  },
  {
   "cell_type": "code",
   "execution_count": 27,
   "metadata": {},
   "outputs": [],
   "source": [
    "params = [\n",
    "    {\n",
    "        'modelo': [LogisticRegression(random_state = 0)],\n",
    "        'modelo__penalty': ['l1', 'l2'],\n",
    "        'modelo__solver': ['liblinear'],\n",
    "        'preprocesamiento__BagOfWords__ngram_range': [(1,1), (1,2), (1,3)],\n",
    "        'percentiles__percentile': [20, 40, 60, 80]\n",
    "    },{\n",
    "        'modelo': [RandomForestClassifier(random_state=0)],\n",
    "        'modelo__max_depth': [2,4,6],\n",
    "        'preprocesamiento__BagOfWords__ngram_range': [(1,1), (1,2), (1,3)],\n",
    "        'percentiles__percentile': [20, 40, 60, 80]\n",
    "    },{\n",
    "        'modelo': [KNeighborsClassifier()],\n",
    "        'modelo__n_neighbors': [2,3,4,5,6],\n",
    "        'preprocesamiento__BagOfWords__ngram_range': [(1,1), (1,2), (1,3)],\n",
    "        'percentiles__percentile': [20, 40, 60, 80]\n",
    "    }]"
   ]
  },
  {
   "cell_type": "markdown",
   "metadata": {},
   "source": [
    "##### CUIDADO CON LA EJECUCIÓN DE ESTA CELDA POR FAVOR, DEJÉ EL MODELO GUARDADO EN UN PICKLE PARA QUE NO TENER QUE RE-ENTRENAR"
   ]
  },
  {
   "cell_type": "code",
   "execution_count": 28,
   "metadata": {
    "scrolled": true
   },
   "outputs": [
    {
     "name": "stdout",
     "output_type": "stream",
     "text": [
      "n_iterations: 4\n",
      "n_required_iterations: 5\n",
      "n_possible_iterations: 4\n",
      "min_resources_: 30\n",
      "max_resources_: 1028\n",
      "aggressive_elimination: False\n",
      "factor: 3\n",
      "----------\n",
      "iter: 0\n",
      "n_candidates: 120\n",
      "n_resources: 30\n",
      "Fitting 5 folds for each of 120 candidates, totalling 600 fits\n",
      "[CV 1/5; 1/120] START modelo=LogisticRegression(random_state=0), modelo__penalty=l1, modelo__solver=liblinear, percentiles__percentile=20, preprocesamiento__BagOfWords__ngram_range=(1, 1)\n",
      "[CV 1/5; 1/120] END modelo=LogisticRegression(random_state=0), modelo__penalty=l1, modelo__solver=liblinear, percentiles__percentile=20, preprocesamiento__BagOfWords__ngram_range=(1, 1);, score=(train=1.000, test=0.667) total time=   0.4s\n",
      "[CV 2/5; 1/120] START modelo=LogisticRegression(random_state=0), modelo__penalty=l1, modelo__solver=liblinear, percentiles__percentile=20, preprocesamiento__BagOfWords__ngram_range=(1, 1)\n",
      "[CV 2/5; 1/120] END modelo=LogisticRegression(random_state=0), modelo__penalty=l1, modelo__solver=liblinear, percentiles__percentile=20, preprocesamiento__BagOfWords__ngram_range=(1, 1);, score=(train=0.870, test=0.500) total time=   0.4s\n",
      "[CV 3/5; 1/120] START modelo=LogisticRegression(random_state=0), modelo__penalty=l1, modelo__solver=liblinear, percentiles__percentile=20, preprocesamiento__BagOfWords__ngram_range=(1, 1)\n",
      "[CV 3/5; 1/120] END modelo=LogisticRegression(random_state=0), modelo__penalty=l1, modelo__solver=liblinear, percentiles__percentile=20, preprocesamiento__BagOfWords__ngram_range=(1, 1);, score=(train=0.913, test=0.667) total time=   0.1s\n",
      "[CV 4/5; 1/120] START modelo=LogisticRegression(random_state=0), modelo__penalty=l1, modelo__solver=liblinear, percentiles__percentile=20, preprocesamiento__BagOfWords__ngram_range=(1, 1)\n",
      "[CV 4/5; 1/120] END modelo=LogisticRegression(random_state=0), modelo__penalty=l1, modelo__solver=liblinear, percentiles__percentile=20, preprocesamiento__BagOfWords__ngram_range=(1, 1);, score=(train=0.958, test=0.200) total time=   0.3s\n",
      "[CV 5/5; 1/120] START modelo=LogisticRegression(random_state=0), modelo__penalty=l1, modelo__solver=liblinear, percentiles__percentile=20, preprocesamiento__BagOfWords__ngram_range=(1, 1)\n"
     ]
    },
    {
     "name": "stderr",
     "output_type": "stream",
     "text": [
      "C:\\Users\\Felipe\\anaconda3\\lib\\site-packages\\sklearn\\feature_selection\\_univariate_selection.py:113: RuntimeWarning: divide by zero encountered in true_divide\n",
      "  f = msb / msw\n"
     ]
    },
    {
     "name": "stdout",
     "output_type": "stream",
     "text": [
      "[CV 5/5; 1/120] END modelo=LogisticRegression(random_state=0), modelo__penalty=l1, modelo__solver=liblinear, percentiles__percentile=20, preprocesamiento__BagOfWords__ngram_range=(1, 1);, score=(train=1.000, test=0.800) total time=   0.2s\n",
      "[CV 1/5; 2/120] START modelo=LogisticRegression(random_state=0), modelo__penalty=l1, modelo__solver=liblinear, percentiles__percentile=20, preprocesamiento__BagOfWords__ngram_range=(1, 2)\n",
      "[CV 1/5; 2/120] END modelo=LogisticRegression(random_state=0), modelo__penalty=l1, modelo__solver=liblinear, percentiles__percentile=20, preprocesamiento__BagOfWords__ngram_range=(1, 2);, score=(train=1.000, test=0.667) total time=   0.5s\n",
      "[CV 2/5; 2/120] START modelo=LogisticRegression(random_state=0), modelo__penalty=l1, modelo__solver=liblinear, percentiles__percentile=20, preprocesamiento__BagOfWords__ngram_range=(1, 2)\n",
      "[CV 2/5; 2/120] END modelo=LogisticRegression(random_state=0), modelo__penalty=l1, modelo__solver=liblinear, percentiles__percentile=20, preprocesamiento__BagOfWords__ngram_range=(1, 2);, score=(train=0.870, test=0.500) total time=   0.6s\n",
      "[CV 3/5; 2/120] START modelo=LogisticRegression(random_state=0), modelo__penalty=l1, modelo__solver=liblinear, percentiles__percentile=20, preprocesamiento__BagOfWords__ngram_range=(1, 2)\n",
      "[CV 3/5; 2/120] END modelo=LogisticRegression(random_state=0), modelo__penalty=l1, modelo__solver=liblinear, percentiles__percentile=20, preprocesamiento__BagOfWords__ngram_range=(1, 2);, score=(train=0.913, test=0.667) total time=   0.3s\n",
      "[CV 4/5; 2/120] START modelo=LogisticRegression(random_state=0), modelo__penalty=l1, modelo__solver=liblinear, percentiles__percentile=20, preprocesamiento__BagOfWords__ngram_range=(1, 2)\n",
      "[CV 4/5; 2/120] END modelo=LogisticRegression(random_state=0), modelo__penalty=l1, modelo__solver=liblinear, percentiles__percentile=20, preprocesamiento__BagOfWords__ngram_range=(1, 2);, score=(train=0.958, test=0.200) total time=   0.4s\n",
      "[CV 5/5; 2/120] START modelo=LogisticRegression(random_state=0), modelo__penalty=l1, modelo__solver=liblinear, percentiles__percentile=20, preprocesamiento__BagOfWords__ngram_range=(1, 2)\n"
     ]
    },
    {
     "name": "stderr",
     "output_type": "stream",
     "text": [
      "C:\\Users\\Felipe\\anaconda3\\lib\\site-packages\\sklearn\\feature_selection\\_univariate_selection.py:113: RuntimeWarning: divide by zero encountered in true_divide\n",
      "  f = msb / msw\n"
     ]
    },
    {
     "name": "stdout",
     "output_type": "stream",
     "text": [
      "[CV 5/5; 2/120] END modelo=LogisticRegression(random_state=0), modelo__penalty=l1, modelo__solver=liblinear, percentiles__percentile=20, preprocesamiento__BagOfWords__ngram_range=(1, 2);, score=(train=1.000, test=0.800) total time=   0.3s\n",
      "[CV 1/5; 3/120] START modelo=LogisticRegression(random_state=0), modelo__penalty=l1, modelo__solver=liblinear, percentiles__percentile=20, preprocesamiento__BagOfWords__ngram_range=(1, 3)\n",
      "[CV 1/5; 3/120] END modelo=LogisticRegression(random_state=0), modelo__penalty=l1, modelo__solver=liblinear, percentiles__percentile=20, preprocesamiento__BagOfWords__ngram_range=(1, 3);, score=(train=1.000, test=0.667) total time=   0.6s\n",
      "[CV 2/5; 3/120] START modelo=LogisticRegression(random_state=0), modelo__penalty=l1, modelo__solver=liblinear, percentiles__percentile=20, preprocesamiento__BagOfWords__ngram_range=(1, 3)\n",
      "[CV 2/5; 3/120] END modelo=LogisticRegression(random_state=0), modelo__penalty=l1, modelo__solver=liblinear, percentiles__percentile=20, preprocesamiento__BagOfWords__ngram_range=(1, 3);, score=(train=0.870, test=0.500) total time=   1.0s\n",
      "[CV 3/5; 3/120] START modelo=LogisticRegression(random_state=0), modelo__penalty=l1, modelo__solver=liblinear, percentiles__percentile=20, preprocesamiento__BagOfWords__ngram_range=(1, 3)\n",
      "[CV 3/5; 3/120] END modelo=LogisticRegression(random_state=0), modelo__penalty=l1, modelo__solver=liblinear, percentiles__percentile=20, preprocesamiento__BagOfWords__ngram_range=(1, 3);, score=(train=0.913, test=0.667) total time=   0.2s\n",
      "[CV 4/5; 3/120] START modelo=LogisticRegression(random_state=0), modelo__penalty=l1, modelo__solver=liblinear, percentiles__percentile=20, preprocesamiento__BagOfWords__ngram_range=(1, 3)\n",
      "[CV 4/5; 3/120] END modelo=LogisticRegression(random_state=0), modelo__penalty=l1, modelo__solver=liblinear, percentiles__percentile=20, preprocesamiento__BagOfWords__ngram_range=(1, 3);, score=(train=0.958, test=0.200) total time=   1.0s\n",
      "[CV 5/5; 3/120] START modelo=LogisticRegression(random_state=0), modelo__penalty=l1, modelo__solver=liblinear, percentiles__percentile=20, preprocesamiento__BagOfWords__ngram_range=(1, 3)\n"
     ]
    },
    {
     "name": "stderr",
     "output_type": "stream",
     "text": [
      "C:\\Users\\Felipe\\anaconda3\\lib\\site-packages\\sklearn\\feature_selection\\_univariate_selection.py:113: RuntimeWarning: divide by zero encountered in true_divide\n",
      "  f = msb / msw\n"
     ]
    },
    {
     "name": "stdout",
     "output_type": "stream",
     "text": [
      "[CV 5/5; 3/120] END modelo=LogisticRegression(random_state=0), modelo__penalty=l1, modelo__solver=liblinear, percentiles__percentile=20, preprocesamiento__BagOfWords__ngram_range=(1, 3);, score=(train=1.000, test=0.800) total time=   0.4s\n",
      "[CV 1/5; 4/120] START modelo=LogisticRegression(random_state=0), modelo__penalty=l1, modelo__solver=liblinear, percentiles__percentile=40, preprocesamiento__BagOfWords__ngram_range=(1, 1)\n",
      "[CV 1/5; 4/120] END modelo=LogisticRegression(random_state=0), modelo__penalty=l1, modelo__solver=liblinear, percentiles__percentile=40, preprocesamiento__BagOfWords__ngram_range=(1, 1);, score=(train=1.000, test=0.667) total time=   1.0s\n",
      "[CV 2/5; 4/120] START modelo=LogisticRegression(random_state=0), modelo__penalty=l1, modelo__solver=liblinear, percentiles__percentile=40, preprocesamiento__BagOfWords__ngram_range=(1, 1)\n",
      "[CV 2/5; 4/120] END modelo=LogisticRegression(random_state=0), modelo__penalty=l1, modelo__solver=liblinear, percentiles__percentile=40, preprocesamiento__BagOfWords__ngram_range=(1, 1);, score=(train=0.870, test=0.500) total time=   0.4s\n",
      "[CV 3/5; 4/120] START modelo=LogisticRegression(random_state=0), modelo__penalty=l1, modelo__solver=liblinear, percentiles__percentile=40, preprocesamiento__BagOfWords__ngram_range=(1, 1)\n",
      "[CV 3/5; 4/120] END modelo=LogisticRegression(random_state=0), modelo__penalty=l1, modelo__solver=liblinear, percentiles__percentile=40, preprocesamiento__BagOfWords__ngram_range=(1, 1);, score=(train=0.913, test=0.667) total time=   0.8s\n",
      "[CV 4/5; 4/120] START modelo=LogisticRegression(random_state=0), modelo__penalty=l1, modelo__solver=liblinear, percentiles__percentile=40, preprocesamiento__BagOfWords__ngram_range=(1, 1)\n",
      "[CV 4/5; 4/120] END modelo=LogisticRegression(random_state=0), modelo__penalty=l1, modelo__solver=liblinear, percentiles__percentile=40, preprocesamiento__BagOfWords__ngram_range=(1, 1);, score=(train=0.958, test=0.200) total time=   0.4s\n",
      "[CV 5/5; 4/120] START modelo=LogisticRegression(random_state=0), modelo__penalty=l1, modelo__solver=liblinear, percentiles__percentile=40, preprocesamiento__BagOfWords__ngram_range=(1, 1)\n"
     ]
    },
    {
     "name": "stderr",
     "output_type": "stream",
     "text": [
      "C:\\Users\\Felipe\\anaconda3\\lib\\site-packages\\sklearn\\feature_selection\\_univariate_selection.py:113: RuntimeWarning: divide by zero encountered in true_divide\n",
      "  f = msb / msw\n"
     ]
    },
    {
     "name": "stdout",
     "output_type": "stream",
     "text": [
      "[CV 5/5; 4/120] END modelo=LogisticRegression(random_state=0), modelo__penalty=l1, modelo__solver=liblinear, percentiles__percentile=40, preprocesamiento__BagOfWords__ngram_range=(1, 1);, score=(train=1.000, test=0.800) total time=   0.9s\n",
      "[CV 1/5; 5/120] START modelo=LogisticRegression(random_state=0), modelo__penalty=l1, modelo__solver=liblinear, percentiles__percentile=40, preprocesamiento__BagOfWords__ngram_range=(1, 2)\n",
      "[CV 1/5; 5/120] END modelo=LogisticRegression(random_state=0), modelo__penalty=l1, modelo__solver=liblinear, percentiles__percentile=40, preprocesamiento__BagOfWords__ngram_range=(1, 2);, score=(train=1.000, test=0.667) total time=   0.6s\n",
      "[CV 2/5; 5/120] START modelo=LogisticRegression(random_state=0), modelo__penalty=l1, modelo__solver=liblinear, percentiles__percentile=40, preprocesamiento__BagOfWords__ngram_range=(1, 2)\n",
      "[CV 2/5; 5/120] END modelo=LogisticRegression(random_state=0), modelo__penalty=l1, modelo__solver=liblinear, percentiles__percentile=40, preprocesamiento__BagOfWords__ngram_range=(1, 2);, score=(train=0.870, test=0.500) total time=   2.1s\n",
      "[CV 3/5; 5/120] START modelo=LogisticRegression(random_state=0), modelo__penalty=l1, modelo__solver=liblinear, percentiles__percentile=40, preprocesamiento__BagOfWords__ngram_range=(1, 2)\n",
      "[CV 3/5; 5/120] END modelo=LogisticRegression(random_state=0), modelo__penalty=l1, modelo__solver=liblinear, percentiles__percentile=40, preprocesamiento__BagOfWords__ngram_range=(1, 2);, score=(train=0.913, test=0.667) total time=   0.6s\n",
      "[CV 4/5; 5/120] START modelo=LogisticRegression(random_state=0), modelo__penalty=l1, modelo__solver=liblinear, percentiles__percentile=40, preprocesamiento__BagOfWords__ngram_range=(1, 2)\n",
      "[CV 4/5; 5/120] END modelo=LogisticRegression(random_state=0), modelo__penalty=l1, modelo__solver=liblinear, percentiles__percentile=40, preprocesamiento__BagOfWords__ngram_range=(1, 2);, score=(train=0.958, test=0.200) total time=   1.8s\n",
      "[CV 5/5; 5/120] START modelo=LogisticRegression(random_state=0), modelo__penalty=l1, modelo__solver=liblinear, percentiles__percentile=40, preprocesamiento__BagOfWords__ngram_range=(1, 2)\n"
     ]
    },
    {
     "name": "stderr",
     "output_type": "stream",
     "text": [
      "C:\\Users\\Felipe\\anaconda3\\lib\\site-packages\\sklearn\\feature_selection\\_univariate_selection.py:113: RuntimeWarning: divide by zero encountered in true_divide\n",
      "  f = msb / msw\n"
     ]
    },
    {
     "name": "stdout",
     "output_type": "stream",
     "text": [
      "[CV 5/5; 5/120] END modelo=LogisticRegression(random_state=0), modelo__penalty=l1, modelo__solver=liblinear, percentiles__percentile=40, preprocesamiento__BagOfWords__ngram_range=(1, 2);, score=(train=1.000, test=0.800) total time=   1.4s\n",
      "[CV 1/5; 6/120] START modelo=LogisticRegression(random_state=0), modelo__penalty=l1, modelo__solver=liblinear, percentiles__percentile=40, preprocesamiento__BagOfWords__ngram_range=(1, 3)\n",
      "[CV 1/5; 6/120] END modelo=LogisticRegression(random_state=0), modelo__penalty=l1, modelo__solver=liblinear, percentiles__percentile=40, preprocesamiento__BagOfWords__ngram_range=(1, 3);, score=(train=1.000, test=0.667) total time=   0.9s\n",
      "[CV 2/5; 6/120] START modelo=LogisticRegression(random_state=0), modelo__penalty=l1, modelo__solver=liblinear, percentiles__percentile=40, preprocesamiento__BagOfWords__ngram_range=(1, 3)\n",
      "[CV 2/5; 6/120] END modelo=LogisticRegression(random_state=0), modelo__penalty=l1, modelo__solver=liblinear, percentiles__percentile=40, preprocesamiento__BagOfWords__ngram_range=(1, 3);, score=(train=0.870, test=0.500) total time=   1.0s\n",
      "[CV 3/5; 6/120] START modelo=LogisticRegression(random_state=0), modelo__penalty=l1, modelo__solver=liblinear, percentiles__percentile=40, preprocesamiento__BagOfWords__ngram_range=(1, 3)\n",
      "[CV 3/5; 6/120] END modelo=LogisticRegression(random_state=0), modelo__penalty=l1, modelo__solver=liblinear, percentiles__percentile=40, preprocesamiento__BagOfWords__ngram_range=(1, 3);, score=(train=0.913, test=0.667) total time=   0.2s\n",
      "[CV 4/5; 6/120] START modelo=LogisticRegression(random_state=0), modelo__penalty=l1, modelo__solver=liblinear, percentiles__percentile=40, preprocesamiento__BagOfWords__ngram_range=(1, 3)\n",
      "[CV 4/5; 6/120] END modelo=LogisticRegression(random_state=0), modelo__penalty=l1, modelo__solver=liblinear, percentiles__percentile=40, preprocesamiento__BagOfWords__ngram_range=(1, 3);, score=(train=0.958, test=0.200) total time=   0.6s\n",
      "[CV 5/5; 6/120] START modelo=LogisticRegression(random_state=0), modelo__penalty=l1, modelo__solver=liblinear, percentiles__percentile=40, preprocesamiento__BagOfWords__ngram_range=(1, 3)\n"
     ]
    },
    {
     "name": "stderr",
     "output_type": "stream",
     "text": [
      "C:\\Users\\Felipe\\anaconda3\\lib\\site-packages\\sklearn\\feature_selection\\_univariate_selection.py:113: RuntimeWarning: divide by zero encountered in true_divide\n",
      "  f = msb / msw\n"
     ]
    },
    {
     "name": "stdout",
     "output_type": "stream",
     "text": [
      "[CV 5/5; 6/120] END modelo=LogisticRegression(random_state=0), modelo__penalty=l1, modelo__solver=liblinear, percentiles__percentile=40, preprocesamiento__BagOfWords__ngram_range=(1, 3);, score=(train=1.000, test=0.800) total time=   0.5s\n",
      "[CV 1/5; 7/120] START modelo=LogisticRegression(random_state=0), modelo__penalty=l1, modelo__solver=liblinear, percentiles__percentile=60, preprocesamiento__BagOfWords__ngram_range=(1, 1)\n",
      "[CV 1/5; 7/120] END modelo=LogisticRegression(random_state=0), modelo__penalty=l1, modelo__solver=liblinear, percentiles__percentile=60, preprocesamiento__BagOfWords__ngram_range=(1, 1);, score=(train=1.000, test=0.667) total time=   1.0s\n",
      "[CV 2/5; 7/120] START modelo=LogisticRegression(random_state=0), modelo__penalty=l1, modelo__solver=liblinear, percentiles__percentile=60, preprocesamiento__BagOfWords__ngram_range=(1, 1)\n",
      "[CV 2/5; 7/120] END modelo=LogisticRegression(random_state=0), modelo__penalty=l1, modelo__solver=liblinear, percentiles__percentile=60, preprocesamiento__BagOfWords__ngram_range=(1, 1);, score=(train=0.870, test=0.500) total time=   1.0s\n",
      "[CV 3/5; 7/120] START modelo=LogisticRegression(random_state=0), modelo__penalty=l1, modelo__solver=liblinear, percentiles__percentile=60, preprocesamiento__BagOfWords__ngram_range=(1, 1)\n",
      "[CV 3/5; 7/120] END modelo=LogisticRegression(random_state=0), modelo__penalty=l1, modelo__solver=liblinear, percentiles__percentile=60, preprocesamiento__BagOfWords__ngram_range=(1, 1);, score=(train=0.913, test=0.667) total time=   0.3s\n",
      "[CV 4/5; 7/120] START modelo=LogisticRegression(random_state=0), modelo__penalty=l1, modelo__solver=liblinear, percentiles__percentile=60, preprocesamiento__BagOfWords__ngram_range=(1, 1)\n",
      "[CV 4/5; 7/120] END modelo=LogisticRegression(random_state=0), modelo__penalty=l1, modelo__solver=liblinear, percentiles__percentile=60, preprocesamiento__BagOfWords__ngram_range=(1, 1);, score=(train=1.000, test=0.200) total time=   0.4s\n",
      "[CV 5/5; 7/120] START modelo=LogisticRegression(random_state=0), modelo__penalty=l1, modelo__solver=liblinear, percentiles__percentile=60, preprocesamiento__BagOfWords__ngram_range=(1, 1)\n"
     ]
    },
    {
     "name": "stderr",
     "output_type": "stream",
     "text": [
      "C:\\Users\\Felipe\\anaconda3\\lib\\site-packages\\sklearn\\feature_selection\\_univariate_selection.py:113: RuntimeWarning: divide by zero encountered in true_divide\n",
      "  f = msb / msw\n"
     ]
    },
    {
     "name": "stdout",
     "output_type": "stream",
     "text": [
      "[CV 5/5; 7/120] END modelo=LogisticRegression(random_state=0), modelo__penalty=l1, modelo__solver=liblinear, percentiles__percentile=60, preprocesamiento__BagOfWords__ngram_range=(1, 1);, score=(train=1.000, test=0.800) total time=   0.4s\n",
      "[CV 1/5; 8/120] START modelo=LogisticRegression(random_state=0), modelo__penalty=l1, modelo__solver=liblinear, percentiles__percentile=60, preprocesamiento__BagOfWords__ngram_range=(1, 2)\n",
      "[CV 1/5; 8/120] END modelo=LogisticRegression(random_state=0), modelo__penalty=l1, modelo__solver=liblinear, percentiles__percentile=60, preprocesamiento__BagOfWords__ngram_range=(1, 2);, score=(train=1.000, test=0.667) total time=   0.7s\n",
      "[CV 2/5; 8/120] START modelo=LogisticRegression(random_state=0), modelo__penalty=l1, modelo__solver=liblinear, percentiles__percentile=60, preprocesamiento__BagOfWords__ngram_range=(1, 2)\n",
      "[CV 2/5; 8/120] END modelo=LogisticRegression(random_state=0), modelo__penalty=l1, modelo__solver=liblinear, percentiles__percentile=60, preprocesamiento__BagOfWords__ngram_range=(1, 2);, score=(train=0.870, test=0.500) total time=   0.9s\n",
      "[CV 3/5; 8/120] START modelo=LogisticRegression(random_state=0), modelo__penalty=l1, modelo__solver=liblinear, percentiles__percentile=60, preprocesamiento__BagOfWords__ngram_range=(1, 2)\n",
      "[CV 3/5; 8/120] END modelo=LogisticRegression(random_state=0), modelo__penalty=l1, modelo__solver=liblinear, percentiles__percentile=60, preprocesamiento__BagOfWords__ngram_range=(1, 2);, score=(train=0.913, test=0.667) total time=   0.2s\n",
      "[CV 4/5; 8/120] START modelo=LogisticRegression(random_state=0), modelo__penalty=l1, modelo__solver=liblinear, percentiles__percentile=60, preprocesamiento__BagOfWords__ngram_range=(1, 2)\n",
      "[CV 4/5; 8/120] END modelo=LogisticRegression(random_state=0), modelo__penalty=l1, modelo__solver=liblinear, percentiles__percentile=60, preprocesamiento__BagOfWords__ngram_range=(1, 2);, score=(train=1.000, test=0.200) total time=   0.4s\n",
      "[CV 5/5; 8/120] START modelo=LogisticRegression(random_state=0), modelo__penalty=l1, modelo__solver=liblinear, percentiles__percentile=60, preprocesamiento__BagOfWords__ngram_range=(1, 2)\n"
     ]
    },
    {
     "name": "stderr",
     "output_type": "stream",
     "text": [
      "C:\\Users\\Felipe\\anaconda3\\lib\\site-packages\\sklearn\\feature_selection\\_univariate_selection.py:113: RuntimeWarning: divide by zero encountered in true_divide\n",
      "  f = msb / msw\n"
     ]
    },
    {
     "name": "stdout",
     "output_type": "stream",
     "text": [
      "[CV 5/5; 8/120] END modelo=LogisticRegression(random_state=0), modelo__penalty=l1, modelo__solver=liblinear, percentiles__percentile=60, preprocesamiento__BagOfWords__ngram_range=(1, 2);, score=(train=1.000, test=0.800) total time=   0.3s\n",
      "[CV 1/5; 9/120] START modelo=LogisticRegression(random_state=0), modelo__penalty=l1, modelo__solver=liblinear, percentiles__percentile=60, preprocesamiento__BagOfWords__ngram_range=(1, 3)\n",
      "[CV 1/5; 9/120] END modelo=LogisticRegression(random_state=0), modelo__penalty=l1, modelo__solver=liblinear, percentiles__percentile=60, preprocesamiento__BagOfWords__ngram_range=(1, 3);, score=(train=1.000, test=0.667) total time=   1.4s\n",
      "[CV 2/5; 9/120] START modelo=LogisticRegression(random_state=0), modelo__penalty=l1, modelo__solver=liblinear, percentiles__percentile=60, preprocesamiento__BagOfWords__ngram_range=(1, 3)\n",
      "[CV 2/5; 9/120] END modelo=LogisticRegression(random_state=0), modelo__penalty=l1, modelo__solver=liblinear, percentiles__percentile=60, preprocesamiento__BagOfWords__ngram_range=(1, 3);, score=(train=0.870, test=0.500) total time=   0.7s\n",
      "[CV 3/5; 9/120] START modelo=LogisticRegression(random_state=0), modelo__penalty=l1, modelo__solver=liblinear, percentiles__percentile=60, preprocesamiento__BagOfWords__ngram_range=(1, 3)\n",
      "[CV 3/5; 9/120] END modelo=LogisticRegression(random_state=0), modelo__penalty=l1, modelo__solver=liblinear, percentiles__percentile=60, preprocesamiento__BagOfWords__ngram_range=(1, 3);, score=(train=0.913, test=0.667) total time=   0.3s\n",
      "[CV 4/5; 9/120] START modelo=LogisticRegression(random_state=0), modelo__penalty=l1, modelo__solver=liblinear, percentiles__percentile=60, preprocesamiento__BagOfWords__ngram_range=(1, 3)\n",
      "[CV 4/5; 9/120] END modelo=LogisticRegression(random_state=0), modelo__penalty=l1, modelo__solver=liblinear, percentiles__percentile=60, preprocesamiento__BagOfWords__ngram_range=(1, 3);, score=(train=1.000, test=0.200) total time=   0.8s\n",
      "[CV 5/5; 9/120] START modelo=LogisticRegression(random_state=0), modelo__penalty=l1, modelo__solver=liblinear, percentiles__percentile=60, preprocesamiento__BagOfWords__ngram_range=(1, 3)\n"
     ]
    },
    {
     "name": "stderr",
     "output_type": "stream",
     "text": [
      "C:\\Users\\Felipe\\anaconda3\\lib\\site-packages\\sklearn\\feature_selection\\_univariate_selection.py:113: RuntimeWarning: divide by zero encountered in true_divide\n",
      "  f = msb / msw\n"
     ]
    },
    {
     "name": "stdout",
     "output_type": "stream",
     "text": [
      "[CV 5/5; 9/120] END modelo=LogisticRegression(random_state=0), modelo__penalty=l1, modelo__solver=liblinear, percentiles__percentile=60, preprocesamiento__BagOfWords__ngram_range=(1, 3);, score=(train=1.000, test=0.800) total time=   0.8s\n",
      "[CV 1/5; 10/120] START modelo=LogisticRegression(random_state=0), modelo__penalty=l1, modelo__solver=liblinear, percentiles__percentile=80, preprocesamiento__BagOfWords__ngram_range=(1, 1)\n",
      "[CV 1/5; 10/120] END modelo=LogisticRegression(random_state=0), modelo__penalty=l1, modelo__solver=liblinear, percentiles__percentile=80, preprocesamiento__BagOfWords__ngram_range=(1, 1);, score=(train=1.000, test=0.667) total time=   0.7s\n",
      "[CV 2/5; 10/120] START modelo=LogisticRegression(random_state=0), modelo__penalty=l1, modelo__solver=liblinear, percentiles__percentile=80, preprocesamiento__BagOfWords__ngram_range=(1, 1)\n",
      "[CV 2/5; 10/120] END modelo=LogisticRegression(random_state=0), modelo__penalty=l1, modelo__solver=liblinear, percentiles__percentile=80, preprocesamiento__BagOfWords__ngram_range=(1, 1);, score=(train=0.870, test=0.333) total time=   0.6s\n",
      "[CV 3/5; 10/120] START modelo=LogisticRegression(random_state=0), modelo__penalty=l1, modelo__solver=liblinear, percentiles__percentile=80, preprocesamiento__BagOfWords__ngram_range=(1, 1)\n",
      "[CV 3/5; 10/120] END modelo=LogisticRegression(random_state=0), modelo__penalty=l1, modelo__solver=liblinear, percentiles__percentile=80, preprocesamiento__BagOfWords__ngram_range=(1, 1);, score=(train=0.913, test=0.667) total time=   0.5s\n",
      "[CV 4/5; 10/120] START modelo=LogisticRegression(random_state=0), modelo__penalty=l1, modelo__solver=liblinear, percentiles__percentile=80, preprocesamiento__BagOfWords__ngram_range=(1, 1)\n",
      "[CV 4/5; 10/120] END modelo=LogisticRegression(random_state=0), modelo__penalty=l1, modelo__solver=liblinear, percentiles__percentile=80, preprocesamiento__BagOfWords__ngram_range=(1, 1);, score=(train=1.000, test=0.400) total time=   0.9s\n",
      "[CV 5/5; 10/120] START modelo=LogisticRegression(random_state=0), modelo__penalty=l1, modelo__solver=liblinear, percentiles__percentile=80, preprocesamiento__BagOfWords__ngram_range=(1, 1)\n"
     ]
    },
    {
     "name": "stderr",
     "output_type": "stream",
     "text": [
      "C:\\Users\\Felipe\\anaconda3\\lib\\site-packages\\sklearn\\feature_selection\\_univariate_selection.py:113: RuntimeWarning: divide by zero encountered in true_divide\n",
      "  f = msb / msw\n"
     ]
    },
    {
     "name": "stdout",
     "output_type": "stream",
     "text": [
      "[CV 5/5; 10/120] END modelo=LogisticRegression(random_state=0), modelo__penalty=l1, modelo__solver=liblinear, percentiles__percentile=80, preprocesamiento__BagOfWords__ngram_range=(1, 1);, score=(train=1.000, test=0.800) total time=   0.6s\n",
      "[CV 1/5; 11/120] START modelo=LogisticRegression(random_state=0), modelo__penalty=l1, modelo__solver=liblinear, percentiles__percentile=80, preprocesamiento__BagOfWords__ngram_range=(1, 2)\n",
      "[CV 1/5; 11/120] END modelo=LogisticRegression(random_state=0), modelo__penalty=l1, modelo__solver=liblinear, percentiles__percentile=80, preprocesamiento__BagOfWords__ngram_range=(1, 2);, score=(train=1.000, test=0.667) total time=   1.2s\n",
      "[CV 2/5; 11/120] START modelo=LogisticRegression(random_state=0), modelo__penalty=l1, modelo__solver=liblinear, percentiles__percentile=80, preprocesamiento__BagOfWords__ngram_range=(1, 2)\n",
      "[CV 2/5; 11/120] END modelo=LogisticRegression(random_state=0), modelo__penalty=l1, modelo__solver=liblinear, percentiles__percentile=80, preprocesamiento__BagOfWords__ngram_range=(1, 2);, score=(train=0.870, test=0.500) total time=   1.1s\n",
      "[CV 3/5; 11/120] START modelo=LogisticRegression(random_state=0), modelo__penalty=l1, modelo__solver=liblinear, percentiles__percentile=80, preprocesamiento__BagOfWords__ngram_range=(1, 2)\n",
      "[CV 3/5; 11/120] END modelo=LogisticRegression(random_state=0), modelo__penalty=l1, modelo__solver=liblinear, percentiles__percentile=80, preprocesamiento__BagOfWords__ngram_range=(1, 2);, score=(train=0.913, test=0.667) total time=   0.2s\n",
      "[CV 4/5; 11/120] START modelo=LogisticRegression(random_state=0), modelo__penalty=l1, modelo__solver=liblinear, percentiles__percentile=80, preprocesamiento__BagOfWords__ngram_range=(1, 2)\n",
      "[CV 4/5; 11/120] END modelo=LogisticRegression(random_state=0), modelo__penalty=l1, modelo__solver=liblinear, percentiles__percentile=80, preprocesamiento__BagOfWords__ngram_range=(1, 2);, score=(train=1.000, test=0.400) total time=   0.6s\n",
      "[CV 5/5; 11/120] START modelo=LogisticRegression(random_state=0), modelo__penalty=l1, modelo__solver=liblinear, percentiles__percentile=80, preprocesamiento__BagOfWords__ngram_range=(1, 2)\n"
     ]
    },
    {
     "name": "stderr",
     "output_type": "stream",
     "text": [
      "C:\\Users\\Felipe\\anaconda3\\lib\\site-packages\\sklearn\\feature_selection\\_univariate_selection.py:113: RuntimeWarning: divide by zero encountered in true_divide\n",
      "  f = msb / msw\n"
     ]
    },
    {
     "name": "stdout",
     "output_type": "stream",
     "text": [
      "[CV 5/5; 11/120] END modelo=LogisticRegression(random_state=0), modelo__penalty=l1, modelo__solver=liblinear, percentiles__percentile=80, preprocesamiento__BagOfWords__ngram_range=(1, 2);, score=(train=1.000, test=0.800) total time=   0.8s\n",
      "[CV 1/5; 12/120] START modelo=LogisticRegression(random_state=0), modelo__penalty=l1, modelo__solver=liblinear, percentiles__percentile=80, preprocesamiento__BagOfWords__ngram_range=(1, 3)\n",
      "[CV 1/5; 12/120] END modelo=LogisticRegression(random_state=0), modelo__penalty=l1, modelo__solver=liblinear, percentiles__percentile=80, preprocesamiento__BagOfWords__ngram_range=(1, 3);, score=(train=1.000, test=0.667) total time=   1.2s\n",
      "[CV 2/5; 12/120] START modelo=LogisticRegression(random_state=0), modelo__penalty=l1, modelo__solver=liblinear, percentiles__percentile=80, preprocesamiento__BagOfWords__ngram_range=(1, 3)\n",
      "[CV 2/5; 12/120] END modelo=LogisticRegression(random_state=0), modelo__penalty=l1, modelo__solver=liblinear, percentiles__percentile=80, preprocesamiento__BagOfWords__ngram_range=(1, 3);, score=(train=0.870, test=0.500) total time=   1.6s\n",
      "[CV 3/5; 12/120] START modelo=LogisticRegression(random_state=0), modelo__penalty=l1, modelo__solver=liblinear, percentiles__percentile=80, preprocesamiento__BagOfWords__ngram_range=(1, 3)\n",
      "[CV 3/5; 12/120] END modelo=LogisticRegression(random_state=0), modelo__penalty=l1, modelo__solver=liblinear, percentiles__percentile=80, preprocesamiento__BagOfWords__ngram_range=(1, 3);, score=(train=0.913, test=0.667) total time=   0.3s\n",
      "[CV 4/5; 12/120] START modelo=LogisticRegression(random_state=0), modelo__penalty=l1, modelo__solver=liblinear, percentiles__percentile=80, preprocesamiento__BagOfWords__ngram_range=(1, 3)\n",
      "[CV 4/5; 12/120] END modelo=LogisticRegression(random_state=0), modelo__penalty=l1, modelo__solver=liblinear, percentiles__percentile=80, preprocesamiento__BagOfWords__ngram_range=(1, 3);, score=(train=0.958, test=0.400) total time=   0.9s\n",
      "[CV 5/5; 12/120] START modelo=LogisticRegression(random_state=0), modelo__penalty=l1, modelo__solver=liblinear, percentiles__percentile=80, preprocesamiento__BagOfWords__ngram_range=(1, 3)\n"
     ]
    },
    {
     "name": "stderr",
     "output_type": "stream",
     "text": [
      "C:\\Users\\Felipe\\anaconda3\\lib\\site-packages\\sklearn\\feature_selection\\_univariate_selection.py:113: RuntimeWarning: divide by zero encountered in true_divide\n",
      "  f = msb / msw\n"
     ]
    },
    {
     "name": "stdout",
     "output_type": "stream",
     "text": [
      "[CV 5/5; 12/120] END modelo=LogisticRegression(random_state=0), modelo__penalty=l1, modelo__solver=liblinear, percentiles__percentile=80, preprocesamiento__BagOfWords__ngram_range=(1, 3);, score=(train=1.000, test=0.800) total time=   0.4s\n",
      "[CV 1/5; 13/120] START modelo=LogisticRegression(random_state=0), modelo__penalty=l2, modelo__solver=liblinear, percentiles__percentile=20, preprocesamiento__BagOfWords__ngram_range=(1, 1)\n",
      "[CV 1/5; 13/120] END modelo=LogisticRegression(random_state=0), modelo__penalty=l2, modelo__solver=liblinear, percentiles__percentile=20, preprocesamiento__BagOfWords__ngram_range=(1, 1);, score=(train=1.000, test=0.667) total time=   1.1s\n",
      "[CV 2/5; 13/120] START modelo=LogisticRegression(random_state=0), modelo__penalty=l2, modelo__solver=liblinear, percentiles__percentile=20, preprocesamiento__BagOfWords__ngram_range=(1, 1)\n",
      "[CV 2/5; 13/120] END modelo=LogisticRegression(random_state=0), modelo__penalty=l2, modelo__solver=liblinear, percentiles__percentile=20, preprocesamiento__BagOfWords__ngram_range=(1, 1);, score=(train=1.000, test=0.333) total time=   0.6s\n",
      "[CV 3/5; 13/120] START modelo=LogisticRegression(random_state=0), modelo__penalty=l2, modelo__solver=liblinear, percentiles__percentile=20, preprocesamiento__BagOfWords__ngram_range=(1, 1)\n",
      "[CV 3/5; 13/120] END modelo=LogisticRegression(random_state=0), modelo__penalty=l2, modelo__solver=liblinear, percentiles__percentile=20, preprocesamiento__BagOfWords__ngram_range=(1, 1);, score=(train=1.000, test=0.667) total time=   0.3s\n",
      "[CV 4/5; 13/120] START modelo=LogisticRegression(random_state=0), modelo__penalty=l2, modelo__solver=liblinear, percentiles__percentile=20, preprocesamiento__BagOfWords__ngram_range=(1, 1)\n",
      "[CV 4/5; 13/120] END modelo=LogisticRegression(random_state=0), modelo__penalty=l2, modelo__solver=liblinear, percentiles__percentile=20, preprocesamiento__BagOfWords__ngram_range=(1, 1);, score=(train=1.000, test=0.200) total time=   0.4s\n",
      "[CV 5/5; 13/120] START modelo=LogisticRegression(random_state=0), modelo__penalty=l2, modelo__solver=liblinear, percentiles__percentile=20, preprocesamiento__BagOfWords__ngram_range=(1, 1)\n"
     ]
    },
    {
     "name": "stderr",
     "output_type": "stream",
     "text": [
      "C:\\Users\\Felipe\\anaconda3\\lib\\site-packages\\sklearn\\feature_selection\\_univariate_selection.py:113: RuntimeWarning: divide by zero encountered in true_divide\n",
      "  f = msb / msw\n"
     ]
    },
    {
     "name": "stdout",
     "output_type": "stream",
     "text": [
      "[CV 5/5; 13/120] END modelo=LogisticRegression(random_state=0), modelo__penalty=l2, modelo__solver=liblinear, percentiles__percentile=20, preprocesamiento__BagOfWords__ngram_range=(1, 1);, score=(train=1.000, test=0.800) total time=   0.3s\n",
      "[CV 1/5; 14/120] START modelo=LogisticRegression(random_state=0), modelo__penalty=l2, modelo__solver=liblinear, percentiles__percentile=20, preprocesamiento__BagOfWords__ngram_range=(1, 2)\n",
      "[CV 1/5; 14/120] END modelo=LogisticRegression(random_state=0), modelo__penalty=l2, modelo__solver=liblinear, percentiles__percentile=20, preprocesamiento__BagOfWords__ngram_range=(1, 2);, score=(train=1.000, test=0.667) total time=   0.8s\n",
      "[CV 2/5; 14/120] START modelo=LogisticRegression(random_state=0), modelo__penalty=l2, modelo__solver=liblinear, percentiles__percentile=20, preprocesamiento__BagOfWords__ngram_range=(1, 2)\n",
      "[CV 2/5; 14/120] END modelo=LogisticRegression(random_state=0), modelo__penalty=l2, modelo__solver=liblinear, percentiles__percentile=20, preprocesamiento__BagOfWords__ngram_range=(1, 2);, score=(train=1.000, test=0.333) total time=   1.5s\n",
      "[CV 3/5; 14/120] START modelo=LogisticRegression(random_state=0), modelo__penalty=l2, modelo__solver=liblinear, percentiles__percentile=20, preprocesamiento__BagOfWords__ngram_range=(1, 2)\n",
      "[CV 3/5; 14/120] END modelo=LogisticRegression(random_state=0), modelo__penalty=l2, modelo__solver=liblinear, percentiles__percentile=20, preprocesamiento__BagOfWords__ngram_range=(1, 2);, score=(train=1.000, test=0.667) total time=   0.2s\n",
      "[CV 4/5; 14/120] START modelo=LogisticRegression(random_state=0), modelo__penalty=l2, modelo__solver=liblinear, percentiles__percentile=20, preprocesamiento__BagOfWords__ngram_range=(1, 2)\n",
      "[CV 4/5; 14/120] END modelo=LogisticRegression(random_state=0), modelo__penalty=l2, modelo__solver=liblinear, percentiles__percentile=20, preprocesamiento__BagOfWords__ngram_range=(1, 2);, score=(train=1.000, test=0.200) total time=   0.9s\n",
      "[CV 5/5; 14/120] START modelo=LogisticRegression(random_state=0), modelo__penalty=l2, modelo__solver=liblinear, percentiles__percentile=20, preprocesamiento__BagOfWords__ngram_range=(1, 2)\n"
     ]
    },
    {
     "name": "stderr",
     "output_type": "stream",
     "text": [
      "C:\\Users\\Felipe\\anaconda3\\lib\\site-packages\\sklearn\\feature_selection\\_univariate_selection.py:113: RuntimeWarning: divide by zero encountered in true_divide\n",
      "  f = msb / msw\n"
     ]
    },
    {
     "name": "stdout",
     "output_type": "stream",
     "text": [
      "[CV 5/5; 14/120] END modelo=LogisticRegression(random_state=0), modelo__penalty=l2, modelo__solver=liblinear, percentiles__percentile=20, preprocesamiento__BagOfWords__ngram_range=(1, 2);, score=(train=1.000, test=0.800) total time=   0.9s\n",
      "[CV 1/5; 15/120] START modelo=LogisticRegression(random_state=0), modelo__penalty=l2, modelo__solver=liblinear, percentiles__percentile=20, preprocesamiento__BagOfWords__ngram_range=(1, 3)\n",
      "[CV 1/5; 15/120] END modelo=LogisticRegression(random_state=0), modelo__penalty=l2, modelo__solver=liblinear, percentiles__percentile=20, preprocesamiento__BagOfWords__ngram_range=(1, 3);, score=(train=1.000, test=0.667) total time=   2.7s\n",
      "[CV 2/5; 15/120] START modelo=LogisticRegression(random_state=0), modelo__penalty=l2, modelo__solver=liblinear, percentiles__percentile=20, preprocesamiento__BagOfWords__ngram_range=(1, 3)\n",
      "[CV 2/5; 15/120] END modelo=LogisticRegression(random_state=0), modelo__penalty=l2, modelo__solver=liblinear, percentiles__percentile=20, preprocesamiento__BagOfWords__ngram_range=(1, 3);, score=(train=1.000, test=0.333) total time=   1.5s\n",
      "[CV 3/5; 15/120] START modelo=LogisticRegression(random_state=0), modelo__penalty=l2, modelo__solver=liblinear, percentiles__percentile=20, preprocesamiento__BagOfWords__ngram_range=(1, 3)\n",
      "[CV 3/5; 15/120] END modelo=LogisticRegression(random_state=0), modelo__penalty=l2, modelo__solver=liblinear, percentiles__percentile=20, preprocesamiento__BagOfWords__ngram_range=(1, 3);, score=(train=1.000, test=0.667) total time=   0.2s\n",
      "[CV 4/5; 15/120] START modelo=LogisticRegression(random_state=0), modelo__penalty=l2, modelo__solver=liblinear, percentiles__percentile=20, preprocesamiento__BagOfWords__ngram_range=(1, 3)\n",
      "[CV 4/5; 15/120] END modelo=LogisticRegression(random_state=0), modelo__penalty=l2, modelo__solver=liblinear, percentiles__percentile=20, preprocesamiento__BagOfWords__ngram_range=(1, 3);, score=(train=1.000, test=0.200) total time=   1.0s\n",
      "[CV 5/5; 15/120] START modelo=LogisticRegression(random_state=0), modelo__penalty=l2, modelo__solver=liblinear, percentiles__percentile=20, preprocesamiento__BagOfWords__ngram_range=(1, 3)\n"
     ]
    },
    {
     "name": "stderr",
     "output_type": "stream",
     "text": [
      "C:\\Users\\Felipe\\anaconda3\\lib\\site-packages\\sklearn\\feature_selection\\_univariate_selection.py:113: RuntimeWarning: divide by zero encountered in true_divide\n",
      "  f = msb / msw\n"
     ]
    },
    {
     "name": "stdout",
     "output_type": "stream",
     "text": [
      "[CV 5/5; 15/120] END modelo=LogisticRegression(random_state=0), modelo__penalty=l2, modelo__solver=liblinear, percentiles__percentile=20, preprocesamiento__BagOfWords__ngram_range=(1, 3);, score=(train=1.000, test=0.800) total time=   1.1s\n",
      "[CV 1/5; 16/120] START modelo=LogisticRegression(random_state=0), modelo__penalty=l2, modelo__solver=liblinear, percentiles__percentile=40, preprocesamiento__BagOfWords__ngram_range=(1, 1)\n",
      "[CV 1/5; 16/120] END modelo=LogisticRegression(random_state=0), modelo__penalty=l2, modelo__solver=liblinear, percentiles__percentile=40, preprocesamiento__BagOfWords__ngram_range=(1, 1);, score=(train=1.000, test=0.667) total time=   1.4s\n",
      "[CV 2/5; 16/120] START modelo=LogisticRegression(random_state=0), modelo__penalty=l2, modelo__solver=liblinear, percentiles__percentile=40, preprocesamiento__BagOfWords__ngram_range=(1, 1)\n",
      "[CV 2/5; 16/120] END modelo=LogisticRegression(random_state=0), modelo__penalty=l2, modelo__solver=liblinear, percentiles__percentile=40, preprocesamiento__BagOfWords__ngram_range=(1, 1);, score=(train=1.000, test=0.500) total time=   0.7s\n",
      "[CV 3/5; 16/120] START modelo=LogisticRegression(random_state=0), modelo__penalty=l2, modelo__solver=liblinear, percentiles__percentile=40, preprocesamiento__BagOfWords__ngram_range=(1, 1)\n",
      "[CV 3/5; 16/120] END modelo=LogisticRegression(random_state=0), modelo__penalty=l2, modelo__solver=liblinear, percentiles__percentile=40, preprocesamiento__BagOfWords__ngram_range=(1, 1);, score=(train=1.000, test=0.667) total time=   0.1s\n",
      "[CV 4/5; 16/120] START modelo=LogisticRegression(random_state=0), modelo__penalty=l2, modelo__solver=liblinear, percentiles__percentile=40, preprocesamiento__BagOfWords__ngram_range=(1, 1)\n",
      "[CV 4/5; 16/120] END modelo=LogisticRegression(random_state=0), modelo__penalty=l2, modelo__solver=liblinear, percentiles__percentile=40, preprocesamiento__BagOfWords__ngram_range=(1, 1);, score=(train=1.000, test=0.200) total time=   0.3s\n",
      "[CV 5/5; 16/120] START modelo=LogisticRegression(random_state=0), modelo__penalty=l2, modelo__solver=liblinear, percentiles__percentile=40, preprocesamiento__BagOfWords__ngram_range=(1, 1)\n"
     ]
    },
    {
     "name": "stderr",
     "output_type": "stream",
     "text": [
      "C:\\Users\\Felipe\\anaconda3\\lib\\site-packages\\sklearn\\feature_selection\\_univariate_selection.py:113: RuntimeWarning: divide by zero encountered in true_divide\n",
      "  f = msb / msw\n"
     ]
    },
    {
     "name": "stdout",
     "output_type": "stream",
     "text": [
      "[CV 5/5; 16/120] END modelo=LogisticRegression(random_state=0), modelo__penalty=l2, modelo__solver=liblinear, percentiles__percentile=40, preprocesamiento__BagOfWords__ngram_range=(1, 1);, score=(train=1.000, test=0.800) total time=   0.4s\n",
      "[CV 1/5; 17/120] START modelo=LogisticRegression(random_state=0), modelo__penalty=l2, modelo__solver=liblinear, percentiles__percentile=40, preprocesamiento__BagOfWords__ngram_range=(1, 2)\n",
      "[CV 1/5; 17/120] END modelo=LogisticRegression(random_state=0), modelo__penalty=l2, modelo__solver=liblinear, percentiles__percentile=40, preprocesamiento__BagOfWords__ngram_range=(1, 2);, score=(train=1.000, test=0.667) total time=   0.6s\n",
      "[CV 2/5; 17/120] START modelo=LogisticRegression(random_state=0), modelo__penalty=l2, modelo__solver=liblinear, percentiles__percentile=40, preprocesamiento__BagOfWords__ngram_range=(1, 2)\n",
      "[CV 2/5; 17/120] END modelo=LogisticRegression(random_state=0), modelo__penalty=l2, modelo__solver=liblinear, percentiles__percentile=40, preprocesamiento__BagOfWords__ngram_range=(1, 2);, score=(train=1.000, test=0.333) total time=   0.6s\n",
      "[CV 3/5; 17/120] START modelo=LogisticRegression(random_state=0), modelo__penalty=l2, modelo__solver=liblinear, percentiles__percentile=40, preprocesamiento__BagOfWords__ngram_range=(1, 2)\n",
      "[CV 3/5; 17/120] END modelo=LogisticRegression(random_state=0), modelo__penalty=l2, modelo__solver=liblinear, percentiles__percentile=40, preprocesamiento__BagOfWords__ngram_range=(1, 2);, score=(train=1.000, test=0.667) total time=   0.2s\n",
      "[CV 4/5; 17/120] START modelo=LogisticRegression(random_state=0), modelo__penalty=l2, modelo__solver=liblinear, percentiles__percentile=40, preprocesamiento__BagOfWords__ngram_range=(1, 2)\n",
      "[CV 4/5; 17/120] END modelo=LogisticRegression(random_state=0), modelo__penalty=l2, modelo__solver=liblinear, percentiles__percentile=40, preprocesamiento__BagOfWords__ngram_range=(1, 2);, score=(train=1.000, test=0.200) total time=   0.4s\n",
      "[CV 5/5; 17/120] START modelo=LogisticRegression(random_state=0), modelo__penalty=l2, modelo__solver=liblinear, percentiles__percentile=40, preprocesamiento__BagOfWords__ngram_range=(1, 2)\n"
     ]
    },
    {
     "name": "stderr",
     "output_type": "stream",
     "text": [
      "C:\\Users\\Felipe\\anaconda3\\lib\\site-packages\\sklearn\\feature_selection\\_univariate_selection.py:113: RuntimeWarning: divide by zero encountered in true_divide\n",
      "  f = msb / msw\n"
     ]
    },
    {
     "name": "stdout",
     "output_type": "stream",
     "text": [
      "[CV 5/5; 17/120] END modelo=LogisticRegression(random_state=0), modelo__penalty=l2, modelo__solver=liblinear, percentiles__percentile=40, preprocesamiento__BagOfWords__ngram_range=(1, 2);, score=(train=1.000, test=0.800) total time=   0.3s\n",
      "[CV 1/5; 18/120] START modelo=LogisticRegression(random_state=0), modelo__penalty=l2, modelo__solver=liblinear, percentiles__percentile=40, preprocesamiento__BagOfWords__ngram_range=(1, 3)\n",
      "[CV 1/5; 18/120] END modelo=LogisticRegression(random_state=0), modelo__penalty=l2, modelo__solver=liblinear, percentiles__percentile=40, preprocesamiento__BagOfWords__ngram_range=(1, 3);, score=(train=1.000, test=0.667) total time=   1.1s\n",
      "[CV 2/5; 18/120] START modelo=LogisticRegression(random_state=0), modelo__penalty=l2, modelo__solver=liblinear, percentiles__percentile=40, preprocesamiento__BagOfWords__ngram_range=(1, 3)\n",
      "[CV 2/5; 18/120] END modelo=LogisticRegression(random_state=0), modelo__penalty=l2, modelo__solver=liblinear, percentiles__percentile=40, preprocesamiento__BagOfWords__ngram_range=(1, 3);, score=(train=1.000, test=0.333) total time=   0.9s\n",
      "[CV 3/5; 18/120] START modelo=LogisticRegression(random_state=0), modelo__penalty=l2, modelo__solver=liblinear, percentiles__percentile=40, preprocesamiento__BagOfWords__ngram_range=(1, 3)\n",
      "[CV 3/5; 18/120] END modelo=LogisticRegression(random_state=0), modelo__penalty=l2, modelo__solver=liblinear, percentiles__percentile=40, preprocesamiento__BagOfWords__ngram_range=(1, 3);, score=(train=1.000, test=0.667) total time=   0.4s\n",
      "[CV 4/5; 18/120] START modelo=LogisticRegression(random_state=0), modelo__penalty=l2, modelo__solver=liblinear, percentiles__percentile=40, preprocesamiento__BagOfWords__ngram_range=(1, 3)\n",
      "[CV 4/5; 18/120] END modelo=LogisticRegression(random_state=0), modelo__penalty=l2, modelo__solver=liblinear, percentiles__percentile=40, preprocesamiento__BagOfWords__ngram_range=(1, 3);, score=(train=1.000, test=0.200) total time=   0.6s\n",
      "[CV 5/5; 18/120] START modelo=LogisticRegression(random_state=0), modelo__penalty=l2, modelo__solver=liblinear, percentiles__percentile=40, preprocesamiento__BagOfWords__ngram_range=(1, 3)\n"
     ]
    },
    {
     "name": "stderr",
     "output_type": "stream",
     "text": [
      "C:\\Users\\Felipe\\anaconda3\\lib\\site-packages\\sklearn\\feature_selection\\_univariate_selection.py:113: RuntimeWarning: divide by zero encountered in true_divide\n",
      "  f = msb / msw\n"
     ]
    },
    {
     "name": "stdout",
     "output_type": "stream",
     "text": [
      "[CV 5/5; 18/120] END modelo=LogisticRegression(random_state=0), modelo__penalty=l2, modelo__solver=liblinear, percentiles__percentile=40, preprocesamiento__BagOfWords__ngram_range=(1, 3);, score=(train=1.000, test=0.800) total time=   0.4s\n",
      "[CV 1/5; 19/120] START modelo=LogisticRegression(random_state=0), modelo__penalty=l2, modelo__solver=liblinear, percentiles__percentile=60, preprocesamiento__BagOfWords__ngram_range=(1, 1)\n",
      "[CV 1/5; 19/120] END modelo=LogisticRegression(random_state=0), modelo__penalty=l2, modelo__solver=liblinear, percentiles__percentile=60, preprocesamiento__BagOfWords__ngram_range=(1, 1);, score=(train=1.000, test=0.667) total time=   0.5s\n",
      "[CV 2/5; 19/120] START modelo=LogisticRegression(random_state=0), modelo__penalty=l2, modelo__solver=liblinear, percentiles__percentile=60, preprocesamiento__BagOfWords__ngram_range=(1, 1)\n",
      "[CV 2/5; 19/120] END modelo=LogisticRegression(random_state=0), modelo__penalty=l2, modelo__solver=liblinear, percentiles__percentile=60, preprocesamiento__BagOfWords__ngram_range=(1, 1);, score=(train=1.000, test=0.500) total time=   0.5s\n",
      "[CV 3/5; 19/120] START modelo=LogisticRegression(random_state=0), modelo__penalty=l2, modelo__solver=liblinear, percentiles__percentile=60, preprocesamiento__BagOfWords__ngram_range=(1, 1)\n",
      "[CV 3/5; 19/120] END modelo=LogisticRegression(random_state=0), modelo__penalty=l2, modelo__solver=liblinear, percentiles__percentile=60, preprocesamiento__BagOfWords__ngram_range=(1, 1);, score=(train=1.000, test=0.667) total time=   0.1s\n",
      "[CV 4/5; 19/120] START modelo=LogisticRegression(random_state=0), modelo__penalty=l2, modelo__solver=liblinear, percentiles__percentile=60, preprocesamiento__BagOfWords__ngram_range=(1, 1)\n",
      "[CV 4/5; 19/120] END modelo=LogisticRegression(random_state=0), modelo__penalty=l2, modelo__solver=liblinear, percentiles__percentile=60, preprocesamiento__BagOfWords__ngram_range=(1, 1);, score=(train=1.000, test=0.200) total time=   0.3s\n",
      "[CV 5/5; 19/120] START modelo=LogisticRegression(random_state=0), modelo__penalty=l2, modelo__solver=liblinear, percentiles__percentile=60, preprocesamiento__BagOfWords__ngram_range=(1, 1)\n"
     ]
    },
    {
     "name": "stderr",
     "output_type": "stream",
     "text": [
      "C:\\Users\\Felipe\\anaconda3\\lib\\site-packages\\sklearn\\feature_selection\\_univariate_selection.py:113: RuntimeWarning: divide by zero encountered in true_divide\n",
      "  f = msb / msw\n"
     ]
    },
    {
     "name": "stdout",
     "output_type": "stream",
     "text": [
      "[CV 5/5; 19/120] END modelo=LogisticRegression(random_state=0), modelo__penalty=l2, modelo__solver=liblinear, percentiles__percentile=60, preprocesamiento__BagOfWords__ngram_range=(1, 1);, score=(train=1.000, test=0.800) total time=   0.3s\n",
      "[CV 1/5; 20/120] START modelo=LogisticRegression(random_state=0), modelo__penalty=l2, modelo__solver=liblinear, percentiles__percentile=60, preprocesamiento__BagOfWords__ngram_range=(1, 2)\n",
      "[CV 1/5; 20/120] END modelo=LogisticRegression(random_state=0), modelo__penalty=l2, modelo__solver=liblinear, percentiles__percentile=60, preprocesamiento__BagOfWords__ngram_range=(1, 2);, score=(train=1.000, test=0.667) total time=   0.6s\n",
      "[CV 2/5; 20/120] START modelo=LogisticRegression(random_state=0), modelo__penalty=l2, modelo__solver=liblinear, percentiles__percentile=60, preprocesamiento__BagOfWords__ngram_range=(1, 2)\n",
      "[CV 2/5; 20/120] END modelo=LogisticRegression(random_state=0), modelo__penalty=l2, modelo__solver=liblinear, percentiles__percentile=60, preprocesamiento__BagOfWords__ngram_range=(1, 2);, score=(train=1.000, test=0.333) total time=   0.5s\n",
      "[CV 3/5; 20/120] START modelo=LogisticRegression(random_state=0), modelo__penalty=l2, modelo__solver=liblinear, percentiles__percentile=60, preprocesamiento__BagOfWords__ngram_range=(1, 2)\n",
      "[CV 3/5; 20/120] END modelo=LogisticRegression(random_state=0), modelo__penalty=l2, modelo__solver=liblinear, percentiles__percentile=60, preprocesamiento__BagOfWords__ngram_range=(1, 2);, score=(train=1.000, test=0.667) total time=   0.2s\n",
      "[CV 4/5; 20/120] START modelo=LogisticRegression(random_state=0), modelo__penalty=l2, modelo__solver=liblinear, percentiles__percentile=60, preprocesamiento__BagOfWords__ngram_range=(1, 2)\n",
      "[CV 4/5; 20/120] END modelo=LogisticRegression(random_state=0), modelo__penalty=l2, modelo__solver=liblinear, percentiles__percentile=60, preprocesamiento__BagOfWords__ngram_range=(1, 2);, score=(train=1.000, test=0.200) total time=   0.4s\n",
      "[CV 5/5; 20/120] START modelo=LogisticRegression(random_state=0), modelo__penalty=l2, modelo__solver=liblinear, percentiles__percentile=60, preprocesamiento__BagOfWords__ngram_range=(1, 2)\n"
     ]
    },
    {
     "name": "stderr",
     "output_type": "stream",
     "text": [
      "C:\\Users\\Felipe\\anaconda3\\lib\\site-packages\\sklearn\\feature_selection\\_univariate_selection.py:113: RuntimeWarning: divide by zero encountered in true_divide\n",
      "  f = msb / msw\n"
     ]
    },
    {
     "name": "stdout",
     "output_type": "stream",
     "text": [
      "[CV 5/5; 20/120] END modelo=LogisticRegression(random_state=0), modelo__penalty=l2, modelo__solver=liblinear, percentiles__percentile=60, preprocesamiento__BagOfWords__ngram_range=(1, 2);, score=(train=1.000, test=0.800) total time=   0.3s\n",
      "[CV 1/5; 21/120] START modelo=LogisticRegression(random_state=0), modelo__penalty=l2, modelo__solver=liblinear, percentiles__percentile=60, preprocesamiento__BagOfWords__ngram_range=(1, 3)\n",
      "[CV 1/5; 21/120] END modelo=LogisticRegression(random_state=0), modelo__penalty=l2, modelo__solver=liblinear, percentiles__percentile=60, preprocesamiento__BagOfWords__ngram_range=(1, 3);, score=(train=1.000, test=0.667) total time=   0.6s\n",
      "[CV 2/5; 21/120] START modelo=LogisticRegression(random_state=0), modelo__penalty=l2, modelo__solver=liblinear, percentiles__percentile=60, preprocesamiento__BagOfWords__ngram_range=(1, 3)\n",
      "[CV 2/5; 21/120] END modelo=LogisticRegression(random_state=0), modelo__penalty=l2, modelo__solver=liblinear, percentiles__percentile=60, preprocesamiento__BagOfWords__ngram_range=(1, 3);, score=(train=1.000, test=0.333) total time=   0.5s\n",
      "[CV 3/5; 21/120] START modelo=LogisticRegression(random_state=0), modelo__penalty=l2, modelo__solver=liblinear, percentiles__percentile=60, preprocesamiento__BagOfWords__ngram_range=(1, 3)\n",
      "[CV 3/5; 21/120] END modelo=LogisticRegression(random_state=0), modelo__penalty=l2, modelo__solver=liblinear, percentiles__percentile=60, preprocesamiento__BagOfWords__ngram_range=(1, 3);, score=(train=1.000, test=0.667) total time=   0.2s\n",
      "[CV 4/5; 21/120] START modelo=LogisticRegression(random_state=0), modelo__penalty=l2, modelo__solver=liblinear, percentiles__percentile=60, preprocesamiento__BagOfWords__ngram_range=(1, 3)\n",
      "[CV 4/5; 21/120] END modelo=LogisticRegression(random_state=0), modelo__penalty=l2, modelo__solver=liblinear, percentiles__percentile=60, preprocesamiento__BagOfWords__ngram_range=(1, 3);, score=(train=1.000, test=0.200) total time=   0.4s\n",
      "[CV 5/5; 21/120] START modelo=LogisticRegression(random_state=0), modelo__penalty=l2, modelo__solver=liblinear, percentiles__percentile=60, preprocesamiento__BagOfWords__ngram_range=(1, 3)\n"
     ]
    },
    {
     "name": "stderr",
     "output_type": "stream",
     "text": [
      "C:\\Users\\Felipe\\anaconda3\\lib\\site-packages\\sklearn\\feature_selection\\_univariate_selection.py:113: RuntimeWarning: divide by zero encountered in true_divide\n",
      "  f = msb / msw\n"
     ]
    },
    {
     "name": "stdout",
     "output_type": "stream",
     "text": [
      "[CV 5/5; 21/120] END modelo=LogisticRegression(random_state=0), modelo__penalty=l2, modelo__solver=liblinear, percentiles__percentile=60, preprocesamiento__BagOfWords__ngram_range=(1, 3);, score=(train=1.000, test=0.800) total time=   0.3s\n",
      "[CV 1/5; 22/120] START modelo=LogisticRegression(random_state=0), modelo__penalty=l2, modelo__solver=liblinear, percentiles__percentile=80, preprocesamiento__BagOfWords__ngram_range=(1, 1)\n",
      "[CV 1/5; 22/120] END modelo=LogisticRegression(random_state=0), modelo__penalty=l2, modelo__solver=liblinear, percentiles__percentile=80, preprocesamiento__BagOfWords__ngram_range=(1, 1);, score=(train=1.000, test=0.667) total time=   0.6s\n",
      "[CV 2/5; 22/120] START modelo=LogisticRegression(random_state=0), modelo__penalty=l2, modelo__solver=liblinear, percentiles__percentile=80, preprocesamiento__BagOfWords__ngram_range=(1, 1)\n",
      "[CV 2/5; 22/120] END modelo=LogisticRegression(random_state=0), modelo__penalty=l2, modelo__solver=liblinear, percentiles__percentile=80, preprocesamiento__BagOfWords__ngram_range=(1, 1);, score=(train=1.000, test=0.500) total time=   1.4s\n",
      "[CV 3/5; 22/120] START modelo=LogisticRegression(random_state=0), modelo__penalty=l2, modelo__solver=liblinear, percentiles__percentile=80, preprocesamiento__BagOfWords__ngram_range=(1, 1)\n",
      "[CV 3/5; 22/120] END modelo=LogisticRegression(random_state=0), modelo__penalty=l2, modelo__solver=liblinear, percentiles__percentile=80, preprocesamiento__BagOfWords__ngram_range=(1, 1);, score=(train=1.000, test=0.667) total time=   0.2s\n",
      "[CV 4/5; 22/120] START modelo=LogisticRegression(random_state=0), modelo__penalty=l2, modelo__solver=liblinear, percentiles__percentile=80, preprocesamiento__BagOfWords__ngram_range=(1, 1)\n",
      "[CV 4/5; 22/120] END modelo=LogisticRegression(random_state=0), modelo__penalty=l2, modelo__solver=liblinear, percentiles__percentile=80, preprocesamiento__BagOfWords__ngram_range=(1, 1);, score=(train=1.000, test=0.200) total time=   0.4s\n",
      "[CV 5/5; 22/120] START modelo=LogisticRegression(random_state=0), modelo__penalty=l2, modelo__solver=liblinear, percentiles__percentile=80, preprocesamiento__BagOfWords__ngram_range=(1, 1)\n"
     ]
    },
    {
     "name": "stderr",
     "output_type": "stream",
     "text": [
      "C:\\Users\\Felipe\\anaconda3\\lib\\site-packages\\sklearn\\feature_selection\\_univariate_selection.py:113: RuntimeWarning: divide by zero encountered in true_divide\n",
      "  f = msb / msw\n"
     ]
    },
    {
     "name": "stdout",
     "output_type": "stream",
     "text": [
      "[CV 5/5; 22/120] END modelo=LogisticRegression(random_state=0), modelo__penalty=l2, modelo__solver=liblinear, percentiles__percentile=80, preprocesamiento__BagOfWords__ngram_range=(1, 1);, score=(train=1.000, test=0.800) total time=   0.3s\n",
      "[CV 1/5; 23/120] START modelo=LogisticRegression(random_state=0), modelo__penalty=l2, modelo__solver=liblinear, percentiles__percentile=80, preprocesamiento__BagOfWords__ngram_range=(1, 2)\n",
      "[CV 1/5; 23/120] END modelo=LogisticRegression(random_state=0), modelo__penalty=l2, modelo__solver=liblinear, percentiles__percentile=80, preprocesamiento__BagOfWords__ngram_range=(1, 2);, score=(train=1.000, test=0.667) total time=   0.7s\n",
      "[CV 2/5; 23/120] START modelo=LogisticRegression(random_state=0), modelo__penalty=l2, modelo__solver=liblinear, percentiles__percentile=80, preprocesamiento__BagOfWords__ngram_range=(1, 2)\n",
      "[CV 2/5; 23/120] END modelo=LogisticRegression(random_state=0), modelo__penalty=l2, modelo__solver=liblinear, percentiles__percentile=80, preprocesamiento__BagOfWords__ngram_range=(1, 2);, score=(train=1.000, test=0.333) total time=   0.6s\n",
      "[CV 3/5; 23/120] START modelo=LogisticRegression(random_state=0), modelo__penalty=l2, modelo__solver=liblinear, percentiles__percentile=80, preprocesamiento__BagOfWords__ngram_range=(1, 2)\n",
      "[CV 3/5; 23/120] END modelo=LogisticRegression(random_state=0), modelo__penalty=l2, modelo__solver=liblinear, percentiles__percentile=80, preprocesamiento__BagOfWords__ngram_range=(1, 2);, score=(train=1.000, test=0.667) total time=   0.2s\n",
      "[CV 4/5; 23/120] START modelo=LogisticRegression(random_state=0), modelo__penalty=l2, modelo__solver=liblinear, percentiles__percentile=80, preprocesamiento__BagOfWords__ngram_range=(1, 2)\n",
      "[CV 4/5; 23/120] END modelo=LogisticRegression(random_state=0), modelo__penalty=l2, modelo__solver=liblinear, percentiles__percentile=80, preprocesamiento__BagOfWords__ngram_range=(1, 2);, score=(train=1.000, test=0.200) total time=   0.4s\n",
      "[CV 5/5; 23/120] START modelo=LogisticRegression(random_state=0), modelo__penalty=l2, modelo__solver=liblinear, percentiles__percentile=80, preprocesamiento__BagOfWords__ngram_range=(1, 2)\n"
     ]
    },
    {
     "name": "stderr",
     "output_type": "stream",
     "text": [
      "C:\\Users\\Felipe\\anaconda3\\lib\\site-packages\\sklearn\\feature_selection\\_univariate_selection.py:113: RuntimeWarning: divide by zero encountered in true_divide\n",
      "  f = msb / msw\n"
     ]
    },
    {
     "name": "stdout",
     "output_type": "stream",
     "text": [
      "[CV 5/5; 23/120] END modelo=LogisticRegression(random_state=0), modelo__penalty=l2, modelo__solver=liblinear, percentiles__percentile=80, preprocesamiento__BagOfWords__ngram_range=(1, 2);, score=(train=1.000, test=0.800) total time=   0.5s\n",
      "[CV 1/5; 24/120] START modelo=LogisticRegression(random_state=0), modelo__penalty=l2, modelo__solver=liblinear, percentiles__percentile=80, preprocesamiento__BagOfWords__ngram_range=(1, 3)\n",
      "[CV 1/5; 24/120] END modelo=LogisticRegression(random_state=0), modelo__penalty=l2, modelo__solver=liblinear, percentiles__percentile=80, preprocesamiento__BagOfWords__ngram_range=(1, 3);, score=(train=1.000, test=0.667) total time=   0.7s\n",
      "[CV 2/5; 24/120] START modelo=LogisticRegression(random_state=0), modelo__penalty=l2, modelo__solver=liblinear, percentiles__percentile=80, preprocesamiento__BagOfWords__ngram_range=(1, 3)\n",
      "[CV 2/5; 24/120] END modelo=LogisticRegression(random_state=0), modelo__penalty=l2, modelo__solver=liblinear, percentiles__percentile=80, preprocesamiento__BagOfWords__ngram_range=(1, 3);, score=(train=1.000, test=0.333) total time=   0.6s\n",
      "[CV 3/5; 24/120] START modelo=LogisticRegression(random_state=0), modelo__penalty=l2, modelo__solver=liblinear, percentiles__percentile=80, preprocesamiento__BagOfWords__ngram_range=(1, 3)\n",
      "[CV 3/5; 24/120] END modelo=LogisticRegression(random_state=0), modelo__penalty=l2, modelo__solver=liblinear, percentiles__percentile=80, preprocesamiento__BagOfWords__ngram_range=(1, 3);, score=(train=1.000, test=0.667) total time=   0.2s\n",
      "[CV 4/5; 24/120] START modelo=LogisticRegression(random_state=0), modelo__penalty=l2, modelo__solver=liblinear, percentiles__percentile=80, preprocesamiento__BagOfWords__ngram_range=(1, 3)\n",
      "[CV 4/5; 24/120] END modelo=LogisticRegression(random_state=0), modelo__penalty=l2, modelo__solver=liblinear, percentiles__percentile=80, preprocesamiento__BagOfWords__ngram_range=(1, 3);, score=(train=1.000, test=0.200) total time=   0.4s\n",
      "[CV 5/5; 24/120] START modelo=LogisticRegression(random_state=0), modelo__penalty=l2, modelo__solver=liblinear, percentiles__percentile=80, preprocesamiento__BagOfWords__ngram_range=(1, 3)\n"
     ]
    },
    {
     "name": "stderr",
     "output_type": "stream",
     "text": [
      "C:\\Users\\Felipe\\anaconda3\\lib\\site-packages\\sklearn\\feature_selection\\_univariate_selection.py:113: RuntimeWarning: divide by zero encountered in true_divide\n",
      "  f = msb / msw\n"
     ]
    },
    {
     "name": "stdout",
     "output_type": "stream",
     "text": [
      "[CV 5/5; 24/120] END modelo=LogisticRegression(random_state=0), modelo__penalty=l2, modelo__solver=liblinear, percentiles__percentile=80, preprocesamiento__BagOfWords__ngram_range=(1, 3);, score=(train=1.000, test=0.800) total time=   0.4s\n",
      "[CV 1/5; 25/120] START modelo=RandomForestClassifier(random_state=0), modelo__max_depth=2, percentiles__percentile=20, preprocesamiento__BagOfWords__ngram_range=(1, 1)\n",
      "[CV 1/5; 25/120] END modelo=RandomForestClassifier(random_state=0), modelo__max_depth=2, percentiles__percentile=20, preprocesamiento__BagOfWords__ngram_range=(1, 1);, score=(train=0.783, test=0.667) total time=   0.8s\n",
      "[CV 2/5; 25/120] START modelo=RandomForestClassifier(random_state=0), modelo__max_depth=2, percentiles__percentile=20, preprocesamiento__BagOfWords__ngram_range=(1, 1)\n",
      "[CV 2/5; 25/120] END modelo=RandomForestClassifier(random_state=0), modelo__max_depth=2, percentiles__percentile=20, preprocesamiento__BagOfWords__ngram_range=(1, 1);, score=(train=0.913, test=0.333) total time=   1.0s\n",
      "[CV 3/5; 25/120] START modelo=RandomForestClassifier(random_state=0), modelo__max_depth=2, percentiles__percentile=20, preprocesamiento__BagOfWords__ngram_range=(1, 1)\n",
      "[CV 3/5; 25/120] END modelo=RandomForestClassifier(random_state=0), modelo__max_depth=2, percentiles__percentile=20, preprocesamiento__BagOfWords__ngram_range=(1, 1);, score=(train=0.783, test=0.667) total time=   0.3s\n",
      "[CV 4/5; 25/120] START modelo=RandomForestClassifier(random_state=0), modelo__max_depth=2, percentiles__percentile=20, preprocesamiento__BagOfWords__ngram_range=(1, 1)\n",
      "[CV 4/5; 25/120] END modelo=RandomForestClassifier(random_state=0), modelo__max_depth=2, percentiles__percentile=20, preprocesamiento__BagOfWords__ngram_range=(1, 1);, score=(train=0.833, test=0.400) total time=   0.5s\n",
      "[CV 5/5; 25/120] START modelo=RandomForestClassifier(random_state=0), modelo__max_depth=2, percentiles__percentile=20, preprocesamiento__BagOfWords__ngram_range=(1, 1)\n"
     ]
    },
    {
     "name": "stderr",
     "output_type": "stream",
     "text": [
      "C:\\Users\\Felipe\\anaconda3\\lib\\site-packages\\sklearn\\feature_selection\\_univariate_selection.py:113: RuntimeWarning: divide by zero encountered in true_divide\n",
      "  f = msb / msw\n"
     ]
    },
    {
     "name": "stdout",
     "output_type": "stream",
     "text": [
      "[CV 5/5; 25/120] END modelo=RandomForestClassifier(random_state=0), modelo__max_depth=2, percentiles__percentile=20, preprocesamiento__BagOfWords__ngram_range=(1, 1);, score=(train=0.833, test=0.800) total time=   0.4s\n",
      "[CV 1/5; 26/120] START modelo=RandomForestClassifier(random_state=0), modelo__max_depth=2, percentiles__percentile=20, preprocesamiento__BagOfWords__ngram_range=(1, 2)\n",
      "[CV 1/5; 26/120] END modelo=RandomForestClassifier(random_state=0), modelo__max_depth=2, percentiles__percentile=20, preprocesamiento__BagOfWords__ngram_range=(1, 2);, score=(train=0.739, test=0.667) total time=   0.7s\n",
      "[CV 2/5; 26/120] START modelo=RandomForestClassifier(random_state=0), modelo__max_depth=2, percentiles__percentile=20, preprocesamiento__BagOfWords__ngram_range=(1, 2)\n",
      "[CV 2/5; 26/120] END modelo=RandomForestClassifier(random_state=0), modelo__max_depth=2, percentiles__percentile=20, preprocesamiento__BagOfWords__ngram_range=(1, 2);, score=(train=0.913, test=0.500) total time=   0.5s\n",
      "[CV 3/5; 26/120] START modelo=RandomForestClassifier(random_state=0), modelo__max_depth=2, percentiles__percentile=20, preprocesamiento__BagOfWords__ngram_range=(1, 2)\n",
      "[CV 3/5; 26/120] END modelo=RandomForestClassifier(random_state=0), modelo__max_depth=2, percentiles__percentile=20, preprocesamiento__BagOfWords__ngram_range=(1, 2);, score=(train=0.783, test=0.667) total time=   0.3s\n",
      "[CV 4/5; 26/120] START modelo=RandomForestClassifier(random_state=0), modelo__max_depth=2, percentiles__percentile=20, preprocesamiento__BagOfWords__ngram_range=(1, 2)\n",
      "[CV 4/5; 26/120] END modelo=RandomForestClassifier(random_state=0), modelo__max_depth=2, percentiles__percentile=20, preprocesamiento__BagOfWords__ngram_range=(1, 2);, score=(train=0.833, test=0.400) total time=   0.5s\n",
      "[CV 5/5; 26/120] START modelo=RandomForestClassifier(random_state=0), modelo__max_depth=2, percentiles__percentile=20, preprocesamiento__BagOfWords__ngram_range=(1, 2)\n"
     ]
    },
    {
     "name": "stderr",
     "output_type": "stream",
     "text": [
      "C:\\Users\\Felipe\\anaconda3\\lib\\site-packages\\sklearn\\feature_selection\\_univariate_selection.py:113: RuntimeWarning: divide by zero encountered in true_divide\n",
      "  f = msb / msw\n"
     ]
    },
    {
     "name": "stdout",
     "output_type": "stream",
     "text": [
      "[CV 5/5; 26/120] END modelo=RandomForestClassifier(random_state=0), modelo__max_depth=2, percentiles__percentile=20, preprocesamiento__BagOfWords__ngram_range=(1, 2);, score=(train=0.833, test=0.800) total time=   0.4s\n",
      "[CV 1/5; 27/120] START modelo=RandomForestClassifier(random_state=0), modelo__max_depth=2, percentiles__percentile=20, preprocesamiento__BagOfWords__ngram_range=(1, 3)\n",
      "[CV 1/5; 27/120] END modelo=RandomForestClassifier(random_state=0), modelo__max_depth=2, percentiles__percentile=20, preprocesamiento__BagOfWords__ngram_range=(1, 3);, score=(train=0.739, test=0.667) total time=   0.7s\n",
      "[CV 2/5; 27/120] START modelo=RandomForestClassifier(random_state=0), modelo__max_depth=2, percentiles__percentile=20, preprocesamiento__BagOfWords__ngram_range=(1, 3)\n",
      "[CV 2/5; 27/120] END modelo=RandomForestClassifier(random_state=0), modelo__max_depth=2, percentiles__percentile=20, preprocesamiento__BagOfWords__ngram_range=(1, 3);, score=(train=0.913, test=0.333) total time=   0.6s\n",
      "[CV 3/5; 27/120] START modelo=RandomForestClassifier(random_state=0), modelo__max_depth=2, percentiles__percentile=20, preprocesamiento__BagOfWords__ngram_range=(1, 3)\n",
      "[CV 3/5; 27/120] END modelo=RandomForestClassifier(random_state=0), modelo__max_depth=2, percentiles__percentile=20, preprocesamiento__BagOfWords__ngram_range=(1, 3);, score=(train=0.739, test=0.667) total time=   0.3s\n",
      "[CV 4/5; 27/120] START modelo=RandomForestClassifier(random_state=0), modelo__max_depth=2, percentiles__percentile=20, preprocesamiento__BagOfWords__ngram_range=(1, 3)\n",
      "[CV 4/5; 27/120] END modelo=RandomForestClassifier(random_state=0), modelo__max_depth=2, percentiles__percentile=20, preprocesamiento__BagOfWords__ngram_range=(1, 3);, score=(train=0.833, test=0.400) total time=   0.5s\n",
      "[CV 5/5; 27/120] START modelo=RandomForestClassifier(random_state=0), modelo__max_depth=2, percentiles__percentile=20, preprocesamiento__BagOfWords__ngram_range=(1, 3)\n"
     ]
    },
    {
     "name": "stderr",
     "output_type": "stream",
     "text": [
      "C:\\Users\\Felipe\\anaconda3\\lib\\site-packages\\sklearn\\feature_selection\\_univariate_selection.py:113: RuntimeWarning: divide by zero encountered in true_divide\n",
      "  f = msb / msw\n"
     ]
    },
    {
     "name": "stdout",
     "output_type": "stream",
     "text": [
      "[CV 5/5; 27/120] END modelo=RandomForestClassifier(random_state=0), modelo__max_depth=2, percentiles__percentile=20, preprocesamiento__BagOfWords__ngram_range=(1, 3);, score=(train=0.833, test=0.800) total time=   0.4s\n",
      "[CV 1/5; 28/120] START modelo=RandomForestClassifier(random_state=0), modelo__max_depth=2, percentiles__percentile=40, preprocesamiento__BagOfWords__ngram_range=(1, 1)\n",
      "[CV 1/5; 28/120] END modelo=RandomForestClassifier(random_state=0), modelo__max_depth=2, percentiles__percentile=40, preprocesamiento__BagOfWords__ngram_range=(1, 1);, score=(train=0.826, test=0.667) total time=   0.6s\n",
      "[CV 2/5; 28/120] START modelo=RandomForestClassifier(random_state=0), modelo__max_depth=2, percentiles__percentile=40, preprocesamiento__BagOfWords__ngram_range=(1, 1)\n",
      "[CV 2/5; 28/120] END modelo=RandomForestClassifier(random_state=0), modelo__max_depth=2, percentiles__percentile=40, preprocesamiento__BagOfWords__ngram_range=(1, 1);, score=(train=0.913, test=0.500) total time=   0.7s\n",
      "[CV 3/5; 28/120] START modelo=RandomForestClassifier(random_state=0), modelo__max_depth=2, percentiles__percentile=40, preprocesamiento__BagOfWords__ngram_range=(1, 1)\n",
      "[CV 3/5; 28/120] END modelo=RandomForestClassifier(random_state=0), modelo__max_depth=2, percentiles__percentile=40, preprocesamiento__BagOfWords__ngram_range=(1, 1);, score=(train=0.783, test=0.667) total time=   0.5s\n",
      "[CV 4/5; 28/120] START modelo=RandomForestClassifier(random_state=0), modelo__max_depth=2, percentiles__percentile=40, preprocesamiento__BagOfWords__ngram_range=(1, 1)\n",
      "[CV 4/5; 28/120] END modelo=RandomForestClassifier(random_state=0), modelo__max_depth=2, percentiles__percentile=40, preprocesamiento__BagOfWords__ngram_range=(1, 1);, score=(train=0.833, test=0.400) total time=   0.6s\n",
      "[CV 5/5; 28/120] START modelo=RandomForestClassifier(random_state=0), modelo__max_depth=2, percentiles__percentile=40, preprocesamiento__BagOfWords__ngram_range=(1, 1)\n"
     ]
    },
    {
     "name": "stderr",
     "output_type": "stream",
     "text": [
      "C:\\Users\\Felipe\\anaconda3\\lib\\site-packages\\sklearn\\feature_selection\\_univariate_selection.py:113: RuntimeWarning: divide by zero encountered in true_divide\n",
      "  f = msb / msw\n"
     ]
    },
    {
     "name": "stdout",
     "output_type": "stream",
     "text": [
      "[CV 5/5; 28/120] END modelo=RandomForestClassifier(random_state=0), modelo__max_depth=2, percentiles__percentile=40, preprocesamiento__BagOfWords__ngram_range=(1, 1);, score=(train=0.833, test=0.800) total time=   0.4s\n",
      "[CV 1/5; 29/120] START modelo=RandomForestClassifier(random_state=0), modelo__max_depth=2, percentiles__percentile=40, preprocesamiento__BagOfWords__ngram_range=(1, 2)\n",
      "[CV 1/5; 29/120] END modelo=RandomForestClassifier(random_state=0), modelo__max_depth=2, percentiles__percentile=40, preprocesamiento__BagOfWords__ngram_range=(1, 2);, score=(train=0.739, test=0.667) total time=   0.6s\n",
      "[CV 2/5; 29/120] START modelo=RandomForestClassifier(random_state=0), modelo__max_depth=2, percentiles__percentile=40, preprocesamiento__BagOfWords__ngram_range=(1, 2)\n",
      "[CV 2/5; 29/120] END modelo=RandomForestClassifier(random_state=0), modelo__max_depth=2, percentiles__percentile=40, preprocesamiento__BagOfWords__ngram_range=(1, 2);, score=(train=0.957, test=0.667) total time=   0.6s\n",
      "[CV 3/5; 29/120] START modelo=RandomForestClassifier(random_state=0), modelo__max_depth=2, percentiles__percentile=40, preprocesamiento__BagOfWords__ngram_range=(1, 2)\n",
      "[CV 3/5; 29/120] END modelo=RandomForestClassifier(random_state=0), modelo__max_depth=2, percentiles__percentile=40, preprocesamiento__BagOfWords__ngram_range=(1, 2);, score=(train=0.696, test=0.667) total time=   0.3s\n",
      "[CV 4/5; 29/120] START modelo=RandomForestClassifier(random_state=0), modelo__max_depth=2, percentiles__percentile=40, preprocesamiento__BagOfWords__ngram_range=(1, 2)\n",
      "[CV 4/5; 29/120] END modelo=RandomForestClassifier(random_state=0), modelo__max_depth=2, percentiles__percentile=40, preprocesamiento__BagOfWords__ngram_range=(1, 2);, score=(train=0.833, test=0.400) total time=   0.5s\n",
      "[CV 5/5; 29/120] START modelo=RandomForestClassifier(random_state=0), modelo__max_depth=2, percentiles__percentile=40, preprocesamiento__BagOfWords__ngram_range=(1, 2)\n"
     ]
    },
    {
     "name": "stderr",
     "output_type": "stream",
     "text": [
      "C:\\Users\\Felipe\\anaconda3\\lib\\site-packages\\sklearn\\feature_selection\\_univariate_selection.py:113: RuntimeWarning: divide by zero encountered in true_divide\n",
      "  f = msb / msw\n"
     ]
    },
    {
     "name": "stdout",
     "output_type": "stream",
     "text": [
      "[CV 5/5; 29/120] END modelo=RandomForestClassifier(random_state=0), modelo__max_depth=2, percentiles__percentile=40, preprocesamiento__BagOfWords__ngram_range=(1, 2);, score=(train=0.833, test=0.800) total time=   0.5s\n",
      "[CV 1/5; 30/120] START modelo=RandomForestClassifier(random_state=0), modelo__max_depth=2, percentiles__percentile=40, preprocesamiento__BagOfWords__ngram_range=(1, 3)\n",
      "[CV 1/5; 30/120] END modelo=RandomForestClassifier(random_state=0), modelo__max_depth=2, percentiles__percentile=40, preprocesamiento__BagOfWords__ngram_range=(1, 3);, score=(train=0.696, test=0.667) total time=   0.7s\n",
      "[CV 2/5; 30/120] START modelo=RandomForestClassifier(random_state=0), modelo__max_depth=2, percentiles__percentile=40, preprocesamiento__BagOfWords__ngram_range=(1, 3)\n",
      "[CV 2/5; 30/120] END modelo=RandomForestClassifier(random_state=0), modelo__max_depth=2, percentiles__percentile=40, preprocesamiento__BagOfWords__ngram_range=(1, 3);, score=(train=0.870, test=0.500) total time=   0.6s\n",
      "[CV 3/5; 30/120] START modelo=RandomForestClassifier(random_state=0), modelo__max_depth=2, percentiles__percentile=40, preprocesamiento__BagOfWords__ngram_range=(1, 3)\n",
      "[CV 3/5; 30/120] END modelo=RandomForestClassifier(random_state=0), modelo__max_depth=2, percentiles__percentile=40, preprocesamiento__BagOfWords__ngram_range=(1, 3);, score=(train=0.696, test=0.667) total time=   0.3s\n",
      "[CV 4/5; 30/120] START modelo=RandomForestClassifier(random_state=0), modelo__max_depth=2, percentiles__percentile=40, preprocesamiento__BagOfWords__ngram_range=(1, 3)\n",
      "[CV 4/5; 30/120] END modelo=RandomForestClassifier(random_state=0), modelo__max_depth=2, percentiles__percentile=40, preprocesamiento__BagOfWords__ngram_range=(1, 3);, score=(train=0.833, test=0.400) total time=   0.5s\n",
      "[CV 5/5; 30/120] START modelo=RandomForestClassifier(random_state=0), modelo__max_depth=2, percentiles__percentile=40, preprocesamiento__BagOfWords__ngram_range=(1, 3)\n"
     ]
    },
    {
     "name": "stderr",
     "output_type": "stream",
     "text": [
      "C:\\Users\\Felipe\\anaconda3\\lib\\site-packages\\sklearn\\feature_selection\\_univariate_selection.py:113: RuntimeWarning: divide by zero encountered in true_divide\n",
      "  f = msb / msw\n"
     ]
    },
    {
     "name": "stdout",
     "output_type": "stream",
     "text": [
      "[CV 5/5; 30/120] END modelo=RandomForestClassifier(random_state=0), modelo__max_depth=2, percentiles__percentile=40, preprocesamiento__BagOfWords__ngram_range=(1, 3);, score=(train=0.833, test=0.800) total time=   0.4s\n",
      "[CV 1/5; 31/120] START modelo=RandomForestClassifier(random_state=0), modelo__max_depth=2, percentiles__percentile=60, preprocesamiento__BagOfWords__ngram_range=(1, 1)\n",
      "[CV 1/5; 31/120] END modelo=RandomForestClassifier(random_state=0), modelo__max_depth=2, percentiles__percentile=60, preprocesamiento__BagOfWords__ngram_range=(1, 1);, score=(train=0.783, test=0.667) total time=   0.6s\n",
      "[CV 2/5; 31/120] START modelo=RandomForestClassifier(random_state=0), modelo__max_depth=2, percentiles__percentile=60, preprocesamiento__BagOfWords__ngram_range=(1, 1)\n",
      "[CV 2/5; 31/120] END modelo=RandomForestClassifier(random_state=0), modelo__max_depth=2, percentiles__percentile=60, preprocesamiento__BagOfWords__ngram_range=(1, 1);, score=(train=0.826, test=0.500) total time=   0.5s\n",
      "[CV 3/5; 31/120] START modelo=RandomForestClassifier(random_state=0), modelo__max_depth=2, percentiles__percentile=60, preprocesamiento__BagOfWords__ngram_range=(1, 1)\n",
      "[CV 3/5; 31/120] END modelo=RandomForestClassifier(random_state=0), modelo__max_depth=2, percentiles__percentile=60, preprocesamiento__BagOfWords__ngram_range=(1, 1);, score=(train=0.783, test=0.667) total time=   0.2s\n",
      "[CV 4/5; 31/120] START modelo=RandomForestClassifier(random_state=0), modelo__max_depth=2, percentiles__percentile=60, preprocesamiento__BagOfWords__ngram_range=(1, 1)\n",
      "[CV 4/5; 31/120] END modelo=RandomForestClassifier(random_state=0), modelo__max_depth=2, percentiles__percentile=60, preprocesamiento__BagOfWords__ngram_range=(1, 1);, score=(train=0.833, test=0.400) total time=   0.8s\n",
      "[CV 5/5; 31/120] START modelo=RandomForestClassifier(random_state=0), modelo__max_depth=2, percentiles__percentile=60, preprocesamiento__BagOfWords__ngram_range=(1, 1)\n"
     ]
    },
    {
     "name": "stderr",
     "output_type": "stream",
     "text": [
      "C:\\Users\\Felipe\\anaconda3\\lib\\site-packages\\sklearn\\feature_selection\\_univariate_selection.py:113: RuntimeWarning: divide by zero encountered in true_divide\n",
      "  f = msb / msw\n"
     ]
    },
    {
     "name": "stdout",
     "output_type": "stream",
     "text": [
      "[CV 5/5; 31/120] END modelo=RandomForestClassifier(random_state=0), modelo__max_depth=2, percentiles__percentile=60, preprocesamiento__BagOfWords__ngram_range=(1, 1);, score=(train=0.833, test=0.800) total time=   0.6s\n",
      "[CV 1/5; 32/120] START modelo=RandomForestClassifier(random_state=0), modelo__max_depth=2, percentiles__percentile=60, preprocesamiento__BagOfWords__ngram_range=(1, 2)\n",
      "[CV 1/5; 32/120] END modelo=RandomForestClassifier(random_state=0), modelo__max_depth=2, percentiles__percentile=60, preprocesamiento__BagOfWords__ngram_range=(1, 2);, score=(train=0.652, test=0.667) total time=   0.7s\n",
      "[CV 2/5; 32/120] START modelo=RandomForestClassifier(random_state=0), modelo__max_depth=2, percentiles__percentile=60, preprocesamiento__BagOfWords__ngram_range=(1, 2)\n",
      "[CV 2/5; 32/120] END modelo=RandomForestClassifier(random_state=0), modelo__max_depth=2, percentiles__percentile=60, preprocesamiento__BagOfWords__ngram_range=(1, 2);, score=(train=0.957, test=0.333) total time=   0.6s\n",
      "[CV 3/5; 32/120] START modelo=RandomForestClassifier(random_state=0), modelo__max_depth=2, percentiles__percentile=60, preprocesamiento__BagOfWords__ngram_range=(1, 2)\n",
      "[CV 3/5; 32/120] END modelo=RandomForestClassifier(random_state=0), modelo__max_depth=2, percentiles__percentile=60, preprocesamiento__BagOfWords__ngram_range=(1, 2);, score=(train=0.783, test=0.667) total time=   0.3s\n",
      "[CV 4/5; 32/120] START modelo=RandomForestClassifier(random_state=0), modelo__max_depth=2, percentiles__percentile=60, preprocesamiento__BagOfWords__ngram_range=(1, 2)\n",
      "[CV 4/5; 32/120] END modelo=RandomForestClassifier(random_state=0), modelo__max_depth=2, percentiles__percentile=60, preprocesamiento__BagOfWords__ngram_range=(1, 2);, score=(train=0.833, test=0.400) total time=   0.4s\n",
      "[CV 5/5; 32/120] START modelo=RandomForestClassifier(random_state=0), modelo__max_depth=2, percentiles__percentile=60, preprocesamiento__BagOfWords__ngram_range=(1, 2)\n"
     ]
    },
    {
     "name": "stderr",
     "output_type": "stream",
     "text": [
      "C:\\Users\\Felipe\\anaconda3\\lib\\site-packages\\sklearn\\feature_selection\\_univariate_selection.py:113: RuntimeWarning: divide by zero encountered in true_divide\n",
      "  f = msb / msw\n"
     ]
    },
    {
     "name": "stdout",
     "output_type": "stream",
     "text": [
      "[CV 5/5; 32/120] END modelo=RandomForestClassifier(random_state=0), modelo__max_depth=2, percentiles__percentile=60, preprocesamiento__BagOfWords__ngram_range=(1, 2);, score=(train=0.833, test=0.800) total time=   0.4s\n",
      "[CV 1/5; 33/120] START modelo=RandomForestClassifier(random_state=0), modelo__max_depth=2, percentiles__percentile=60, preprocesamiento__BagOfWords__ngram_range=(1, 3)\n",
      "[CV 1/5; 33/120] END modelo=RandomForestClassifier(random_state=0), modelo__max_depth=2, percentiles__percentile=60, preprocesamiento__BagOfWords__ngram_range=(1, 3);, score=(train=0.609, test=0.667) total time=   0.7s\n",
      "[CV 2/5; 33/120] START modelo=RandomForestClassifier(random_state=0), modelo__max_depth=2, percentiles__percentile=60, preprocesamiento__BagOfWords__ngram_range=(1, 3)\n",
      "[CV 2/5; 33/120] END modelo=RandomForestClassifier(random_state=0), modelo__max_depth=2, percentiles__percentile=60, preprocesamiento__BagOfWords__ngram_range=(1, 3);, score=(train=0.957, test=0.667) total time=   0.6s\n",
      "[CV 3/5; 33/120] START modelo=RandomForestClassifier(random_state=0), modelo__max_depth=2, percentiles__percentile=60, preprocesamiento__BagOfWords__ngram_range=(1, 3)\n",
      "[CV 3/5; 33/120] END modelo=RandomForestClassifier(random_state=0), modelo__max_depth=2, percentiles__percentile=60, preprocesamiento__BagOfWords__ngram_range=(1, 3);, score=(train=0.783, test=0.667) total time=   0.3s\n",
      "[CV 4/5; 33/120] START modelo=RandomForestClassifier(random_state=0), modelo__max_depth=2, percentiles__percentile=60, preprocesamiento__BagOfWords__ngram_range=(1, 3)\n",
      "[CV 4/5; 33/120] END modelo=RandomForestClassifier(random_state=0), modelo__max_depth=2, percentiles__percentile=60, preprocesamiento__BagOfWords__ngram_range=(1, 3);, score=(train=0.833, test=0.400) total time=   0.5s\n",
      "[CV 5/5; 33/120] START modelo=RandomForestClassifier(random_state=0), modelo__max_depth=2, percentiles__percentile=60, preprocesamiento__BagOfWords__ngram_range=(1, 3)\n"
     ]
    },
    {
     "name": "stderr",
     "output_type": "stream",
     "text": [
      "C:\\Users\\Felipe\\anaconda3\\lib\\site-packages\\sklearn\\feature_selection\\_univariate_selection.py:113: RuntimeWarning: divide by zero encountered in true_divide\n",
      "  f = msb / msw\n"
     ]
    },
    {
     "name": "stdout",
     "output_type": "stream",
     "text": [
      "[CV 5/5; 33/120] END modelo=RandomForestClassifier(random_state=0), modelo__max_depth=2, percentiles__percentile=60, preprocesamiento__BagOfWords__ngram_range=(1, 3);, score=(train=0.833, test=0.800) total time=   0.5s\n",
      "[CV 1/5; 34/120] START modelo=RandomForestClassifier(random_state=0), modelo__max_depth=2, percentiles__percentile=80, preprocesamiento__BagOfWords__ngram_range=(1, 1)\n",
      "[CV 1/5; 34/120] END modelo=RandomForestClassifier(random_state=0), modelo__max_depth=2, percentiles__percentile=80, preprocesamiento__BagOfWords__ngram_range=(1, 1);, score=(train=0.826, test=0.667) total time=   0.6s\n",
      "[CV 2/5; 34/120] START modelo=RandomForestClassifier(random_state=0), modelo__max_depth=2, percentiles__percentile=80, preprocesamiento__BagOfWords__ngram_range=(1, 1)\n",
      "[CV 2/5; 34/120] END modelo=RandomForestClassifier(random_state=0), modelo__max_depth=2, percentiles__percentile=80, preprocesamiento__BagOfWords__ngram_range=(1, 1);, score=(train=0.957, test=0.167) total time=   0.5s\n",
      "[CV 3/5; 34/120] START modelo=RandomForestClassifier(random_state=0), modelo__max_depth=2, percentiles__percentile=80, preprocesamiento__BagOfWords__ngram_range=(1, 1)\n",
      "[CV 3/5; 34/120] END modelo=RandomForestClassifier(random_state=0), modelo__max_depth=2, percentiles__percentile=80, preprocesamiento__BagOfWords__ngram_range=(1, 1);, score=(train=0.783, test=0.667) total time=   0.2s\n",
      "[CV 4/5; 34/120] START modelo=RandomForestClassifier(random_state=0), modelo__max_depth=2, percentiles__percentile=80, preprocesamiento__BagOfWords__ngram_range=(1, 1)\n",
      "[CV 4/5; 34/120] END modelo=RandomForestClassifier(random_state=0), modelo__max_depth=2, percentiles__percentile=80, preprocesamiento__BagOfWords__ngram_range=(1, 1);, score=(train=0.833, test=0.400) total time=   0.4s\n",
      "[CV 5/5; 34/120] START modelo=RandomForestClassifier(random_state=0), modelo__max_depth=2, percentiles__percentile=80, preprocesamiento__BagOfWords__ngram_range=(1, 1)\n"
     ]
    },
    {
     "name": "stderr",
     "output_type": "stream",
     "text": [
      "C:\\Users\\Felipe\\anaconda3\\lib\\site-packages\\sklearn\\feature_selection\\_univariate_selection.py:113: RuntimeWarning: divide by zero encountered in true_divide\n",
      "  f = msb / msw\n"
     ]
    },
    {
     "name": "stdout",
     "output_type": "stream",
     "text": [
      "[CV 5/5; 34/120] END modelo=RandomForestClassifier(random_state=0), modelo__max_depth=2, percentiles__percentile=80, preprocesamiento__BagOfWords__ngram_range=(1, 1);, score=(train=0.833, test=0.800) total time=   0.4s\n",
      "[CV 1/5; 35/120] START modelo=RandomForestClassifier(random_state=0), modelo__max_depth=2, percentiles__percentile=80, preprocesamiento__BagOfWords__ngram_range=(1, 2)\n",
      "[CV 1/5; 35/120] END modelo=RandomForestClassifier(random_state=0), modelo__max_depth=2, percentiles__percentile=80, preprocesamiento__BagOfWords__ngram_range=(1, 2);, score=(train=0.696, test=0.667) total time=   1.0s\n",
      "[CV 2/5; 35/120] START modelo=RandomForestClassifier(random_state=0), modelo__max_depth=2, percentiles__percentile=80, preprocesamiento__BagOfWords__ngram_range=(1, 2)\n",
      "[CV 2/5; 35/120] END modelo=RandomForestClassifier(random_state=0), modelo__max_depth=2, percentiles__percentile=80, preprocesamiento__BagOfWords__ngram_range=(1, 2);, score=(train=0.783, test=0.500) total time=   0.6s\n",
      "[CV 3/5; 35/120] START modelo=RandomForestClassifier(random_state=0), modelo__max_depth=2, percentiles__percentile=80, preprocesamiento__BagOfWords__ngram_range=(1, 2)\n",
      "[CV 3/5; 35/120] END modelo=RandomForestClassifier(random_state=0), modelo__max_depth=2, percentiles__percentile=80, preprocesamiento__BagOfWords__ngram_range=(1, 2);, score=(train=0.783, test=0.667) total time=   0.3s\n",
      "[CV 4/5; 35/120] START modelo=RandomForestClassifier(random_state=0), modelo__max_depth=2, percentiles__percentile=80, preprocesamiento__BagOfWords__ngram_range=(1, 2)\n",
      "[CV 4/5; 35/120] END modelo=RandomForestClassifier(random_state=0), modelo__max_depth=2, percentiles__percentile=80, preprocesamiento__BagOfWords__ngram_range=(1, 2);, score=(train=0.833, test=0.400) total time=   0.5s\n",
      "[CV 5/5; 35/120] START modelo=RandomForestClassifier(random_state=0), modelo__max_depth=2, percentiles__percentile=80, preprocesamiento__BagOfWords__ngram_range=(1, 2)\n"
     ]
    },
    {
     "name": "stderr",
     "output_type": "stream",
     "text": [
      "C:\\Users\\Felipe\\anaconda3\\lib\\site-packages\\sklearn\\feature_selection\\_univariate_selection.py:113: RuntimeWarning: divide by zero encountered in true_divide\n",
      "  f = msb / msw\n"
     ]
    },
    {
     "name": "stdout",
     "output_type": "stream",
     "text": [
      "[CV 5/5; 35/120] END modelo=RandomForestClassifier(random_state=0), modelo__max_depth=2, percentiles__percentile=80, preprocesamiento__BagOfWords__ngram_range=(1, 2);, score=(train=0.833, test=0.800) total time=   0.5s\n",
      "[CV 1/5; 36/120] START modelo=RandomForestClassifier(random_state=0), modelo__max_depth=2, percentiles__percentile=80, preprocesamiento__BagOfWords__ngram_range=(1, 3)\n",
      "[CV 1/5; 36/120] END modelo=RandomForestClassifier(random_state=0), modelo__max_depth=2, percentiles__percentile=80, preprocesamiento__BagOfWords__ngram_range=(1, 3);, score=(train=0.696, test=0.667) total time=   0.7s\n",
      "[CV 2/5; 36/120] START modelo=RandomForestClassifier(random_state=0), modelo__max_depth=2, percentiles__percentile=80, preprocesamiento__BagOfWords__ngram_range=(1, 3)\n",
      "[CV 2/5; 36/120] END modelo=RandomForestClassifier(random_state=0), modelo__max_depth=2, percentiles__percentile=80, preprocesamiento__BagOfWords__ngram_range=(1, 3);, score=(train=0.870, test=0.667) total time=   0.6s\n",
      "[CV 3/5; 36/120] START modelo=RandomForestClassifier(random_state=0), modelo__max_depth=2, percentiles__percentile=80, preprocesamiento__BagOfWords__ngram_range=(1, 3)\n",
      "[CV 3/5; 36/120] END modelo=RandomForestClassifier(random_state=0), modelo__max_depth=2, percentiles__percentile=80, preprocesamiento__BagOfWords__ngram_range=(1, 3);, score=(train=0.696, test=0.667) total time=   0.3s\n",
      "[CV 4/5; 36/120] START modelo=RandomForestClassifier(random_state=0), modelo__max_depth=2, percentiles__percentile=80, preprocesamiento__BagOfWords__ngram_range=(1, 3)\n",
      "[CV 4/5; 36/120] END modelo=RandomForestClassifier(random_state=0), modelo__max_depth=2, percentiles__percentile=80, preprocesamiento__BagOfWords__ngram_range=(1, 3);, score=(train=0.833, test=0.400) total time=   0.5s\n",
      "[CV 5/5; 36/120] START modelo=RandomForestClassifier(random_state=0), modelo__max_depth=2, percentiles__percentile=80, preprocesamiento__BagOfWords__ngram_range=(1, 3)\n"
     ]
    },
    {
     "name": "stderr",
     "output_type": "stream",
     "text": [
      "C:\\Users\\Felipe\\anaconda3\\lib\\site-packages\\sklearn\\feature_selection\\_univariate_selection.py:113: RuntimeWarning: divide by zero encountered in true_divide\n",
      "  f = msb / msw\n"
     ]
    },
    {
     "name": "stdout",
     "output_type": "stream",
     "text": [
      "[CV 5/5; 36/120] END modelo=RandomForestClassifier(random_state=0), modelo__max_depth=2, percentiles__percentile=80, preprocesamiento__BagOfWords__ngram_range=(1, 3);, score=(train=0.833, test=0.800) total time=   0.4s\n",
      "[CV 1/5; 37/120] START modelo=RandomForestClassifier(random_state=0), modelo__max_depth=4, percentiles__percentile=20, preprocesamiento__BagOfWords__ngram_range=(1, 1)\n",
      "[CV 1/5; 37/120] END modelo=RandomForestClassifier(random_state=0), modelo__max_depth=4, percentiles__percentile=20, preprocesamiento__BagOfWords__ngram_range=(1, 1);, score=(train=1.000, test=0.667) total time=   0.6s\n",
      "[CV 2/5; 37/120] START modelo=RandomForestClassifier(random_state=0), modelo__max_depth=4, percentiles__percentile=20, preprocesamiento__BagOfWords__ngram_range=(1, 1)\n",
      "[CV 2/5; 37/120] END modelo=RandomForestClassifier(random_state=0), modelo__max_depth=4, percentiles__percentile=20, preprocesamiento__BagOfWords__ngram_range=(1, 1);, score=(train=0.957, test=0.500) total time=   0.6s\n",
      "[CV 3/5; 37/120] START modelo=RandomForestClassifier(random_state=0), modelo__max_depth=4, percentiles__percentile=20, preprocesamiento__BagOfWords__ngram_range=(1, 1)\n",
      "[CV 3/5; 37/120] END modelo=RandomForestClassifier(random_state=0), modelo__max_depth=4, percentiles__percentile=20, preprocesamiento__BagOfWords__ngram_range=(1, 1);, score=(train=0.913, test=0.667) total time=   0.2s\n",
      "[CV 4/5; 37/120] START modelo=RandomForestClassifier(random_state=0), modelo__max_depth=4, percentiles__percentile=20, preprocesamiento__BagOfWords__ngram_range=(1, 1)\n",
      "[CV 4/5; 37/120] END modelo=RandomForestClassifier(random_state=0), modelo__max_depth=4, percentiles__percentile=20, preprocesamiento__BagOfWords__ngram_range=(1, 1);, score=(train=0.875, test=0.400) total time=   0.4s\n",
      "[CV 5/5; 37/120] START modelo=RandomForestClassifier(random_state=0), modelo__max_depth=4, percentiles__percentile=20, preprocesamiento__BagOfWords__ngram_range=(1, 1)\n"
     ]
    },
    {
     "name": "stderr",
     "output_type": "stream",
     "text": [
      "C:\\Users\\Felipe\\anaconda3\\lib\\site-packages\\sklearn\\feature_selection\\_univariate_selection.py:113: RuntimeWarning: divide by zero encountered in true_divide\n",
      "  f = msb / msw\n"
     ]
    },
    {
     "name": "stdout",
     "output_type": "stream",
     "text": [
      "[CV 5/5; 37/120] END modelo=RandomForestClassifier(random_state=0), modelo__max_depth=4, percentiles__percentile=20, preprocesamiento__BagOfWords__ngram_range=(1, 1);, score=(train=1.000, test=0.800) total time=   0.4s\n",
      "[CV 1/5; 38/120] START modelo=RandomForestClassifier(random_state=0), modelo__max_depth=4, percentiles__percentile=20, preprocesamiento__BagOfWords__ngram_range=(1, 2)\n",
      "[CV 1/5; 38/120] END modelo=RandomForestClassifier(random_state=0), modelo__max_depth=4, percentiles__percentile=20, preprocesamiento__BagOfWords__ngram_range=(1, 2);, score=(train=1.000, test=0.667) total time=   0.7s\n",
      "[CV 2/5; 38/120] START modelo=RandomForestClassifier(random_state=0), modelo__max_depth=4, percentiles__percentile=20, preprocesamiento__BagOfWords__ngram_range=(1, 2)\n",
      "[CV 2/5; 38/120] END modelo=RandomForestClassifier(random_state=0), modelo__max_depth=4, percentiles__percentile=20, preprocesamiento__BagOfWords__ngram_range=(1, 2);, score=(train=1.000, test=0.500) total time=   0.8s\n",
      "[CV 3/5; 38/120] START modelo=RandomForestClassifier(random_state=0), modelo__max_depth=4, percentiles__percentile=20, preprocesamiento__BagOfWords__ngram_range=(1, 2)\n",
      "[CV 3/5; 38/120] END modelo=RandomForestClassifier(random_state=0), modelo__max_depth=4, percentiles__percentile=20, preprocesamiento__BagOfWords__ngram_range=(1, 2);, score=(train=0.870, test=0.667) total time=   0.5s\n",
      "[CV 4/5; 38/120] START modelo=RandomForestClassifier(random_state=0), modelo__max_depth=4, percentiles__percentile=20, preprocesamiento__BagOfWords__ngram_range=(1, 2)\n",
      "[CV 4/5; 38/120] END modelo=RandomForestClassifier(random_state=0), modelo__max_depth=4, percentiles__percentile=20, preprocesamiento__BagOfWords__ngram_range=(1, 2);, score=(train=0.917, test=0.400) total time=   0.4s\n",
      "[CV 5/5; 38/120] START modelo=RandomForestClassifier(random_state=0), modelo__max_depth=4, percentiles__percentile=20, preprocesamiento__BagOfWords__ngram_range=(1, 2)\n"
     ]
    },
    {
     "name": "stderr",
     "output_type": "stream",
     "text": [
      "C:\\Users\\Felipe\\anaconda3\\lib\\site-packages\\sklearn\\feature_selection\\_univariate_selection.py:113: RuntimeWarning: divide by zero encountered in true_divide\n",
      "  f = msb / msw\n"
     ]
    },
    {
     "name": "stdout",
     "output_type": "stream",
     "text": [
      "[CV 5/5; 38/120] END modelo=RandomForestClassifier(random_state=0), modelo__max_depth=4, percentiles__percentile=20, preprocesamiento__BagOfWords__ngram_range=(1, 2);, score=(train=0.958, test=0.800) total time=   0.4s\n",
      "[CV 1/5; 39/120] START modelo=RandomForestClassifier(random_state=0), modelo__max_depth=4, percentiles__percentile=20, preprocesamiento__BagOfWords__ngram_range=(1, 3)\n",
      "[CV 1/5; 39/120] END modelo=RandomForestClassifier(random_state=0), modelo__max_depth=4, percentiles__percentile=20, preprocesamiento__BagOfWords__ngram_range=(1, 3);, score=(train=1.000, test=0.667) total time=   0.7s\n",
      "[CV 2/5; 39/120] START modelo=RandomForestClassifier(random_state=0), modelo__max_depth=4, percentiles__percentile=20, preprocesamiento__BagOfWords__ngram_range=(1, 3)\n",
      "[CV 2/5; 39/120] END modelo=RandomForestClassifier(random_state=0), modelo__max_depth=4, percentiles__percentile=20, preprocesamiento__BagOfWords__ngram_range=(1, 3);, score=(train=1.000, test=0.500) total time=   0.9s\n",
      "[CV 3/5; 39/120] START modelo=RandomForestClassifier(random_state=0), modelo__max_depth=4, percentiles__percentile=20, preprocesamiento__BagOfWords__ngram_range=(1, 3)\n",
      "[CV 3/5; 39/120] END modelo=RandomForestClassifier(random_state=0), modelo__max_depth=4, percentiles__percentile=20, preprocesamiento__BagOfWords__ngram_range=(1, 3);, score=(train=0.913, test=0.667) total time=   0.3s\n",
      "[CV 4/5; 39/120] START modelo=RandomForestClassifier(random_state=0), modelo__max_depth=4, percentiles__percentile=20, preprocesamiento__BagOfWords__ngram_range=(1, 3)\n",
      "[CV 4/5; 39/120] END modelo=RandomForestClassifier(random_state=0), modelo__max_depth=4, percentiles__percentile=20, preprocesamiento__BagOfWords__ngram_range=(1, 3);, score=(train=0.917, test=0.400) total time=   0.5s\n",
      "[CV 5/5; 39/120] START modelo=RandomForestClassifier(random_state=0), modelo__max_depth=4, percentiles__percentile=20, preprocesamiento__BagOfWords__ngram_range=(1, 3)\n"
     ]
    },
    {
     "name": "stderr",
     "output_type": "stream",
     "text": [
      "C:\\Users\\Felipe\\anaconda3\\lib\\site-packages\\sklearn\\feature_selection\\_univariate_selection.py:113: RuntimeWarning: divide by zero encountered in true_divide\n",
      "  f = msb / msw\n"
     ]
    },
    {
     "name": "stdout",
     "output_type": "stream",
     "text": [
      "[CV 5/5; 39/120] END modelo=RandomForestClassifier(random_state=0), modelo__max_depth=4, percentiles__percentile=20, preprocesamiento__BagOfWords__ngram_range=(1, 3);, score=(train=1.000, test=0.800) total time=   0.4s\n",
      "[CV 1/5; 40/120] START modelo=RandomForestClassifier(random_state=0), modelo__max_depth=4, percentiles__percentile=40, preprocesamiento__BagOfWords__ngram_range=(1, 1)\n",
      "[CV 1/5; 40/120] END modelo=RandomForestClassifier(random_state=0), modelo__max_depth=4, percentiles__percentile=40, preprocesamiento__BagOfWords__ngram_range=(1, 1);, score=(train=1.000, test=0.667) total time=   0.6s\n",
      "[CV 2/5; 40/120] START modelo=RandomForestClassifier(random_state=0), modelo__max_depth=4, percentiles__percentile=40, preprocesamiento__BagOfWords__ngram_range=(1, 1)\n",
      "[CV 2/5; 40/120] END modelo=RandomForestClassifier(random_state=0), modelo__max_depth=4, percentiles__percentile=40, preprocesamiento__BagOfWords__ngram_range=(1, 1);, score=(train=0.957, test=0.500) total time=   0.5s\n",
      "[CV 3/5; 40/120] START modelo=RandomForestClassifier(random_state=0), modelo__max_depth=4, percentiles__percentile=40, preprocesamiento__BagOfWords__ngram_range=(1, 1)\n",
      "[CV 3/5; 40/120] END modelo=RandomForestClassifier(random_state=0), modelo__max_depth=4, percentiles__percentile=40, preprocesamiento__BagOfWords__ngram_range=(1, 1);, score=(train=0.913, test=0.667) total time=   0.3s\n",
      "[CV 4/5; 40/120] START modelo=RandomForestClassifier(random_state=0), modelo__max_depth=4, percentiles__percentile=40, preprocesamiento__BagOfWords__ngram_range=(1, 1)\n",
      "[CV 4/5; 40/120] END modelo=RandomForestClassifier(random_state=0), modelo__max_depth=4, percentiles__percentile=40, preprocesamiento__BagOfWords__ngram_range=(1, 1);, score=(train=0.917, test=0.400) total time=   0.5s\n",
      "[CV 5/5; 40/120] START modelo=RandomForestClassifier(random_state=0), modelo__max_depth=4, percentiles__percentile=40, preprocesamiento__BagOfWords__ngram_range=(1, 1)\n"
     ]
    },
    {
     "name": "stderr",
     "output_type": "stream",
     "text": [
      "C:\\Users\\Felipe\\anaconda3\\lib\\site-packages\\sklearn\\feature_selection\\_univariate_selection.py:113: RuntimeWarning: divide by zero encountered in true_divide\n",
      "  f = msb / msw\n"
     ]
    },
    {
     "name": "stdout",
     "output_type": "stream",
     "text": [
      "[CV 5/5; 40/120] END modelo=RandomForestClassifier(random_state=0), modelo__max_depth=4, percentiles__percentile=40, preprocesamiento__BagOfWords__ngram_range=(1, 1);, score=(train=1.000, test=0.800) total time=   0.4s\n",
      "[CV 1/5; 41/120] START modelo=RandomForestClassifier(random_state=0), modelo__max_depth=4, percentiles__percentile=40, preprocesamiento__BagOfWords__ngram_range=(1, 2)\n",
      "[CV 1/5; 41/120] END modelo=RandomForestClassifier(random_state=0), modelo__max_depth=4, percentiles__percentile=40, preprocesamiento__BagOfWords__ngram_range=(1, 2);, score=(train=1.000, test=0.667) total time=   0.6s\n",
      "[CV 2/5; 41/120] START modelo=RandomForestClassifier(random_state=0), modelo__max_depth=4, percentiles__percentile=40, preprocesamiento__BagOfWords__ngram_range=(1, 2)\n",
      "[CV 2/5; 41/120] END modelo=RandomForestClassifier(random_state=0), modelo__max_depth=4, percentiles__percentile=40, preprocesamiento__BagOfWords__ngram_range=(1, 2);, score=(train=0.957, test=0.500) total time=   0.6s\n",
      "[CV 3/5; 41/120] START modelo=RandomForestClassifier(random_state=0), modelo__max_depth=4, percentiles__percentile=40, preprocesamiento__BagOfWords__ngram_range=(1, 2)\n",
      "[CV 3/5; 41/120] END modelo=RandomForestClassifier(random_state=0), modelo__max_depth=4, percentiles__percentile=40, preprocesamiento__BagOfWords__ngram_range=(1, 2);, score=(train=0.913, test=0.667) total time=   0.4s\n",
      "[CV 4/5; 41/120] START modelo=RandomForestClassifier(random_state=0), modelo__max_depth=4, percentiles__percentile=40, preprocesamiento__BagOfWords__ngram_range=(1, 2)\n",
      "[CV 4/5; 41/120] END modelo=RandomForestClassifier(random_state=0), modelo__max_depth=4, percentiles__percentile=40, preprocesamiento__BagOfWords__ngram_range=(1, 2);, score=(train=0.875, test=0.400) total time=   0.7s\n",
      "[CV 5/5; 41/120] START modelo=RandomForestClassifier(random_state=0), modelo__max_depth=4, percentiles__percentile=40, preprocesamiento__BagOfWords__ngram_range=(1, 2)\n"
     ]
    },
    {
     "name": "stderr",
     "output_type": "stream",
     "text": [
      "C:\\Users\\Felipe\\anaconda3\\lib\\site-packages\\sklearn\\feature_selection\\_univariate_selection.py:113: RuntimeWarning: divide by zero encountered in true_divide\n",
      "  f = msb / msw\n"
     ]
    },
    {
     "name": "stdout",
     "output_type": "stream",
     "text": [
      "[CV 5/5; 41/120] END modelo=RandomForestClassifier(random_state=0), modelo__max_depth=4, percentiles__percentile=40, preprocesamiento__BagOfWords__ngram_range=(1, 2);, score=(train=1.000, test=0.800) total time=   0.6s\n",
      "[CV 1/5; 42/120] START modelo=RandomForestClassifier(random_state=0), modelo__max_depth=4, percentiles__percentile=40, preprocesamiento__BagOfWords__ngram_range=(1, 3)\n",
      "[CV 1/5; 42/120] END modelo=RandomForestClassifier(random_state=0), modelo__max_depth=4, percentiles__percentile=40, preprocesamiento__BagOfWords__ngram_range=(1, 3);, score=(train=0.913, test=0.667) total time=   0.7s\n",
      "[CV 2/5; 42/120] START modelo=RandomForestClassifier(random_state=0), modelo__max_depth=4, percentiles__percentile=40, preprocesamiento__BagOfWords__ngram_range=(1, 3)\n",
      "[CV 2/5; 42/120] END modelo=RandomForestClassifier(random_state=0), modelo__max_depth=4, percentiles__percentile=40, preprocesamiento__BagOfWords__ngram_range=(1, 3);, score=(train=0.957, test=0.500) total time=   0.6s\n",
      "[CV 3/5; 42/120] START modelo=RandomForestClassifier(random_state=0), modelo__max_depth=4, percentiles__percentile=40, preprocesamiento__BagOfWords__ngram_range=(1, 3)\n",
      "[CV 3/5; 42/120] END modelo=RandomForestClassifier(random_state=0), modelo__max_depth=4, percentiles__percentile=40, preprocesamiento__BagOfWords__ngram_range=(1, 3);, score=(train=0.913, test=0.667) total time=   0.3s\n",
      "[CV 4/5; 42/120] START modelo=RandomForestClassifier(random_state=0), modelo__max_depth=4, percentiles__percentile=40, preprocesamiento__BagOfWords__ngram_range=(1, 3)\n",
      "[CV 4/5; 42/120] END modelo=RandomForestClassifier(random_state=0), modelo__max_depth=4, percentiles__percentile=40, preprocesamiento__BagOfWords__ngram_range=(1, 3);, score=(train=0.875, test=0.400) total time=   0.5s\n",
      "[CV 5/5; 42/120] START modelo=RandomForestClassifier(random_state=0), modelo__max_depth=4, percentiles__percentile=40, preprocesamiento__BagOfWords__ngram_range=(1, 3)\n"
     ]
    },
    {
     "name": "stderr",
     "output_type": "stream",
     "text": [
      "C:\\Users\\Felipe\\anaconda3\\lib\\site-packages\\sklearn\\feature_selection\\_univariate_selection.py:113: RuntimeWarning: divide by zero encountered in true_divide\n",
      "  f = msb / msw\n"
     ]
    },
    {
     "name": "stdout",
     "output_type": "stream",
     "text": [
      "[CV 5/5; 42/120] END modelo=RandomForestClassifier(random_state=0), modelo__max_depth=4, percentiles__percentile=40, preprocesamiento__BagOfWords__ngram_range=(1, 3);, score=(train=1.000, test=0.800) total time=   0.4s\n",
      "[CV 1/5; 43/120] START modelo=RandomForestClassifier(random_state=0), modelo__max_depth=4, percentiles__percentile=60, preprocesamiento__BagOfWords__ngram_range=(1, 1)\n",
      "[CV 1/5; 43/120] END modelo=RandomForestClassifier(random_state=0), modelo__max_depth=4, percentiles__percentile=60, preprocesamiento__BagOfWords__ngram_range=(1, 1);, score=(train=1.000, test=0.667) total time=   0.6s\n",
      "[CV 2/5; 43/120] START modelo=RandomForestClassifier(random_state=0), modelo__max_depth=4, percentiles__percentile=60, preprocesamiento__BagOfWords__ngram_range=(1, 1)\n",
      "[CV 2/5; 43/120] END modelo=RandomForestClassifier(random_state=0), modelo__max_depth=4, percentiles__percentile=60, preprocesamiento__BagOfWords__ngram_range=(1, 1);, score=(train=0.957, test=0.333) total time=   0.5s\n",
      "[CV 3/5; 43/120] START modelo=RandomForestClassifier(random_state=0), modelo__max_depth=4, percentiles__percentile=60, preprocesamiento__BagOfWords__ngram_range=(1, 1)\n",
      "[CV 3/5; 43/120] END modelo=RandomForestClassifier(random_state=0), modelo__max_depth=4, percentiles__percentile=60, preprocesamiento__BagOfWords__ngram_range=(1, 1);, score=(train=0.913, test=0.667) total time=   0.2s\n",
      "[CV 4/5; 43/120] START modelo=RandomForestClassifier(random_state=0), modelo__max_depth=4, percentiles__percentile=60, preprocesamiento__BagOfWords__ngram_range=(1, 1)\n",
      "[CV 4/5; 43/120] END modelo=RandomForestClassifier(random_state=0), modelo__max_depth=4, percentiles__percentile=60, preprocesamiento__BagOfWords__ngram_range=(1, 1);, score=(train=0.875, test=0.400) total time=   0.4s\n",
      "[CV 5/5; 43/120] START modelo=RandomForestClassifier(random_state=0), modelo__max_depth=4, percentiles__percentile=60, preprocesamiento__BagOfWords__ngram_range=(1, 1)\n"
     ]
    },
    {
     "name": "stderr",
     "output_type": "stream",
     "text": [
      "C:\\Users\\Felipe\\anaconda3\\lib\\site-packages\\sklearn\\feature_selection\\_univariate_selection.py:113: RuntimeWarning: divide by zero encountered in true_divide\n",
      "  f = msb / msw\n"
     ]
    },
    {
     "name": "stdout",
     "output_type": "stream",
     "text": [
      "[CV 5/5; 43/120] END modelo=RandomForestClassifier(random_state=0), modelo__max_depth=4, percentiles__percentile=60, preprocesamiento__BagOfWords__ngram_range=(1, 1);, score=(train=1.000, test=0.800) total time=   0.4s\n",
      "[CV 1/5; 44/120] START modelo=RandomForestClassifier(random_state=0), modelo__max_depth=4, percentiles__percentile=60, preprocesamiento__BagOfWords__ngram_range=(1, 2)\n",
      "[CV 1/5; 44/120] END modelo=RandomForestClassifier(random_state=0), modelo__max_depth=4, percentiles__percentile=60, preprocesamiento__BagOfWords__ngram_range=(1, 2);, score=(train=0.957, test=0.667) total time=   0.7s\n",
      "[CV 2/5; 44/120] START modelo=RandomForestClassifier(random_state=0), modelo__max_depth=4, percentiles__percentile=60, preprocesamiento__BagOfWords__ngram_range=(1, 2)\n",
      "[CV 2/5; 44/120] END modelo=RandomForestClassifier(random_state=0), modelo__max_depth=4, percentiles__percentile=60, preprocesamiento__BagOfWords__ngram_range=(1, 2);, score=(train=0.957, test=0.500) total time=   0.6s\n",
      "[CV 3/5; 44/120] START modelo=RandomForestClassifier(random_state=0), modelo__max_depth=4, percentiles__percentile=60, preprocesamiento__BagOfWords__ngram_range=(1, 2)\n",
      "[CV 3/5; 44/120] END modelo=RandomForestClassifier(random_state=0), modelo__max_depth=4, percentiles__percentile=60, preprocesamiento__BagOfWords__ngram_range=(1, 2);, score=(train=0.913, test=0.667) total time=   0.3s\n",
      "[CV 4/5; 44/120] START modelo=RandomForestClassifier(random_state=0), modelo__max_depth=4, percentiles__percentile=60, preprocesamiento__BagOfWords__ngram_range=(1, 2)\n",
      "[CV 4/5; 44/120] END modelo=RandomForestClassifier(random_state=0), modelo__max_depth=4, percentiles__percentile=60, preprocesamiento__BagOfWords__ngram_range=(1, 2);, score=(train=0.875, test=0.400) total time=   0.4s\n",
      "[CV 5/5; 44/120] START modelo=RandomForestClassifier(random_state=0), modelo__max_depth=4, percentiles__percentile=60, preprocesamiento__BagOfWords__ngram_range=(1, 2)\n"
     ]
    },
    {
     "name": "stderr",
     "output_type": "stream",
     "text": [
      "C:\\Users\\Felipe\\anaconda3\\lib\\site-packages\\sklearn\\feature_selection\\_univariate_selection.py:113: RuntimeWarning: divide by zero encountered in true_divide\n",
      "  f = msb / msw\n"
     ]
    },
    {
     "name": "stdout",
     "output_type": "stream",
     "text": [
      "[CV 5/5; 44/120] END modelo=RandomForestClassifier(random_state=0), modelo__max_depth=4, percentiles__percentile=60, preprocesamiento__BagOfWords__ngram_range=(1, 2);, score=(train=0.958, test=0.800) total time=   0.5s\n",
      "[CV 1/5; 45/120] START modelo=RandomForestClassifier(random_state=0), modelo__max_depth=4, percentiles__percentile=60, preprocesamiento__BagOfWords__ngram_range=(1, 3)\n",
      "[CV 1/5; 45/120] END modelo=RandomForestClassifier(random_state=0), modelo__max_depth=4, percentiles__percentile=60, preprocesamiento__BagOfWords__ngram_range=(1, 3);, score=(train=0.913, test=0.667) total time=   1.1s\n",
      "[CV 2/5; 45/120] START modelo=RandomForestClassifier(random_state=0), modelo__max_depth=4, percentiles__percentile=60, preprocesamiento__BagOfWords__ngram_range=(1, 3)\n",
      "[CV 2/5; 45/120] END modelo=RandomForestClassifier(random_state=0), modelo__max_depth=4, percentiles__percentile=60, preprocesamiento__BagOfWords__ngram_range=(1, 3);, score=(train=0.957, test=0.500) total time=   0.6s\n",
      "[CV 3/5; 45/120] START modelo=RandomForestClassifier(random_state=0), modelo__max_depth=4, percentiles__percentile=60, preprocesamiento__BagOfWords__ngram_range=(1, 3)\n",
      "[CV 3/5; 45/120] END modelo=RandomForestClassifier(random_state=0), modelo__max_depth=4, percentiles__percentile=60, preprocesamiento__BagOfWords__ngram_range=(1, 3);, score=(train=0.913, test=0.667) total time=   0.3s\n",
      "[CV 4/5; 45/120] START modelo=RandomForestClassifier(random_state=0), modelo__max_depth=4, percentiles__percentile=60, preprocesamiento__BagOfWords__ngram_range=(1, 3)\n",
      "[CV 4/5; 45/120] END modelo=RandomForestClassifier(random_state=0), modelo__max_depth=4, percentiles__percentile=60, preprocesamiento__BagOfWords__ngram_range=(1, 3);, score=(train=0.875, test=0.400) total time=   0.5s\n",
      "[CV 5/5; 45/120] START modelo=RandomForestClassifier(random_state=0), modelo__max_depth=4, percentiles__percentile=60, preprocesamiento__BagOfWords__ngram_range=(1, 3)\n"
     ]
    },
    {
     "name": "stderr",
     "output_type": "stream",
     "text": [
      "C:\\Users\\Felipe\\anaconda3\\lib\\site-packages\\sklearn\\feature_selection\\_univariate_selection.py:113: RuntimeWarning: divide by zero encountered in true_divide\n",
      "  f = msb / msw\n"
     ]
    },
    {
     "name": "stdout",
     "output_type": "stream",
     "text": [
      "[CV 5/5; 45/120] END modelo=RandomForestClassifier(random_state=0), modelo__max_depth=4, percentiles__percentile=60, preprocesamiento__BagOfWords__ngram_range=(1, 3);, score=(train=0.917, test=0.800) total time=   0.4s\n",
      "[CV 1/5; 46/120] START modelo=RandomForestClassifier(random_state=0), modelo__max_depth=4, percentiles__percentile=80, preprocesamiento__BagOfWords__ngram_range=(1, 1)\n",
      "[CV 1/5; 46/120] END modelo=RandomForestClassifier(random_state=0), modelo__max_depth=4, percentiles__percentile=80, preprocesamiento__BagOfWords__ngram_range=(1, 1);, score=(train=1.000, test=0.667) total time=   0.6s\n",
      "[CV 2/5; 46/120] START modelo=RandomForestClassifier(random_state=0), modelo__max_depth=4, percentiles__percentile=80, preprocesamiento__BagOfWords__ngram_range=(1, 1)\n",
      "[CV 2/5; 46/120] END modelo=RandomForestClassifier(random_state=0), modelo__max_depth=4, percentiles__percentile=80, preprocesamiento__BagOfWords__ngram_range=(1, 1);, score=(train=0.957, test=0.333) total time=   0.5s\n",
      "[CV 3/5; 46/120] START modelo=RandomForestClassifier(random_state=0), modelo__max_depth=4, percentiles__percentile=80, preprocesamiento__BagOfWords__ngram_range=(1, 1)\n",
      "[CV 3/5; 46/120] END modelo=RandomForestClassifier(random_state=0), modelo__max_depth=4, percentiles__percentile=80, preprocesamiento__BagOfWords__ngram_range=(1, 1);, score=(train=0.913, test=0.667) total time=   0.2s\n",
      "[CV 4/5; 46/120] START modelo=RandomForestClassifier(random_state=0), modelo__max_depth=4, percentiles__percentile=80, preprocesamiento__BagOfWords__ngram_range=(1, 1)\n",
      "[CV 4/5; 46/120] END modelo=RandomForestClassifier(random_state=0), modelo__max_depth=4, percentiles__percentile=80, preprocesamiento__BagOfWords__ngram_range=(1, 1);, score=(train=0.875, test=0.400) total time=   0.5s\n",
      "[CV 5/5; 46/120] START modelo=RandomForestClassifier(random_state=0), modelo__max_depth=4, percentiles__percentile=80, preprocesamiento__BagOfWords__ngram_range=(1, 1)\n"
     ]
    },
    {
     "name": "stderr",
     "output_type": "stream",
     "text": [
      "C:\\Users\\Felipe\\anaconda3\\lib\\site-packages\\sklearn\\feature_selection\\_univariate_selection.py:113: RuntimeWarning: divide by zero encountered in true_divide\n",
      "  f = msb / msw\n"
     ]
    },
    {
     "name": "stdout",
     "output_type": "stream",
     "text": [
      "[CV 5/5; 46/120] END modelo=RandomForestClassifier(random_state=0), modelo__max_depth=4, percentiles__percentile=80, preprocesamiento__BagOfWords__ngram_range=(1, 1);, score=(train=1.000, test=0.800) total time=   0.4s\n",
      "[CV 1/5; 47/120] START modelo=RandomForestClassifier(random_state=0), modelo__max_depth=4, percentiles__percentile=80, preprocesamiento__BagOfWords__ngram_range=(1, 2)\n",
      "[CV 1/5; 47/120] END modelo=RandomForestClassifier(random_state=0), modelo__max_depth=4, percentiles__percentile=80, preprocesamiento__BagOfWords__ngram_range=(1, 2);, score=(train=0.957, test=0.667) total time=   0.7s\n",
      "[CV 2/5; 47/120] START modelo=RandomForestClassifier(random_state=0), modelo__max_depth=4, percentiles__percentile=80, preprocesamiento__BagOfWords__ngram_range=(1, 2)\n",
      "[CV 2/5; 47/120] END modelo=RandomForestClassifier(random_state=0), modelo__max_depth=4, percentiles__percentile=80, preprocesamiento__BagOfWords__ngram_range=(1, 2);, score=(train=0.957, test=0.500) total time=   0.7s\n",
      "[CV 3/5; 47/120] START modelo=RandomForestClassifier(random_state=0), modelo__max_depth=4, percentiles__percentile=80, preprocesamiento__BagOfWords__ngram_range=(1, 2)\n",
      "[CV 3/5; 47/120] END modelo=RandomForestClassifier(random_state=0), modelo__max_depth=4, percentiles__percentile=80, preprocesamiento__BagOfWords__ngram_range=(1, 2);, score=(train=0.913, test=0.667) total time=   0.3s\n",
      "[CV 4/5; 47/120] START modelo=RandomForestClassifier(random_state=0), modelo__max_depth=4, percentiles__percentile=80, preprocesamiento__BagOfWords__ngram_range=(1, 2)\n",
      "[CV 4/5; 47/120] END modelo=RandomForestClassifier(random_state=0), modelo__max_depth=4, percentiles__percentile=80, preprocesamiento__BagOfWords__ngram_range=(1, 2);, score=(train=0.875, test=0.400) total time=   0.5s\n",
      "[CV 5/5; 47/120] START modelo=RandomForestClassifier(random_state=0), modelo__max_depth=4, percentiles__percentile=80, preprocesamiento__BagOfWords__ngram_range=(1, 2)\n"
     ]
    },
    {
     "name": "stderr",
     "output_type": "stream",
     "text": [
      "C:\\Users\\Felipe\\anaconda3\\lib\\site-packages\\sklearn\\feature_selection\\_univariate_selection.py:113: RuntimeWarning: divide by zero encountered in true_divide\n",
      "  f = msb / msw\n"
     ]
    },
    {
     "name": "stdout",
     "output_type": "stream",
     "text": [
      "[CV 5/5; 47/120] END modelo=RandomForestClassifier(random_state=0), modelo__max_depth=4, percentiles__percentile=80, preprocesamiento__BagOfWords__ngram_range=(1, 2);, score=(train=0.958, test=0.800) total time=   0.4s\n",
      "[CV 1/5; 48/120] START modelo=RandomForestClassifier(random_state=0), modelo__max_depth=4, percentiles__percentile=80, preprocesamiento__BagOfWords__ngram_range=(1, 3)\n",
      "[CV 1/5; 48/120] END modelo=RandomForestClassifier(random_state=0), modelo__max_depth=4, percentiles__percentile=80, preprocesamiento__BagOfWords__ngram_range=(1, 3);, score=(train=0.870, test=0.667) total time=   0.7s\n",
      "[CV 2/5; 48/120] START modelo=RandomForestClassifier(random_state=0), modelo__max_depth=4, percentiles__percentile=80, preprocesamiento__BagOfWords__ngram_range=(1, 3)\n",
      "[CV 2/5; 48/120] END modelo=RandomForestClassifier(random_state=0), modelo__max_depth=4, percentiles__percentile=80, preprocesamiento__BagOfWords__ngram_range=(1, 3);, score=(train=0.957, test=0.500) total time=   0.8s\n",
      "[CV 3/5; 48/120] START modelo=RandomForestClassifier(random_state=0), modelo__max_depth=4, percentiles__percentile=80, preprocesamiento__BagOfWords__ngram_range=(1, 3)\n",
      "[CV 3/5; 48/120] END modelo=RandomForestClassifier(random_state=0), modelo__max_depth=4, percentiles__percentile=80, preprocesamiento__BagOfWords__ngram_range=(1, 3);, score=(train=0.913, test=0.667) total time=   0.5s\n",
      "[CV 4/5; 48/120] START modelo=RandomForestClassifier(random_state=0), modelo__max_depth=4, percentiles__percentile=80, preprocesamiento__BagOfWords__ngram_range=(1, 3)\n",
      "[CV 4/5; 48/120] END modelo=RandomForestClassifier(random_state=0), modelo__max_depth=4, percentiles__percentile=80, preprocesamiento__BagOfWords__ngram_range=(1, 3);, score=(train=0.875, test=0.400) total time=   0.5s\n",
      "[CV 5/5; 48/120] START modelo=RandomForestClassifier(random_state=0), modelo__max_depth=4, percentiles__percentile=80, preprocesamiento__BagOfWords__ngram_range=(1, 3)\n"
     ]
    },
    {
     "name": "stderr",
     "output_type": "stream",
     "text": [
      "C:\\Users\\Felipe\\anaconda3\\lib\\site-packages\\sklearn\\feature_selection\\_univariate_selection.py:113: RuntimeWarning: divide by zero encountered in true_divide\n",
      "  f = msb / msw\n"
     ]
    },
    {
     "name": "stdout",
     "output_type": "stream",
     "text": [
      "[CV 5/5; 48/120] END modelo=RandomForestClassifier(random_state=0), modelo__max_depth=4, percentiles__percentile=80, preprocesamiento__BagOfWords__ngram_range=(1, 3);, score=(train=1.000, test=0.800) total time=   0.4s\n",
      "[CV 1/5; 49/120] START modelo=RandomForestClassifier(random_state=0), modelo__max_depth=6, percentiles__percentile=20, preprocesamiento__BagOfWords__ngram_range=(1, 1)\n",
      "[CV 1/5; 49/120] END modelo=RandomForestClassifier(random_state=0), modelo__max_depth=6, percentiles__percentile=20, preprocesamiento__BagOfWords__ngram_range=(1, 1);, score=(train=1.000, test=0.833) total time=   0.6s\n",
      "[CV 2/5; 49/120] START modelo=RandomForestClassifier(random_state=0), modelo__max_depth=6, percentiles__percentile=20, preprocesamiento__BagOfWords__ngram_range=(1, 1)\n",
      "[CV 2/5; 49/120] END modelo=RandomForestClassifier(random_state=0), modelo__max_depth=6, percentiles__percentile=20, preprocesamiento__BagOfWords__ngram_range=(1, 1);, score=(train=1.000, test=0.500) total time=   0.5s\n",
      "[CV 3/5; 49/120] START modelo=RandomForestClassifier(random_state=0), modelo__max_depth=6, percentiles__percentile=20, preprocesamiento__BagOfWords__ngram_range=(1, 1)\n",
      "[CV 3/5; 49/120] END modelo=RandomForestClassifier(random_state=0), modelo__max_depth=6, percentiles__percentile=20, preprocesamiento__BagOfWords__ngram_range=(1, 1);, score=(train=0.957, test=0.667) total time=   0.3s\n",
      "[CV 4/5; 49/120] START modelo=RandomForestClassifier(random_state=0), modelo__max_depth=6, percentiles__percentile=20, preprocesamiento__BagOfWords__ngram_range=(1, 1)\n",
      "[CV 4/5; 49/120] END modelo=RandomForestClassifier(random_state=0), modelo__max_depth=6, percentiles__percentile=20, preprocesamiento__BagOfWords__ngram_range=(1, 1);, score=(train=1.000, test=0.400) total time=   0.4s\n",
      "[CV 5/5; 49/120] START modelo=RandomForestClassifier(random_state=0), modelo__max_depth=6, percentiles__percentile=20, preprocesamiento__BagOfWords__ngram_range=(1, 1)\n"
     ]
    },
    {
     "name": "stderr",
     "output_type": "stream",
     "text": [
      "C:\\Users\\Felipe\\anaconda3\\lib\\site-packages\\sklearn\\feature_selection\\_univariate_selection.py:113: RuntimeWarning: divide by zero encountered in true_divide\n",
      "  f = msb / msw\n"
     ]
    },
    {
     "name": "stdout",
     "output_type": "stream",
     "text": [
      "[CV 5/5; 49/120] END modelo=RandomForestClassifier(random_state=0), modelo__max_depth=6, percentiles__percentile=20, preprocesamiento__BagOfWords__ngram_range=(1, 1);, score=(train=1.000, test=0.800) total time=   0.4s\n",
      "[CV 1/5; 50/120] START modelo=RandomForestClassifier(random_state=0), modelo__max_depth=6, percentiles__percentile=20, preprocesamiento__BagOfWords__ngram_range=(1, 2)\n",
      "[CV 1/5; 50/120] END modelo=RandomForestClassifier(random_state=0), modelo__max_depth=6, percentiles__percentile=20, preprocesamiento__BagOfWords__ngram_range=(1, 2);, score=(train=1.000, test=0.667) total time=   0.7s\n",
      "[CV 2/5; 50/120] START modelo=RandomForestClassifier(random_state=0), modelo__max_depth=6, percentiles__percentile=20, preprocesamiento__BagOfWords__ngram_range=(1, 2)\n",
      "[CV 2/5; 50/120] END modelo=RandomForestClassifier(random_state=0), modelo__max_depth=6, percentiles__percentile=20, preprocesamiento__BagOfWords__ngram_range=(1, 2);, score=(train=1.000, test=0.667) total time=   0.6s\n",
      "[CV 3/5; 50/120] START modelo=RandomForestClassifier(random_state=0), modelo__max_depth=6, percentiles__percentile=20, preprocesamiento__BagOfWords__ngram_range=(1, 2)\n",
      "[CV 3/5; 50/120] END modelo=RandomForestClassifier(random_state=0), modelo__max_depth=6, percentiles__percentile=20, preprocesamiento__BagOfWords__ngram_range=(1, 2);, score=(train=0.957, test=0.667) total time=   0.3s\n",
      "[CV 4/5; 50/120] START modelo=RandomForestClassifier(random_state=0), modelo__max_depth=6, percentiles__percentile=20, preprocesamiento__BagOfWords__ngram_range=(1, 2)\n",
      "[CV 4/5; 50/120] END modelo=RandomForestClassifier(random_state=0), modelo__max_depth=6, percentiles__percentile=20, preprocesamiento__BagOfWords__ngram_range=(1, 2);, score=(train=0.958, test=0.400) total time=   0.4s\n",
      "[CV 5/5; 50/120] START modelo=RandomForestClassifier(random_state=0), modelo__max_depth=6, percentiles__percentile=20, preprocesamiento__BagOfWords__ngram_range=(1, 2)\n"
     ]
    },
    {
     "name": "stderr",
     "output_type": "stream",
     "text": [
      "C:\\Users\\Felipe\\anaconda3\\lib\\site-packages\\sklearn\\feature_selection\\_univariate_selection.py:113: RuntimeWarning: divide by zero encountered in true_divide\n",
      "  f = msb / msw\n"
     ]
    },
    {
     "name": "stdout",
     "output_type": "stream",
     "text": [
      "[CV 5/5; 50/120] END modelo=RandomForestClassifier(random_state=0), modelo__max_depth=6, percentiles__percentile=20, preprocesamiento__BagOfWords__ngram_range=(1, 2);, score=(train=1.000, test=0.800) total time=   0.4s\n",
      "[CV 1/5; 51/120] START modelo=RandomForestClassifier(random_state=0), modelo__max_depth=6, percentiles__percentile=20, preprocesamiento__BagOfWords__ngram_range=(1, 3)\n",
      "[CV 1/5; 51/120] END modelo=RandomForestClassifier(random_state=0), modelo__max_depth=6, percentiles__percentile=20, preprocesamiento__BagOfWords__ngram_range=(1, 3);, score=(train=1.000, test=0.667) total time=   0.7s\n",
      "[CV 2/5; 51/120] START modelo=RandomForestClassifier(random_state=0), modelo__max_depth=6, percentiles__percentile=20, preprocesamiento__BagOfWords__ngram_range=(1, 3)\n",
      "[CV 2/5; 51/120] END modelo=RandomForestClassifier(random_state=0), modelo__max_depth=6, percentiles__percentile=20, preprocesamiento__BagOfWords__ngram_range=(1, 3);, score=(train=1.000, test=0.500) total time=   0.6s\n",
      "[CV 3/5; 51/120] START modelo=RandomForestClassifier(random_state=0), modelo__max_depth=6, percentiles__percentile=20, preprocesamiento__BagOfWords__ngram_range=(1, 3)\n",
      "[CV 3/5; 51/120] END modelo=RandomForestClassifier(random_state=0), modelo__max_depth=6, percentiles__percentile=20, preprocesamiento__BagOfWords__ngram_range=(1, 3);, score=(train=0.957, test=0.667) total time=   0.6s\n",
      "[CV 4/5; 51/120] START modelo=RandomForestClassifier(random_state=0), modelo__max_depth=6, percentiles__percentile=20, preprocesamiento__BagOfWords__ngram_range=(1, 3)\n",
      "[CV 4/5; 51/120] END modelo=RandomForestClassifier(random_state=0), modelo__max_depth=6, percentiles__percentile=20, preprocesamiento__BagOfWords__ngram_range=(1, 3);, score=(train=1.000, test=0.400) total time=   0.8s\n",
      "[CV 5/5; 51/120] START modelo=RandomForestClassifier(random_state=0), modelo__max_depth=6, percentiles__percentile=20, preprocesamiento__BagOfWords__ngram_range=(1, 3)\n"
     ]
    },
    {
     "name": "stderr",
     "output_type": "stream",
     "text": [
      "C:\\Users\\Felipe\\anaconda3\\lib\\site-packages\\sklearn\\feature_selection\\_univariate_selection.py:113: RuntimeWarning: divide by zero encountered in true_divide\n",
      "  f = msb / msw\n"
     ]
    },
    {
     "name": "stdout",
     "output_type": "stream",
     "text": [
      "[CV 5/5; 51/120] END modelo=RandomForestClassifier(random_state=0), modelo__max_depth=6, percentiles__percentile=20, preprocesamiento__BagOfWords__ngram_range=(1, 3);, score=(train=1.000, test=0.800) total time=   0.4s\n",
      "[CV 1/5; 52/120] START modelo=RandomForestClassifier(random_state=0), modelo__max_depth=6, percentiles__percentile=40, preprocesamiento__BagOfWords__ngram_range=(1, 1)\n",
      "[CV 1/5; 52/120] END modelo=RandomForestClassifier(random_state=0), modelo__max_depth=6, percentiles__percentile=40, preprocesamiento__BagOfWords__ngram_range=(1, 1);, score=(train=1.000, test=0.667) total time=   0.6s\n",
      "[CV 2/5; 52/120] START modelo=RandomForestClassifier(random_state=0), modelo__max_depth=6, percentiles__percentile=40, preprocesamiento__BagOfWords__ngram_range=(1, 1)\n",
      "[CV 2/5; 52/120] END modelo=RandomForestClassifier(random_state=0), modelo__max_depth=6, percentiles__percentile=40, preprocesamiento__BagOfWords__ngram_range=(1, 1);, score=(train=1.000, test=0.500) total time=   0.6s\n",
      "[CV 3/5; 52/120] START modelo=RandomForestClassifier(random_state=0), modelo__max_depth=6, percentiles__percentile=40, preprocesamiento__BagOfWords__ngram_range=(1, 1)\n",
      "[CV 3/5; 52/120] END modelo=RandomForestClassifier(random_state=0), modelo__max_depth=6, percentiles__percentile=40, preprocesamiento__BagOfWords__ngram_range=(1, 1);, score=(train=1.000, test=0.667) total time=   0.2s\n",
      "[CV 4/5; 52/120] START modelo=RandomForestClassifier(random_state=0), modelo__max_depth=6, percentiles__percentile=40, preprocesamiento__BagOfWords__ngram_range=(1, 1)\n",
      "[CV 4/5; 52/120] END modelo=RandomForestClassifier(random_state=0), modelo__max_depth=6, percentiles__percentile=40, preprocesamiento__BagOfWords__ngram_range=(1, 1);, score=(train=1.000, test=0.400) total time=   0.4s\n",
      "[CV 5/5; 52/120] START modelo=RandomForestClassifier(random_state=0), modelo__max_depth=6, percentiles__percentile=40, preprocesamiento__BagOfWords__ngram_range=(1, 1)\n"
     ]
    },
    {
     "name": "stderr",
     "output_type": "stream",
     "text": [
      "C:\\Users\\Felipe\\anaconda3\\lib\\site-packages\\sklearn\\feature_selection\\_univariate_selection.py:113: RuntimeWarning: divide by zero encountered in true_divide\n",
      "  f = msb / msw\n"
     ]
    },
    {
     "name": "stdout",
     "output_type": "stream",
     "text": [
      "[CV 5/5; 52/120] END modelo=RandomForestClassifier(random_state=0), modelo__max_depth=6, percentiles__percentile=40, preprocesamiento__BagOfWords__ngram_range=(1, 1);, score=(train=1.000, test=0.800) total time=   0.4s\n",
      "[CV 1/5; 53/120] START modelo=RandomForestClassifier(random_state=0), modelo__max_depth=6, percentiles__percentile=40, preprocesamiento__BagOfWords__ngram_range=(1, 2)\n",
      "[CV 1/5; 53/120] END modelo=RandomForestClassifier(random_state=0), modelo__max_depth=6, percentiles__percentile=40, preprocesamiento__BagOfWords__ngram_range=(1, 2);, score=(train=1.000, test=0.667) total time=   0.6s\n",
      "[CV 2/5; 53/120] START modelo=RandomForestClassifier(random_state=0), modelo__max_depth=6, percentiles__percentile=40, preprocesamiento__BagOfWords__ngram_range=(1, 2)\n",
      "[CV 2/5; 53/120] END modelo=RandomForestClassifier(random_state=0), modelo__max_depth=6, percentiles__percentile=40, preprocesamiento__BagOfWords__ngram_range=(1, 2);, score=(train=1.000, test=0.500) total time=   0.6s\n",
      "[CV 3/5; 53/120] START modelo=RandomForestClassifier(random_state=0), modelo__max_depth=6, percentiles__percentile=40, preprocesamiento__BagOfWords__ngram_range=(1, 2)\n",
      "[CV 3/5; 53/120] END modelo=RandomForestClassifier(random_state=0), modelo__max_depth=6, percentiles__percentile=40, preprocesamiento__BagOfWords__ngram_range=(1, 2);, score=(train=1.000, test=0.667) total time=   0.3s\n",
      "[CV 4/5; 53/120] START modelo=RandomForestClassifier(random_state=0), modelo__max_depth=6, percentiles__percentile=40, preprocesamiento__BagOfWords__ngram_range=(1, 2)\n",
      "[CV 4/5; 53/120] END modelo=RandomForestClassifier(random_state=0), modelo__max_depth=6, percentiles__percentile=40, preprocesamiento__BagOfWords__ngram_range=(1, 2);, score=(train=0.958, test=0.400) total time=   0.4s\n",
      "[CV 5/5; 53/120] START modelo=RandomForestClassifier(random_state=0), modelo__max_depth=6, percentiles__percentile=40, preprocesamiento__BagOfWords__ngram_range=(1, 2)\n"
     ]
    },
    {
     "name": "stderr",
     "output_type": "stream",
     "text": [
      "C:\\Users\\Felipe\\anaconda3\\lib\\site-packages\\sklearn\\feature_selection\\_univariate_selection.py:113: RuntimeWarning: divide by zero encountered in true_divide\n",
      "  f = msb / msw\n"
     ]
    },
    {
     "name": "stdout",
     "output_type": "stream",
     "text": [
      "[CV 5/5; 53/120] END modelo=RandomForestClassifier(random_state=0), modelo__max_depth=6, percentiles__percentile=40, preprocesamiento__BagOfWords__ngram_range=(1, 2);, score=(train=1.000, test=0.800) total time=   0.4s\n",
      "[CV 1/5; 54/120] START modelo=RandomForestClassifier(random_state=0), modelo__max_depth=6, percentiles__percentile=40, preprocesamiento__BagOfWords__ngram_range=(1, 3)\n",
      "[CV 1/5; 54/120] END modelo=RandomForestClassifier(random_state=0), modelo__max_depth=6, percentiles__percentile=40, preprocesamiento__BagOfWords__ngram_range=(1, 3);, score=(train=1.000, test=0.667) total time=   0.7s\n",
      "[CV 2/5; 54/120] START modelo=RandomForestClassifier(random_state=0), modelo__max_depth=6, percentiles__percentile=40, preprocesamiento__BagOfWords__ngram_range=(1, 3)\n",
      "[CV 2/5; 54/120] END modelo=RandomForestClassifier(random_state=0), modelo__max_depth=6, percentiles__percentile=40, preprocesamiento__BagOfWords__ngram_range=(1, 3);, score=(train=1.000, test=0.500) total time=   0.7s\n",
      "[CV 3/5; 54/120] START modelo=RandomForestClassifier(random_state=0), modelo__max_depth=6, percentiles__percentile=40, preprocesamiento__BagOfWords__ngram_range=(1, 3)\n",
      "[CV 3/5; 54/120] END modelo=RandomForestClassifier(random_state=0), modelo__max_depth=6, percentiles__percentile=40, preprocesamiento__BagOfWords__ngram_range=(1, 3);, score=(train=1.000, test=0.667) total time=   0.3s\n",
      "[CV 4/5; 54/120] START modelo=RandomForestClassifier(random_state=0), modelo__max_depth=6, percentiles__percentile=40, preprocesamiento__BagOfWords__ngram_range=(1, 3)\n",
      "[CV 4/5; 54/120] END modelo=RandomForestClassifier(random_state=0), modelo__max_depth=6, percentiles__percentile=40, preprocesamiento__BagOfWords__ngram_range=(1, 3);, score=(train=1.000, test=0.400) total time=   0.5s\n",
      "[CV 5/5; 54/120] START modelo=RandomForestClassifier(random_state=0), modelo__max_depth=6, percentiles__percentile=40, preprocesamiento__BagOfWords__ngram_range=(1, 3)\n"
     ]
    },
    {
     "name": "stderr",
     "output_type": "stream",
     "text": [
      "C:\\Users\\Felipe\\anaconda3\\lib\\site-packages\\sklearn\\feature_selection\\_univariate_selection.py:113: RuntimeWarning: divide by zero encountered in true_divide\n",
      "  f = msb / msw\n"
     ]
    },
    {
     "name": "stdout",
     "output_type": "stream",
     "text": [
      "[CV 5/5; 54/120] END modelo=RandomForestClassifier(random_state=0), modelo__max_depth=6, percentiles__percentile=40, preprocesamiento__BagOfWords__ngram_range=(1, 3);, score=(train=1.000, test=0.800) total time=   0.7s\n",
      "[CV 1/5; 55/120] START modelo=RandomForestClassifier(random_state=0), modelo__max_depth=6, percentiles__percentile=60, preprocesamiento__BagOfWords__ngram_range=(1, 1)\n",
      "[CV 1/5; 55/120] END modelo=RandomForestClassifier(random_state=0), modelo__max_depth=6, percentiles__percentile=60, preprocesamiento__BagOfWords__ngram_range=(1, 1);, score=(train=1.000, test=0.667) total time=   1.0s\n",
      "[CV 2/5; 55/120] START modelo=RandomForestClassifier(random_state=0), modelo__max_depth=6, percentiles__percentile=60, preprocesamiento__BagOfWords__ngram_range=(1, 1)\n",
      "[CV 2/5; 55/120] END modelo=RandomForestClassifier(random_state=0), modelo__max_depth=6, percentiles__percentile=60, preprocesamiento__BagOfWords__ngram_range=(1, 1);, score=(train=0.957, test=0.333) total time=   0.6s\n",
      "[CV 3/5; 55/120] START modelo=RandomForestClassifier(random_state=0), modelo__max_depth=6, percentiles__percentile=60, preprocesamiento__BagOfWords__ngram_range=(1, 1)\n",
      "[CV 3/5; 55/120] END modelo=RandomForestClassifier(random_state=0), modelo__max_depth=6, percentiles__percentile=60, preprocesamiento__BagOfWords__ngram_range=(1, 1);, score=(train=1.000, test=0.667) total time=   0.2s\n",
      "[CV 4/5; 55/120] START modelo=RandomForestClassifier(random_state=0), modelo__max_depth=6, percentiles__percentile=60, preprocesamiento__BagOfWords__ngram_range=(1, 1)\n",
      "[CV 4/5; 55/120] END modelo=RandomForestClassifier(random_state=0), modelo__max_depth=6, percentiles__percentile=60, preprocesamiento__BagOfWords__ngram_range=(1, 1);, score=(train=0.958, test=0.400) total time=   0.4s\n",
      "[CV 5/5; 55/120] START modelo=RandomForestClassifier(random_state=0), modelo__max_depth=6, percentiles__percentile=60, preprocesamiento__BagOfWords__ngram_range=(1, 1)\n"
     ]
    },
    {
     "name": "stderr",
     "output_type": "stream",
     "text": [
      "C:\\Users\\Felipe\\anaconda3\\lib\\site-packages\\sklearn\\feature_selection\\_univariate_selection.py:113: RuntimeWarning: divide by zero encountered in true_divide\n",
      "  f = msb / msw\n"
     ]
    },
    {
     "name": "stdout",
     "output_type": "stream",
     "text": [
      "[CV 5/5; 55/120] END modelo=RandomForestClassifier(random_state=0), modelo__max_depth=6, percentiles__percentile=60, preprocesamiento__BagOfWords__ngram_range=(1, 1);, score=(train=1.000, test=0.800) total time=   0.4s\n",
      "[CV 1/5; 56/120] START modelo=RandomForestClassifier(random_state=0), modelo__max_depth=6, percentiles__percentile=60, preprocesamiento__BagOfWords__ngram_range=(1, 2)\n",
      "[CV 1/5; 56/120] END modelo=RandomForestClassifier(random_state=0), modelo__max_depth=6, percentiles__percentile=60, preprocesamiento__BagOfWords__ngram_range=(1, 2);, score=(train=1.000, test=0.667) total time=   0.6s\n",
      "[CV 2/5; 56/120] START modelo=RandomForestClassifier(random_state=0), modelo__max_depth=6, percentiles__percentile=60, preprocesamiento__BagOfWords__ngram_range=(1, 2)\n",
      "[CV 2/5; 56/120] END modelo=RandomForestClassifier(random_state=0), modelo__max_depth=6, percentiles__percentile=60, preprocesamiento__BagOfWords__ngram_range=(1, 2);, score=(train=1.000, test=0.500) total time=   0.6s\n",
      "[CV 3/5; 56/120] START modelo=RandomForestClassifier(random_state=0), modelo__max_depth=6, percentiles__percentile=60, preprocesamiento__BagOfWords__ngram_range=(1, 2)\n",
      "[CV 3/5; 56/120] END modelo=RandomForestClassifier(random_state=0), modelo__max_depth=6, percentiles__percentile=60, preprocesamiento__BagOfWords__ngram_range=(1, 2);, score=(train=1.000, test=0.667) total time=   0.3s\n",
      "[CV 4/5; 56/120] START modelo=RandomForestClassifier(random_state=0), modelo__max_depth=6, percentiles__percentile=60, preprocesamiento__BagOfWords__ngram_range=(1, 2)\n",
      "[CV 4/5; 56/120] END modelo=RandomForestClassifier(random_state=0), modelo__max_depth=6, percentiles__percentile=60, preprocesamiento__BagOfWords__ngram_range=(1, 2);, score=(train=1.000, test=0.400) total time=   0.5s\n",
      "[CV 5/5; 56/120] START modelo=RandomForestClassifier(random_state=0), modelo__max_depth=6, percentiles__percentile=60, preprocesamiento__BagOfWords__ngram_range=(1, 2)\n"
     ]
    },
    {
     "name": "stderr",
     "output_type": "stream",
     "text": [
      "C:\\Users\\Felipe\\anaconda3\\lib\\site-packages\\sklearn\\feature_selection\\_univariate_selection.py:113: RuntimeWarning: divide by zero encountered in true_divide\n",
      "  f = msb / msw\n"
     ]
    },
    {
     "name": "stdout",
     "output_type": "stream",
     "text": [
      "[CV 5/5; 56/120] END modelo=RandomForestClassifier(random_state=0), modelo__max_depth=6, percentiles__percentile=60, preprocesamiento__BagOfWords__ngram_range=(1, 2);, score=(train=1.000, test=0.800) total time=   0.4s\n",
      "[CV 1/5; 57/120] START modelo=RandomForestClassifier(random_state=0), modelo__max_depth=6, percentiles__percentile=60, preprocesamiento__BagOfWords__ngram_range=(1, 3)\n",
      "[CV 1/5; 57/120] END modelo=RandomForestClassifier(random_state=0), modelo__max_depth=6, percentiles__percentile=60, preprocesamiento__BagOfWords__ngram_range=(1, 3);, score=(train=1.000, test=0.667) total time=   0.7s\n",
      "[CV 2/5; 57/120] START modelo=RandomForestClassifier(random_state=0), modelo__max_depth=6, percentiles__percentile=60, preprocesamiento__BagOfWords__ngram_range=(1, 3)\n",
      "[CV 2/5; 57/120] END modelo=RandomForestClassifier(random_state=0), modelo__max_depth=6, percentiles__percentile=60, preprocesamiento__BagOfWords__ngram_range=(1, 3);, score=(train=1.000, test=0.500) total time=   0.6s\n",
      "[CV 3/5; 57/120] START modelo=RandomForestClassifier(random_state=0), modelo__max_depth=6, percentiles__percentile=60, preprocesamiento__BagOfWords__ngram_range=(1, 3)\n",
      "[CV 3/5; 57/120] END modelo=RandomForestClassifier(random_state=0), modelo__max_depth=6, percentiles__percentile=60, preprocesamiento__BagOfWords__ngram_range=(1, 3);, score=(train=1.000, test=0.667) total time=   0.3s\n",
      "[CV 4/5; 57/120] START modelo=RandomForestClassifier(random_state=0), modelo__max_depth=6, percentiles__percentile=60, preprocesamiento__BagOfWords__ngram_range=(1, 3)\n",
      "[CV 4/5; 57/120] END modelo=RandomForestClassifier(random_state=0), modelo__max_depth=6, percentiles__percentile=60, preprocesamiento__BagOfWords__ngram_range=(1, 3);, score=(train=1.000, test=0.400) total time=   0.5s\n",
      "[CV 5/5; 57/120] START modelo=RandomForestClassifier(random_state=0), modelo__max_depth=6, percentiles__percentile=60, preprocesamiento__BagOfWords__ngram_range=(1, 3)\n"
     ]
    },
    {
     "name": "stderr",
     "output_type": "stream",
     "text": [
      "C:\\Users\\Felipe\\anaconda3\\lib\\site-packages\\sklearn\\feature_selection\\_univariate_selection.py:113: RuntimeWarning: divide by zero encountered in true_divide\n",
      "  f = msb / msw\n"
     ]
    },
    {
     "name": "stdout",
     "output_type": "stream",
     "text": [
      "[CV 5/5; 57/120] END modelo=RandomForestClassifier(random_state=0), modelo__max_depth=6, percentiles__percentile=60, preprocesamiento__BagOfWords__ngram_range=(1, 3);, score=(train=1.000, test=0.800) total time=   0.4s\n",
      "[CV 1/5; 58/120] START modelo=RandomForestClassifier(random_state=0), modelo__max_depth=6, percentiles__percentile=80, preprocesamiento__BagOfWords__ngram_range=(1, 1)\n",
      "[CV 1/5; 58/120] END modelo=RandomForestClassifier(random_state=0), modelo__max_depth=6, percentiles__percentile=80, preprocesamiento__BagOfWords__ngram_range=(1, 1);, score=(train=1.000, test=0.667) total time=   0.8s\n",
      "[CV 2/5; 58/120] START modelo=RandomForestClassifier(random_state=0), modelo__max_depth=6, percentiles__percentile=80, preprocesamiento__BagOfWords__ngram_range=(1, 1)\n",
      "[CV 2/5; 58/120] END modelo=RandomForestClassifier(random_state=0), modelo__max_depth=6, percentiles__percentile=80, preprocesamiento__BagOfWords__ngram_range=(1, 1);, score=(train=0.957, test=0.500) total time=   0.9s\n",
      "[CV 3/5; 58/120] START modelo=RandomForestClassifier(random_state=0), modelo__max_depth=6, percentiles__percentile=80, preprocesamiento__BagOfWords__ngram_range=(1, 1)\n",
      "[CV 3/5; 58/120] END modelo=RandomForestClassifier(random_state=0), modelo__max_depth=6, percentiles__percentile=80, preprocesamiento__BagOfWords__ngram_range=(1, 1);, score=(train=1.000, test=0.667) total time=   0.3s\n",
      "[CV 4/5; 58/120] START modelo=RandomForestClassifier(random_state=0), modelo__max_depth=6, percentiles__percentile=80, preprocesamiento__BagOfWords__ngram_range=(1, 1)\n",
      "[CV 4/5; 58/120] END modelo=RandomForestClassifier(random_state=0), modelo__max_depth=6, percentiles__percentile=80, preprocesamiento__BagOfWords__ngram_range=(1, 1);, score=(train=0.958, test=0.400) total time=   0.4s\n",
      "[CV 5/5; 58/120] START modelo=RandomForestClassifier(random_state=0), modelo__max_depth=6, percentiles__percentile=80, preprocesamiento__BagOfWords__ngram_range=(1, 1)\n"
     ]
    },
    {
     "name": "stderr",
     "output_type": "stream",
     "text": [
      "C:\\Users\\Felipe\\anaconda3\\lib\\site-packages\\sklearn\\feature_selection\\_univariate_selection.py:113: RuntimeWarning: divide by zero encountered in true_divide\n",
      "  f = msb / msw\n"
     ]
    },
    {
     "name": "stdout",
     "output_type": "stream",
     "text": [
      "[CV 5/5; 58/120] END modelo=RandomForestClassifier(random_state=0), modelo__max_depth=6, percentiles__percentile=80, preprocesamiento__BagOfWords__ngram_range=(1, 1);, score=(train=1.000, test=0.800) total time=   0.4s\n",
      "[CV 1/5; 59/120] START modelo=RandomForestClassifier(random_state=0), modelo__max_depth=6, percentiles__percentile=80, preprocesamiento__BagOfWords__ngram_range=(1, 2)\n",
      "[CV 1/5; 59/120] END modelo=RandomForestClassifier(random_state=0), modelo__max_depth=6, percentiles__percentile=80, preprocesamiento__BagOfWords__ngram_range=(1, 2);, score=(train=1.000, test=0.667) total time=   0.6s\n",
      "[CV 2/5; 59/120] START modelo=RandomForestClassifier(random_state=0), modelo__max_depth=6, percentiles__percentile=80, preprocesamiento__BagOfWords__ngram_range=(1, 2)\n",
      "[CV 2/5; 59/120] END modelo=RandomForestClassifier(random_state=0), modelo__max_depth=6, percentiles__percentile=80, preprocesamiento__BagOfWords__ngram_range=(1, 2);, score=(train=1.000, test=0.500) total time=   0.6s\n",
      "[CV 3/5; 59/120] START modelo=RandomForestClassifier(random_state=0), modelo__max_depth=6, percentiles__percentile=80, preprocesamiento__BagOfWords__ngram_range=(1, 2)\n",
      "[CV 3/5; 59/120] END modelo=RandomForestClassifier(random_state=0), modelo__max_depth=6, percentiles__percentile=80, preprocesamiento__BagOfWords__ngram_range=(1, 2);, score=(train=0.957, test=0.667) total time=   0.3s\n",
      "[CV 4/5; 59/120] START modelo=RandomForestClassifier(random_state=0), modelo__max_depth=6, percentiles__percentile=80, preprocesamiento__BagOfWords__ngram_range=(1, 2)\n",
      "[CV 4/5; 59/120] END modelo=RandomForestClassifier(random_state=0), modelo__max_depth=6, percentiles__percentile=80, preprocesamiento__BagOfWords__ngram_range=(1, 2);, score=(train=0.958, test=0.400) total time=   0.5s\n",
      "[CV 5/5; 59/120] START modelo=RandomForestClassifier(random_state=0), modelo__max_depth=6, percentiles__percentile=80, preprocesamiento__BagOfWords__ngram_range=(1, 2)\n"
     ]
    },
    {
     "name": "stderr",
     "output_type": "stream",
     "text": [
      "C:\\Users\\Felipe\\anaconda3\\lib\\site-packages\\sklearn\\feature_selection\\_univariate_selection.py:113: RuntimeWarning: divide by zero encountered in true_divide\n",
      "  f = msb / msw\n"
     ]
    },
    {
     "name": "stdout",
     "output_type": "stream",
     "text": [
      "[CV 5/5; 59/120] END modelo=RandomForestClassifier(random_state=0), modelo__max_depth=6, percentiles__percentile=80, preprocesamiento__BagOfWords__ngram_range=(1, 2);, score=(train=1.000, test=0.800) total time=   0.4s\n",
      "[CV 1/5; 60/120] START modelo=RandomForestClassifier(random_state=0), modelo__max_depth=6, percentiles__percentile=80, preprocesamiento__BagOfWords__ngram_range=(1, 3)\n",
      "[CV 1/5; 60/120] END modelo=RandomForestClassifier(random_state=0), modelo__max_depth=6, percentiles__percentile=80, preprocesamiento__BagOfWords__ngram_range=(1, 3);, score=(train=1.000, test=0.667) total time=   0.7s\n",
      "[CV 2/5; 60/120] START modelo=RandomForestClassifier(random_state=0), modelo__max_depth=6, percentiles__percentile=80, preprocesamiento__BagOfWords__ngram_range=(1, 3)\n",
      "[CV 2/5; 60/120] END modelo=RandomForestClassifier(random_state=0), modelo__max_depth=6, percentiles__percentile=80, preprocesamiento__BagOfWords__ngram_range=(1, 3);, score=(train=1.000, test=0.500) total time=   0.7s\n",
      "[CV 3/5; 60/120] START modelo=RandomForestClassifier(random_state=0), modelo__max_depth=6, percentiles__percentile=80, preprocesamiento__BagOfWords__ngram_range=(1, 3)\n",
      "[CV 3/5; 60/120] END modelo=RandomForestClassifier(random_state=0), modelo__max_depth=6, percentiles__percentile=80, preprocesamiento__BagOfWords__ngram_range=(1, 3);, score=(train=0.913, test=0.667) total time=   0.3s\n",
      "[CV 4/5; 60/120] START modelo=RandomForestClassifier(random_state=0), modelo__max_depth=6, percentiles__percentile=80, preprocesamiento__BagOfWords__ngram_range=(1, 3)\n",
      "[CV 4/5; 60/120] END modelo=RandomForestClassifier(random_state=0), modelo__max_depth=6, percentiles__percentile=80, preprocesamiento__BagOfWords__ngram_range=(1, 3);, score=(train=0.958, test=0.400) total time=   0.5s\n",
      "[CV 5/5; 60/120] START modelo=RandomForestClassifier(random_state=0), modelo__max_depth=6, percentiles__percentile=80, preprocesamiento__BagOfWords__ngram_range=(1, 3)\n"
     ]
    },
    {
     "name": "stderr",
     "output_type": "stream",
     "text": [
      "C:\\Users\\Felipe\\anaconda3\\lib\\site-packages\\sklearn\\feature_selection\\_univariate_selection.py:113: RuntimeWarning: divide by zero encountered in true_divide\n",
      "  f = msb / msw\n"
     ]
    },
    {
     "name": "stdout",
     "output_type": "stream",
     "text": [
      "[CV 5/5; 60/120] END modelo=RandomForestClassifier(random_state=0), modelo__max_depth=6, percentiles__percentile=80, preprocesamiento__BagOfWords__ngram_range=(1, 3);, score=(train=1.000, test=0.800) total time=   0.4s\n",
      "[CV 1/5; 61/120] START modelo=KNeighborsClassifier(), modelo__n_neighbors=2, percentiles__percentile=20, preprocesamiento__BagOfWords__ngram_range=(1, 1)\n",
      "[CV 1/5; 61/120] END modelo=KNeighborsClassifier(), modelo__n_neighbors=2, percentiles__percentile=20, preprocesamiento__BagOfWords__ngram_range=(1, 1);, score=(train=0.870, test=1.000) total time=   0.5s\n",
      "[CV 2/5; 61/120] START modelo=KNeighborsClassifier(), modelo__n_neighbors=2, percentiles__percentile=20, preprocesamiento__BagOfWords__ngram_range=(1, 1)\n",
      "[CV 2/5; 61/120] END modelo=KNeighborsClassifier(), modelo__n_neighbors=2, percentiles__percentile=20, preprocesamiento__BagOfWords__ngram_range=(1, 1);, score=(train=0.826, test=0.333) total time=   0.4s\n",
      "[CV 3/5; 61/120] START modelo=KNeighborsClassifier(), modelo__n_neighbors=2, percentiles__percentile=20, preprocesamiento__BagOfWords__ngram_range=(1, 1)\n",
      "[CV 3/5; 61/120] END modelo=KNeighborsClassifier(), modelo__n_neighbors=2, percentiles__percentile=20, preprocesamiento__BagOfWords__ngram_range=(1, 1);, score=(train=0.870, test=0.667) total time=   0.3s\n",
      "[CV 4/5; 61/120] START modelo=KNeighborsClassifier(), modelo__n_neighbors=2, percentiles__percentile=20, preprocesamiento__BagOfWords__ngram_range=(1, 1)\n",
      "[CV 4/5; 61/120] END modelo=KNeighborsClassifier(), modelo__n_neighbors=2, percentiles__percentile=20, preprocesamiento__BagOfWords__ngram_range=(1, 1);, score=(train=0.667, test=0.400) total time=   0.5s\n",
      "[CV 5/5; 61/120] START modelo=KNeighborsClassifier(), modelo__n_neighbors=2, percentiles__percentile=20, preprocesamiento__BagOfWords__ngram_range=(1, 1)\n"
     ]
    },
    {
     "name": "stderr",
     "output_type": "stream",
     "text": [
      "C:\\Users\\Felipe\\anaconda3\\lib\\site-packages\\sklearn\\feature_selection\\_univariate_selection.py:113: RuntimeWarning: divide by zero encountered in true_divide\n",
      "  f = msb / msw\n"
     ]
    },
    {
     "name": "stdout",
     "output_type": "stream",
     "text": [
      "[CV 5/5; 61/120] END modelo=KNeighborsClassifier(), modelo__n_neighbors=2, percentiles__percentile=20, preprocesamiento__BagOfWords__ngram_range=(1, 1);, score=(train=0.958, test=0.800) total time=   0.4s\n",
      "[CV 1/5; 62/120] START modelo=KNeighborsClassifier(), modelo__n_neighbors=2, percentiles__percentile=20, preprocesamiento__BagOfWords__ngram_range=(1, 2)\n",
      "[CV 1/5; 62/120] END modelo=KNeighborsClassifier(), modelo__n_neighbors=2, percentiles__percentile=20, preprocesamiento__BagOfWords__ngram_range=(1, 2);, score=(train=0.913, test=0.500) total time=   0.5s\n",
      "[CV 2/5; 62/120] START modelo=KNeighborsClassifier(), modelo__n_neighbors=2, percentiles__percentile=20, preprocesamiento__BagOfWords__ngram_range=(1, 2)\n",
      "[CV 2/5; 62/120] END modelo=KNeighborsClassifier(), modelo__n_neighbors=2, percentiles__percentile=20, preprocesamiento__BagOfWords__ngram_range=(1, 2);, score=(train=0.826, test=0.667) total time=   0.4s\n",
      "[CV 3/5; 62/120] START modelo=KNeighborsClassifier(), modelo__n_neighbors=2, percentiles__percentile=20, preprocesamiento__BagOfWords__ngram_range=(1, 2)\n",
      "[CV 3/5; 62/120] END modelo=KNeighborsClassifier(), modelo__n_neighbors=2, percentiles__percentile=20, preprocesamiento__BagOfWords__ngram_range=(1, 2);, score=(train=0.870, test=0.667) total time=   0.1s\n",
      "[CV 4/5; 62/120] START modelo=KNeighborsClassifier(), modelo__n_neighbors=2, percentiles__percentile=20, preprocesamiento__BagOfWords__ngram_range=(1, 2)\n",
      "[CV 4/5; 62/120] END modelo=KNeighborsClassifier(), modelo__n_neighbors=2, percentiles__percentile=20, preprocesamiento__BagOfWords__ngram_range=(1, 2);, score=(train=0.667, test=0.400) total time=   0.4s\n",
      "[CV 5/5; 62/120] START modelo=KNeighborsClassifier(), modelo__n_neighbors=2, percentiles__percentile=20, preprocesamiento__BagOfWords__ngram_range=(1, 2)\n"
     ]
    },
    {
     "name": "stderr",
     "output_type": "stream",
     "text": [
      "C:\\Users\\Felipe\\anaconda3\\lib\\site-packages\\sklearn\\feature_selection\\_univariate_selection.py:113: RuntimeWarning: divide by zero encountered in true_divide\n",
      "  f = msb / msw\n"
     ]
    },
    {
     "name": "stdout",
     "output_type": "stream",
     "text": [
      "[CV 5/5; 62/120] END modelo=KNeighborsClassifier(), modelo__n_neighbors=2, percentiles__percentile=20, preprocesamiento__BagOfWords__ngram_range=(1, 2);, score=(train=0.958, test=0.800) total time=   0.3s\n",
      "[CV 1/5; 63/120] START modelo=KNeighborsClassifier(), modelo__n_neighbors=2, percentiles__percentile=20, preprocesamiento__BagOfWords__ngram_range=(1, 3)\n",
      "[CV 1/5; 63/120] END modelo=KNeighborsClassifier(), modelo__n_neighbors=2, percentiles__percentile=20, preprocesamiento__BagOfWords__ngram_range=(1, 3);, score=(train=0.913, test=0.667) total time=   0.5s\n",
      "[CV 2/5; 63/120] START modelo=KNeighborsClassifier(), modelo__n_neighbors=2, percentiles__percentile=20, preprocesamiento__BagOfWords__ngram_range=(1, 3)\n",
      "[CV 2/5; 63/120] END modelo=KNeighborsClassifier(), modelo__n_neighbors=2, percentiles__percentile=20, preprocesamiento__BagOfWords__ngram_range=(1, 3);, score=(train=0.870, test=0.667) total time=   0.5s\n",
      "[CV 3/5; 63/120] START modelo=KNeighborsClassifier(), modelo__n_neighbors=2, percentiles__percentile=20, preprocesamiento__BagOfWords__ngram_range=(1, 3)\n",
      "[CV 3/5; 63/120] END modelo=KNeighborsClassifier(), modelo__n_neighbors=2, percentiles__percentile=20, preprocesamiento__BagOfWords__ngram_range=(1, 3);, score=(train=0.870, test=0.667) total time=   0.2s\n",
      "[CV 4/5; 63/120] START modelo=KNeighborsClassifier(), modelo__n_neighbors=2, percentiles__percentile=20, preprocesamiento__BagOfWords__ngram_range=(1, 3)\n",
      "[CV 4/5; 63/120] END modelo=KNeighborsClassifier(), modelo__n_neighbors=2, percentiles__percentile=20, preprocesamiento__BagOfWords__ngram_range=(1, 3);, score=(train=0.667, test=0.400) total time=   0.3s\n",
      "[CV 5/5; 63/120] START modelo=KNeighborsClassifier(), modelo__n_neighbors=2, percentiles__percentile=20, preprocesamiento__BagOfWords__ngram_range=(1, 3)\n"
     ]
    },
    {
     "name": "stderr",
     "output_type": "stream",
     "text": [
      "C:\\Users\\Felipe\\anaconda3\\lib\\site-packages\\sklearn\\feature_selection\\_univariate_selection.py:113: RuntimeWarning: divide by zero encountered in true_divide\n",
      "  f = msb / msw\n"
     ]
    },
    {
     "name": "stdout",
     "output_type": "stream",
     "text": [
      "[CV 5/5; 63/120] END modelo=KNeighborsClassifier(), modelo__n_neighbors=2, percentiles__percentile=20, preprocesamiento__BagOfWords__ngram_range=(1, 3);, score=(train=0.958, test=0.800) total time=   0.3s\n",
      "[CV 1/5; 64/120] START modelo=KNeighborsClassifier(), modelo__n_neighbors=2, percentiles__percentile=40, preprocesamiento__BagOfWords__ngram_range=(1, 1)\n",
      "[CV 1/5; 64/120] END modelo=KNeighborsClassifier(), modelo__n_neighbors=2, percentiles__percentile=40, preprocesamiento__BagOfWords__ngram_range=(1, 1);, score=(train=0.826, test=0.167) total time=   0.5s\n",
      "[CV 2/5; 64/120] START modelo=KNeighborsClassifier(), modelo__n_neighbors=2, percentiles__percentile=40, preprocesamiento__BagOfWords__ngram_range=(1, 1)\n",
      "[CV 2/5; 64/120] END modelo=KNeighborsClassifier(), modelo__n_neighbors=2, percentiles__percentile=40, preprocesamiento__BagOfWords__ngram_range=(1, 1);, score=(train=0.870, test=0.500) total time=   0.4s\n",
      "[CV 3/5; 64/120] START modelo=KNeighborsClassifier(), modelo__n_neighbors=2, percentiles__percentile=40, preprocesamiento__BagOfWords__ngram_range=(1, 1)\n",
      "[CV 3/5; 64/120] END modelo=KNeighborsClassifier(), modelo__n_neighbors=2, percentiles__percentile=40, preprocesamiento__BagOfWords__ngram_range=(1, 1);, score=(train=0.870, test=0.667) total time=   0.1s\n",
      "[CV 4/5; 64/120] START modelo=KNeighborsClassifier(), modelo__n_neighbors=2, percentiles__percentile=40, preprocesamiento__BagOfWords__ngram_range=(1, 1)\n",
      "[CV 4/5; 64/120] END modelo=KNeighborsClassifier(), modelo__n_neighbors=2, percentiles__percentile=40, preprocesamiento__BagOfWords__ngram_range=(1, 1);, score=(train=0.667, test=0.400) total time=   0.3s\n",
      "[CV 5/5; 64/120] START modelo=KNeighborsClassifier(), modelo__n_neighbors=2, percentiles__percentile=40, preprocesamiento__BagOfWords__ngram_range=(1, 1)\n"
     ]
    },
    {
     "name": "stderr",
     "output_type": "stream",
     "text": [
      "C:\\Users\\Felipe\\anaconda3\\lib\\site-packages\\sklearn\\feature_selection\\_univariate_selection.py:113: RuntimeWarning: divide by zero encountered in true_divide\n",
      "  f = msb / msw\n"
     ]
    },
    {
     "name": "stdout",
     "output_type": "stream",
     "text": [
      "[CV 5/5; 64/120] END modelo=KNeighborsClassifier(), modelo__n_neighbors=2, percentiles__percentile=40, preprocesamiento__BagOfWords__ngram_range=(1, 1);, score=(train=0.958, test=0.800) total time=   0.2s\n",
      "[CV 1/5; 65/120] START modelo=KNeighborsClassifier(), modelo__n_neighbors=2, percentiles__percentile=40, preprocesamiento__BagOfWords__ngram_range=(1, 2)\n",
      "[CV 1/5; 65/120] END modelo=KNeighborsClassifier(), modelo__n_neighbors=2, percentiles__percentile=40, preprocesamiento__BagOfWords__ngram_range=(1, 2);, score=(train=0.870, test=0.500) total time=   0.5s\n",
      "[CV 2/5; 65/120] START modelo=KNeighborsClassifier(), modelo__n_neighbors=2, percentiles__percentile=40, preprocesamiento__BagOfWords__ngram_range=(1, 2)\n",
      "[CV 2/5; 65/120] END modelo=KNeighborsClassifier(), modelo__n_neighbors=2, percentiles__percentile=40, preprocesamiento__BagOfWords__ngram_range=(1, 2);, score=(train=0.870, test=0.667) total time=   0.6s\n",
      "[CV 3/5; 65/120] START modelo=KNeighborsClassifier(), modelo__n_neighbors=2, percentiles__percentile=40, preprocesamiento__BagOfWords__ngram_range=(1, 2)\n",
      "[CV 3/5; 65/120] END modelo=KNeighborsClassifier(), modelo__n_neighbors=2, percentiles__percentile=40, preprocesamiento__BagOfWords__ngram_range=(1, 2);, score=(train=0.870, test=0.667) total time=   0.3s\n",
      "[CV 4/5; 65/120] START modelo=KNeighborsClassifier(), modelo__n_neighbors=2, percentiles__percentile=40, preprocesamiento__BagOfWords__ngram_range=(1, 2)\n",
      "[CV 4/5; 65/120] END modelo=KNeighborsClassifier(), modelo__n_neighbors=2, percentiles__percentile=40, preprocesamiento__BagOfWords__ngram_range=(1, 2);, score=(train=0.667, test=0.400) total time=   0.6s\n",
      "[CV 5/5; 65/120] START modelo=KNeighborsClassifier(), modelo__n_neighbors=2, percentiles__percentile=40, preprocesamiento__BagOfWords__ngram_range=(1, 2)\n"
     ]
    },
    {
     "name": "stderr",
     "output_type": "stream",
     "text": [
      "C:\\Users\\Felipe\\anaconda3\\lib\\site-packages\\sklearn\\feature_selection\\_univariate_selection.py:113: RuntimeWarning: divide by zero encountered in true_divide\n",
      "  f = msb / msw\n"
     ]
    },
    {
     "name": "stdout",
     "output_type": "stream",
     "text": [
      "[CV 5/5; 65/120] END modelo=KNeighborsClassifier(), modelo__n_neighbors=2, percentiles__percentile=40, preprocesamiento__BagOfWords__ngram_range=(1, 2);, score=(train=0.958, test=0.800) total time=   0.3s\n",
      "[CV 1/5; 66/120] START modelo=KNeighborsClassifier(), modelo__n_neighbors=2, percentiles__percentile=40, preprocesamiento__BagOfWords__ngram_range=(1, 3)\n",
      "[CV 1/5; 66/120] END modelo=KNeighborsClassifier(), modelo__n_neighbors=2, percentiles__percentile=40, preprocesamiento__BagOfWords__ngram_range=(1, 3);, score=(train=0.870, test=0.500) total time=   0.6s\n",
      "[CV 2/5; 66/120] START modelo=KNeighborsClassifier(), modelo__n_neighbors=2, percentiles__percentile=40, preprocesamiento__BagOfWords__ngram_range=(1, 3)\n",
      "[CV 2/5; 66/120] END modelo=KNeighborsClassifier(), modelo__n_neighbors=2, percentiles__percentile=40, preprocesamiento__BagOfWords__ngram_range=(1, 3);, score=(train=0.870, test=0.667) total time=   0.5s\n",
      "[CV 3/5; 66/120] START modelo=KNeighborsClassifier(), modelo__n_neighbors=2, percentiles__percentile=40, preprocesamiento__BagOfWords__ngram_range=(1, 3)\n",
      "[CV 3/5; 66/120] END modelo=KNeighborsClassifier(), modelo__n_neighbors=2, percentiles__percentile=40, preprocesamiento__BagOfWords__ngram_range=(1, 3);, score=(train=0.870, test=0.667) total time=   0.2s\n",
      "[CV 4/5; 66/120] START modelo=KNeighborsClassifier(), modelo__n_neighbors=2, percentiles__percentile=40, preprocesamiento__BagOfWords__ngram_range=(1, 3)\n",
      "[CV 4/5; 66/120] END modelo=KNeighborsClassifier(), modelo__n_neighbors=2, percentiles__percentile=40, preprocesamiento__BagOfWords__ngram_range=(1, 3);, score=(train=0.667, test=0.400) total time=   0.3s\n",
      "[CV 5/5; 66/120] START modelo=KNeighborsClassifier(), modelo__n_neighbors=2, percentiles__percentile=40, preprocesamiento__BagOfWords__ngram_range=(1, 3)\n"
     ]
    },
    {
     "name": "stderr",
     "output_type": "stream",
     "text": [
      "C:\\Users\\Felipe\\anaconda3\\lib\\site-packages\\sklearn\\feature_selection\\_univariate_selection.py:113: RuntimeWarning: divide by zero encountered in true_divide\n",
      "  f = msb / msw\n"
     ]
    },
    {
     "name": "stdout",
     "output_type": "stream",
     "text": [
      "[CV 5/5; 66/120] END modelo=KNeighborsClassifier(), modelo__n_neighbors=2, percentiles__percentile=40, preprocesamiento__BagOfWords__ngram_range=(1, 3);, score=(train=0.958, test=0.800) total time=   0.3s\n",
      "[CV 1/5; 67/120] START modelo=KNeighborsClassifier(), modelo__n_neighbors=2, percentiles__percentile=60, preprocesamiento__BagOfWords__ngram_range=(1, 1)\n",
      "[CV 1/5; 67/120] END modelo=KNeighborsClassifier(), modelo__n_neighbors=2, percentiles__percentile=60, preprocesamiento__BagOfWords__ngram_range=(1, 1);, score=(train=0.783, test=0.167) total time=   0.5s\n",
      "[CV 2/5; 67/120] START modelo=KNeighborsClassifier(), modelo__n_neighbors=2, percentiles__percentile=60, preprocesamiento__BagOfWords__ngram_range=(1, 1)\n",
      "[CV 2/5; 67/120] END modelo=KNeighborsClassifier(), modelo__n_neighbors=2, percentiles__percentile=60, preprocesamiento__BagOfWords__ngram_range=(1, 1);, score=(train=0.870, test=0.667) total time=   0.4s\n",
      "[CV 3/5; 67/120] START modelo=KNeighborsClassifier(), modelo__n_neighbors=2, percentiles__percentile=60, preprocesamiento__BagOfWords__ngram_range=(1, 1)\n",
      "[CV 3/5; 67/120] END modelo=KNeighborsClassifier(), modelo__n_neighbors=2, percentiles__percentile=60, preprocesamiento__BagOfWords__ngram_range=(1, 1);, score=(train=0.870, test=0.500) total time=   0.1s\n",
      "[CV 4/5; 67/120] START modelo=KNeighborsClassifier(), modelo__n_neighbors=2, percentiles__percentile=60, preprocesamiento__BagOfWords__ngram_range=(1, 1)\n",
      "[CV 4/5; 67/120] END modelo=KNeighborsClassifier(), modelo__n_neighbors=2, percentiles__percentile=60, preprocesamiento__BagOfWords__ngram_range=(1, 1);, score=(train=0.667, test=0.400) total time=   0.3s\n",
      "[CV 5/5; 67/120] START modelo=KNeighborsClassifier(), modelo__n_neighbors=2, percentiles__percentile=60, preprocesamiento__BagOfWords__ngram_range=(1, 1)\n"
     ]
    },
    {
     "name": "stderr",
     "output_type": "stream",
     "text": [
      "C:\\Users\\Felipe\\anaconda3\\lib\\site-packages\\sklearn\\feature_selection\\_univariate_selection.py:113: RuntimeWarning: divide by zero encountered in true_divide\n",
      "  f = msb / msw\n"
     ]
    },
    {
     "name": "stdout",
     "output_type": "stream",
     "text": [
      "[CV 5/5; 67/120] END modelo=KNeighborsClassifier(), modelo__n_neighbors=2, percentiles__percentile=60, preprocesamiento__BagOfWords__ngram_range=(1, 1);, score=(train=0.958, test=0.800) total time=   0.3s\n",
      "[CV 1/5; 68/120] START modelo=KNeighborsClassifier(), modelo__n_neighbors=2, percentiles__percentile=60, preprocesamiento__BagOfWords__ngram_range=(1, 2)\n",
      "[CV 1/5; 68/120] END modelo=KNeighborsClassifier(), modelo__n_neighbors=2, percentiles__percentile=60, preprocesamiento__BagOfWords__ngram_range=(1, 2);, score=(train=0.870, test=0.500) total time=   0.5s\n",
      "[CV 2/5; 68/120] START modelo=KNeighborsClassifier(), modelo__n_neighbors=2, percentiles__percentile=60, preprocesamiento__BagOfWords__ngram_range=(1, 2)\n",
      "[CV 2/5; 68/120] END modelo=KNeighborsClassifier(), modelo__n_neighbors=2, percentiles__percentile=60, preprocesamiento__BagOfWords__ngram_range=(1, 2);, score=(train=0.870, test=0.667) total time=   0.6s\n",
      "[CV 3/5; 68/120] START modelo=KNeighborsClassifier(), modelo__n_neighbors=2, percentiles__percentile=60, preprocesamiento__BagOfWords__ngram_range=(1, 2)\n",
      "[CV 3/5; 68/120] END modelo=KNeighborsClassifier(), modelo__n_neighbors=2, percentiles__percentile=60, preprocesamiento__BagOfWords__ngram_range=(1, 2);, score=(train=0.870, test=0.667) total time=   0.2s\n",
      "[CV 4/5; 68/120] START modelo=KNeighborsClassifier(), modelo__n_neighbors=2, percentiles__percentile=60, preprocesamiento__BagOfWords__ngram_range=(1, 2)\n",
      "[CV 4/5; 68/120] END modelo=KNeighborsClassifier(), modelo__n_neighbors=2, percentiles__percentile=60, preprocesamiento__BagOfWords__ngram_range=(1, 2);, score=(train=0.667, test=0.400) total time=   0.4s\n",
      "[CV 5/5; 68/120] START modelo=KNeighborsClassifier(), modelo__n_neighbors=2, percentiles__percentile=60, preprocesamiento__BagOfWords__ngram_range=(1, 2)\n"
     ]
    },
    {
     "name": "stderr",
     "output_type": "stream",
     "text": [
      "C:\\Users\\Felipe\\anaconda3\\lib\\site-packages\\sklearn\\feature_selection\\_univariate_selection.py:113: RuntimeWarning: divide by zero encountered in true_divide\n",
      "  f = msb / msw\n"
     ]
    },
    {
     "name": "stdout",
     "output_type": "stream",
     "text": [
      "[CV 5/5; 68/120] END modelo=KNeighborsClassifier(), modelo__n_neighbors=2, percentiles__percentile=60, preprocesamiento__BagOfWords__ngram_range=(1, 2);, score=(train=0.958, test=0.800) total time=   0.3s\n",
      "[CV 1/5; 69/120] START modelo=KNeighborsClassifier(), modelo__n_neighbors=2, percentiles__percentile=60, preprocesamiento__BagOfWords__ngram_range=(1, 3)\n",
      "[CV 1/5; 69/120] END modelo=KNeighborsClassifier(), modelo__n_neighbors=2, percentiles__percentile=60, preprocesamiento__BagOfWords__ngram_range=(1, 3);, score=(train=0.870, test=0.500) total time=   0.7s\n",
      "[CV 2/5; 69/120] START modelo=KNeighborsClassifier(), modelo__n_neighbors=2, percentiles__percentile=60, preprocesamiento__BagOfWords__ngram_range=(1, 3)\n",
      "[CV 2/5; 69/120] END modelo=KNeighborsClassifier(), modelo__n_neighbors=2, percentiles__percentile=60, preprocesamiento__BagOfWords__ngram_range=(1, 3);, score=(train=0.870, test=0.667) total time=   1.0s\n",
      "[CV 3/5; 69/120] START modelo=KNeighborsClassifier(), modelo__n_neighbors=2, percentiles__percentile=60, preprocesamiento__BagOfWords__ngram_range=(1, 3)\n",
      "[CV 3/5; 69/120] END modelo=KNeighborsClassifier(), modelo__n_neighbors=2, percentiles__percentile=60, preprocesamiento__BagOfWords__ngram_range=(1, 3);, score=(train=0.870, test=0.667) total time=   0.3s\n",
      "[CV 4/5; 69/120] START modelo=KNeighborsClassifier(), modelo__n_neighbors=2, percentiles__percentile=60, preprocesamiento__BagOfWords__ngram_range=(1, 3)\n",
      "[CV 4/5; 69/120] END modelo=KNeighborsClassifier(), modelo__n_neighbors=2, percentiles__percentile=60, preprocesamiento__BagOfWords__ngram_range=(1, 3);, score=(train=0.625, test=0.400) total time=   0.5s\n",
      "[CV 5/5; 69/120] START modelo=KNeighborsClassifier(), modelo__n_neighbors=2, percentiles__percentile=60, preprocesamiento__BagOfWords__ngram_range=(1, 3)\n"
     ]
    },
    {
     "name": "stderr",
     "output_type": "stream",
     "text": [
      "C:\\Users\\Felipe\\anaconda3\\lib\\site-packages\\sklearn\\feature_selection\\_univariate_selection.py:113: RuntimeWarning: divide by zero encountered in true_divide\n",
      "  f = msb / msw\n"
     ]
    },
    {
     "name": "stdout",
     "output_type": "stream",
     "text": [
      "[CV 5/5; 69/120] END modelo=KNeighborsClassifier(), modelo__n_neighbors=2, percentiles__percentile=60, preprocesamiento__BagOfWords__ngram_range=(1, 3);, score=(train=0.958, test=0.800) total time=   0.5s\n",
      "[CV 1/5; 70/120] START modelo=KNeighborsClassifier(), modelo__n_neighbors=2, percentiles__percentile=80, preprocesamiento__BagOfWords__ngram_range=(1, 1)\n",
      "[CV 1/5; 70/120] END modelo=KNeighborsClassifier(), modelo__n_neighbors=2, percentiles__percentile=80, preprocesamiento__BagOfWords__ngram_range=(1, 1);, score=(train=0.739, test=0.167) total time=   0.9s\n",
      "[CV 2/5; 70/120] START modelo=KNeighborsClassifier(), modelo__n_neighbors=2, percentiles__percentile=80, preprocesamiento__BagOfWords__ngram_range=(1, 1)\n",
      "[CV 2/5; 70/120] END modelo=KNeighborsClassifier(), modelo__n_neighbors=2, percentiles__percentile=80, preprocesamiento__BagOfWords__ngram_range=(1, 1);, score=(train=0.957, test=0.500) total time=   0.7s\n",
      "[CV 3/5; 70/120] START modelo=KNeighborsClassifier(), modelo__n_neighbors=2, percentiles__percentile=80, preprocesamiento__BagOfWords__ngram_range=(1, 1)\n",
      "[CV 3/5; 70/120] END modelo=KNeighborsClassifier(), modelo__n_neighbors=2, percentiles__percentile=80, preprocesamiento__BagOfWords__ngram_range=(1, 1);, score=(train=0.783, test=0.167) total time=   0.2s\n",
      "[CV 4/5; 70/120] START modelo=KNeighborsClassifier(), modelo__n_neighbors=2, percentiles__percentile=80, preprocesamiento__BagOfWords__ngram_range=(1, 1)\n",
      "[CV 4/5; 70/120] END modelo=KNeighborsClassifier(), modelo__n_neighbors=2, percentiles__percentile=80, preprocesamiento__BagOfWords__ngram_range=(1, 1);, score=(train=0.667, test=0.400) total time=   0.4s\n",
      "[CV 5/5; 70/120] START modelo=KNeighborsClassifier(), modelo__n_neighbors=2, percentiles__percentile=80, preprocesamiento__BagOfWords__ngram_range=(1, 1)\n"
     ]
    },
    {
     "name": "stderr",
     "output_type": "stream",
     "text": [
      "C:\\Users\\Felipe\\anaconda3\\lib\\site-packages\\sklearn\\feature_selection\\_univariate_selection.py:113: RuntimeWarning: divide by zero encountered in true_divide\n",
      "  f = msb / msw\n"
     ]
    },
    {
     "name": "stdout",
     "output_type": "stream",
     "text": [
      "[CV 5/5; 70/120] END modelo=KNeighborsClassifier(), modelo__n_neighbors=2, percentiles__percentile=80, preprocesamiento__BagOfWords__ngram_range=(1, 1);, score=(train=0.958, test=0.800) total time=   0.3s\n",
      "[CV 1/5; 71/120] START modelo=KNeighborsClassifier(), modelo__n_neighbors=2, percentiles__percentile=80, preprocesamiento__BagOfWords__ngram_range=(1, 2)\n",
      "[CV 1/5; 71/120] END modelo=KNeighborsClassifier(), modelo__n_neighbors=2, percentiles__percentile=80, preprocesamiento__BagOfWords__ngram_range=(1, 2);, score=(train=0.696, test=0.167) total time=   0.7s\n",
      "[CV 2/5; 71/120] START modelo=KNeighborsClassifier(), modelo__n_neighbors=2, percentiles__percentile=80, preprocesamiento__BagOfWords__ngram_range=(1, 2)\n",
      "[CV 2/5; 71/120] END modelo=KNeighborsClassifier(), modelo__n_neighbors=2, percentiles__percentile=80, preprocesamiento__BagOfWords__ngram_range=(1, 2);, score=(train=0.870, test=0.667) total time=   0.7s\n",
      "[CV 3/5; 71/120] START modelo=KNeighborsClassifier(), modelo__n_neighbors=2, percentiles__percentile=80, preprocesamiento__BagOfWords__ngram_range=(1, 2)\n",
      "[CV 3/5; 71/120] END modelo=KNeighborsClassifier(), modelo__n_neighbors=2, percentiles__percentile=80, preprocesamiento__BagOfWords__ngram_range=(1, 2);, score=(train=0.870, test=0.500) total time=   0.2s\n",
      "[CV 4/5; 71/120] START modelo=KNeighborsClassifier(), modelo__n_neighbors=2, percentiles__percentile=80, preprocesamiento__BagOfWords__ngram_range=(1, 2)\n",
      "[CV 4/5; 71/120] END modelo=KNeighborsClassifier(), modelo__n_neighbors=2, percentiles__percentile=80, preprocesamiento__BagOfWords__ngram_range=(1, 2);, score=(train=0.667, test=0.400) total time=   0.3s\n",
      "[CV 5/5; 71/120] START modelo=KNeighborsClassifier(), modelo__n_neighbors=2, percentiles__percentile=80, preprocesamiento__BagOfWords__ngram_range=(1, 2)\n"
     ]
    },
    {
     "name": "stderr",
     "output_type": "stream",
     "text": [
      "C:\\Users\\Felipe\\anaconda3\\lib\\site-packages\\sklearn\\feature_selection\\_univariate_selection.py:113: RuntimeWarning: divide by zero encountered in true_divide\n",
      "  f = msb / msw\n"
     ]
    },
    {
     "name": "stdout",
     "output_type": "stream",
     "text": [
      "[CV 5/5; 71/120] END modelo=KNeighborsClassifier(), modelo__n_neighbors=2, percentiles__percentile=80, preprocesamiento__BagOfWords__ngram_range=(1, 2);, score=(train=0.958, test=0.800) total time=   0.3s\n",
      "[CV 1/5; 72/120] START modelo=KNeighborsClassifier(), modelo__n_neighbors=2, percentiles__percentile=80, preprocesamiento__BagOfWords__ngram_range=(1, 3)\n",
      "[CV 1/5; 72/120] END modelo=KNeighborsClassifier(), modelo__n_neighbors=2, percentiles__percentile=80, preprocesamiento__BagOfWords__ngram_range=(1, 3);, score=(train=0.783, test=0.500) total time=   0.6s\n",
      "[CV 2/5; 72/120] START modelo=KNeighborsClassifier(), modelo__n_neighbors=2, percentiles__percentile=80, preprocesamiento__BagOfWords__ngram_range=(1, 3)\n",
      "[CV 2/5; 72/120] END modelo=KNeighborsClassifier(), modelo__n_neighbors=2, percentiles__percentile=80, preprocesamiento__BagOfWords__ngram_range=(1, 3);, score=(train=0.870, test=0.667) total time=   1.0s\n",
      "[CV 3/5; 72/120] START modelo=KNeighborsClassifier(), modelo__n_neighbors=2, percentiles__percentile=80, preprocesamiento__BagOfWords__ngram_range=(1, 3)\n",
      "[CV 3/5; 72/120] END modelo=KNeighborsClassifier(), modelo__n_neighbors=2, percentiles__percentile=80, preprocesamiento__BagOfWords__ngram_range=(1, 3);, score=(train=0.870, test=0.667) total time=   0.2s\n",
      "[CV 4/5; 72/120] START modelo=KNeighborsClassifier(), modelo__n_neighbors=2, percentiles__percentile=80, preprocesamiento__BagOfWords__ngram_range=(1, 3)\n",
      "[CV 4/5; 72/120] END modelo=KNeighborsClassifier(), modelo__n_neighbors=2, percentiles__percentile=80, preprocesamiento__BagOfWords__ngram_range=(1, 3);, score=(train=0.667, test=0.400) total time=   0.4s\n",
      "[CV 5/5; 72/120] START modelo=KNeighborsClassifier(), modelo__n_neighbors=2, percentiles__percentile=80, preprocesamiento__BagOfWords__ngram_range=(1, 3)\n"
     ]
    },
    {
     "name": "stderr",
     "output_type": "stream",
     "text": [
      "C:\\Users\\Felipe\\anaconda3\\lib\\site-packages\\sklearn\\feature_selection\\_univariate_selection.py:113: RuntimeWarning: divide by zero encountered in true_divide\n",
      "  f = msb / msw\n"
     ]
    },
    {
     "name": "stdout",
     "output_type": "stream",
     "text": [
      "[CV 5/5; 72/120] END modelo=KNeighborsClassifier(), modelo__n_neighbors=2, percentiles__percentile=80, preprocesamiento__BagOfWords__ngram_range=(1, 3);, score=(train=0.958, test=0.800) total time=   0.4s\n",
      "[CV 1/5; 73/120] START modelo=KNeighborsClassifier(), modelo__n_neighbors=3, percentiles__percentile=20, preprocesamiento__BagOfWords__ngram_range=(1, 1)\n",
      "[CV 1/5; 73/120] END modelo=KNeighborsClassifier(), modelo__n_neighbors=3, percentiles__percentile=20, preprocesamiento__BagOfWords__ngram_range=(1, 1);, score=(train=0.870, test=0.667) total time=   0.5s\n",
      "[CV 2/5; 73/120] START modelo=KNeighborsClassifier(), modelo__n_neighbors=3, percentiles__percentile=20, preprocesamiento__BagOfWords__ngram_range=(1, 1)\n",
      "[CV 2/5; 73/120] END modelo=KNeighborsClassifier(), modelo__n_neighbors=3, percentiles__percentile=20, preprocesamiento__BagOfWords__ngram_range=(1, 1);, score=(train=0.522, test=0.333) total time=   0.4s\n",
      "[CV 3/5; 73/120] START modelo=KNeighborsClassifier(), modelo__n_neighbors=3, percentiles__percentile=20, preprocesamiento__BagOfWords__ngram_range=(1, 1)\n",
      "[CV 3/5; 73/120] END modelo=KNeighborsClassifier(), modelo__n_neighbors=3, percentiles__percentile=20, preprocesamiento__BagOfWords__ngram_range=(1, 1);, score=(train=0.609, test=0.667) total time=   0.1s\n",
      "[CV 4/5; 73/120] START modelo=KNeighborsClassifier(), modelo__n_neighbors=3, percentiles__percentile=20, preprocesamiento__BagOfWords__ngram_range=(1, 1)\n",
      "[CV 4/5; 73/120] END modelo=KNeighborsClassifier(), modelo__n_neighbors=3, percentiles__percentile=20, preprocesamiento__BagOfWords__ngram_range=(1, 1);, score=(train=0.667, test=0.400) total time=   0.3s\n",
      "[CV 5/5; 73/120] START modelo=KNeighborsClassifier(), modelo__n_neighbors=3, percentiles__percentile=20, preprocesamiento__BagOfWords__ngram_range=(1, 1)\n"
     ]
    },
    {
     "name": "stderr",
     "output_type": "stream",
     "text": [
      "C:\\Users\\Felipe\\anaconda3\\lib\\site-packages\\sklearn\\feature_selection\\_univariate_selection.py:113: RuntimeWarning: divide by zero encountered in true_divide\n",
      "  f = msb / msw\n"
     ]
    },
    {
     "name": "stdout",
     "output_type": "stream",
     "text": [
      "[CV 5/5; 73/120] END modelo=KNeighborsClassifier(), modelo__n_neighbors=3, percentiles__percentile=20, preprocesamiento__BagOfWords__ngram_range=(1, 1);, score=(train=0.708, test=0.800) total time=   0.3s\n",
      "[CV 1/5; 74/120] START modelo=KNeighborsClassifier(), modelo__n_neighbors=3, percentiles__percentile=20, preprocesamiento__BagOfWords__ngram_range=(1, 2)\n",
      "[CV 1/5; 74/120] END modelo=KNeighborsClassifier(), modelo__n_neighbors=3, percentiles__percentile=20, preprocesamiento__BagOfWords__ngram_range=(1, 2);, score=(train=0.565, test=0.667) total time=   0.6s\n",
      "[CV 2/5; 74/120] START modelo=KNeighborsClassifier(), modelo__n_neighbors=3, percentiles__percentile=20, preprocesamiento__BagOfWords__ngram_range=(1, 2)\n",
      "[CV 2/5; 74/120] END modelo=KNeighborsClassifier(), modelo__n_neighbors=3, percentiles__percentile=20, preprocesamiento__BagOfWords__ngram_range=(1, 2);, score=(train=0.522, test=0.667) total time=   0.4s\n",
      "[CV 3/5; 74/120] START modelo=KNeighborsClassifier(), modelo__n_neighbors=3, percentiles__percentile=20, preprocesamiento__BagOfWords__ngram_range=(1, 2)\n",
      "[CV 3/5; 74/120] END modelo=KNeighborsClassifier(), modelo__n_neighbors=3, percentiles__percentile=20, preprocesamiento__BagOfWords__ngram_range=(1, 2);, score=(train=0.609, test=0.667) total time=   0.1s\n",
      "[CV 4/5; 74/120] START modelo=KNeighborsClassifier(), modelo__n_neighbors=3, percentiles__percentile=20, preprocesamiento__BagOfWords__ngram_range=(1, 2)\n",
      "[CV 4/5; 74/120] END modelo=KNeighborsClassifier(), modelo__n_neighbors=3, percentiles__percentile=20, preprocesamiento__BagOfWords__ngram_range=(1, 2);, score=(train=0.667, test=0.400) total time=   0.3s\n",
      "[CV 5/5; 74/120] START modelo=KNeighborsClassifier(), modelo__n_neighbors=3, percentiles__percentile=20, preprocesamiento__BagOfWords__ngram_range=(1, 2)\n"
     ]
    },
    {
     "name": "stderr",
     "output_type": "stream",
     "text": [
      "C:\\Users\\Felipe\\anaconda3\\lib\\site-packages\\sklearn\\feature_selection\\_univariate_selection.py:113: RuntimeWarning: divide by zero encountered in true_divide\n",
      "  f = msb / msw\n"
     ]
    },
    {
     "name": "stdout",
     "output_type": "stream",
     "text": [
      "[CV 5/5; 74/120] END modelo=KNeighborsClassifier(), modelo__n_neighbors=3, percentiles__percentile=20, preprocesamiento__BagOfWords__ngram_range=(1, 2);, score=(train=0.667, test=0.800) total time=   0.3s\n",
      "[CV 1/5; 75/120] START modelo=KNeighborsClassifier(), modelo__n_neighbors=3, percentiles__percentile=20, preprocesamiento__BagOfWords__ngram_range=(1, 3)\n",
      "[CV 1/5; 75/120] END modelo=KNeighborsClassifier(), modelo__n_neighbors=3, percentiles__percentile=20, preprocesamiento__BagOfWords__ngram_range=(1, 3);, score=(train=0.565, test=0.667) total time=   0.6s\n",
      "[CV 2/5; 75/120] START modelo=KNeighborsClassifier(), modelo__n_neighbors=3, percentiles__percentile=20, preprocesamiento__BagOfWords__ngram_range=(1, 3)\n",
      "[CV 2/5; 75/120] END modelo=KNeighborsClassifier(), modelo__n_neighbors=3, percentiles__percentile=20, preprocesamiento__BagOfWords__ngram_range=(1, 3);, score=(train=0.522, test=0.667) total time=   0.5s\n",
      "[CV 3/5; 75/120] START modelo=KNeighborsClassifier(), modelo__n_neighbors=3, percentiles__percentile=20, preprocesamiento__BagOfWords__ngram_range=(1, 3)\n",
      "[CV 3/5; 75/120] END modelo=KNeighborsClassifier(), modelo__n_neighbors=3, percentiles__percentile=20, preprocesamiento__BagOfWords__ngram_range=(1, 3);, score=(train=0.609, test=0.667) total time=   0.2s\n",
      "[CV 4/5; 75/120] START modelo=KNeighborsClassifier(), modelo__n_neighbors=3, percentiles__percentile=20, preprocesamiento__BagOfWords__ngram_range=(1, 3)\n",
      "[CV 4/5; 75/120] END modelo=KNeighborsClassifier(), modelo__n_neighbors=3, percentiles__percentile=20, preprocesamiento__BagOfWords__ngram_range=(1, 3);, score=(train=0.667, test=0.400) total time=   0.4s\n",
      "[CV 5/5; 75/120] START modelo=KNeighborsClassifier(), modelo__n_neighbors=3, percentiles__percentile=20, preprocesamiento__BagOfWords__ngram_range=(1, 3)\n"
     ]
    },
    {
     "name": "stderr",
     "output_type": "stream",
     "text": [
      "C:\\Users\\Felipe\\anaconda3\\lib\\site-packages\\sklearn\\feature_selection\\_univariate_selection.py:113: RuntimeWarning: divide by zero encountered in true_divide\n",
      "  f = msb / msw\n"
     ]
    },
    {
     "name": "stdout",
     "output_type": "stream",
     "text": [
      "[CV 5/5; 75/120] END modelo=KNeighborsClassifier(), modelo__n_neighbors=3, percentiles__percentile=20, preprocesamiento__BagOfWords__ngram_range=(1, 3);, score=(train=0.625, test=0.800) total time=   0.5s\n",
      "[CV 1/5; 76/120] START modelo=KNeighborsClassifier(), modelo__n_neighbors=3, percentiles__percentile=40, preprocesamiento__BagOfWords__ngram_range=(1, 1)\n",
      "[CV 1/5; 76/120] END modelo=KNeighborsClassifier(), modelo__n_neighbors=3, percentiles__percentile=40, preprocesamiento__BagOfWords__ngram_range=(1, 1);, score=(train=0.696, test=0.167) total time=   0.9s\n",
      "[CV 2/5; 76/120] START modelo=KNeighborsClassifier(), modelo__n_neighbors=3, percentiles__percentile=40, preprocesamiento__BagOfWords__ngram_range=(1, 1)\n",
      "[CV 2/5; 76/120] END modelo=KNeighborsClassifier(), modelo__n_neighbors=3, percentiles__percentile=40, preprocesamiento__BagOfWords__ngram_range=(1, 1);, score=(train=0.478, test=0.500) total time=   0.4s\n",
      "[CV 3/5; 76/120] START modelo=KNeighborsClassifier(), modelo__n_neighbors=3, percentiles__percentile=40, preprocesamiento__BagOfWords__ngram_range=(1, 1)\n",
      "[CV 3/5; 76/120] END modelo=KNeighborsClassifier(), modelo__n_neighbors=3, percentiles__percentile=40, preprocesamiento__BagOfWords__ngram_range=(1, 1);, score=(train=0.609, test=0.667) total time=   0.2s\n",
      "[CV 4/5; 76/120] START modelo=KNeighborsClassifier(), modelo__n_neighbors=3, percentiles__percentile=40, preprocesamiento__BagOfWords__ngram_range=(1, 1)\n",
      "[CV 4/5; 76/120] END modelo=KNeighborsClassifier(), modelo__n_neighbors=3, percentiles__percentile=40, preprocesamiento__BagOfWords__ngram_range=(1, 1);, score=(train=0.667, test=0.400) total time=   0.3s\n",
      "[CV 5/5; 76/120] START modelo=KNeighborsClassifier(), modelo__n_neighbors=3, percentiles__percentile=40, preprocesamiento__BagOfWords__ngram_range=(1, 1)\n"
     ]
    },
    {
     "name": "stderr",
     "output_type": "stream",
     "text": [
      "C:\\Users\\Felipe\\anaconda3\\lib\\site-packages\\sklearn\\feature_selection\\_univariate_selection.py:113: RuntimeWarning: divide by zero encountered in true_divide\n",
      "  f = msb / msw\n"
     ]
    },
    {
     "name": "stdout",
     "output_type": "stream",
     "text": [
      "[CV 5/5; 76/120] END modelo=KNeighborsClassifier(), modelo__n_neighbors=3, percentiles__percentile=40, preprocesamiento__BagOfWords__ngram_range=(1, 1);, score=(train=0.708, test=0.800) total time=   0.2s\n",
      "[CV 1/5; 77/120] START modelo=KNeighborsClassifier(), modelo__n_neighbors=3, percentiles__percentile=40, preprocesamiento__BagOfWords__ngram_range=(1, 2)\n",
      "[CV 1/5; 77/120] END modelo=KNeighborsClassifier(), modelo__n_neighbors=3, percentiles__percentile=40, preprocesamiento__BagOfWords__ngram_range=(1, 2);, score=(train=0.739, test=0.500) total time=   0.5s\n",
      "[CV 2/5; 77/120] START modelo=KNeighborsClassifier(), modelo__n_neighbors=3, percentiles__percentile=40, preprocesamiento__BagOfWords__ngram_range=(1, 2)\n",
      "[CV 2/5; 77/120] END modelo=KNeighborsClassifier(), modelo__n_neighbors=3, percentiles__percentile=40, preprocesamiento__BagOfWords__ngram_range=(1, 2);, score=(train=0.478, test=0.667) total time=   0.5s\n",
      "[CV 3/5; 77/120] START modelo=KNeighborsClassifier(), modelo__n_neighbors=3, percentiles__percentile=40, preprocesamiento__BagOfWords__ngram_range=(1, 2)\n",
      "[CV 3/5; 77/120] END modelo=KNeighborsClassifier(), modelo__n_neighbors=3, percentiles__percentile=40, preprocesamiento__BagOfWords__ngram_range=(1, 2);, score=(train=0.609, test=0.667) total time=   0.2s\n",
      "[CV 4/5; 77/120] START modelo=KNeighborsClassifier(), modelo__n_neighbors=3, percentiles__percentile=40, preprocesamiento__BagOfWords__ngram_range=(1, 2)\n",
      "[CV 4/5; 77/120] END modelo=KNeighborsClassifier(), modelo__n_neighbors=3, percentiles__percentile=40, preprocesamiento__BagOfWords__ngram_range=(1, 2);, score=(train=0.667, test=0.400) total time=   0.3s\n",
      "[CV 5/5; 77/120] START modelo=KNeighborsClassifier(), modelo__n_neighbors=3, percentiles__percentile=40, preprocesamiento__BagOfWords__ngram_range=(1, 2)\n"
     ]
    },
    {
     "name": "stderr",
     "output_type": "stream",
     "text": [
      "C:\\Users\\Felipe\\anaconda3\\lib\\site-packages\\sklearn\\feature_selection\\_univariate_selection.py:113: RuntimeWarning: divide by zero encountered in true_divide\n",
      "  f = msb / msw\n"
     ]
    },
    {
     "name": "stdout",
     "output_type": "stream",
     "text": [
      "[CV 5/5; 77/120] END modelo=KNeighborsClassifier(), modelo__n_neighbors=3, percentiles__percentile=40, preprocesamiento__BagOfWords__ngram_range=(1, 2);, score=(train=0.625, test=0.800) total time=   0.3s\n",
      "[CV 1/5; 78/120] START modelo=KNeighborsClassifier(), modelo__n_neighbors=3, percentiles__percentile=40, preprocesamiento__BagOfWords__ngram_range=(1, 3)\n",
      "[CV 1/5; 78/120] END modelo=KNeighborsClassifier(), modelo__n_neighbors=3, percentiles__percentile=40, preprocesamiento__BagOfWords__ngram_range=(1, 3);, score=(train=0.652, test=0.667) total time=   0.6s\n",
      "[CV 2/5; 78/120] START modelo=KNeighborsClassifier(), modelo__n_neighbors=3, percentiles__percentile=40, preprocesamiento__BagOfWords__ngram_range=(1, 3)\n",
      "[CV 2/5; 78/120] END modelo=KNeighborsClassifier(), modelo__n_neighbors=3, percentiles__percentile=40, preprocesamiento__BagOfWords__ngram_range=(1, 3);, score=(train=0.478, test=0.667) total time=   0.5s\n",
      "[CV 3/5; 78/120] START modelo=KNeighborsClassifier(), modelo__n_neighbors=3, percentiles__percentile=40, preprocesamiento__BagOfWords__ngram_range=(1, 3)\n",
      "[CV 3/5; 78/120] END modelo=KNeighborsClassifier(), modelo__n_neighbors=3, percentiles__percentile=40, preprocesamiento__BagOfWords__ngram_range=(1, 3);, score=(train=0.609, test=0.667) total time=   0.2s\n",
      "[CV 4/5; 78/120] START modelo=KNeighborsClassifier(), modelo__n_neighbors=3, percentiles__percentile=40, preprocesamiento__BagOfWords__ngram_range=(1, 3)\n",
      "[CV 4/5; 78/120] END modelo=KNeighborsClassifier(), modelo__n_neighbors=3, percentiles__percentile=40, preprocesamiento__BagOfWords__ngram_range=(1, 3);, score=(train=0.667, test=0.400) total time=   0.4s\n",
      "[CV 5/5; 78/120] START modelo=KNeighborsClassifier(), modelo__n_neighbors=3, percentiles__percentile=40, preprocesamiento__BagOfWords__ngram_range=(1, 3)\n"
     ]
    },
    {
     "name": "stderr",
     "output_type": "stream",
     "text": [
      "C:\\Users\\Felipe\\anaconda3\\lib\\site-packages\\sklearn\\feature_selection\\_univariate_selection.py:113: RuntimeWarning: divide by zero encountered in true_divide\n",
      "  f = msb / msw\n"
     ]
    },
    {
     "name": "stdout",
     "output_type": "stream",
     "text": [
      "[CV 5/5; 78/120] END modelo=KNeighborsClassifier(), modelo__n_neighbors=3, percentiles__percentile=40, preprocesamiento__BagOfWords__ngram_range=(1, 3);, score=(train=0.625, test=0.800) total time=   0.3s\n",
      "[CV 1/5; 79/120] START modelo=KNeighborsClassifier(), modelo__n_neighbors=3, percentiles__percentile=60, preprocesamiento__BagOfWords__ngram_range=(1, 1)\n",
      "[CV 1/5; 79/120] END modelo=KNeighborsClassifier(), modelo__n_neighbors=3, percentiles__percentile=60, preprocesamiento__BagOfWords__ngram_range=(1, 1);, score=(train=0.739, test=0.167) total time=   0.5s\n",
      "[CV 2/5; 79/120] START modelo=KNeighborsClassifier(), modelo__n_neighbors=3, percentiles__percentile=60, preprocesamiento__BagOfWords__ngram_range=(1, 1)\n",
      "[CV 2/5; 79/120] END modelo=KNeighborsClassifier(), modelo__n_neighbors=3, percentiles__percentile=60, preprocesamiento__BagOfWords__ngram_range=(1, 1);, score=(train=0.609, test=0.667) total time=   0.4s\n",
      "[CV 3/5; 79/120] START modelo=KNeighborsClassifier(), modelo__n_neighbors=3, percentiles__percentile=60, preprocesamiento__BagOfWords__ngram_range=(1, 1)\n",
      "[CV 3/5; 79/120] END modelo=KNeighborsClassifier(), modelo__n_neighbors=3, percentiles__percentile=60, preprocesamiento__BagOfWords__ngram_range=(1, 1);, score=(train=0.652, test=0.667) total time=   0.1s\n",
      "[CV 4/5; 79/120] START modelo=KNeighborsClassifier(), modelo__n_neighbors=3, percentiles__percentile=60, preprocesamiento__BagOfWords__ngram_range=(1, 1)\n",
      "[CV 4/5; 79/120] END modelo=KNeighborsClassifier(), modelo__n_neighbors=3, percentiles__percentile=60, preprocesamiento__BagOfWords__ngram_range=(1, 1);, score=(train=0.667, test=0.400) total time=   0.3s\n",
      "[CV 5/5; 79/120] START modelo=KNeighborsClassifier(), modelo__n_neighbors=3, percentiles__percentile=60, preprocesamiento__BagOfWords__ngram_range=(1, 1)\n"
     ]
    },
    {
     "name": "stderr",
     "output_type": "stream",
     "text": [
      "C:\\Users\\Felipe\\anaconda3\\lib\\site-packages\\sklearn\\feature_selection\\_univariate_selection.py:113: RuntimeWarning: divide by zero encountered in true_divide\n",
      "  f = msb / msw\n"
     ]
    },
    {
     "name": "stdout",
     "output_type": "stream",
     "text": [
      "[CV 5/5; 79/120] END modelo=KNeighborsClassifier(), modelo__n_neighbors=3, percentiles__percentile=60, preprocesamiento__BagOfWords__ngram_range=(1, 1);, score=(train=0.708, test=0.800) total time=   0.4s\n",
      "[CV 1/5; 80/120] START modelo=KNeighborsClassifier(), modelo__n_neighbors=3, percentiles__percentile=60, preprocesamiento__BagOfWords__ngram_range=(1, 2)\n",
      "[CV 1/5; 80/120] END modelo=KNeighborsClassifier(), modelo__n_neighbors=3, percentiles__percentile=60, preprocesamiento__BagOfWords__ngram_range=(1, 2);, score=(train=0.739, test=0.333) total time=   0.9s\n",
      "[CV 2/5; 80/120] START modelo=KNeighborsClassifier(), modelo__n_neighbors=3, percentiles__percentile=60, preprocesamiento__BagOfWords__ngram_range=(1, 2)\n",
      "[CV 2/5; 80/120] END modelo=KNeighborsClassifier(), modelo__n_neighbors=3, percentiles__percentile=60, preprocesamiento__BagOfWords__ngram_range=(1, 2);, score=(train=0.478, test=0.667) total time=   0.5s\n",
      "[CV 3/5; 80/120] START modelo=KNeighborsClassifier(), modelo__n_neighbors=3, percentiles__percentile=60, preprocesamiento__BagOfWords__ngram_range=(1, 2)\n",
      "[CV 3/5; 80/120] END modelo=KNeighborsClassifier(), modelo__n_neighbors=3, percentiles__percentile=60, preprocesamiento__BagOfWords__ngram_range=(1, 2);, score=(train=0.652, test=0.667) total time=   0.2s\n",
      "[CV 4/5; 80/120] START modelo=KNeighborsClassifier(), modelo__n_neighbors=3, percentiles__percentile=60, preprocesamiento__BagOfWords__ngram_range=(1, 2)\n",
      "[CV 4/5; 80/120] END modelo=KNeighborsClassifier(), modelo__n_neighbors=3, percentiles__percentile=60, preprocesamiento__BagOfWords__ngram_range=(1, 2);, score=(train=0.667, test=0.400) total time=   0.4s\n",
      "[CV 5/5; 80/120] START modelo=KNeighborsClassifier(), modelo__n_neighbors=3, percentiles__percentile=60, preprocesamiento__BagOfWords__ngram_range=(1, 2)\n"
     ]
    },
    {
     "name": "stderr",
     "output_type": "stream",
     "text": [
      "C:\\Users\\Felipe\\anaconda3\\lib\\site-packages\\sklearn\\feature_selection\\_univariate_selection.py:113: RuntimeWarning: divide by zero encountered in true_divide\n",
      "  f = msb / msw\n"
     ]
    },
    {
     "name": "stdout",
     "output_type": "stream",
     "text": [
      "[CV 5/5; 80/120] END modelo=KNeighborsClassifier(), modelo__n_neighbors=3, percentiles__percentile=60, preprocesamiento__BagOfWords__ngram_range=(1, 2);, score=(train=0.625, test=0.800) total time=   0.3s\n",
      "[CV 1/5; 81/120] START modelo=KNeighborsClassifier(), modelo__n_neighbors=3, percentiles__percentile=60, preprocesamiento__BagOfWords__ngram_range=(1, 3)\n",
      "[CV 1/5; 81/120] END modelo=KNeighborsClassifier(), modelo__n_neighbors=3, percentiles__percentile=60, preprocesamiento__BagOfWords__ngram_range=(1, 3);, score=(train=0.739, test=0.500) total time=   0.5s\n",
      "[CV 2/5; 81/120] START modelo=KNeighborsClassifier(), modelo__n_neighbors=3, percentiles__percentile=60, preprocesamiento__BagOfWords__ngram_range=(1, 3)\n",
      "[CV 2/5; 81/120] END modelo=KNeighborsClassifier(), modelo__n_neighbors=3, percentiles__percentile=60, preprocesamiento__BagOfWords__ngram_range=(1, 3);, score=(train=0.478, test=0.667) total time=   0.5s\n",
      "[CV 3/5; 81/120] START modelo=KNeighborsClassifier(), modelo__n_neighbors=3, percentiles__percentile=60, preprocesamiento__BagOfWords__ngram_range=(1, 3)\n",
      "[CV 3/5; 81/120] END modelo=KNeighborsClassifier(), modelo__n_neighbors=3, percentiles__percentile=60, preprocesamiento__BagOfWords__ngram_range=(1, 3);, score=(train=0.609, test=0.667) total time=   0.2s\n",
      "[CV 4/5; 81/120] START modelo=KNeighborsClassifier(), modelo__n_neighbors=3, percentiles__percentile=60, preprocesamiento__BagOfWords__ngram_range=(1, 3)\n",
      "[CV 4/5; 81/120] END modelo=KNeighborsClassifier(), modelo__n_neighbors=3, percentiles__percentile=60, preprocesamiento__BagOfWords__ngram_range=(1, 3);, score=(train=0.667, test=0.400) total time=   0.4s\n",
      "[CV 5/5; 81/120] START modelo=KNeighborsClassifier(), modelo__n_neighbors=3, percentiles__percentile=60, preprocesamiento__BagOfWords__ngram_range=(1, 3)\n"
     ]
    },
    {
     "name": "stderr",
     "output_type": "stream",
     "text": [
      "C:\\Users\\Felipe\\anaconda3\\lib\\site-packages\\sklearn\\feature_selection\\_univariate_selection.py:113: RuntimeWarning: divide by zero encountered in true_divide\n",
      "  f = msb / msw\n"
     ]
    },
    {
     "name": "stdout",
     "output_type": "stream",
     "text": [
      "[CV 5/5; 81/120] END modelo=KNeighborsClassifier(), modelo__n_neighbors=3, percentiles__percentile=60, preprocesamiento__BagOfWords__ngram_range=(1, 3);, score=(train=0.625, test=0.800) total time=   0.3s\n",
      "[CV 1/5; 82/120] START modelo=KNeighborsClassifier(), modelo__n_neighbors=3, percentiles__percentile=80, preprocesamiento__BagOfWords__ngram_range=(1, 1)\n",
      "[CV 1/5; 82/120] END modelo=KNeighborsClassifier(), modelo__n_neighbors=3, percentiles__percentile=80, preprocesamiento__BagOfWords__ngram_range=(1, 1);, score=(train=0.696, test=0.167) total time=   0.5s\n",
      "[CV 2/5; 82/120] START modelo=KNeighborsClassifier(), modelo__n_neighbors=3, percentiles__percentile=80, preprocesamiento__BagOfWords__ngram_range=(1, 1)\n",
      "[CV 2/5; 82/120] END modelo=KNeighborsClassifier(), modelo__n_neighbors=3, percentiles__percentile=80, preprocesamiento__BagOfWords__ngram_range=(1, 1);, score=(train=0.826, test=0.667) total time=   0.4s\n",
      "[CV 3/5; 82/120] START modelo=KNeighborsClassifier(), modelo__n_neighbors=3, percentiles__percentile=80, preprocesamiento__BagOfWords__ngram_range=(1, 1)\n",
      "[CV 3/5; 82/120] END modelo=KNeighborsClassifier(), modelo__n_neighbors=3, percentiles__percentile=80, preprocesamiento__BagOfWords__ngram_range=(1, 1);, score=(train=0.739, test=0.500) total time=   0.1s\n",
      "[CV 4/5; 82/120] START modelo=KNeighborsClassifier(), modelo__n_neighbors=3, percentiles__percentile=80, preprocesamiento__BagOfWords__ngram_range=(1, 1)\n",
      "[CV 4/5; 82/120] END modelo=KNeighborsClassifier(), modelo__n_neighbors=3, percentiles__percentile=80, preprocesamiento__BagOfWords__ngram_range=(1, 1);, score=(train=0.750, test=0.400) total time=   0.3s\n",
      "[CV 5/5; 82/120] START modelo=KNeighborsClassifier(), modelo__n_neighbors=3, percentiles__percentile=80, preprocesamiento__BagOfWords__ngram_range=(1, 1)\n"
     ]
    },
    {
     "name": "stderr",
     "output_type": "stream",
     "text": [
      "C:\\Users\\Felipe\\anaconda3\\lib\\site-packages\\sklearn\\feature_selection\\_univariate_selection.py:113: RuntimeWarning: divide by zero encountered in true_divide\n",
      "  f = msb / msw\n"
     ]
    },
    {
     "name": "stdout",
     "output_type": "stream",
     "text": [
      "[CV 5/5; 82/120] END modelo=KNeighborsClassifier(), modelo__n_neighbors=3, percentiles__percentile=80, preprocesamiento__BagOfWords__ngram_range=(1, 1);, score=(train=0.708, test=0.800) total time=   0.3s\n",
      "[CV 1/5; 83/120] START modelo=KNeighborsClassifier(), modelo__n_neighbors=3, percentiles__percentile=80, preprocesamiento__BagOfWords__ngram_range=(1, 2)\n",
      "[CV 1/5; 83/120] END modelo=KNeighborsClassifier(), modelo__n_neighbors=3, percentiles__percentile=80, preprocesamiento__BagOfWords__ngram_range=(1, 2);, score=(train=0.696, test=0.333) total time=   0.5s\n",
      "[CV 2/5; 83/120] START modelo=KNeighborsClassifier(), modelo__n_neighbors=3, percentiles__percentile=80, preprocesamiento__BagOfWords__ngram_range=(1, 2)\n",
      "[CV 2/5; 83/120] END modelo=KNeighborsClassifier(), modelo__n_neighbors=3, percentiles__percentile=80, preprocesamiento__BagOfWords__ngram_range=(1, 2);, score=(train=0.478, test=0.667) total time=   0.4s\n",
      "[CV 3/5; 83/120] START modelo=KNeighborsClassifier(), modelo__n_neighbors=3, percentiles__percentile=80, preprocesamiento__BagOfWords__ngram_range=(1, 2)\n",
      "[CV 3/5; 83/120] END modelo=KNeighborsClassifier(), modelo__n_neighbors=3, percentiles__percentile=80, preprocesamiento__BagOfWords__ngram_range=(1, 2);, score=(train=0.696, test=0.667) total time=   0.2s\n",
      "[CV 4/5; 83/120] START modelo=KNeighborsClassifier(), modelo__n_neighbors=3, percentiles__percentile=80, preprocesamiento__BagOfWords__ngram_range=(1, 2)\n",
      "[CV 4/5; 83/120] END modelo=KNeighborsClassifier(), modelo__n_neighbors=3, percentiles__percentile=80, preprocesamiento__BagOfWords__ngram_range=(1, 2);, score=(train=0.667, test=0.400) total time=   0.6s\n",
      "[CV 5/5; 83/120] START modelo=KNeighborsClassifier(), modelo__n_neighbors=3, percentiles__percentile=80, preprocesamiento__BagOfWords__ngram_range=(1, 2)\n"
     ]
    },
    {
     "name": "stderr",
     "output_type": "stream",
     "text": [
      "C:\\Users\\Felipe\\anaconda3\\lib\\site-packages\\sklearn\\feature_selection\\_univariate_selection.py:113: RuntimeWarning: divide by zero encountered in true_divide\n",
      "  f = msb / msw\n"
     ]
    },
    {
     "name": "stdout",
     "output_type": "stream",
     "text": [
      "[CV 5/5; 83/120] END modelo=KNeighborsClassifier(), modelo__n_neighbors=3, percentiles__percentile=80, preprocesamiento__BagOfWords__ngram_range=(1, 2);, score=(train=0.667, test=0.800) total time=   0.5s\n",
      "[CV 1/5; 84/120] START modelo=KNeighborsClassifier(), modelo__n_neighbors=3, percentiles__percentile=80, preprocesamiento__BagOfWords__ngram_range=(1, 3)\n",
      "[CV 1/5; 84/120] END modelo=KNeighborsClassifier(), modelo__n_neighbors=3, percentiles__percentile=80, preprocesamiento__BagOfWords__ngram_range=(1, 3);, score=(train=0.826, test=0.333) total time=   0.8s\n",
      "[CV 2/5; 84/120] START modelo=KNeighborsClassifier(), modelo__n_neighbors=3, percentiles__percentile=80, preprocesamiento__BagOfWords__ngram_range=(1, 3)\n",
      "[CV 2/5; 84/120] END modelo=KNeighborsClassifier(), modelo__n_neighbors=3, percentiles__percentile=80, preprocesamiento__BagOfWords__ngram_range=(1, 3);, score=(train=0.478, test=0.667) total time=   0.5s\n",
      "[CV 3/5; 84/120] START modelo=KNeighborsClassifier(), modelo__n_neighbors=3, percentiles__percentile=80, preprocesamiento__BagOfWords__ngram_range=(1, 3)\n",
      "[CV 3/5; 84/120] END modelo=KNeighborsClassifier(), modelo__n_neighbors=3, percentiles__percentile=80, preprocesamiento__BagOfWords__ngram_range=(1, 3);, score=(train=0.652, test=0.667) total time=   0.2s\n",
      "[CV 4/5; 84/120] START modelo=KNeighborsClassifier(), modelo__n_neighbors=3, percentiles__percentile=80, preprocesamiento__BagOfWords__ngram_range=(1, 3)\n",
      "[CV 4/5; 84/120] END modelo=KNeighborsClassifier(), modelo__n_neighbors=3, percentiles__percentile=80, preprocesamiento__BagOfWords__ngram_range=(1, 3);, score=(train=0.667, test=0.400) total time=   0.4s\n",
      "[CV 5/5; 84/120] START modelo=KNeighborsClassifier(), modelo__n_neighbors=3, percentiles__percentile=80, preprocesamiento__BagOfWords__ngram_range=(1, 3)\n"
     ]
    },
    {
     "name": "stderr",
     "output_type": "stream",
     "text": [
      "C:\\Users\\Felipe\\anaconda3\\lib\\site-packages\\sklearn\\feature_selection\\_univariate_selection.py:113: RuntimeWarning: divide by zero encountered in true_divide\n",
      "  f = msb / msw\n"
     ]
    },
    {
     "name": "stdout",
     "output_type": "stream",
     "text": [
      "[CV 5/5; 84/120] END modelo=KNeighborsClassifier(), modelo__n_neighbors=3, percentiles__percentile=80, preprocesamiento__BagOfWords__ngram_range=(1, 3);, score=(train=0.625, test=0.800) total time=   0.3s\n",
      "[CV 1/5; 85/120] START modelo=KNeighborsClassifier(), modelo__n_neighbors=4, percentiles__percentile=20, preprocesamiento__BagOfWords__ngram_range=(1, 1)\n",
      "[CV 1/5; 85/120] END modelo=KNeighborsClassifier(), modelo__n_neighbors=4, percentiles__percentile=20, preprocesamiento__BagOfWords__ngram_range=(1, 1);, score=(train=0.826, test=1.000) total time=   0.5s\n",
      "[CV 2/5; 85/120] START modelo=KNeighborsClassifier(), modelo__n_neighbors=4, percentiles__percentile=20, preprocesamiento__BagOfWords__ngram_range=(1, 1)\n",
      "[CV 2/5; 85/120] END modelo=KNeighborsClassifier(), modelo__n_neighbors=4, percentiles__percentile=20, preprocesamiento__BagOfWords__ngram_range=(1, 1);, score=(train=0.522, test=0.500) total time=   0.4s\n",
      "[CV 3/5; 85/120] START modelo=KNeighborsClassifier(), modelo__n_neighbors=4, percentiles__percentile=20, preprocesamiento__BagOfWords__ngram_range=(1, 1)\n",
      "[CV 3/5; 85/120] END modelo=KNeighborsClassifier(), modelo__n_neighbors=4, percentiles__percentile=20, preprocesamiento__BagOfWords__ngram_range=(1, 1);, score=(train=0.609, test=0.667) total time=   0.1s\n",
      "[CV 4/5; 85/120] START modelo=KNeighborsClassifier(), modelo__n_neighbors=4, percentiles__percentile=20, preprocesamiento__BagOfWords__ngram_range=(1, 1)\n",
      "[CV 4/5; 85/120] END modelo=KNeighborsClassifier(), modelo__n_neighbors=4, percentiles__percentile=20, preprocesamiento__BagOfWords__ngram_range=(1, 1);, score=(train=0.667, test=0.400) total time=   0.3s\n",
      "[CV 5/5; 85/120] START modelo=KNeighborsClassifier(), modelo__n_neighbors=4, percentiles__percentile=20, preprocesamiento__BagOfWords__ngram_range=(1, 1)\n"
     ]
    },
    {
     "name": "stderr",
     "output_type": "stream",
     "text": [
      "C:\\Users\\Felipe\\anaconda3\\lib\\site-packages\\sklearn\\feature_selection\\_univariate_selection.py:113: RuntimeWarning: divide by zero encountered in true_divide\n",
      "  f = msb / msw\n"
     ]
    },
    {
     "name": "stdout",
     "output_type": "stream",
     "text": [
      "[CV 5/5; 85/120] END modelo=KNeighborsClassifier(), modelo__n_neighbors=4, percentiles__percentile=20, preprocesamiento__BagOfWords__ngram_range=(1, 1);, score=(train=0.708, test=0.800) total time=   0.3s\n",
      "[CV 1/5; 86/120] START modelo=KNeighborsClassifier(), modelo__n_neighbors=4, percentiles__percentile=20, preprocesamiento__BagOfWords__ngram_range=(1, 2)\n",
      "[CV 1/5; 86/120] END modelo=KNeighborsClassifier(), modelo__n_neighbors=4, percentiles__percentile=20, preprocesamiento__BagOfWords__ngram_range=(1, 2);, score=(train=0.652, test=0.500) total time=   0.5s\n",
      "[CV 2/5; 86/120] START modelo=KNeighborsClassifier(), modelo__n_neighbors=4, percentiles__percentile=20, preprocesamiento__BagOfWords__ngram_range=(1, 2)\n",
      "[CV 2/5; 86/120] END modelo=KNeighborsClassifier(), modelo__n_neighbors=4, percentiles__percentile=20, preprocesamiento__BagOfWords__ngram_range=(1, 2);, score=(train=0.522, test=0.667) total time=   0.5s\n",
      "[CV 3/5; 86/120] START modelo=KNeighborsClassifier(), modelo__n_neighbors=4, percentiles__percentile=20, preprocesamiento__BagOfWords__ngram_range=(1, 2)\n",
      "[CV 3/5; 86/120] END modelo=KNeighborsClassifier(), modelo__n_neighbors=4, percentiles__percentile=20, preprocesamiento__BagOfWords__ngram_range=(1, 2);, score=(train=0.609, test=0.667) total time=   0.1s\n",
      "[CV 4/5; 86/120] START modelo=KNeighborsClassifier(), modelo__n_neighbors=4, percentiles__percentile=20, preprocesamiento__BagOfWords__ngram_range=(1, 2)\n",
      "[CV 4/5; 86/120] END modelo=KNeighborsClassifier(), modelo__n_neighbors=4, percentiles__percentile=20, preprocesamiento__BagOfWords__ngram_range=(1, 2);, score=(train=0.667, test=0.400) total time=   0.3s\n",
      "[CV 5/5; 86/120] START modelo=KNeighborsClassifier(), modelo__n_neighbors=4, percentiles__percentile=20, preprocesamiento__BagOfWords__ngram_range=(1, 2)\n"
     ]
    },
    {
     "name": "stderr",
     "output_type": "stream",
     "text": [
      "C:\\Users\\Felipe\\anaconda3\\lib\\site-packages\\sklearn\\feature_selection\\_univariate_selection.py:113: RuntimeWarning: divide by zero encountered in true_divide\n",
      "  f = msb / msw\n"
     ]
    },
    {
     "name": "stdout",
     "output_type": "stream",
     "text": [
      "[CV 5/5; 86/120] END modelo=KNeighborsClassifier(), modelo__n_neighbors=4, percentiles__percentile=20, preprocesamiento__BagOfWords__ngram_range=(1, 2);, score=(train=0.667, test=0.800) total time=   0.3s\n",
      "[CV 1/5; 87/120] START modelo=KNeighborsClassifier(), modelo__n_neighbors=4, percentiles__percentile=20, preprocesamiento__BagOfWords__ngram_range=(1, 3)\n",
      "[CV 1/5; 87/120] END modelo=KNeighborsClassifier(), modelo__n_neighbors=4, percentiles__percentile=20, preprocesamiento__BagOfWords__ngram_range=(1, 3);, score=(train=0.565, test=0.500) total time=   0.6s\n",
      "[CV 2/5; 87/120] START modelo=KNeighborsClassifier(), modelo__n_neighbors=4, percentiles__percentile=20, preprocesamiento__BagOfWords__ngram_range=(1, 3)\n",
      "[CV 2/5; 87/120] END modelo=KNeighborsClassifier(), modelo__n_neighbors=4, percentiles__percentile=20, preprocesamiento__BagOfWords__ngram_range=(1, 3);, score=(train=0.522, test=0.667) total time=   0.5s\n",
      "[CV 3/5; 87/120] START modelo=KNeighborsClassifier(), modelo__n_neighbors=4, percentiles__percentile=20, preprocesamiento__BagOfWords__ngram_range=(1, 3)\n",
      "[CV 3/5; 87/120] END modelo=KNeighborsClassifier(), modelo__n_neighbors=4, percentiles__percentile=20, preprocesamiento__BagOfWords__ngram_range=(1, 3);, score=(train=0.609, test=0.667) total time=   0.3s\n",
      "[CV 4/5; 87/120] START modelo=KNeighborsClassifier(), modelo__n_neighbors=4, percentiles__percentile=20, preprocesamiento__BagOfWords__ngram_range=(1, 3)\n",
      "[CV 4/5; 87/120] END modelo=KNeighborsClassifier(), modelo__n_neighbors=4, percentiles__percentile=20, preprocesamiento__BagOfWords__ngram_range=(1, 3);, score=(train=0.667, test=0.400) total time=   0.7s\n",
      "[CV 5/5; 87/120] START modelo=KNeighborsClassifier(), modelo__n_neighbors=4, percentiles__percentile=20, preprocesamiento__BagOfWords__ngram_range=(1, 3)\n"
     ]
    },
    {
     "name": "stderr",
     "output_type": "stream",
     "text": [
      "C:\\Users\\Felipe\\anaconda3\\lib\\site-packages\\sklearn\\feature_selection\\_univariate_selection.py:113: RuntimeWarning: divide by zero encountered in true_divide\n",
      "  f = msb / msw\n"
     ]
    },
    {
     "name": "stdout",
     "output_type": "stream",
     "text": [
      "[CV 5/5; 87/120] END modelo=KNeighborsClassifier(), modelo__n_neighbors=4, percentiles__percentile=20, preprocesamiento__BagOfWords__ngram_range=(1, 3);, score=(train=0.625, test=0.800) total time=   0.5s\n",
      "[CV 1/5; 88/120] START modelo=KNeighborsClassifier(), modelo__n_neighbors=4, percentiles__percentile=40, preprocesamiento__BagOfWords__ngram_range=(1, 1)\n",
      "[CV 1/5; 88/120] END modelo=KNeighborsClassifier(), modelo__n_neighbors=4, percentiles__percentile=40, preprocesamiento__BagOfWords__ngram_range=(1, 1);, score=(train=0.609, test=0.167) total time=   0.5s\n",
      "[CV 2/5; 88/120] START modelo=KNeighborsClassifier(), modelo__n_neighbors=4, percentiles__percentile=40, preprocesamiento__BagOfWords__ngram_range=(1, 1)\n",
      "[CV 2/5; 88/120] END modelo=KNeighborsClassifier(), modelo__n_neighbors=4, percentiles__percentile=40, preprocesamiento__BagOfWords__ngram_range=(1, 1);, score=(train=0.522, test=0.500) total time=   0.4s\n",
      "[CV 3/5; 88/120] START modelo=KNeighborsClassifier(), modelo__n_neighbors=4, percentiles__percentile=40, preprocesamiento__BagOfWords__ngram_range=(1, 1)\n",
      "[CV 3/5; 88/120] END modelo=KNeighborsClassifier(), modelo__n_neighbors=4, percentiles__percentile=40, preprocesamiento__BagOfWords__ngram_range=(1, 1);, score=(train=0.609, test=0.667) total time=   0.1s\n",
      "[CV 4/5; 88/120] START modelo=KNeighborsClassifier(), modelo__n_neighbors=4, percentiles__percentile=40, preprocesamiento__BagOfWords__ngram_range=(1, 1)\n",
      "[CV 4/5; 88/120] END modelo=KNeighborsClassifier(), modelo__n_neighbors=4, percentiles__percentile=40, preprocesamiento__BagOfWords__ngram_range=(1, 1);, score=(train=0.667, test=0.400) total time=   0.3s\n",
      "[CV 5/5; 88/120] START modelo=KNeighborsClassifier(), modelo__n_neighbors=4, percentiles__percentile=40, preprocesamiento__BagOfWords__ngram_range=(1, 1)\n"
     ]
    },
    {
     "name": "stderr",
     "output_type": "stream",
     "text": [
      "C:\\Users\\Felipe\\anaconda3\\lib\\site-packages\\sklearn\\feature_selection\\_univariate_selection.py:113: RuntimeWarning: divide by zero encountered in true_divide\n",
      "  f = msb / msw\n"
     ]
    },
    {
     "name": "stdout",
     "output_type": "stream",
     "text": [
      "[CV 5/5; 88/120] END modelo=KNeighborsClassifier(), modelo__n_neighbors=4, percentiles__percentile=40, preprocesamiento__BagOfWords__ngram_range=(1, 1);, score=(train=0.708, test=0.800) total time=   0.3s\n",
      "[CV 1/5; 89/120] START modelo=KNeighborsClassifier(), modelo__n_neighbors=4, percentiles__percentile=40, preprocesamiento__BagOfWords__ngram_range=(1, 2)\n",
      "[CV 1/5; 89/120] END modelo=KNeighborsClassifier(), modelo__n_neighbors=4, percentiles__percentile=40, preprocesamiento__BagOfWords__ngram_range=(1, 2);, score=(train=0.696, test=0.500) total time=   0.5s\n",
      "[CV 2/5; 89/120] START modelo=KNeighborsClassifier(), modelo__n_neighbors=4, percentiles__percentile=40, preprocesamiento__BagOfWords__ngram_range=(1, 2)\n",
      "[CV 2/5; 89/120] END modelo=KNeighborsClassifier(), modelo__n_neighbors=4, percentiles__percentile=40, preprocesamiento__BagOfWords__ngram_range=(1, 2);, score=(train=0.478, test=0.667) total time=   0.5s\n",
      "[CV 3/5; 89/120] START modelo=KNeighborsClassifier(), modelo__n_neighbors=4, percentiles__percentile=40, preprocesamiento__BagOfWords__ngram_range=(1, 2)\n",
      "[CV 3/5; 89/120] END modelo=KNeighborsClassifier(), modelo__n_neighbors=4, percentiles__percentile=40, preprocesamiento__BagOfWords__ngram_range=(1, 2);, score=(train=0.609, test=0.667) total time=   0.2s\n",
      "[CV 4/5; 89/120] START modelo=KNeighborsClassifier(), modelo__n_neighbors=4, percentiles__percentile=40, preprocesamiento__BagOfWords__ngram_range=(1, 2)\n",
      "[CV 4/5; 89/120] END modelo=KNeighborsClassifier(), modelo__n_neighbors=4, percentiles__percentile=40, preprocesamiento__BagOfWords__ngram_range=(1, 2);, score=(train=0.667, test=0.400) total time=   0.3s\n",
      "[CV 5/5; 89/120] START modelo=KNeighborsClassifier(), modelo__n_neighbors=4, percentiles__percentile=40, preprocesamiento__BagOfWords__ngram_range=(1, 2)\n"
     ]
    },
    {
     "name": "stderr",
     "output_type": "stream",
     "text": [
      "C:\\Users\\Felipe\\anaconda3\\lib\\site-packages\\sklearn\\feature_selection\\_univariate_selection.py:113: RuntimeWarning: divide by zero encountered in true_divide\n",
      "  f = msb / msw\n"
     ]
    },
    {
     "name": "stdout",
     "output_type": "stream",
     "text": [
      "[CV 5/5; 89/120] END modelo=KNeighborsClassifier(), modelo__n_neighbors=4, percentiles__percentile=40, preprocesamiento__BagOfWords__ngram_range=(1, 2);, score=(train=0.625, test=0.800) total time=   0.3s\n",
      "[CV 1/5; 90/120] START modelo=KNeighborsClassifier(), modelo__n_neighbors=4, percentiles__percentile=40, preprocesamiento__BagOfWords__ngram_range=(1, 3)\n",
      "[CV 1/5; 90/120] END modelo=KNeighborsClassifier(), modelo__n_neighbors=4, percentiles__percentile=40, preprocesamiento__BagOfWords__ngram_range=(1, 3);, score=(train=0.696, test=0.500) total time=   0.6s\n",
      "[CV 2/5; 90/120] START modelo=KNeighborsClassifier(), modelo__n_neighbors=4, percentiles__percentile=40, preprocesamiento__BagOfWords__ngram_range=(1, 3)\n",
      "[CV 2/5; 90/120] END modelo=KNeighborsClassifier(), modelo__n_neighbors=4, percentiles__percentile=40, preprocesamiento__BagOfWords__ngram_range=(1, 3);, score=(train=0.478, test=0.667) total time=   0.5s\n",
      "[CV 3/5; 90/120] START modelo=KNeighborsClassifier(), modelo__n_neighbors=4, percentiles__percentile=40, preprocesamiento__BagOfWords__ngram_range=(1, 3)\n",
      "[CV 3/5; 90/120] END modelo=KNeighborsClassifier(), modelo__n_neighbors=4, percentiles__percentile=40, preprocesamiento__BagOfWords__ngram_range=(1, 3);, score=(train=0.609, test=0.667) total time=   0.2s\n",
      "[CV 4/5; 90/120] START modelo=KNeighborsClassifier(), modelo__n_neighbors=4, percentiles__percentile=40, preprocesamiento__BagOfWords__ngram_range=(1, 3)\n",
      "[CV 4/5; 90/120] END modelo=KNeighborsClassifier(), modelo__n_neighbors=4, percentiles__percentile=40, preprocesamiento__BagOfWords__ngram_range=(1, 3);, score=(train=0.667, test=0.400) total time=   0.4s\n",
      "[CV 5/5; 90/120] START modelo=KNeighborsClassifier(), modelo__n_neighbors=4, percentiles__percentile=40, preprocesamiento__BagOfWords__ngram_range=(1, 3)\n"
     ]
    },
    {
     "name": "stderr",
     "output_type": "stream",
     "text": [
      "C:\\Users\\Felipe\\anaconda3\\lib\\site-packages\\sklearn\\feature_selection\\_univariate_selection.py:113: RuntimeWarning: divide by zero encountered in true_divide\n",
      "  f = msb / msw\n"
     ]
    },
    {
     "name": "stdout",
     "output_type": "stream",
     "text": [
      "[CV 5/5; 90/120] END modelo=KNeighborsClassifier(), modelo__n_neighbors=4, percentiles__percentile=40, preprocesamiento__BagOfWords__ngram_range=(1, 3);, score=(train=0.625, test=0.800) total time=   0.3s\n",
      "[CV 1/5; 91/120] START modelo=KNeighborsClassifier(), modelo__n_neighbors=4, percentiles__percentile=60, preprocesamiento__BagOfWords__ngram_range=(1, 1)\n",
      "[CV 1/5; 91/120] END modelo=KNeighborsClassifier(), modelo__n_neighbors=4, percentiles__percentile=60, preprocesamiento__BagOfWords__ngram_range=(1, 1);, score=(train=0.565, test=0.167) total time=   0.5s\n",
      "[CV 2/5; 91/120] START modelo=KNeighborsClassifier(), modelo__n_neighbors=4, percentiles__percentile=60, preprocesamiento__BagOfWords__ngram_range=(1, 1)\n",
      "[CV 2/5; 91/120] END modelo=KNeighborsClassifier(), modelo__n_neighbors=4, percentiles__percentile=60, preprocesamiento__BagOfWords__ngram_range=(1, 1);, score=(train=0.522, test=0.667) total time=   0.5s\n",
      "[CV 3/5; 91/120] START modelo=KNeighborsClassifier(), modelo__n_neighbors=4, percentiles__percentile=60, preprocesamiento__BagOfWords__ngram_range=(1, 1)\n",
      "[CV 3/5; 91/120] END modelo=KNeighborsClassifier(), modelo__n_neighbors=4, percentiles__percentile=60, preprocesamiento__BagOfWords__ngram_range=(1, 1);, score=(train=0.652, test=0.333) total time=   0.3s\n",
      "[CV 4/5; 91/120] START modelo=KNeighborsClassifier(), modelo__n_neighbors=4, percentiles__percentile=60, preprocesamiento__BagOfWords__ngram_range=(1, 1)\n",
      "[CV 4/5; 91/120] END modelo=KNeighborsClassifier(), modelo__n_neighbors=4, percentiles__percentile=60, preprocesamiento__BagOfWords__ngram_range=(1, 1);, score=(train=0.667, test=0.400) total time=   0.5s\n",
      "[CV 5/5; 91/120] START modelo=KNeighborsClassifier(), modelo__n_neighbors=4, percentiles__percentile=60, preprocesamiento__BagOfWords__ngram_range=(1, 1)\n"
     ]
    },
    {
     "name": "stderr",
     "output_type": "stream",
     "text": [
      "C:\\Users\\Felipe\\anaconda3\\lib\\site-packages\\sklearn\\feature_selection\\_univariate_selection.py:113: RuntimeWarning: divide by zero encountered in true_divide\n",
      "  f = msb / msw\n"
     ]
    },
    {
     "name": "stdout",
     "output_type": "stream",
     "text": [
      "[CV 5/5; 91/120] END modelo=KNeighborsClassifier(), modelo__n_neighbors=4, percentiles__percentile=60, preprocesamiento__BagOfWords__ngram_range=(1, 1);, score=(train=0.708, test=0.800) total time=   0.3s\n",
      "[CV 1/5; 92/120] START modelo=KNeighborsClassifier(), modelo__n_neighbors=4, percentiles__percentile=60, preprocesamiento__BagOfWords__ngram_range=(1, 2)\n",
      "[CV 1/5; 92/120] END modelo=KNeighborsClassifier(), modelo__n_neighbors=4, percentiles__percentile=60, preprocesamiento__BagOfWords__ngram_range=(1, 2);, score=(train=0.652, test=0.500) total time=   0.5s\n",
      "[CV 2/5; 92/120] START modelo=KNeighborsClassifier(), modelo__n_neighbors=4, percentiles__percentile=60, preprocesamiento__BagOfWords__ngram_range=(1, 2)\n",
      "[CV 2/5; 92/120] END modelo=KNeighborsClassifier(), modelo__n_neighbors=4, percentiles__percentile=60, preprocesamiento__BagOfWords__ngram_range=(1, 2);, score=(train=0.478, test=0.667) total time=   0.4s\n",
      "[CV 3/5; 92/120] START modelo=KNeighborsClassifier(), modelo__n_neighbors=4, percentiles__percentile=60, preprocesamiento__BagOfWords__ngram_range=(1, 2)\n",
      "[CV 3/5; 92/120] END modelo=KNeighborsClassifier(), modelo__n_neighbors=4, percentiles__percentile=60, preprocesamiento__BagOfWords__ngram_range=(1, 2);, score=(train=0.609, test=0.667) total time=   0.1s\n",
      "[CV 4/5; 92/120] START modelo=KNeighborsClassifier(), modelo__n_neighbors=4, percentiles__percentile=60, preprocesamiento__BagOfWords__ngram_range=(1, 2)\n",
      "[CV 4/5; 92/120] END modelo=KNeighborsClassifier(), modelo__n_neighbors=4, percentiles__percentile=60, preprocesamiento__BagOfWords__ngram_range=(1, 2);, score=(train=0.667, test=0.400) total time=   0.3s\n",
      "[CV 5/5; 92/120] START modelo=KNeighborsClassifier(), modelo__n_neighbors=4, percentiles__percentile=60, preprocesamiento__BagOfWords__ngram_range=(1, 2)\n"
     ]
    },
    {
     "name": "stderr",
     "output_type": "stream",
     "text": [
      "C:\\Users\\Felipe\\anaconda3\\lib\\site-packages\\sklearn\\feature_selection\\_univariate_selection.py:113: RuntimeWarning: divide by zero encountered in true_divide\n",
      "  f = msb / msw\n"
     ]
    },
    {
     "name": "stdout",
     "output_type": "stream",
     "text": [
      "[CV 5/5; 92/120] END modelo=KNeighborsClassifier(), modelo__n_neighbors=4, percentiles__percentile=60, preprocesamiento__BagOfWords__ngram_range=(1, 2);, score=(train=0.625, test=0.800) total time=   0.2s\n",
      "[CV 1/5; 93/120] START modelo=KNeighborsClassifier(), modelo__n_neighbors=4, percentiles__percentile=60, preprocesamiento__BagOfWords__ngram_range=(1, 3)\n",
      "[CV 1/5; 93/120] END modelo=KNeighborsClassifier(), modelo__n_neighbors=4, percentiles__percentile=60, preprocesamiento__BagOfWords__ngram_range=(1, 3);, score=(train=0.696, test=0.500) total time=   0.6s\n",
      "[CV 2/5; 93/120] START modelo=KNeighborsClassifier(), modelo__n_neighbors=4, percentiles__percentile=60, preprocesamiento__BagOfWords__ngram_range=(1, 3)\n",
      "[CV 2/5; 93/120] END modelo=KNeighborsClassifier(), modelo__n_neighbors=4, percentiles__percentile=60, preprocesamiento__BagOfWords__ngram_range=(1, 3);, score=(train=0.478, test=0.667) total time=   0.5s\n",
      "[CV 3/5; 93/120] START modelo=KNeighborsClassifier(), modelo__n_neighbors=4, percentiles__percentile=60, preprocesamiento__BagOfWords__ngram_range=(1, 3)\n",
      "[CV 3/5; 93/120] END modelo=KNeighborsClassifier(), modelo__n_neighbors=4, percentiles__percentile=60, preprocesamiento__BagOfWords__ngram_range=(1, 3);, score=(train=0.696, test=0.667) total time=   0.2s\n",
      "[CV 4/5; 93/120] START modelo=KNeighborsClassifier(), modelo__n_neighbors=4, percentiles__percentile=60, preprocesamiento__BagOfWords__ngram_range=(1, 3)\n",
      "[CV 4/5; 93/120] END modelo=KNeighborsClassifier(), modelo__n_neighbors=4, percentiles__percentile=60, preprocesamiento__BagOfWords__ngram_range=(1, 3);, score=(train=0.625, test=0.400) total time=   0.4s\n",
      "[CV 5/5; 93/120] START modelo=KNeighborsClassifier(), modelo__n_neighbors=4, percentiles__percentile=60, preprocesamiento__BagOfWords__ngram_range=(1, 3)\n"
     ]
    },
    {
     "name": "stderr",
     "output_type": "stream",
     "text": [
      "C:\\Users\\Felipe\\anaconda3\\lib\\site-packages\\sklearn\\feature_selection\\_univariate_selection.py:113: RuntimeWarning: divide by zero encountered in true_divide\n",
      "  f = msb / msw\n"
     ]
    },
    {
     "name": "stdout",
     "output_type": "stream",
     "text": [
      "[CV 5/5; 93/120] END modelo=KNeighborsClassifier(), modelo__n_neighbors=4, percentiles__percentile=60, preprocesamiento__BagOfWords__ngram_range=(1, 3);, score=(train=0.625, test=0.800) total time=   0.3s\n",
      "[CV 1/5; 94/120] START modelo=KNeighborsClassifier(), modelo__n_neighbors=4, percentiles__percentile=80, preprocesamiento__BagOfWords__ngram_range=(1, 1)\n",
      "[CV 1/5; 94/120] END modelo=KNeighborsClassifier(), modelo__n_neighbors=4, percentiles__percentile=80, preprocesamiento__BagOfWords__ngram_range=(1, 1);, score=(train=0.565, test=0.167) total time=   0.5s\n",
      "[CV 2/5; 94/120] START modelo=KNeighborsClassifier(), modelo__n_neighbors=4, percentiles__percentile=80, preprocesamiento__BagOfWords__ngram_range=(1, 1)\n",
      "[CV 2/5; 94/120] END modelo=KNeighborsClassifier(), modelo__n_neighbors=4, percentiles__percentile=80, preprocesamiento__BagOfWords__ngram_range=(1, 1);, score=(train=0.522, test=0.667) total time=   0.4s\n",
      "[CV 3/5; 94/120] START modelo=KNeighborsClassifier(), modelo__n_neighbors=4, percentiles__percentile=80, preprocesamiento__BagOfWords__ngram_range=(1, 1)\n",
      "[CV 3/5; 94/120] END modelo=KNeighborsClassifier(), modelo__n_neighbors=4, percentiles__percentile=80, preprocesamiento__BagOfWords__ngram_range=(1, 1);, score=(train=0.652, test=0.167) total time=   0.1s\n",
      "[CV 4/5; 94/120] START modelo=KNeighborsClassifier(), modelo__n_neighbors=4, percentiles__percentile=80, preprocesamiento__BagOfWords__ngram_range=(1, 1)\n",
      "[CV 4/5; 94/120] END modelo=KNeighborsClassifier(), modelo__n_neighbors=4, percentiles__percentile=80, preprocesamiento__BagOfWords__ngram_range=(1, 1);, score=(train=0.625, test=0.400) total time=   0.3s\n",
      "[CV 5/5; 94/120] START modelo=KNeighborsClassifier(), modelo__n_neighbors=4, percentiles__percentile=80, preprocesamiento__BagOfWords__ngram_range=(1, 1)\n"
     ]
    },
    {
     "name": "stderr",
     "output_type": "stream",
     "text": [
      "C:\\Users\\Felipe\\anaconda3\\lib\\site-packages\\sklearn\\feature_selection\\_univariate_selection.py:113: RuntimeWarning: divide by zero encountered in true_divide\n",
      "  f = msb / msw\n"
     ]
    },
    {
     "name": "stdout",
     "output_type": "stream",
     "text": [
      "[CV 5/5; 94/120] END modelo=KNeighborsClassifier(), modelo__n_neighbors=4, percentiles__percentile=80, preprocesamiento__BagOfWords__ngram_range=(1, 1);, score=(train=0.708, test=0.800) total time=   0.2s\n",
      "[CV 1/5; 95/120] START modelo=KNeighborsClassifier(), modelo__n_neighbors=4, percentiles__percentile=80, preprocesamiento__BagOfWords__ngram_range=(1, 2)\n",
      "[CV 1/5; 95/120] END modelo=KNeighborsClassifier(), modelo__n_neighbors=4, percentiles__percentile=80, preprocesamiento__BagOfWords__ngram_range=(1, 2);, score=(train=0.652, test=0.500) total time=   0.5s\n",
      "[CV 2/5; 95/120] START modelo=KNeighborsClassifier(), modelo__n_neighbors=4, percentiles__percentile=80, preprocesamiento__BagOfWords__ngram_range=(1, 2)\n",
      "[CV 2/5; 95/120] END modelo=KNeighborsClassifier(), modelo__n_neighbors=4, percentiles__percentile=80, preprocesamiento__BagOfWords__ngram_range=(1, 2);, score=(train=0.478, test=0.667) total time=   0.6s\n",
      "[CV 3/5; 95/120] START modelo=KNeighborsClassifier(), modelo__n_neighbors=4, percentiles__percentile=80, preprocesamiento__BagOfWords__ngram_range=(1, 2)\n",
      "[CV 3/5; 95/120] END modelo=KNeighborsClassifier(), modelo__n_neighbors=4, percentiles__percentile=80, preprocesamiento__BagOfWords__ngram_range=(1, 2);, score=(train=0.696, test=0.167) total time=   0.2s\n",
      "[CV 4/5; 95/120] START modelo=KNeighborsClassifier(), modelo__n_neighbors=4, percentiles__percentile=80, preprocesamiento__BagOfWords__ngram_range=(1, 2)\n",
      "[CV 4/5; 95/120] END modelo=KNeighborsClassifier(), modelo__n_neighbors=4, percentiles__percentile=80, preprocesamiento__BagOfWords__ngram_range=(1, 2);, score=(train=0.625, test=0.400) total time=   0.7s\n",
      "[CV 5/5; 95/120] START modelo=KNeighborsClassifier(), modelo__n_neighbors=4, percentiles__percentile=80, preprocesamiento__BagOfWords__ngram_range=(1, 2)\n"
     ]
    },
    {
     "name": "stderr",
     "output_type": "stream",
     "text": [
      "C:\\Users\\Felipe\\anaconda3\\lib\\site-packages\\sklearn\\feature_selection\\_univariate_selection.py:113: RuntimeWarning: divide by zero encountered in true_divide\n",
      "  f = msb / msw\n"
     ]
    },
    {
     "name": "stdout",
     "output_type": "stream",
     "text": [
      "[CV 5/5; 95/120] END modelo=KNeighborsClassifier(), modelo__n_neighbors=4, percentiles__percentile=80, preprocesamiento__BagOfWords__ngram_range=(1, 2);, score=(train=0.708, test=0.800) total time=   0.3s\n",
      "[CV 1/5; 96/120] START modelo=KNeighborsClassifier(), modelo__n_neighbors=4, percentiles__percentile=80, preprocesamiento__BagOfWords__ngram_range=(1, 3)\n",
      "[CV 1/5; 96/120] END modelo=KNeighborsClassifier(), modelo__n_neighbors=4, percentiles__percentile=80, preprocesamiento__BagOfWords__ngram_range=(1, 3);, score=(train=0.696, test=0.500) total time=   0.5s\n",
      "[CV 2/5; 96/120] START modelo=KNeighborsClassifier(), modelo__n_neighbors=4, percentiles__percentile=80, preprocesamiento__BagOfWords__ngram_range=(1, 3)\n",
      "[CV 2/5; 96/120] END modelo=KNeighborsClassifier(), modelo__n_neighbors=4, percentiles__percentile=80, preprocesamiento__BagOfWords__ngram_range=(1, 3);, score=(train=0.478, test=0.667) total time=   0.5s\n",
      "[CV 3/5; 96/120] START modelo=KNeighborsClassifier(), modelo__n_neighbors=4, percentiles__percentile=80, preprocesamiento__BagOfWords__ngram_range=(1, 3)\n",
      "[CV 3/5; 96/120] END modelo=KNeighborsClassifier(), modelo__n_neighbors=4, percentiles__percentile=80, preprocesamiento__BagOfWords__ngram_range=(1, 3);, score=(train=0.696, test=0.167) total time=   0.2s\n",
      "[CV 4/5; 96/120] START modelo=KNeighborsClassifier(), modelo__n_neighbors=4, percentiles__percentile=80, preprocesamiento__BagOfWords__ngram_range=(1, 3)\n",
      "[CV 4/5; 96/120] END modelo=KNeighborsClassifier(), modelo__n_neighbors=4, percentiles__percentile=80, preprocesamiento__BagOfWords__ngram_range=(1, 3);, score=(train=0.625, test=0.400) total time=   0.4s\n",
      "[CV 5/5; 96/120] START modelo=KNeighborsClassifier(), modelo__n_neighbors=4, percentiles__percentile=80, preprocesamiento__BagOfWords__ngram_range=(1, 3)\n"
     ]
    },
    {
     "name": "stderr",
     "output_type": "stream",
     "text": [
      "C:\\Users\\Felipe\\anaconda3\\lib\\site-packages\\sklearn\\feature_selection\\_univariate_selection.py:113: RuntimeWarning: divide by zero encountered in true_divide\n",
      "  f = msb / msw\n"
     ]
    },
    {
     "name": "stdout",
     "output_type": "stream",
     "text": [
      "[CV 5/5; 96/120] END modelo=KNeighborsClassifier(), modelo__n_neighbors=4, percentiles__percentile=80, preprocesamiento__BagOfWords__ngram_range=(1, 3);, score=(train=0.625, test=0.800) total time=   0.3s\n",
      "[CV 1/5; 97/120] START modelo=KNeighborsClassifier(), modelo__n_neighbors=5, percentiles__percentile=20, preprocesamiento__BagOfWords__ngram_range=(1, 1)\n",
      "[CV 1/5; 97/120] END modelo=KNeighborsClassifier(), modelo__n_neighbors=5, percentiles__percentile=20, preprocesamiento__BagOfWords__ngram_range=(1, 1);, score=(train=0.696, test=0.667) total time=   0.5s\n",
      "[CV 2/5; 97/120] START modelo=KNeighborsClassifier(), modelo__n_neighbors=5, percentiles__percentile=20, preprocesamiento__BagOfWords__ngram_range=(1, 1)\n",
      "[CV 2/5; 97/120] END modelo=KNeighborsClassifier(), modelo__n_neighbors=5, percentiles__percentile=20, preprocesamiento__BagOfWords__ngram_range=(1, 1);, score=(train=0.478, test=0.667) total time=   0.4s\n",
      "[CV 3/5; 97/120] START modelo=KNeighborsClassifier(), modelo__n_neighbors=5, percentiles__percentile=20, preprocesamiento__BagOfWords__ngram_range=(1, 1)\n",
      "[CV 3/5; 97/120] END modelo=KNeighborsClassifier(), modelo__n_neighbors=5, percentiles__percentile=20, preprocesamiento__BagOfWords__ngram_range=(1, 1);, score=(train=0.609, test=0.667) total time=   0.1s\n",
      "[CV 4/5; 97/120] START modelo=KNeighborsClassifier(), modelo__n_neighbors=5, percentiles__percentile=20, preprocesamiento__BagOfWords__ngram_range=(1, 1)\n",
      "[CV 4/5; 97/120] END modelo=KNeighborsClassifier(), modelo__n_neighbors=5, percentiles__percentile=20, preprocesamiento__BagOfWords__ngram_range=(1, 1);, score=(train=0.708, test=0.400) total time=   0.3s\n",
      "[CV 5/5; 97/120] START modelo=KNeighborsClassifier(), modelo__n_neighbors=5, percentiles__percentile=20, preprocesamiento__BagOfWords__ngram_range=(1, 1)\n"
     ]
    },
    {
     "name": "stderr",
     "output_type": "stream",
     "text": [
      "C:\\Users\\Felipe\\anaconda3\\lib\\site-packages\\sklearn\\feature_selection\\_univariate_selection.py:113: RuntimeWarning: divide by zero encountered in true_divide\n",
      "  f = msb / msw\n"
     ]
    },
    {
     "name": "stdout",
     "output_type": "stream",
     "text": [
      "[CV 5/5; 97/120] END modelo=KNeighborsClassifier(), modelo__n_neighbors=5, percentiles__percentile=20, preprocesamiento__BagOfWords__ngram_range=(1, 1);, score=(train=0.667, test=0.800) total time=   0.2s\n",
      "[CV 1/5; 98/120] START modelo=KNeighborsClassifier(), modelo__n_neighbors=5, percentiles__percentile=20, preprocesamiento__BagOfWords__ngram_range=(1, 2)\n",
      "[CV 1/5; 98/120] END modelo=KNeighborsClassifier(), modelo__n_neighbors=5, percentiles__percentile=20, preprocesamiento__BagOfWords__ngram_range=(1, 2);, score=(train=0.609, test=0.667) total time=   0.5s\n",
      "[CV 2/5; 98/120] START modelo=KNeighborsClassifier(), modelo__n_neighbors=5, percentiles__percentile=20, preprocesamiento__BagOfWords__ngram_range=(1, 2)\n",
      "[CV 2/5; 98/120] END modelo=KNeighborsClassifier(), modelo__n_neighbors=5, percentiles__percentile=20, preprocesamiento__BagOfWords__ngram_range=(1, 2);, score=(train=0.522, test=0.667) total time=   0.5s\n",
      "[CV 3/5; 98/120] START modelo=KNeighborsClassifier(), modelo__n_neighbors=5, percentiles__percentile=20, preprocesamiento__BagOfWords__ngram_range=(1, 2)\n",
      "[CV 3/5; 98/120] END modelo=KNeighborsClassifier(), modelo__n_neighbors=5, percentiles__percentile=20, preprocesamiento__BagOfWords__ngram_range=(1, 2);, score=(train=0.609, test=0.667) total time=   0.1s\n",
      "[CV 4/5; 98/120] START modelo=KNeighborsClassifier(), modelo__n_neighbors=5, percentiles__percentile=20, preprocesamiento__BagOfWords__ngram_range=(1, 2)\n",
      "[CV 4/5; 98/120] END modelo=KNeighborsClassifier(), modelo__n_neighbors=5, percentiles__percentile=20, preprocesamiento__BagOfWords__ngram_range=(1, 2);, score=(train=0.667, test=0.400) total time=   0.3s\n",
      "[CV 5/5; 98/120] START modelo=KNeighborsClassifier(), modelo__n_neighbors=5, percentiles__percentile=20, preprocesamiento__BagOfWords__ngram_range=(1, 2)\n"
     ]
    },
    {
     "name": "stderr",
     "output_type": "stream",
     "text": [
      "C:\\Users\\Felipe\\anaconda3\\lib\\site-packages\\sklearn\\feature_selection\\_univariate_selection.py:113: RuntimeWarning: divide by zero encountered in true_divide\n",
      "  f = msb / msw\n"
     ]
    },
    {
     "name": "stdout",
     "output_type": "stream",
     "text": [
      "[CV 5/5; 98/120] END modelo=KNeighborsClassifier(), modelo__n_neighbors=5, percentiles__percentile=20, preprocesamiento__BagOfWords__ngram_range=(1, 2);, score=(train=0.625, test=0.800) total time=   0.3s\n",
      "[CV 1/5; 99/120] START modelo=KNeighborsClassifier(), modelo__n_neighbors=5, percentiles__percentile=20, preprocesamiento__BagOfWords__ngram_range=(1, 3)\n",
      "[CV 1/5; 99/120] END modelo=KNeighborsClassifier(), modelo__n_neighbors=5, percentiles__percentile=20, preprocesamiento__BagOfWords__ngram_range=(1, 3);, score=(train=0.565, test=0.667) total time=   0.6s\n",
      "[CV 2/5; 99/120] START modelo=KNeighborsClassifier(), modelo__n_neighbors=5, percentiles__percentile=20, preprocesamiento__BagOfWords__ngram_range=(1, 3)\n",
      "[CV 2/5; 99/120] END modelo=KNeighborsClassifier(), modelo__n_neighbors=5, percentiles__percentile=20, preprocesamiento__BagOfWords__ngram_range=(1, 3);, score=(train=0.478, test=0.667) total time=   0.8s\n",
      "[CV 3/5; 99/120] START modelo=KNeighborsClassifier(), modelo__n_neighbors=5, percentiles__percentile=20, preprocesamiento__BagOfWords__ngram_range=(1, 3)\n",
      "[CV 3/5; 99/120] END modelo=KNeighborsClassifier(), modelo__n_neighbors=5, percentiles__percentile=20, preprocesamiento__BagOfWords__ngram_range=(1, 3);, score=(train=0.609, test=0.667) total time=   0.3s\n",
      "[CV 4/5; 99/120] START modelo=KNeighborsClassifier(), modelo__n_neighbors=5, percentiles__percentile=20, preprocesamiento__BagOfWords__ngram_range=(1, 3)\n",
      "[CV 4/5; 99/120] END modelo=KNeighborsClassifier(), modelo__n_neighbors=5, percentiles__percentile=20, preprocesamiento__BagOfWords__ngram_range=(1, 3);, score=(train=0.667, test=0.400) total time=   0.4s\n",
      "[CV 5/5; 99/120] START modelo=KNeighborsClassifier(), modelo__n_neighbors=5, percentiles__percentile=20, preprocesamiento__BagOfWords__ngram_range=(1, 3)\n"
     ]
    },
    {
     "name": "stderr",
     "output_type": "stream",
     "text": [
      "C:\\Users\\Felipe\\anaconda3\\lib\\site-packages\\sklearn\\feature_selection\\_univariate_selection.py:113: RuntimeWarning: divide by zero encountered in true_divide\n",
      "  f = msb / msw\n"
     ]
    },
    {
     "name": "stdout",
     "output_type": "stream",
     "text": [
      "[CV 5/5; 99/120] END modelo=KNeighborsClassifier(), modelo__n_neighbors=5, percentiles__percentile=20, preprocesamiento__BagOfWords__ngram_range=(1, 3);, score=(train=0.625, test=0.800) total time=   0.3s\n",
      "[CV 1/5; 100/120] START modelo=KNeighborsClassifier(), modelo__n_neighbors=5, percentiles__percentile=40, preprocesamiento__BagOfWords__ngram_range=(1, 1)\n",
      "[CV 1/5; 100/120] END modelo=KNeighborsClassifier(), modelo__n_neighbors=5, percentiles__percentile=40, preprocesamiento__BagOfWords__ngram_range=(1, 1);, score=(train=0.565, test=0.333) total time=   0.5s\n",
      "[CV 2/5; 100/120] START modelo=KNeighborsClassifier(), modelo__n_neighbors=5, percentiles__percentile=40, preprocesamiento__BagOfWords__ngram_range=(1, 1)\n",
      "[CV 2/5; 100/120] END modelo=KNeighborsClassifier(), modelo__n_neighbors=5, percentiles__percentile=40, preprocesamiento__BagOfWords__ngram_range=(1, 1);, score=(train=0.522, test=0.667) total time=   0.4s\n",
      "[CV 3/5; 100/120] START modelo=KNeighborsClassifier(), modelo__n_neighbors=5, percentiles__percentile=40, preprocesamiento__BagOfWords__ngram_range=(1, 1)\n",
      "[CV 3/5; 100/120] END modelo=KNeighborsClassifier(), modelo__n_neighbors=5, percentiles__percentile=40, preprocesamiento__BagOfWords__ngram_range=(1, 1);, score=(train=0.609, test=0.667) total time=   0.1s\n",
      "[CV 4/5; 100/120] START modelo=KNeighborsClassifier(), modelo__n_neighbors=5, percentiles__percentile=40, preprocesamiento__BagOfWords__ngram_range=(1, 1)\n",
      "[CV 4/5; 100/120] END modelo=KNeighborsClassifier(), modelo__n_neighbors=5, percentiles__percentile=40, preprocesamiento__BagOfWords__ngram_range=(1, 1);, score=(train=0.667, test=0.400) total time=   0.3s\n",
      "[CV 5/5; 100/120] START modelo=KNeighborsClassifier(), modelo__n_neighbors=5, percentiles__percentile=40, preprocesamiento__BagOfWords__ngram_range=(1, 1)\n"
     ]
    },
    {
     "name": "stderr",
     "output_type": "stream",
     "text": [
      "C:\\Users\\Felipe\\anaconda3\\lib\\site-packages\\sklearn\\feature_selection\\_univariate_selection.py:113: RuntimeWarning: divide by zero encountered in true_divide\n",
      "  f = msb / msw\n"
     ]
    },
    {
     "name": "stdout",
     "output_type": "stream",
     "text": [
      "[CV 5/5; 100/120] END modelo=KNeighborsClassifier(), modelo__n_neighbors=5, percentiles__percentile=40, preprocesamiento__BagOfWords__ngram_range=(1, 1);, score=(train=0.667, test=0.800) total time=   0.3s\n",
      "[CV 1/5; 101/120] START modelo=KNeighborsClassifier(), modelo__n_neighbors=5, percentiles__percentile=40, preprocesamiento__BagOfWords__ngram_range=(1, 2)\n",
      "[CV 1/5; 101/120] END modelo=KNeighborsClassifier(), modelo__n_neighbors=5, percentiles__percentile=40, preprocesamiento__BagOfWords__ngram_range=(1, 2);, score=(train=0.652, test=0.667) total time=   0.5s\n",
      "[CV 2/5; 101/120] START modelo=KNeighborsClassifier(), modelo__n_neighbors=5, percentiles__percentile=40, preprocesamiento__BagOfWords__ngram_range=(1, 2)\n",
      "[CV 2/5; 101/120] END modelo=KNeighborsClassifier(), modelo__n_neighbors=5, percentiles__percentile=40, preprocesamiento__BagOfWords__ngram_range=(1, 2);, score=(train=0.478, test=0.667) total time=   0.4s\n",
      "[CV 3/5; 101/120] START modelo=KNeighborsClassifier(), modelo__n_neighbors=5, percentiles__percentile=40, preprocesamiento__BagOfWords__ngram_range=(1, 2)\n",
      "[CV 3/5; 101/120] END modelo=KNeighborsClassifier(), modelo__n_neighbors=5, percentiles__percentile=40, preprocesamiento__BagOfWords__ngram_range=(1, 2);, score=(train=0.609, test=0.667) total time=   0.1s\n",
      "[CV 4/5; 101/120] START modelo=KNeighborsClassifier(), modelo__n_neighbors=5, percentiles__percentile=40, preprocesamiento__BagOfWords__ngram_range=(1, 2)\n",
      "[CV 4/5; 101/120] END modelo=KNeighborsClassifier(), modelo__n_neighbors=5, percentiles__percentile=40, preprocesamiento__BagOfWords__ngram_range=(1, 2);, score=(train=0.667, test=0.400) total time=   0.3s\n",
      "[CV 5/5; 101/120] START modelo=KNeighborsClassifier(), modelo__n_neighbors=5, percentiles__percentile=40, preprocesamiento__BagOfWords__ngram_range=(1, 2)\n"
     ]
    },
    {
     "name": "stderr",
     "output_type": "stream",
     "text": [
      "C:\\Users\\Felipe\\anaconda3\\lib\\site-packages\\sklearn\\feature_selection\\_univariate_selection.py:113: RuntimeWarning: divide by zero encountered in true_divide\n",
      "  f = msb / msw\n"
     ]
    },
    {
     "name": "stdout",
     "output_type": "stream",
     "text": [
      "[CV 5/5; 101/120] END modelo=KNeighborsClassifier(), modelo__n_neighbors=5, percentiles__percentile=40, preprocesamiento__BagOfWords__ngram_range=(1, 2);, score=(train=0.625, test=0.800) total time=   0.3s\n",
      "[CV 1/5; 102/120] START modelo=KNeighborsClassifier(), modelo__n_neighbors=5, percentiles__percentile=40, preprocesamiento__BagOfWords__ngram_range=(1, 3)\n",
      "[CV 1/5; 102/120] END modelo=KNeighborsClassifier(), modelo__n_neighbors=5, percentiles__percentile=40, preprocesamiento__BagOfWords__ngram_range=(1, 3);, score=(train=0.609, test=0.667) total time=   0.6s\n",
      "[CV 2/5; 102/120] START modelo=KNeighborsClassifier(), modelo__n_neighbors=5, percentiles__percentile=40, preprocesamiento__BagOfWords__ngram_range=(1, 3)\n",
      "[CV 2/5; 102/120] END modelo=KNeighborsClassifier(), modelo__n_neighbors=5, percentiles__percentile=40, preprocesamiento__BagOfWords__ngram_range=(1, 3);, score=(train=0.478, test=0.667) total time=   0.5s\n",
      "[CV 3/5; 102/120] START modelo=KNeighborsClassifier(), modelo__n_neighbors=5, percentiles__percentile=40, preprocesamiento__BagOfWords__ngram_range=(1, 3)\n",
      "[CV 3/5; 102/120] END modelo=KNeighborsClassifier(), modelo__n_neighbors=5, percentiles__percentile=40, preprocesamiento__BagOfWords__ngram_range=(1, 3);, score=(train=0.609, test=0.667) total time=   0.2s\n",
      "[CV 4/5; 102/120] START modelo=KNeighborsClassifier(), modelo__n_neighbors=5, percentiles__percentile=40, preprocesamiento__BagOfWords__ngram_range=(1, 3)\n",
      "[CV 4/5; 102/120] END modelo=KNeighborsClassifier(), modelo__n_neighbors=5, percentiles__percentile=40, preprocesamiento__BagOfWords__ngram_range=(1, 3);, score=(train=0.667, test=0.400) total time=   0.3s\n",
      "[CV 5/5; 102/120] START modelo=KNeighborsClassifier(), modelo__n_neighbors=5, percentiles__percentile=40, preprocesamiento__BagOfWords__ngram_range=(1, 3)\n"
     ]
    },
    {
     "name": "stderr",
     "output_type": "stream",
     "text": [
      "C:\\Users\\Felipe\\anaconda3\\lib\\site-packages\\sklearn\\feature_selection\\_univariate_selection.py:113: RuntimeWarning: divide by zero encountered in true_divide\n",
      "  f = msb / msw\n"
     ]
    },
    {
     "name": "stdout",
     "output_type": "stream",
     "text": [
      "[CV 5/5; 102/120] END modelo=KNeighborsClassifier(), modelo__n_neighbors=5, percentiles__percentile=40, preprocesamiento__BagOfWords__ngram_range=(1, 3);, score=(train=0.625, test=0.800) total time=   0.3s\n",
      "[CV 1/5; 103/120] START modelo=KNeighborsClassifier(), modelo__n_neighbors=5, percentiles__percentile=60, preprocesamiento__BagOfWords__ngram_range=(1, 1)\n",
      "[CV 1/5; 103/120] END modelo=KNeighborsClassifier(), modelo__n_neighbors=5, percentiles__percentile=60, preprocesamiento__BagOfWords__ngram_range=(1, 1);, score=(train=0.609, test=0.167) total time=   0.6s\n",
      "[CV 2/5; 103/120] START modelo=KNeighborsClassifier(), modelo__n_neighbors=5, percentiles__percentile=60, preprocesamiento__BagOfWords__ngram_range=(1, 1)\n",
      "[CV 2/5; 103/120] END modelo=KNeighborsClassifier(), modelo__n_neighbors=5, percentiles__percentile=60, preprocesamiento__BagOfWords__ngram_range=(1, 1);, score=(train=0.522, test=0.500) total time=   0.7s\n",
      "[CV 3/5; 103/120] START modelo=KNeighborsClassifier(), modelo__n_neighbors=5, percentiles__percentile=60, preprocesamiento__BagOfWords__ngram_range=(1, 1)\n",
      "[CV 3/5; 103/120] END modelo=KNeighborsClassifier(), modelo__n_neighbors=5, percentiles__percentile=60, preprocesamiento__BagOfWords__ngram_range=(1, 1);, score=(train=0.652, test=0.667) total time=   0.2s\n",
      "[CV 4/5; 103/120] START modelo=KNeighborsClassifier(), modelo__n_neighbors=5, percentiles__percentile=60, preprocesamiento__BagOfWords__ngram_range=(1, 1)\n",
      "[CV 4/5; 103/120] END modelo=KNeighborsClassifier(), modelo__n_neighbors=5, percentiles__percentile=60, preprocesamiento__BagOfWords__ngram_range=(1, 1);, score=(train=0.667, test=0.400) total time=   0.3s\n",
      "[CV 5/5; 103/120] START modelo=KNeighborsClassifier(), modelo__n_neighbors=5, percentiles__percentile=60, preprocesamiento__BagOfWords__ngram_range=(1, 1)\n"
     ]
    },
    {
     "name": "stderr",
     "output_type": "stream",
     "text": [
      "C:\\Users\\Felipe\\anaconda3\\lib\\site-packages\\sklearn\\feature_selection\\_univariate_selection.py:113: RuntimeWarning: divide by zero encountered in true_divide\n",
      "  f = msb / msw\n"
     ]
    },
    {
     "name": "stdout",
     "output_type": "stream",
     "text": [
      "[CV 5/5; 103/120] END modelo=KNeighborsClassifier(), modelo__n_neighbors=5, percentiles__percentile=60, preprocesamiento__BagOfWords__ngram_range=(1, 1);, score=(train=0.667, test=0.800) total time=   0.2s\n",
      "[CV 1/5; 104/120] START modelo=KNeighborsClassifier(), modelo__n_neighbors=5, percentiles__percentile=60, preprocesamiento__BagOfWords__ngram_range=(1, 2)\n",
      "[CV 1/5; 104/120] END modelo=KNeighborsClassifier(), modelo__n_neighbors=5, percentiles__percentile=60, preprocesamiento__BagOfWords__ngram_range=(1, 2);, score=(train=0.826, test=0.500) total time=   0.5s\n",
      "[CV 2/5; 104/120] START modelo=KNeighborsClassifier(), modelo__n_neighbors=5, percentiles__percentile=60, preprocesamiento__BagOfWords__ngram_range=(1, 2)\n",
      "[CV 2/5; 104/120] END modelo=KNeighborsClassifier(), modelo__n_neighbors=5, percentiles__percentile=60, preprocesamiento__BagOfWords__ngram_range=(1, 2);, score=(train=0.478, test=0.667) total time=   0.4s\n",
      "[CV 3/5; 104/120] START modelo=KNeighborsClassifier(), modelo__n_neighbors=5, percentiles__percentile=60, preprocesamiento__BagOfWords__ngram_range=(1, 2)\n",
      "[CV 3/5; 104/120] END modelo=KNeighborsClassifier(), modelo__n_neighbors=5, percentiles__percentile=60, preprocesamiento__BagOfWords__ngram_range=(1, 2);, score=(train=0.652, test=0.667) total time=   0.2s\n",
      "[CV 4/5; 104/120] START modelo=KNeighborsClassifier(), modelo__n_neighbors=5, percentiles__percentile=60, preprocesamiento__BagOfWords__ngram_range=(1, 2)\n",
      "[CV 4/5; 104/120] END modelo=KNeighborsClassifier(), modelo__n_neighbors=5, percentiles__percentile=60, preprocesamiento__BagOfWords__ngram_range=(1, 2);, score=(train=0.667, test=0.400) total time=   0.3s\n",
      "[CV 5/5; 104/120] START modelo=KNeighborsClassifier(), modelo__n_neighbors=5, percentiles__percentile=60, preprocesamiento__BagOfWords__ngram_range=(1, 2)\n"
     ]
    },
    {
     "name": "stderr",
     "output_type": "stream",
     "text": [
      "C:\\Users\\Felipe\\anaconda3\\lib\\site-packages\\sklearn\\feature_selection\\_univariate_selection.py:113: RuntimeWarning: divide by zero encountered in true_divide\n",
      "  f = msb / msw\n"
     ]
    },
    {
     "name": "stdout",
     "output_type": "stream",
     "text": [
      "[CV 5/5; 104/120] END modelo=KNeighborsClassifier(), modelo__n_neighbors=5, percentiles__percentile=60, preprocesamiento__BagOfWords__ngram_range=(1, 2);, score=(train=0.625, test=0.800) total time=   0.3s\n",
      "[CV 1/5; 105/120] START modelo=KNeighborsClassifier(), modelo__n_neighbors=5, percentiles__percentile=60, preprocesamiento__BagOfWords__ngram_range=(1, 3)\n",
      "[CV 1/5; 105/120] END modelo=KNeighborsClassifier(), modelo__n_neighbors=5, percentiles__percentile=60, preprocesamiento__BagOfWords__ngram_range=(1, 3);, score=(train=0.609, test=0.667) total time=   0.6s\n",
      "[CV 2/5; 105/120] START modelo=KNeighborsClassifier(), modelo__n_neighbors=5, percentiles__percentile=60, preprocesamiento__BagOfWords__ngram_range=(1, 3)\n",
      "[CV 2/5; 105/120] END modelo=KNeighborsClassifier(), modelo__n_neighbors=5, percentiles__percentile=60, preprocesamiento__BagOfWords__ngram_range=(1, 3);, score=(train=0.478, test=0.667) total time=   0.5s\n",
      "[CV 3/5; 105/120] START modelo=KNeighborsClassifier(), modelo__n_neighbors=5, percentiles__percentile=60, preprocesamiento__BagOfWords__ngram_range=(1, 3)\n",
      "[CV 3/5; 105/120] END modelo=KNeighborsClassifier(), modelo__n_neighbors=5, percentiles__percentile=60, preprocesamiento__BagOfWords__ngram_range=(1, 3);, score=(train=0.609, test=0.667) total time=   0.2s\n",
      "[CV 4/5; 105/120] START modelo=KNeighborsClassifier(), modelo__n_neighbors=5, percentiles__percentile=60, preprocesamiento__BagOfWords__ngram_range=(1, 3)\n",
      "[CV 4/5; 105/120] END modelo=KNeighborsClassifier(), modelo__n_neighbors=5, percentiles__percentile=60, preprocesamiento__BagOfWords__ngram_range=(1, 3);, score=(train=0.667, test=0.400) total time=   0.4s\n",
      "[CV 5/5; 105/120] START modelo=KNeighborsClassifier(), modelo__n_neighbors=5, percentiles__percentile=60, preprocesamiento__BagOfWords__ngram_range=(1, 3)\n"
     ]
    },
    {
     "name": "stderr",
     "output_type": "stream",
     "text": [
      "C:\\Users\\Felipe\\anaconda3\\lib\\site-packages\\sklearn\\feature_selection\\_univariate_selection.py:113: RuntimeWarning: divide by zero encountered in true_divide\n",
      "  f = msb / msw\n"
     ]
    },
    {
     "name": "stdout",
     "output_type": "stream",
     "text": [
      "[CV 5/5; 105/120] END modelo=KNeighborsClassifier(), modelo__n_neighbors=5, percentiles__percentile=60, preprocesamiento__BagOfWords__ngram_range=(1, 3);, score=(train=0.625, test=0.800) total time=   0.3s\n",
      "[CV 1/5; 106/120] START modelo=KNeighborsClassifier(), modelo__n_neighbors=5, percentiles__percentile=80, preprocesamiento__BagOfWords__ngram_range=(1, 1)\n",
      "[CV 1/5; 106/120] END modelo=KNeighborsClassifier(), modelo__n_neighbors=5, percentiles__percentile=80, preprocesamiento__BagOfWords__ngram_range=(1, 1);, score=(train=0.565, test=0.333) total time=   0.5s\n",
      "[CV 2/5; 106/120] START modelo=KNeighborsClassifier(), modelo__n_neighbors=5, percentiles__percentile=80, preprocesamiento__BagOfWords__ngram_range=(1, 1)\n",
      "[CV 2/5; 106/120] END modelo=KNeighborsClassifier(), modelo__n_neighbors=5, percentiles__percentile=80, preprocesamiento__BagOfWords__ngram_range=(1, 1);, score=(train=0.522, test=0.500) total time=   0.4s\n",
      "[CV 3/5; 106/120] START modelo=KNeighborsClassifier(), modelo__n_neighbors=5, percentiles__percentile=80, preprocesamiento__BagOfWords__ngram_range=(1, 1)\n",
      "[CV 3/5; 106/120] END modelo=KNeighborsClassifier(), modelo__n_neighbors=5, percentiles__percentile=80, preprocesamiento__BagOfWords__ngram_range=(1, 1);, score=(train=0.609, test=0.667) total time=   0.1s\n",
      "[CV 4/5; 106/120] START modelo=KNeighborsClassifier(), modelo__n_neighbors=5, percentiles__percentile=80, preprocesamiento__BagOfWords__ngram_range=(1, 1)\n",
      "[CV 4/5; 106/120] END modelo=KNeighborsClassifier(), modelo__n_neighbors=5, percentiles__percentile=80, preprocesamiento__BagOfWords__ngram_range=(1, 1);, score=(train=0.708, test=0.400) total time=   0.3s\n",
      "[CV 5/5; 106/120] START modelo=KNeighborsClassifier(), modelo__n_neighbors=5, percentiles__percentile=80, preprocesamiento__BagOfWords__ngram_range=(1, 1)\n"
     ]
    },
    {
     "name": "stderr",
     "output_type": "stream",
     "text": [
      "C:\\Users\\Felipe\\anaconda3\\lib\\site-packages\\sklearn\\feature_selection\\_univariate_selection.py:113: RuntimeWarning: divide by zero encountered in true_divide\n",
      "  f = msb / msw\n"
     ]
    },
    {
     "name": "stdout",
     "output_type": "stream",
     "text": [
      "[CV 5/5; 106/120] END modelo=KNeighborsClassifier(), modelo__n_neighbors=5, percentiles__percentile=80, preprocesamiento__BagOfWords__ngram_range=(1, 1);, score=(train=0.667, test=0.800) total time=   0.3s\n",
      "[CV 1/5; 107/120] START modelo=KNeighborsClassifier(), modelo__n_neighbors=5, percentiles__percentile=80, preprocesamiento__BagOfWords__ngram_range=(1, 2)\n",
      "[CV 1/5; 107/120] END modelo=KNeighborsClassifier(), modelo__n_neighbors=5, percentiles__percentile=80, preprocesamiento__BagOfWords__ngram_range=(1, 2);, score=(train=0.696, test=0.500) total time=   0.6s\n",
      "[CV 2/5; 107/120] START modelo=KNeighborsClassifier(), modelo__n_neighbors=5, percentiles__percentile=80, preprocesamiento__BagOfWords__ngram_range=(1, 2)\n",
      "[CV 2/5; 107/120] END modelo=KNeighborsClassifier(), modelo__n_neighbors=5, percentiles__percentile=80, preprocesamiento__BagOfWords__ngram_range=(1, 2);, score=(train=0.478, test=0.667) total time=   0.7s\n",
      "[CV 3/5; 107/120] START modelo=KNeighborsClassifier(), modelo__n_neighbors=5, percentiles__percentile=80, preprocesamiento__BagOfWords__ngram_range=(1, 2)\n",
      "[CV 3/5; 107/120] END modelo=KNeighborsClassifier(), modelo__n_neighbors=5, percentiles__percentile=80, preprocesamiento__BagOfWords__ngram_range=(1, 2);, score=(train=0.696, test=0.667) total time=   0.3s\n",
      "[CV 4/5; 107/120] START modelo=KNeighborsClassifier(), modelo__n_neighbors=5, percentiles__percentile=80, preprocesamiento__BagOfWords__ngram_range=(1, 2)\n",
      "[CV 4/5; 107/120] END modelo=KNeighborsClassifier(), modelo__n_neighbors=5, percentiles__percentile=80, preprocesamiento__BagOfWords__ngram_range=(1, 2);, score=(train=0.708, test=0.400) total time=   0.4s\n",
      "[CV 5/5; 107/120] START modelo=KNeighborsClassifier(), modelo__n_neighbors=5, percentiles__percentile=80, preprocesamiento__BagOfWords__ngram_range=(1, 2)\n"
     ]
    },
    {
     "name": "stderr",
     "output_type": "stream",
     "text": [
      "C:\\Users\\Felipe\\anaconda3\\lib\\site-packages\\sklearn\\feature_selection\\_univariate_selection.py:113: RuntimeWarning: divide by zero encountered in true_divide\n",
      "  f = msb / msw\n"
     ]
    },
    {
     "name": "stdout",
     "output_type": "stream",
     "text": [
      "[CV 5/5; 107/120] END modelo=KNeighborsClassifier(), modelo__n_neighbors=5, percentiles__percentile=80, preprocesamiento__BagOfWords__ngram_range=(1, 2);, score=(train=0.667, test=0.800) total time=   0.3s\n",
      "[CV 1/5; 108/120] START modelo=KNeighborsClassifier(), modelo__n_neighbors=5, percentiles__percentile=80, preprocesamiento__BagOfWords__ngram_range=(1, 3)\n",
      "[CV 1/5; 108/120] END modelo=KNeighborsClassifier(), modelo__n_neighbors=5, percentiles__percentile=80, preprocesamiento__BagOfWords__ngram_range=(1, 3);, score=(train=0.696, test=0.667) total time=   0.8s\n",
      "[CV 2/5; 108/120] START modelo=KNeighborsClassifier(), modelo__n_neighbors=5, percentiles__percentile=80, preprocesamiento__BagOfWords__ngram_range=(1, 3)\n",
      "[CV 2/5; 108/120] END modelo=KNeighborsClassifier(), modelo__n_neighbors=5, percentiles__percentile=80, preprocesamiento__BagOfWords__ngram_range=(1, 3);, score=(train=0.478, test=0.667) total time=   0.5s\n",
      "[CV 3/5; 108/120] START modelo=KNeighborsClassifier(), modelo__n_neighbors=5, percentiles__percentile=80, preprocesamiento__BagOfWords__ngram_range=(1, 3)\n",
      "[CV 3/5; 108/120] END modelo=KNeighborsClassifier(), modelo__n_neighbors=5, percentiles__percentile=80, preprocesamiento__BagOfWords__ngram_range=(1, 3);, score=(train=0.652, test=0.667) total time=   0.3s\n",
      "[CV 4/5; 108/120] START modelo=KNeighborsClassifier(), modelo__n_neighbors=5, percentiles__percentile=80, preprocesamiento__BagOfWords__ngram_range=(1, 3)\n",
      "[CV 4/5; 108/120] END modelo=KNeighborsClassifier(), modelo__n_neighbors=5, percentiles__percentile=80, preprocesamiento__BagOfWords__ngram_range=(1, 3);, score=(train=0.667, test=0.400) total time=   0.4s\n",
      "[CV 5/5; 108/120] START modelo=KNeighborsClassifier(), modelo__n_neighbors=5, percentiles__percentile=80, preprocesamiento__BagOfWords__ngram_range=(1, 3)\n"
     ]
    },
    {
     "name": "stderr",
     "output_type": "stream",
     "text": [
      "C:\\Users\\Felipe\\anaconda3\\lib\\site-packages\\sklearn\\feature_selection\\_univariate_selection.py:113: RuntimeWarning: divide by zero encountered in true_divide\n",
      "  f = msb / msw\n"
     ]
    },
    {
     "name": "stdout",
     "output_type": "stream",
     "text": [
      "[CV 5/5; 108/120] END modelo=KNeighborsClassifier(), modelo__n_neighbors=5, percentiles__percentile=80, preprocesamiento__BagOfWords__ngram_range=(1, 3);, score=(train=0.625, test=0.800) total time=   0.3s\n",
      "[CV 1/5; 109/120] START modelo=KNeighborsClassifier(), modelo__n_neighbors=6, percentiles__percentile=20, preprocesamiento__BagOfWords__ngram_range=(1, 1)\n",
      "[CV 1/5; 109/120] END modelo=KNeighborsClassifier(), modelo__n_neighbors=6, percentiles__percentile=20, preprocesamiento__BagOfWords__ngram_range=(1, 1);, score=(train=0.826, test=0.667) total time=   0.5s\n",
      "[CV 2/5; 109/120] START modelo=KNeighborsClassifier(), modelo__n_neighbors=6, percentiles__percentile=20, preprocesamiento__BagOfWords__ngram_range=(1, 1)\n",
      "[CV 2/5; 109/120] END modelo=KNeighborsClassifier(), modelo__n_neighbors=6, percentiles__percentile=20, preprocesamiento__BagOfWords__ngram_range=(1, 1);, score=(train=0.522, test=0.667) total time=   0.5s\n",
      "[CV 3/5; 109/120] START modelo=KNeighborsClassifier(), modelo__n_neighbors=6, percentiles__percentile=20, preprocesamiento__BagOfWords__ngram_range=(1, 1)\n",
      "[CV 3/5; 109/120] END modelo=KNeighborsClassifier(), modelo__n_neighbors=6, percentiles__percentile=20, preprocesamiento__BagOfWords__ngram_range=(1, 1);, score=(train=0.609, test=0.667) total time=   0.1s\n",
      "[CV 4/5; 109/120] START modelo=KNeighborsClassifier(), modelo__n_neighbors=6, percentiles__percentile=20, preprocesamiento__BagOfWords__ngram_range=(1, 1)\n",
      "[CV 4/5; 109/120] END modelo=KNeighborsClassifier(), modelo__n_neighbors=6, percentiles__percentile=20, preprocesamiento__BagOfWords__ngram_range=(1, 1);, score=(train=0.667, test=0.400) total time=   0.3s\n",
      "[CV 5/5; 109/120] START modelo=KNeighborsClassifier(), modelo__n_neighbors=6, percentiles__percentile=20, preprocesamiento__BagOfWords__ngram_range=(1, 1)\n"
     ]
    },
    {
     "name": "stderr",
     "output_type": "stream",
     "text": [
      "C:\\Users\\Felipe\\anaconda3\\lib\\site-packages\\sklearn\\feature_selection\\_univariate_selection.py:113: RuntimeWarning: divide by zero encountered in true_divide\n",
      "  f = msb / msw\n"
     ]
    },
    {
     "name": "stdout",
     "output_type": "stream",
     "text": [
      "[CV 5/5; 109/120] END modelo=KNeighborsClassifier(), modelo__n_neighbors=6, percentiles__percentile=20, preprocesamiento__BagOfWords__ngram_range=(1, 1);, score=(train=0.708, test=0.800) total time=   0.2s\n",
      "[CV 1/5; 110/120] START modelo=KNeighborsClassifier(), modelo__n_neighbors=6, percentiles__percentile=20, preprocesamiento__BagOfWords__ngram_range=(1, 2)\n",
      "[CV 1/5; 110/120] END modelo=KNeighborsClassifier(), modelo__n_neighbors=6, percentiles__percentile=20, preprocesamiento__BagOfWords__ngram_range=(1, 2);, score=(train=0.609, test=0.667) total time=   0.5s\n",
      "[CV 2/5; 110/120] START modelo=KNeighborsClassifier(), modelo__n_neighbors=6, percentiles__percentile=20, preprocesamiento__BagOfWords__ngram_range=(1, 2)\n",
      "[CV 2/5; 110/120] END modelo=KNeighborsClassifier(), modelo__n_neighbors=6, percentiles__percentile=20, preprocesamiento__BagOfWords__ngram_range=(1, 2);, score=(train=0.565, test=0.667) total time=   0.4s\n",
      "[CV 3/5; 110/120] START modelo=KNeighborsClassifier(), modelo__n_neighbors=6, percentiles__percentile=20, preprocesamiento__BagOfWords__ngram_range=(1, 2)\n",
      "[CV 3/5; 110/120] END modelo=KNeighborsClassifier(), modelo__n_neighbors=6, percentiles__percentile=20, preprocesamiento__BagOfWords__ngram_range=(1, 2);, score=(train=0.609, test=0.667) total time=   0.2s\n",
      "[CV 4/5; 110/120] START modelo=KNeighborsClassifier(), modelo__n_neighbors=6, percentiles__percentile=20, preprocesamiento__BagOfWords__ngram_range=(1, 2)\n",
      "[CV 4/5; 110/120] END modelo=KNeighborsClassifier(), modelo__n_neighbors=6, percentiles__percentile=20, preprocesamiento__BagOfWords__ngram_range=(1, 2);, score=(train=0.667, test=0.400) total time=   0.4s\n",
      "[CV 5/5; 110/120] START modelo=KNeighborsClassifier(), modelo__n_neighbors=6, percentiles__percentile=20, preprocesamiento__BagOfWords__ngram_range=(1, 2)\n"
     ]
    },
    {
     "name": "stderr",
     "output_type": "stream",
     "text": [
      "C:\\Users\\Felipe\\anaconda3\\lib\\site-packages\\sklearn\\feature_selection\\_univariate_selection.py:113: RuntimeWarning: divide by zero encountered in true_divide\n",
      "  f = msb / msw\n"
     ]
    },
    {
     "name": "stdout",
     "output_type": "stream",
     "text": [
      "[CV 5/5; 110/120] END modelo=KNeighborsClassifier(), modelo__n_neighbors=6, percentiles__percentile=20, preprocesamiento__BagOfWords__ngram_range=(1, 2);, score=(train=0.625, test=0.800) total time=   0.3s\n",
      "[CV 1/5; 111/120] START modelo=KNeighborsClassifier(), modelo__n_neighbors=6, percentiles__percentile=20, preprocesamiento__BagOfWords__ngram_range=(1, 3)\n",
      "[CV 1/5; 111/120] END modelo=KNeighborsClassifier(), modelo__n_neighbors=6, percentiles__percentile=20, preprocesamiento__BagOfWords__ngram_range=(1, 3);, score=(train=0.565, test=0.667) total time=   0.9s\n",
      "[CV 2/5; 111/120] START modelo=KNeighborsClassifier(), modelo__n_neighbors=6, percentiles__percentile=20, preprocesamiento__BagOfWords__ngram_range=(1, 3)\n",
      "[CV 2/5; 111/120] END modelo=KNeighborsClassifier(), modelo__n_neighbors=6, percentiles__percentile=20, preprocesamiento__BagOfWords__ngram_range=(1, 3);, score=(train=0.565, test=0.667) total time=   0.5s\n",
      "[CV 3/5; 111/120] START modelo=KNeighborsClassifier(), modelo__n_neighbors=6, percentiles__percentile=20, preprocesamiento__BagOfWords__ngram_range=(1, 3)\n",
      "[CV 3/5; 111/120] END modelo=KNeighborsClassifier(), modelo__n_neighbors=6, percentiles__percentile=20, preprocesamiento__BagOfWords__ngram_range=(1, 3);, score=(train=0.609, test=0.667) total time=   0.2s\n",
      "[CV 4/5; 111/120] START modelo=KNeighborsClassifier(), modelo__n_neighbors=6, percentiles__percentile=20, preprocesamiento__BagOfWords__ngram_range=(1, 3)\n",
      "[CV 4/5; 111/120] END modelo=KNeighborsClassifier(), modelo__n_neighbors=6, percentiles__percentile=20, preprocesamiento__BagOfWords__ngram_range=(1, 3);, score=(train=0.667, test=0.400) total time=   0.4s\n",
      "[CV 5/5; 111/120] START modelo=KNeighborsClassifier(), modelo__n_neighbors=6, percentiles__percentile=20, preprocesamiento__BagOfWords__ngram_range=(1, 3)\n"
     ]
    },
    {
     "name": "stderr",
     "output_type": "stream",
     "text": [
      "C:\\Users\\Felipe\\anaconda3\\lib\\site-packages\\sklearn\\feature_selection\\_univariate_selection.py:113: RuntimeWarning: divide by zero encountered in true_divide\n",
      "  f = msb / msw\n"
     ]
    },
    {
     "name": "stdout",
     "output_type": "stream",
     "text": [
      "[CV 5/5; 111/120] END modelo=KNeighborsClassifier(), modelo__n_neighbors=6, percentiles__percentile=20, preprocesamiento__BagOfWords__ngram_range=(1, 3);, score=(train=0.625, test=0.800) total time=   0.3s\n",
      "[CV 1/5; 112/120] START modelo=KNeighborsClassifier(), modelo__n_neighbors=6, percentiles__percentile=40, preprocesamiento__BagOfWords__ngram_range=(1, 1)\n",
      "[CV 1/5; 112/120] END modelo=KNeighborsClassifier(), modelo__n_neighbors=6, percentiles__percentile=40, preprocesamiento__BagOfWords__ngram_range=(1, 1);, score=(train=0.696, test=0.500) total time=   0.5s\n",
      "[CV 2/5; 112/120] START modelo=KNeighborsClassifier(), modelo__n_neighbors=6, percentiles__percentile=40, preprocesamiento__BagOfWords__ngram_range=(1, 1)\n",
      "[CV 2/5; 112/120] END modelo=KNeighborsClassifier(), modelo__n_neighbors=6, percentiles__percentile=40, preprocesamiento__BagOfWords__ngram_range=(1, 1);, score=(train=0.522, test=0.667) total time=   0.4s\n",
      "[CV 3/5; 112/120] START modelo=KNeighborsClassifier(), modelo__n_neighbors=6, percentiles__percentile=40, preprocesamiento__BagOfWords__ngram_range=(1, 1)\n",
      "[CV 3/5; 112/120] END modelo=KNeighborsClassifier(), modelo__n_neighbors=6, percentiles__percentile=40, preprocesamiento__BagOfWords__ngram_range=(1, 1);, score=(train=0.609, test=0.667) total time=   0.1s\n",
      "[CV 4/5; 112/120] START modelo=KNeighborsClassifier(), modelo__n_neighbors=6, percentiles__percentile=40, preprocesamiento__BagOfWords__ngram_range=(1, 1)\n",
      "[CV 4/5; 112/120] END modelo=KNeighborsClassifier(), modelo__n_neighbors=6, percentiles__percentile=40, preprocesamiento__BagOfWords__ngram_range=(1, 1);, score=(train=0.667, test=0.400) total time=   0.3s\n",
      "[CV 5/5; 112/120] START modelo=KNeighborsClassifier(), modelo__n_neighbors=6, percentiles__percentile=40, preprocesamiento__BagOfWords__ngram_range=(1, 1)\n"
     ]
    },
    {
     "name": "stderr",
     "output_type": "stream",
     "text": [
      "C:\\Users\\Felipe\\anaconda3\\lib\\site-packages\\sklearn\\feature_selection\\_univariate_selection.py:113: RuntimeWarning: divide by zero encountered in true_divide\n",
      "  f = msb / msw\n"
     ]
    },
    {
     "name": "stdout",
     "output_type": "stream",
     "text": [
      "[CV 5/5; 112/120] END modelo=KNeighborsClassifier(), modelo__n_neighbors=6, percentiles__percentile=40, preprocesamiento__BagOfWords__ngram_range=(1, 1);, score=(train=0.667, test=0.800) total time=   0.2s\n",
      "[CV 1/5; 113/120] START modelo=KNeighborsClassifier(), modelo__n_neighbors=6, percentiles__percentile=40, preprocesamiento__BagOfWords__ngram_range=(1, 2)\n",
      "[CV 1/5; 113/120] END modelo=KNeighborsClassifier(), modelo__n_neighbors=6, percentiles__percentile=40, preprocesamiento__BagOfWords__ngram_range=(1, 2);, score=(train=0.609, test=0.667) total time=   0.6s\n",
      "[CV 2/5; 113/120] START modelo=KNeighborsClassifier(), modelo__n_neighbors=6, percentiles__percentile=40, preprocesamiento__BagOfWords__ngram_range=(1, 2)\n",
      "[CV 2/5; 113/120] END modelo=KNeighborsClassifier(), modelo__n_neighbors=6, percentiles__percentile=40, preprocesamiento__BagOfWords__ngram_range=(1, 2);, score=(train=0.478, test=0.667) total time=   0.4s\n",
      "[CV 3/5; 113/120] START modelo=KNeighborsClassifier(), modelo__n_neighbors=6, percentiles__percentile=40, preprocesamiento__BagOfWords__ngram_range=(1, 2)\n",
      "[CV 3/5; 113/120] END modelo=KNeighborsClassifier(), modelo__n_neighbors=6, percentiles__percentile=40, preprocesamiento__BagOfWords__ngram_range=(1, 2);, score=(train=0.609, test=0.667) total time=   0.1s\n",
      "[CV 4/5; 113/120] START modelo=KNeighborsClassifier(), modelo__n_neighbors=6, percentiles__percentile=40, preprocesamiento__BagOfWords__ngram_range=(1, 2)\n",
      "[CV 4/5; 113/120] END modelo=KNeighborsClassifier(), modelo__n_neighbors=6, percentiles__percentile=40, preprocesamiento__BagOfWords__ngram_range=(1, 2);, score=(train=0.667, test=0.400) total time=   0.3s\n",
      "[CV 5/5; 113/120] START modelo=KNeighborsClassifier(), modelo__n_neighbors=6, percentiles__percentile=40, preprocesamiento__BagOfWords__ngram_range=(1, 2)\n"
     ]
    },
    {
     "name": "stderr",
     "output_type": "stream",
     "text": [
      "C:\\Users\\Felipe\\anaconda3\\lib\\site-packages\\sklearn\\feature_selection\\_univariate_selection.py:113: RuntimeWarning: divide by zero encountered in true_divide\n",
      "  f = msb / msw\n"
     ]
    },
    {
     "name": "stdout",
     "output_type": "stream",
     "text": [
      "[CV 5/5; 113/120] END modelo=KNeighborsClassifier(), modelo__n_neighbors=6, percentiles__percentile=40, preprocesamiento__BagOfWords__ngram_range=(1, 2);, score=(train=0.625, test=0.800) total time=   0.3s\n",
      "[CV 1/5; 114/120] START modelo=KNeighborsClassifier(), modelo__n_neighbors=6, percentiles__percentile=40, preprocesamiento__BagOfWords__ngram_range=(1, 3)\n",
      "[CV 1/5; 114/120] END modelo=KNeighborsClassifier(), modelo__n_neighbors=6, percentiles__percentile=40, preprocesamiento__BagOfWords__ngram_range=(1, 3);, score=(train=0.609, test=0.667) total time=   0.6s\n",
      "[CV 2/5; 114/120] START modelo=KNeighborsClassifier(), modelo__n_neighbors=6, percentiles__percentile=40, preprocesamiento__BagOfWords__ngram_range=(1, 3)\n",
      "[CV 2/5; 114/120] END modelo=KNeighborsClassifier(), modelo__n_neighbors=6, percentiles__percentile=40, preprocesamiento__BagOfWords__ngram_range=(1, 3);, score=(train=0.478, test=0.667) total time=   0.5s\n",
      "[CV 3/5; 114/120] START modelo=KNeighborsClassifier(), modelo__n_neighbors=6, percentiles__percentile=40, preprocesamiento__BagOfWords__ngram_range=(1, 3)\n",
      "[CV 3/5; 114/120] END modelo=KNeighborsClassifier(), modelo__n_neighbors=6, percentiles__percentile=40, preprocesamiento__BagOfWords__ngram_range=(1, 3);, score=(train=0.609, test=0.667) total time=   0.3s\n",
      "[CV 4/5; 114/120] START modelo=KNeighborsClassifier(), modelo__n_neighbors=6, percentiles__percentile=40, preprocesamiento__BagOfWords__ngram_range=(1, 3)\n",
      "[CV 4/5; 114/120] END modelo=KNeighborsClassifier(), modelo__n_neighbors=6, percentiles__percentile=40, preprocesamiento__BagOfWords__ngram_range=(1, 3);, score=(train=0.667, test=0.400) total time=   0.6s\n",
      "[CV 5/5; 114/120] START modelo=KNeighborsClassifier(), modelo__n_neighbors=6, percentiles__percentile=40, preprocesamiento__BagOfWords__ngram_range=(1, 3)\n"
     ]
    },
    {
     "name": "stderr",
     "output_type": "stream",
     "text": [
      "C:\\Users\\Felipe\\anaconda3\\lib\\site-packages\\sklearn\\feature_selection\\_univariate_selection.py:113: RuntimeWarning: divide by zero encountered in true_divide\n",
      "  f = msb / msw\n"
     ]
    },
    {
     "name": "stdout",
     "output_type": "stream",
     "text": [
      "[CV 5/5; 114/120] END modelo=KNeighborsClassifier(), modelo__n_neighbors=6, percentiles__percentile=40, preprocesamiento__BagOfWords__ngram_range=(1, 3);, score=(train=0.625, test=0.800) total time=   0.6s\n",
      "[CV 1/5; 115/120] START modelo=KNeighborsClassifier(), modelo__n_neighbors=6, percentiles__percentile=60, preprocesamiento__BagOfWords__ngram_range=(1, 1)\n",
      "[CV 1/5; 115/120] END modelo=KNeighborsClassifier(), modelo__n_neighbors=6, percentiles__percentile=60, preprocesamiento__BagOfWords__ngram_range=(1, 1);, score=(train=0.609, test=0.500) total time=   0.5s\n",
      "[CV 2/5; 115/120] START modelo=KNeighborsClassifier(), modelo__n_neighbors=6, percentiles__percentile=60, preprocesamiento__BagOfWords__ngram_range=(1, 1)\n",
      "[CV 2/5; 115/120] END modelo=KNeighborsClassifier(), modelo__n_neighbors=6, percentiles__percentile=60, preprocesamiento__BagOfWords__ngram_range=(1, 1);, score=(train=0.522, test=0.667) total time=   0.5s\n",
      "[CV 3/5; 115/120] START modelo=KNeighborsClassifier(), modelo__n_neighbors=6, percentiles__percentile=60, preprocesamiento__BagOfWords__ngram_range=(1, 1)\n",
      "[CV 3/5; 115/120] END modelo=KNeighborsClassifier(), modelo__n_neighbors=6, percentiles__percentile=60, preprocesamiento__BagOfWords__ngram_range=(1, 1);, score=(train=0.652, test=0.667) total time=   0.1s\n",
      "[CV 4/5; 115/120] START modelo=KNeighborsClassifier(), modelo__n_neighbors=6, percentiles__percentile=60, preprocesamiento__BagOfWords__ngram_range=(1, 1)\n",
      "[CV 4/5; 115/120] END modelo=KNeighborsClassifier(), modelo__n_neighbors=6, percentiles__percentile=60, preprocesamiento__BagOfWords__ngram_range=(1, 1);, score=(train=0.667, test=0.400) total time=   0.3s\n",
      "[CV 5/5; 115/120] START modelo=KNeighborsClassifier(), modelo__n_neighbors=6, percentiles__percentile=60, preprocesamiento__BagOfWords__ngram_range=(1, 1)\n"
     ]
    },
    {
     "name": "stderr",
     "output_type": "stream",
     "text": [
      "C:\\Users\\Felipe\\anaconda3\\lib\\site-packages\\sklearn\\feature_selection\\_univariate_selection.py:113: RuntimeWarning: divide by zero encountered in true_divide\n",
      "  f = msb / msw\n"
     ]
    },
    {
     "name": "stdout",
     "output_type": "stream",
     "text": [
      "[CV 5/5; 115/120] END modelo=KNeighborsClassifier(), modelo__n_neighbors=6, percentiles__percentile=60, preprocesamiento__BagOfWords__ngram_range=(1, 1);, score=(train=0.667, test=0.800) total time=   0.3s\n",
      "[CV 1/5; 116/120] START modelo=KNeighborsClassifier(), modelo__n_neighbors=6, percentiles__percentile=60, preprocesamiento__BagOfWords__ngram_range=(1, 2)\n",
      "[CV 1/5; 116/120] END modelo=KNeighborsClassifier(), modelo__n_neighbors=6, percentiles__percentile=60, preprocesamiento__BagOfWords__ngram_range=(1, 2);, score=(train=0.652, test=0.833) total time=   0.5s\n",
      "[CV 2/5; 116/120] START modelo=KNeighborsClassifier(), modelo__n_neighbors=6, percentiles__percentile=60, preprocesamiento__BagOfWords__ngram_range=(1, 2)\n",
      "[CV 2/5; 116/120] END modelo=KNeighborsClassifier(), modelo__n_neighbors=6, percentiles__percentile=60, preprocesamiento__BagOfWords__ngram_range=(1, 2);, score=(train=0.478, test=0.667) total time=   0.4s\n",
      "[CV 3/5; 116/120] START modelo=KNeighborsClassifier(), modelo__n_neighbors=6, percentiles__percentile=60, preprocesamiento__BagOfWords__ngram_range=(1, 2)\n",
      "[CV 3/5; 116/120] END modelo=KNeighborsClassifier(), modelo__n_neighbors=6, percentiles__percentile=60, preprocesamiento__BagOfWords__ngram_range=(1, 2);, score=(train=0.609, test=0.667) total time=   0.1s\n",
      "[CV 4/5; 116/120] START modelo=KNeighborsClassifier(), modelo__n_neighbors=6, percentiles__percentile=60, preprocesamiento__BagOfWords__ngram_range=(1, 2)\n",
      "[CV 4/5; 116/120] END modelo=KNeighborsClassifier(), modelo__n_neighbors=6, percentiles__percentile=60, preprocesamiento__BagOfWords__ngram_range=(1, 2);, score=(train=0.667, test=0.400) total time=   0.3s\n",
      "[CV 5/5; 116/120] START modelo=KNeighborsClassifier(), modelo__n_neighbors=6, percentiles__percentile=60, preprocesamiento__BagOfWords__ngram_range=(1, 2)\n"
     ]
    },
    {
     "name": "stderr",
     "output_type": "stream",
     "text": [
      "C:\\Users\\Felipe\\anaconda3\\lib\\site-packages\\sklearn\\feature_selection\\_univariate_selection.py:113: RuntimeWarning: divide by zero encountered in true_divide\n",
      "  f = msb / msw\n"
     ]
    },
    {
     "name": "stdout",
     "output_type": "stream",
     "text": [
      "[CV 5/5; 116/120] END modelo=KNeighborsClassifier(), modelo__n_neighbors=6, percentiles__percentile=60, preprocesamiento__BagOfWords__ngram_range=(1, 2);, score=(train=0.625, test=0.800) total time=   0.3s\n",
      "[CV 1/5; 117/120] START modelo=KNeighborsClassifier(), modelo__n_neighbors=6, percentiles__percentile=60, preprocesamiento__BagOfWords__ngram_range=(1, 3)\n",
      "[CV 1/5; 117/120] END modelo=KNeighborsClassifier(), modelo__n_neighbors=6, percentiles__percentile=60, preprocesamiento__BagOfWords__ngram_range=(1, 3);, score=(train=0.652, test=0.833) total time=   0.6s\n",
      "[CV 2/5; 117/120] START modelo=KNeighborsClassifier(), modelo__n_neighbors=6, percentiles__percentile=60, preprocesamiento__BagOfWords__ngram_range=(1, 3)\n",
      "[CV 2/5; 117/120] END modelo=KNeighborsClassifier(), modelo__n_neighbors=6, percentiles__percentile=60, preprocesamiento__BagOfWords__ngram_range=(1, 3);, score=(train=0.478, test=0.667) total time=   0.5s\n",
      "[CV 3/5; 117/120] START modelo=KNeighborsClassifier(), modelo__n_neighbors=6, percentiles__percentile=60, preprocesamiento__BagOfWords__ngram_range=(1, 3)\n",
      "[CV 3/5; 117/120] END modelo=KNeighborsClassifier(), modelo__n_neighbors=6, percentiles__percentile=60, preprocesamiento__BagOfWords__ngram_range=(1, 3);, score=(train=0.609, test=0.667) total time=   0.2s\n",
      "[CV 4/5; 117/120] START modelo=KNeighborsClassifier(), modelo__n_neighbors=6, percentiles__percentile=60, preprocesamiento__BagOfWords__ngram_range=(1, 3)\n",
      "[CV 4/5; 117/120] END modelo=KNeighborsClassifier(), modelo__n_neighbors=6, percentiles__percentile=60, preprocesamiento__BagOfWords__ngram_range=(1, 3);, score=(train=0.667, test=0.400) total time=   0.4s\n",
      "[CV 5/5; 117/120] START modelo=KNeighborsClassifier(), modelo__n_neighbors=6, percentiles__percentile=60, preprocesamiento__BagOfWords__ngram_range=(1, 3)\n"
     ]
    },
    {
     "name": "stderr",
     "output_type": "stream",
     "text": [
      "C:\\Users\\Felipe\\anaconda3\\lib\\site-packages\\sklearn\\feature_selection\\_univariate_selection.py:113: RuntimeWarning: divide by zero encountered in true_divide\n",
      "  f = msb / msw\n"
     ]
    },
    {
     "name": "stdout",
     "output_type": "stream",
     "text": [
      "[CV 5/5; 117/120] END modelo=KNeighborsClassifier(), modelo__n_neighbors=6, percentiles__percentile=60, preprocesamiento__BagOfWords__ngram_range=(1, 3);, score=(train=0.625, test=0.800) total time=   0.3s\n",
      "[CV 1/5; 118/120] START modelo=KNeighborsClassifier(), modelo__n_neighbors=6, percentiles__percentile=80, preprocesamiento__BagOfWords__ngram_range=(1, 1)\n",
      "[CV 1/5; 118/120] END modelo=KNeighborsClassifier(), modelo__n_neighbors=6, percentiles__percentile=80, preprocesamiento__BagOfWords__ngram_range=(1, 1);, score=(train=0.609, test=0.500) total time=   0.5s\n",
      "[CV 2/5; 118/120] START modelo=KNeighborsClassifier(), modelo__n_neighbors=6, percentiles__percentile=80, preprocesamiento__BagOfWords__ngram_range=(1, 1)\n",
      "[CV 2/5; 118/120] END modelo=KNeighborsClassifier(), modelo__n_neighbors=6, percentiles__percentile=80, preprocesamiento__BagOfWords__ngram_range=(1, 1);, score=(train=0.522, test=0.667) total time=   0.4s\n",
      "[CV 3/5; 118/120] START modelo=KNeighborsClassifier(), modelo__n_neighbors=6, percentiles__percentile=80, preprocesamiento__BagOfWords__ngram_range=(1, 1)\n",
      "[CV 3/5; 118/120] END modelo=KNeighborsClassifier(), modelo__n_neighbors=6, percentiles__percentile=80, preprocesamiento__BagOfWords__ngram_range=(1, 1);, score=(train=0.652, test=0.667) total time=   0.2s\n",
      "[CV 4/5; 118/120] START modelo=KNeighborsClassifier(), modelo__n_neighbors=6, percentiles__percentile=80, preprocesamiento__BagOfWords__ngram_range=(1, 1)\n",
      "[CV 4/5; 118/120] END modelo=KNeighborsClassifier(), modelo__n_neighbors=6, percentiles__percentile=80, preprocesamiento__BagOfWords__ngram_range=(1, 1);, score=(train=0.708, test=0.400) total time=   0.5s\n",
      "[CV 5/5; 118/120] START modelo=KNeighborsClassifier(), modelo__n_neighbors=6, percentiles__percentile=80, preprocesamiento__BagOfWords__ngram_range=(1, 1)\n"
     ]
    },
    {
     "name": "stderr",
     "output_type": "stream",
     "text": [
      "C:\\Users\\Felipe\\anaconda3\\lib\\site-packages\\sklearn\\feature_selection\\_univariate_selection.py:113: RuntimeWarning: divide by zero encountered in true_divide\n",
      "  f = msb / msw\n"
     ]
    },
    {
     "name": "stdout",
     "output_type": "stream",
     "text": [
      "[CV 5/5; 118/120] END modelo=KNeighborsClassifier(), modelo__n_neighbors=6, percentiles__percentile=80, preprocesamiento__BagOfWords__ngram_range=(1, 1);, score=(train=0.667, test=0.800) total time=   0.4s\n",
      "[CV 1/5; 119/120] START modelo=KNeighborsClassifier(), modelo__n_neighbors=6, percentiles__percentile=80, preprocesamiento__BagOfWords__ngram_range=(1, 2)\n",
      "[CV 1/5; 119/120] END modelo=KNeighborsClassifier(), modelo__n_neighbors=6, percentiles__percentile=80, preprocesamiento__BagOfWords__ngram_range=(1, 2);, score=(train=0.609, test=0.833) total time=   0.5s\n",
      "[CV 2/5; 119/120] START modelo=KNeighborsClassifier(), modelo__n_neighbors=6, percentiles__percentile=80, preprocesamiento__BagOfWords__ngram_range=(1, 2)\n",
      "[CV 2/5; 119/120] END modelo=KNeighborsClassifier(), modelo__n_neighbors=6, percentiles__percentile=80, preprocesamiento__BagOfWords__ngram_range=(1, 2);, score=(train=0.478, test=0.667) total time=   0.4s\n",
      "[CV 3/5; 119/120] START modelo=KNeighborsClassifier(), modelo__n_neighbors=6, percentiles__percentile=80, preprocesamiento__BagOfWords__ngram_range=(1, 2)\n",
      "[CV 3/5; 119/120] END modelo=KNeighborsClassifier(), modelo__n_neighbors=6, percentiles__percentile=80, preprocesamiento__BagOfWords__ngram_range=(1, 2);, score=(train=0.609, test=0.667) total time=   0.2s\n",
      "[CV 4/5; 119/120] START modelo=KNeighborsClassifier(), modelo__n_neighbors=6, percentiles__percentile=80, preprocesamiento__BagOfWords__ngram_range=(1, 2)\n",
      "[CV 4/5; 119/120] END modelo=KNeighborsClassifier(), modelo__n_neighbors=6, percentiles__percentile=80, preprocesamiento__BagOfWords__ngram_range=(1, 2);, score=(train=0.667, test=0.400) total time=   0.3s\n",
      "[CV 5/5; 119/120] START modelo=KNeighborsClassifier(), modelo__n_neighbors=6, percentiles__percentile=80, preprocesamiento__BagOfWords__ngram_range=(1, 2)\n"
     ]
    },
    {
     "name": "stderr",
     "output_type": "stream",
     "text": [
      "C:\\Users\\Felipe\\anaconda3\\lib\\site-packages\\sklearn\\feature_selection\\_univariate_selection.py:113: RuntimeWarning: divide by zero encountered in true_divide\n",
      "  f = msb / msw\n"
     ]
    },
    {
     "name": "stdout",
     "output_type": "stream",
     "text": [
      "[CV 5/5; 119/120] END modelo=KNeighborsClassifier(), modelo__n_neighbors=6, percentiles__percentile=80, preprocesamiento__BagOfWords__ngram_range=(1, 2);, score=(train=0.667, test=0.800) total time=   0.3s\n",
      "[CV 1/5; 120/120] START modelo=KNeighborsClassifier(), modelo__n_neighbors=6, percentiles__percentile=80, preprocesamiento__BagOfWords__ngram_range=(1, 3)\n",
      "[CV 1/5; 120/120] END modelo=KNeighborsClassifier(), modelo__n_neighbors=6, percentiles__percentile=80, preprocesamiento__BagOfWords__ngram_range=(1, 3);, score=(train=0.652, test=0.833) total time=   0.5s\n",
      "[CV 2/5; 120/120] START modelo=KNeighborsClassifier(), modelo__n_neighbors=6, percentiles__percentile=80, preprocesamiento__BagOfWords__ngram_range=(1, 3)\n",
      "[CV 2/5; 120/120] END modelo=KNeighborsClassifier(), modelo__n_neighbors=6, percentiles__percentile=80, preprocesamiento__BagOfWords__ngram_range=(1, 3);, score=(train=0.478, test=0.667) total time=   0.5s\n",
      "[CV 3/5; 120/120] START modelo=KNeighborsClassifier(), modelo__n_neighbors=6, percentiles__percentile=80, preprocesamiento__BagOfWords__ngram_range=(1, 3)\n",
      "[CV 3/5; 120/120] END modelo=KNeighborsClassifier(), modelo__n_neighbors=6, percentiles__percentile=80, preprocesamiento__BagOfWords__ngram_range=(1, 3);, score=(train=0.609, test=0.667) total time=   0.2s\n",
      "[CV 4/5; 120/120] START modelo=KNeighborsClassifier(), modelo__n_neighbors=6, percentiles__percentile=80, preprocesamiento__BagOfWords__ngram_range=(1, 3)\n",
      "[CV 4/5; 120/120] END modelo=KNeighborsClassifier(), modelo__n_neighbors=6, percentiles__percentile=80, preprocesamiento__BagOfWords__ngram_range=(1, 3);, score=(train=0.667, test=0.400) total time=   0.3s\n",
      "[CV 5/5; 120/120] START modelo=KNeighborsClassifier(), modelo__n_neighbors=6, percentiles__percentile=80, preprocesamiento__BagOfWords__ngram_range=(1, 3)\n"
     ]
    },
    {
     "name": "stderr",
     "output_type": "stream",
     "text": [
      "C:\\Users\\Felipe\\anaconda3\\lib\\site-packages\\sklearn\\feature_selection\\_univariate_selection.py:113: RuntimeWarning: divide by zero encountered in true_divide\n",
      "  f = msb / msw\n"
     ]
    },
    {
     "name": "stdout",
     "output_type": "stream",
     "text": [
      "[CV 5/5; 120/120] END modelo=KNeighborsClassifier(), modelo__n_neighbors=6, percentiles__percentile=80, preprocesamiento__BagOfWords__ngram_range=(1, 3);, score=(train=0.625, test=0.800) total time=   0.3s\n",
      "----------\n",
      "iter: 1\n",
      "n_candidates: 40\n",
      "n_resources: 90\n",
      "Fitting 5 folds for each of 40 candidates, totalling 200 fits\n",
      "[CV 1/5; 1/40] START modelo=RandomForestClassifier(random_state=0), modelo__max_depth=4, percentiles__percentile=80, preprocesamiento__BagOfWords__ngram_range=(1, 3)\n"
     ]
    },
    {
     "name": "stderr",
     "output_type": "stream",
     "text": [
      "C:\\Users\\Felipe\\anaconda3\\lib\\site-packages\\sklearn\\feature_selection\\_univariate_selection.py:113: RuntimeWarning: divide by zero encountered in true_divide\n",
      "  f = msb / msw\n"
     ]
    },
    {
     "name": "stdout",
     "output_type": "stream",
     "text": [
      "[CV 1/5; 1/40] END modelo=RandomForestClassifier(random_state=0), modelo__max_depth=4, percentiles__percentile=80, preprocesamiento__BagOfWords__ngram_range=(1, 3);, score=(train=0.930, test=0.444) total time=   1.8s\n",
      "[CV 2/5; 1/40] START modelo=RandomForestClassifier(random_state=0), modelo__max_depth=4, percentiles__percentile=80, preprocesamiento__BagOfWords__ngram_range=(1, 3)\n",
      "[CV 2/5; 1/40] END modelo=RandomForestClassifier(random_state=0), modelo__max_depth=4, percentiles__percentile=80, preprocesamiento__BagOfWords__ngram_range=(1, 3);, score=(train=0.606, test=0.389) total time=   1.6s\n",
      "[CV 3/5; 1/40] START modelo=RandomForestClassifier(random_state=0), modelo__max_depth=4, percentiles__percentile=80, preprocesamiento__BagOfWords__ngram_range=(1, 3)\n",
      "[CV 3/5; 1/40] END modelo=RandomForestClassifier(random_state=0), modelo__max_depth=4, percentiles__percentile=80, preprocesamiento__BagOfWords__ngram_range=(1, 3);, score=(train=0.648, test=0.556) total time=   2.1s\n",
      "[CV 4/5; 1/40] START modelo=RandomForestClassifier(random_state=0), modelo__max_depth=4, percentiles__percentile=80, preprocesamiento__BagOfWords__ngram_range=(1, 3)\n",
      "[CV 4/5; 1/40] END modelo=RandomForestClassifier(random_state=0), modelo__max_depth=4, percentiles__percentile=80, preprocesamiento__BagOfWords__ngram_range=(1, 3);, score=(train=0.681, test=0.471) total time=   1.8s\n",
      "[CV 5/5; 1/40] START modelo=RandomForestClassifier(random_state=0), modelo__max_depth=4, percentiles__percentile=80, preprocesamiento__BagOfWords__ngram_range=(1, 3)\n",
      "[CV 5/5; 1/40] END modelo=RandomForestClassifier(random_state=0), modelo__max_depth=4, percentiles__percentile=80, preprocesamiento__BagOfWords__ngram_range=(1, 3);, score=(train=0.625, test=0.706) total time=   1.6s\n",
      "[CV 1/5; 2/40] START modelo=RandomForestClassifier(random_state=0), modelo__max_depth=6, percentiles__percentile=60, preprocesamiento__BagOfWords__ngram_range=(1, 3)\n"
     ]
    },
    {
     "name": "stderr",
     "output_type": "stream",
     "text": [
      "C:\\Users\\Felipe\\anaconda3\\lib\\site-packages\\sklearn\\feature_selection\\_univariate_selection.py:113: RuntimeWarning: divide by zero encountered in true_divide\n",
      "  f = msb / msw\n"
     ]
    },
    {
     "name": "stdout",
     "output_type": "stream",
     "text": [
      "[CV 1/5; 2/40] END modelo=RandomForestClassifier(random_state=0), modelo__max_depth=6, percentiles__percentile=60, preprocesamiento__BagOfWords__ngram_range=(1, 3);, score=(train=0.958, test=0.500) total time=   1.8s\n",
      "[CV 2/5; 2/40] START modelo=RandomForestClassifier(random_state=0), modelo__max_depth=6, percentiles__percentile=60, preprocesamiento__BagOfWords__ngram_range=(1, 3)\n",
      "[CV 2/5; 2/40] END modelo=RandomForestClassifier(random_state=0), modelo__max_depth=6, percentiles__percentile=60, preprocesamiento__BagOfWords__ngram_range=(1, 3);, score=(train=0.732, test=0.389) total time=   1.5s\n",
      "[CV 3/5; 2/40] START modelo=RandomForestClassifier(random_state=0), modelo__max_depth=6, percentiles__percentile=60, preprocesamiento__BagOfWords__ngram_range=(1, 3)\n",
      "[CV 3/5; 2/40] END modelo=RandomForestClassifier(random_state=0), modelo__max_depth=6, percentiles__percentile=60, preprocesamiento__BagOfWords__ngram_range=(1, 3);, score=(train=0.732, test=0.556) total time=   1.8s\n",
      "[CV 4/5; 2/40] START modelo=RandomForestClassifier(random_state=0), modelo__max_depth=6, percentiles__percentile=60, preprocesamiento__BagOfWords__ngram_range=(1, 3)\n",
      "[CV 4/5; 2/40] END modelo=RandomForestClassifier(random_state=0), modelo__max_depth=6, percentiles__percentile=60, preprocesamiento__BagOfWords__ngram_range=(1, 3);, score=(train=0.722, test=0.471) total time=   1.9s\n",
      "[CV 5/5; 2/40] START modelo=RandomForestClassifier(random_state=0), modelo__max_depth=6, percentiles__percentile=60, preprocesamiento__BagOfWords__ngram_range=(1, 3)\n",
      "[CV 5/5; 2/40] END modelo=RandomForestClassifier(random_state=0), modelo__max_depth=6, percentiles__percentile=60, preprocesamiento__BagOfWords__ngram_range=(1, 3);, score=(train=0.667, test=0.706) total time=   1.6s\n",
      "[CV 1/5; 3/40] START modelo=KNeighborsClassifier(), modelo__n_neighbors=2, percentiles__percentile=20, preprocesamiento__BagOfWords__ngram_range=(1, 2)\n"
     ]
    },
    {
     "name": "stderr",
     "output_type": "stream",
     "text": [
      "C:\\Users\\Felipe\\anaconda3\\lib\\site-packages\\sklearn\\feature_selection\\_univariate_selection.py:113: RuntimeWarning: divide by zero encountered in true_divide\n",
      "  f = msb / msw\n"
     ]
    },
    {
     "name": "stdout",
     "output_type": "stream",
     "text": [
      "[CV 1/5; 3/40] END modelo=KNeighborsClassifier(), modelo__n_neighbors=2, percentiles__percentile=20, preprocesamiento__BagOfWords__ngram_range=(1, 2);, score=(train=0.930, test=0.389) total time=   1.5s\n",
      "[CV 2/5; 3/40] START modelo=KNeighborsClassifier(), modelo__n_neighbors=2, percentiles__percentile=20, preprocesamiento__BagOfWords__ngram_range=(1, 2)\n",
      "[CV 2/5; 3/40] END modelo=KNeighborsClassifier(), modelo__n_neighbors=2, percentiles__percentile=20, preprocesamiento__BagOfWords__ngram_range=(1, 2);, score=(train=0.887, test=0.389) total time=   1.3s\n",
      "[CV 3/5; 3/40] START modelo=KNeighborsClassifier(), modelo__n_neighbors=2, percentiles__percentile=20, preprocesamiento__BagOfWords__ngram_range=(1, 2)\n",
      "[CV 3/5; 3/40] END modelo=KNeighborsClassifier(), modelo__n_neighbors=2, percentiles__percentile=20, preprocesamiento__BagOfWords__ngram_range=(1, 2);, score=(train=0.915, test=0.556) total time=   1.1s\n",
      "[CV 4/5; 3/40] START modelo=KNeighborsClassifier(), modelo__n_neighbors=2, percentiles__percentile=20, preprocesamiento__BagOfWords__ngram_range=(1, 2)\n",
      "[CV 4/5; 3/40] END modelo=KNeighborsClassifier(), modelo__n_neighbors=2, percentiles__percentile=20, preprocesamiento__BagOfWords__ngram_range=(1, 2);, score=(train=0.917, test=0.471) total time=   2.2s\n",
      "[CV 5/5; 3/40] START modelo=KNeighborsClassifier(), modelo__n_neighbors=2, percentiles__percentile=20, preprocesamiento__BagOfWords__ngram_range=(1, 2)\n",
      "[CV 5/5; 3/40] END modelo=KNeighborsClassifier(), modelo__n_neighbors=2, percentiles__percentile=20, preprocesamiento__BagOfWords__ngram_range=(1, 2);, score=(train=0.903, test=0.588) total time=   1.3s\n",
      "[CV 1/5; 4/40] START modelo=LogisticRegression(random_state=0), modelo__penalty=l1, modelo__solver=liblinear, percentiles__percentile=80, preprocesamiento__BagOfWords__ngram_range=(1, 2)\n"
     ]
    },
    {
     "name": "stderr",
     "output_type": "stream",
     "text": [
      "C:\\Users\\Felipe\\anaconda3\\lib\\site-packages\\sklearn\\feature_selection\\_univariate_selection.py:113: RuntimeWarning: divide by zero encountered in true_divide\n",
      "  f = msb / msw\n"
     ]
    },
    {
     "name": "stdout",
     "output_type": "stream",
     "text": [
      "[CV 1/5; 4/40] END modelo=LogisticRegression(random_state=0), modelo__penalty=l1, modelo__solver=liblinear, percentiles__percentile=80, preprocesamiento__BagOfWords__ngram_range=(1, 2);, score=(train=0.972, test=0.389) total time=   1.6s\n",
      "[CV 2/5; 4/40] START modelo=LogisticRegression(random_state=0), modelo__penalty=l1, modelo__solver=liblinear, percentiles__percentile=80, preprocesamiento__BagOfWords__ngram_range=(1, 2)\n",
      "[CV 2/5; 4/40] END modelo=LogisticRegression(random_state=0), modelo__penalty=l1, modelo__solver=liblinear, percentiles__percentile=80, preprocesamiento__BagOfWords__ngram_range=(1, 2);, score=(train=0.986, test=0.389) total time=   1.3s\n",
      "[CV 3/5; 4/40] START modelo=LogisticRegression(random_state=0), modelo__penalty=l1, modelo__solver=liblinear, percentiles__percentile=80, preprocesamiento__BagOfWords__ngram_range=(1, 2)\n",
      "[CV 3/5; 4/40] END modelo=LogisticRegression(random_state=0), modelo__penalty=l1, modelo__solver=liblinear, percentiles__percentile=80, preprocesamiento__BagOfWords__ngram_range=(1, 2);, score=(train=0.958, test=0.444) total time=   1.1s\n",
      "[CV 4/5; 4/40] START modelo=LogisticRegression(random_state=0), modelo__penalty=l1, modelo__solver=liblinear, percentiles__percentile=80, preprocesamiento__BagOfWords__ngram_range=(1, 2)\n",
      "[CV 4/5; 4/40] END modelo=LogisticRegression(random_state=0), modelo__penalty=l1, modelo__solver=liblinear, percentiles__percentile=80, preprocesamiento__BagOfWords__ngram_range=(1, 2);, score=(train=0.972, test=0.412) total time=   1.6s\n",
      "[CV 5/5; 4/40] START modelo=LogisticRegression(random_state=0), modelo__penalty=l1, modelo__solver=liblinear, percentiles__percentile=80, preprocesamiento__BagOfWords__ngram_range=(1, 2)\n",
      "[CV 5/5; 4/40] END modelo=LogisticRegression(random_state=0), modelo__penalty=l1, modelo__solver=liblinear, percentiles__percentile=80, preprocesamiento__BagOfWords__ngram_range=(1, 2);, score=(train=0.958, test=0.647) total time=   1.6s\n",
      "[CV 1/5; 5/40] START modelo=LogisticRegression(random_state=0), modelo__penalty=l1, modelo__solver=liblinear, percentiles__percentile=80, preprocesamiento__BagOfWords__ngram_range=(1, 3)\n"
     ]
    },
    {
     "name": "stderr",
     "output_type": "stream",
     "text": [
      "C:\\Users\\Felipe\\anaconda3\\lib\\site-packages\\sklearn\\feature_selection\\_univariate_selection.py:113: RuntimeWarning: divide by zero encountered in true_divide\n",
      "  f = msb / msw\n"
     ]
    },
    {
     "name": "stdout",
     "output_type": "stream",
     "text": [
      "[CV 1/5; 5/40] END modelo=LogisticRegression(random_state=0), modelo__penalty=l1, modelo__solver=liblinear, percentiles__percentile=80, preprocesamiento__BagOfWords__ngram_range=(1, 3);, score=(train=0.972, test=0.389) total time=   1.8s\n",
      "[CV 2/5; 5/40] START modelo=LogisticRegression(random_state=0), modelo__penalty=l1, modelo__solver=liblinear, percentiles__percentile=80, preprocesamiento__BagOfWords__ngram_range=(1, 3)\n",
      "[CV 2/5; 5/40] END modelo=LogisticRegression(random_state=0), modelo__penalty=l1, modelo__solver=liblinear, percentiles__percentile=80, preprocesamiento__BagOfWords__ngram_range=(1, 3);, score=(train=0.986, test=0.389) total time=   1.5s\n",
      "[CV 3/5; 5/40] START modelo=LogisticRegression(random_state=0), modelo__penalty=l1, modelo__solver=liblinear, percentiles__percentile=80, preprocesamiento__BagOfWords__ngram_range=(1, 3)\n",
      "[CV 3/5; 5/40] END modelo=LogisticRegression(random_state=0), modelo__penalty=l1, modelo__solver=liblinear, percentiles__percentile=80, preprocesamiento__BagOfWords__ngram_range=(1, 3);, score=(train=0.958, test=0.444) total time=   1.3s\n",
      "[CV 4/5; 5/40] START modelo=LogisticRegression(random_state=0), modelo__penalty=l1, modelo__solver=liblinear, percentiles__percentile=80, preprocesamiento__BagOfWords__ngram_range=(1, 3)\n",
      "[CV 4/5; 5/40] END modelo=LogisticRegression(random_state=0), modelo__penalty=l1, modelo__solver=liblinear, percentiles__percentile=80, preprocesamiento__BagOfWords__ngram_range=(1, 3);, score=(train=0.972, test=0.412) total time=   1.8s\n",
      "[CV 5/5; 5/40] START modelo=LogisticRegression(random_state=0), modelo__penalty=l1, modelo__solver=liblinear, percentiles__percentile=80, preprocesamiento__BagOfWords__ngram_range=(1, 3)\n",
      "[CV 5/5; 5/40] END modelo=LogisticRegression(random_state=0), modelo__penalty=l1, modelo__solver=liblinear, percentiles__percentile=80, preprocesamiento__BagOfWords__ngram_range=(1, 3);, score=(train=0.958, test=0.647) total time=   2.3s\n",
      "[CV 1/5; 6/40] START modelo=RandomForestClassifier(random_state=0), modelo__max_depth=6, percentiles__percentile=80, preprocesamiento__BagOfWords__ngram_range=(1, 2)\n"
     ]
    },
    {
     "name": "stderr",
     "output_type": "stream",
     "text": [
      "C:\\Users\\Felipe\\anaconda3\\lib\\site-packages\\sklearn\\feature_selection\\_univariate_selection.py:113: RuntimeWarning: divide by zero encountered in true_divide\n",
      "  f = msb / msw\n"
     ]
    },
    {
     "name": "stdout",
     "output_type": "stream",
     "text": [
      "[CV 1/5; 6/40] END modelo=RandomForestClassifier(random_state=0), modelo__max_depth=6, percentiles__percentile=80, preprocesamiento__BagOfWords__ngram_range=(1, 2);, score=(train=0.958, test=0.556) total time=   1.6s\n",
      "[CV 2/5; 6/40] START modelo=RandomForestClassifier(random_state=0), modelo__max_depth=6, percentiles__percentile=80, preprocesamiento__BagOfWords__ngram_range=(1, 2)\n",
      "[CV 2/5; 6/40] END modelo=RandomForestClassifier(random_state=0), modelo__max_depth=6, percentiles__percentile=80, preprocesamiento__BagOfWords__ngram_range=(1, 2);, score=(train=0.746, test=0.389) total time=   1.4s\n",
      "[CV 3/5; 6/40] START modelo=RandomForestClassifier(random_state=0), modelo__max_depth=6, percentiles__percentile=80, preprocesamiento__BagOfWords__ngram_range=(1, 2)\n",
      "[CV 3/5; 6/40] END modelo=RandomForestClassifier(random_state=0), modelo__max_depth=6, percentiles__percentile=80, preprocesamiento__BagOfWords__ngram_range=(1, 2);, score=(train=0.789, test=0.556) total time=   1.2s\n",
      "[CV 4/5; 6/40] START modelo=RandomForestClassifier(random_state=0), modelo__max_depth=6, percentiles__percentile=80, preprocesamiento__BagOfWords__ngram_range=(1, 2)\n",
      "[CV 4/5; 6/40] END modelo=RandomForestClassifier(random_state=0), modelo__max_depth=6, percentiles__percentile=80, preprocesamiento__BagOfWords__ngram_range=(1, 2);, score=(train=0.778, test=0.471) total time=   1.6s\n",
      "[CV 5/5; 6/40] START modelo=RandomForestClassifier(random_state=0), modelo__max_depth=6, percentiles__percentile=80, preprocesamiento__BagOfWords__ngram_range=(1, 2)\n",
      "[CV 5/5; 6/40] END modelo=RandomForestClassifier(random_state=0), modelo__max_depth=6, percentiles__percentile=80, preprocesamiento__BagOfWords__ngram_range=(1, 2);, score=(train=0.708, test=0.706) total time=   1.5s\n",
      "[CV 1/5; 7/40] START modelo=RandomForestClassifier(random_state=0), modelo__max_depth=6, percentiles__percentile=80, preprocesamiento__BagOfWords__ngram_range=(1, 1)\n"
     ]
    },
    {
     "name": "stderr",
     "output_type": "stream",
     "text": [
      "C:\\Users\\Felipe\\anaconda3\\lib\\site-packages\\sklearn\\feature_selection\\_univariate_selection.py:113: RuntimeWarning: divide by zero encountered in true_divide\n",
      "  f = msb / msw\n"
     ]
    },
    {
     "name": "stdout",
     "output_type": "stream",
     "text": [
      "[CV 1/5; 7/40] END modelo=RandomForestClassifier(random_state=0), modelo__max_depth=6, percentiles__percentile=80, preprocesamiento__BagOfWords__ngram_range=(1, 1);, score=(train=0.972, test=0.500) total time=   1.8s\n",
      "[CV 2/5; 7/40] START modelo=RandomForestClassifier(random_state=0), modelo__max_depth=6, percentiles__percentile=80, preprocesamiento__BagOfWords__ngram_range=(1, 1)\n",
      "[CV 2/5; 7/40] END modelo=RandomForestClassifier(random_state=0), modelo__max_depth=6, percentiles__percentile=80, preprocesamiento__BagOfWords__ngram_range=(1, 1);, score=(train=0.803, test=0.389) total time=   1.3s\n",
      "[CV 3/5; 7/40] START modelo=RandomForestClassifier(random_state=0), modelo__max_depth=6, percentiles__percentile=80, preprocesamiento__BagOfWords__ngram_range=(1, 1)\n",
      "[CV 3/5; 7/40] END modelo=RandomForestClassifier(random_state=0), modelo__max_depth=6, percentiles__percentile=80, preprocesamiento__BagOfWords__ngram_range=(1, 1);, score=(train=0.803, test=0.556) total time=   1.1s\n",
      "[CV 4/5; 7/40] START modelo=RandomForestClassifier(random_state=0), modelo__max_depth=6, percentiles__percentile=80, preprocesamiento__BagOfWords__ngram_range=(1, 1)\n",
      "[CV 4/5; 7/40] END modelo=RandomForestClassifier(random_state=0), modelo__max_depth=6, percentiles__percentile=80, preprocesamiento__BagOfWords__ngram_range=(1, 1);, score=(train=0.806, test=0.471) total time=   1.5s\n",
      "[CV 5/5; 7/40] START modelo=RandomForestClassifier(random_state=0), modelo__max_depth=6, percentiles__percentile=80, preprocesamiento__BagOfWords__ngram_range=(1, 1)\n",
      "[CV 5/5; 7/40] END modelo=RandomForestClassifier(random_state=0), modelo__max_depth=6, percentiles__percentile=80, preprocesamiento__BagOfWords__ngram_range=(1, 1);, score=(train=0.736, test=0.706) total time=   1.3s\n",
      "[CV 1/5; 8/40] START modelo=RandomForestClassifier(random_state=0), modelo__max_depth=6, percentiles__percentile=40, preprocesamiento__BagOfWords__ngram_range=(1, 1)\n"
     ]
    },
    {
     "name": "stderr",
     "output_type": "stream",
     "text": [
      "C:\\Users\\Felipe\\anaconda3\\lib\\site-packages\\sklearn\\feature_selection\\_univariate_selection.py:113: RuntimeWarning: divide by zero encountered in true_divide\n",
      "  f = msb / msw\n"
     ]
    },
    {
     "name": "stdout",
     "output_type": "stream",
     "text": [
      "[CV 1/5; 8/40] END modelo=RandomForestClassifier(random_state=0), modelo__max_depth=6, percentiles__percentile=40, preprocesamiento__BagOfWords__ngram_range=(1, 1);, score=(train=0.944, test=0.444) total time=   1.6s\n",
      "[CV 2/5; 8/40] START modelo=RandomForestClassifier(random_state=0), modelo__max_depth=6, percentiles__percentile=40, preprocesamiento__BagOfWords__ngram_range=(1, 1)\n",
      "[CV 2/5; 8/40] END modelo=RandomForestClassifier(random_state=0), modelo__max_depth=6, percentiles__percentile=40, preprocesamiento__BagOfWords__ngram_range=(1, 1);, score=(train=0.789, test=0.389) total time=   1.5s\n",
      "[CV 3/5; 8/40] START modelo=RandomForestClassifier(random_state=0), modelo__max_depth=6, percentiles__percentile=40, preprocesamiento__BagOfWords__ngram_range=(1, 1)\n",
      "[CV 3/5; 8/40] END modelo=RandomForestClassifier(random_state=0), modelo__max_depth=6, percentiles__percentile=40, preprocesamiento__BagOfWords__ngram_range=(1, 1);, score=(train=0.803, test=0.556) total time=   1.1s\n",
      "[CV 4/5; 8/40] START modelo=RandomForestClassifier(random_state=0), modelo__max_depth=6, percentiles__percentile=40, preprocesamiento__BagOfWords__ngram_range=(1, 1)\n",
      "[CV 4/5; 8/40] END modelo=RandomForestClassifier(random_state=0), modelo__max_depth=6, percentiles__percentile=40, preprocesamiento__BagOfWords__ngram_range=(1, 1);, score=(train=0.806, test=0.471) total time=   1.5s\n",
      "[CV 5/5; 8/40] START modelo=RandomForestClassifier(random_state=0), modelo__max_depth=6, percentiles__percentile=40, preprocesamiento__BagOfWords__ngram_range=(1, 1)\n",
      "[CV 5/5; 8/40] END modelo=RandomForestClassifier(random_state=0), modelo__max_depth=6, percentiles__percentile=40, preprocesamiento__BagOfWords__ngram_range=(1, 1);, score=(train=0.792, test=0.706) total time=   1.3s\n",
      "[CV 1/5; 9/40] START modelo=RandomForestClassifier(random_state=0), modelo__max_depth=2, percentiles__percentile=60, preprocesamiento__BagOfWords__ngram_range=(1, 1)\n"
     ]
    },
    {
     "name": "stderr",
     "output_type": "stream",
     "text": [
      "C:\\Users\\Felipe\\anaconda3\\lib\\site-packages\\sklearn\\feature_selection\\_univariate_selection.py:113: RuntimeWarning: divide by zero encountered in true_divide\n",
      "  f = msb / msw\n"
     ]
    },
    {
     "name": "stdout",
     "output_type": "stream",
     "text": [
      "[CV 1/5; 9/40] END modelo=RandomForestClassifier(random_state=0), modelo__max_depth=2, percentiles__percentile=60, preprocesamiento__BagOfWords__ngram_range=(1, 1);, score=(train=0.887, test=0.500) total time=   1.5s\n",
      "[CV 2/5; 9/40] START modelo=RandomForestClassifier(random_state=0), modelo__max_depth=2, percentiles__percentile=60, preprocesamiento__BagOfWords__ngram_range=(1, 1)\n",
      "[CV 2/5; 9/40] END modelo=RandomForestClassifier(random_state=0), modelo__max_depth=2, percentiles__percentile=60, preprocesamiento__BagOfWords__ngram_range=(1, 1);, score=(train=0.592, test=0.389) total time=   1.3s\n",
      "[CV 3/5; 9/40] START modelo=RandomForestClassifier(random_state=0), modelo__max_depth=2, percentiles__percentile=60, preprocesamiento__BagOfWords__ngram_range=(1, 1)\n",
      "[CV 3/5; 9/40] END modelo=RandomForestClassifier(random_state=0), modelo__max_depth=2, percentiles__percentile=60, preprocesamiento__BagOfWords__ngram_range=(1, 1);, score=(train=0.592, test=0.556) total time=   1.6s\n",
      "[CV 4/5; 9/40] START modelo=RandomForestClassifier(random_state=0), modelo__max_depth=2, percentiles__percentile=60, preprocesamiento__BagOfWords__ngram_range=(1, 1)\n",
      "[CV 4/5; 9/40] END modelo=RandomForestClassifier(random_state=0), modelo__max_depth=2, percentiles__percentile=60, preprocesamiento__BagOfWords__ngram_range=(1, 1);, score=(train=0.681, test=0.471) total time=   1.6s\n",
      "[CV 5/5; 9/40] START modelo=RandomForestClassifier(random_state=0), modelo__max_depth=2, percentiles__percentile=60, preprocesamiento__BagOfWords__ngram_range=(1, 1)\n",
      "[CV 5/5; 9/40] END modelo=RandomForestClassifier(random_state=0), modelo__max_depth=2, percentiles__percentile=60, preprocesamiento__BagOfWords__ngram_range=(1, 1);, score=(train=0.611, test=0.706) total time=   1.3s\n",
      "[CV 1/5; 10/40] START modelo=RandomForestClassifier(random_state=0), modelo__max_depth=6, percentiles__percentile=60, preprocesamiento__BagOfWords__ngram_range=(1, 2)\n"
     ]
    },
    {
     "name": "stderr",
     "output_type": "stream",
     "text": [
      "C:\\Users\\Felipe\\anaconda3\\lib\\site-packages\\sklearn\\feature_selection\\_univariate_selection.py:113: RuntimeWarning: divide by zero encountered in true_divide\n",
      "  f = msb / msw\n"
     ]
    },
    {
     "name": "stdout",
     "output_type": "stream",
     "text": [
      "[CV 1/5; 10/40] END modelo=RandomForestClassifier(random_state=0), modelo__max_depth=6, percentiles__percentile=60, preprocesamiento__BagOfWords__ngram_range=(1, 2);, score=(train=0.958, test=0.444) total time=   1.6s\n",
      "[CV 2/5; 10/40] START modelo=RandomForestClassifier(random_state=0), modelo__max_depth=6, percentiles__percentile=60, preprocesamiento__BagOfWords__ngram_range=(1, 2)\n",
      "[CV 2/5; 10/40] END modelo=RandomForestClassifier(random_state=0), modelo__max_depth=6, percentiles__percentile=60, preprocesamiento__BagOfWords__ngram_range=(1, 2);, score=(train=0.761, test=0.389) total time=   1.4s\n",
      "[CV 3/5; 10/40] START modelo=RandomForestClassifier(random_state=0), modelo__max_depth=6, percentiles__percentile=60, preprocesamiento__BagOfWords__ngram_range=(1, 2)\n",
      "[CV 3/5; 10/40] END modelo=RandomForestClassifier(random_state=0), modelo__max_depth=6, percentiles__percentile=60, preprocesamiento__BagOfWords__ngram_range=(1, 2);, score=(train=0.761, test=0.556) total time=   1.3s\n",
      "[CV 4/5; 10/40] START modelo=RandomForestClassifier(random_state=0), modelo__max_depth=6, percentiles__percentile=60, preprocesamiento__BagOfWords__ngram_range=(1, 2)\n",
      "[CV 4/5; 10/40] END modelo=RandomForestClassifier(random_state=0), modelo__max_depth=6, percentiles__percentile=60, preprocesamiento__BagOfWords__ngram_range=(1, 2);, score=(train=0.750, test=0.471) total time=   2.0s\n",
      "[CV 5/5; 10/40] START modelo=RandomForestClassifier(random_state=0), modelo__max_depth=6, percentiles__percentile=60, preprocesamiento__BagOfWords__ngram_range=(1, 2)\n",
      "[CV 5/5; 10/40] END modelo=RandomForestClassifier(random_state=0), modelo__max_depth=6, percentiles__percentile=60, preprocesamiento__BagOfWords__ngram_range=(1, 2);, score=(train=0.722, test=0.706) total time=   1.4s\n",
      "[CV 1/5; 11/40] START modelo=RandomForestClassifier(random_state=0), modelo__max_depth=6, percentiles__percentile=40, preprocesamiento__BagOfWords__ngram_range=(1, 3)\n"
     ]
    },
    {
     "name": "stderr",
     "output_type": "stream",
     "text": [
      "C:\\Users\\Felipe\\anaconda3\\lib\\site-packages\\sklearn\\feature_selection\\_univariate_selection.py:113: RuntimeWarning: divide by zero encountered in true_divide\n",
      "  f = msb / msw\n"
     ]
    },
    {
     "name": "stdout",
     "output_type": "stream",
     "text": [
      "[CV 1/5; 11/40] END modelo=RandomForestClassifier(random_state=0), modelo__max_depth=6, percentiles__percentile=40, preprocesamiento__BagOfWords__ngram_range=(1, 3);, score=(train=0.986, test=0.333) total time=   1.8s\n",
      "[CV 2/5; 11/40] START modelo=RandomForestClassifier(random_state=0), modelo__max_depth=6, percentiles__percentile=40, preprocesamiento__BagOfWords__ngram_range=(1, 3)\n",
      "[CV 2/5; 11/40] END modelo=RandomForestClassifier(random_state=0), modelo__max_depth=6, percentiles__percentile=40, preprocesamiento__BagOfWords__ngram_range=(1, 3);, score=(train=0.718, test=0.389) total time=   1.5s\n",
      "[CV 3/5; 11/40] START modelo=RandomForestClassifier(random_state=0), modelo__max_depth=6, percentiles__percentile=40, preprocesamiento__BagOfWords__ngram_range=(1, 3)\n",
      "[CV 3/5; 11/40] END modelo=RandomForestClassifier(random_state=0), modelo__max_depth=6, percentiles__percentile=40, preprocesamiento__BagOfWords__ngram_range=(1, 3);, score=(train=0.746, test=0.556) total time=   1.4s\n",
      "[CV 4/5; 11/40] START modelo=RandomForestClassifier(random_state=0), modelo__max_depth=6, percentiles__percentile=40, preprocesamiento__BagOfWords__ngram_range=(1, 3)\n",
      "[CV 4/5; 11/40] END modelo=RandomForestClassifier(random_state=0), modelo__max_depth=6, percentiles__percentile=40, preprocesamiento__BagOfWords__ngram_range=(1, 3);, score=(train=0.722, test=0.471) total time=   2.6s\n",
      "[CV 5/5; 11/40] START modelo=RandomForestClassifier(random_state=0), modelo__max_depth=6, percentiles__percentile=40, preprocesamiento__BagOfWords__ngram_range=(1, 3)\n",
      "[CV 5/5; 11/40] END modelo=RandomForestClassifier(random_state=0), modelo__max_depth=6, percentiles__percentile=40, preprocesamiento__BagOfWords__ngram_range=(1, 3);, score=(train=0.694, test=0.706) total time=   1.5s\n",
      "[CV 1/5; 12/40] START modelo=RandomForestClassifier(random_state=0), modelo__max_depth=2, percentiles__percentile=20, preprocesamiento__BagOfWords__ngram_range=(1, 2)\n"
     ]
    },
    {
     "name": "stderr",
     "output_type": "stream",
     "text": [
      "C:\\Users\\Felipe\\anaconda3\\lib\\site-packages\\sklearn\\feature_selection\\_univariate_selection.py:113: RuntimeWarning: divide by zero encountered in true_divide\n",
      "  f = msb / msw\n"
     ]
    },
    {
     "name": "stdout",
     "output_type": "stream",
     "text": [
      "[CV 1/5; 12/40] END modelo=RandomForestClassifier(random_state=0), modelo__max_depth=2, percentiles__percentile=20, preprocesamiento__BagOfWords__ngram_range=(1, 2);, score=(train=0.859, test=0.556) total time=   1.6s\n",
      "[CV 2/5; 12/40] START modelo=RandomForestClassifier(random_state=0), modelo__max_depth=2, percentiles__percentile=20, preprocesamiento__BagOfWords__ngram_range=(1, 2)\n",
      "[CV 2/5; 12/40] END modelo=RandomForestClassifier(random_state=0), modelo__max_depth=2, percentiles__percentile=20, preprocesamiento__BagOfWords__ngram_range=(1, 2);, score=(train=0.563, test=0.389) total time=   1.5s\n",
      "[CV 3/5; 12/40] START modelo=RandomForestClassifier(random_state=0), modelo__max_depth=2, percentiles__percentile=20, preprocesamiento__BagOfWords__ngram_range=(1, 2)\n",
      "[CV 3/5; 12/40] END modelo=RandomForestClassifier(random_state=0), modelo__max_depth=2, percentiles__percentile=20, preprocesamiento__BagOfWords__ngram_range=(1, 2);, score=(train=0.592, test=0.556) total time=   1.2s\n",
      "[CV 4/5; 12/40] START modelo=RandomForestClassifier(random_state=0), modelo__max_depth=2, percentiles__percentile=20, preprocesamiento__BagOfWords__ngram_range=(1, 2)\n",
      "[CV 4/5; 12/40] END modelo=RandomForestClassifier(random_state=0), modelo__max_depth=2, percentiles__percentile=20, preprocesamiento__BagOfWords__ngram_range=(1, 2);, score=(train=0.681, test=0.471) total time=   1.7s\n",
      "[CV 5/5; 12/40] START modelo=RandomForestClassifier(random_state=0), modelo__max_depth=2, percentiles__percentile=20, preprocesamiento__BagOfWords__ngram_range=(1, 2)\n",
      "[CV 5/5; 12/40] END modelo=RandomForestClassifier(random_state=0), modelo__max_depth=2, percentiles__percentile=20, preprocesamiento__BagOfWords__ngram_range=(1, 2);, score=(train=0.611, test=0.706) total time=   1.4s\n",
      "[CV 1/5; 13/40] START modelo=RandomForestClassifier(random_state=0), modelo__max_depth=6, percentiles__percentile=40, preprocesamiento__BagOfWords__ngram_range=(1, 2)\n"
     ]
    },
    {
     "name": "stderr",
     "output_type": "stream",
     "text": [
      "C:\\Users\\Felipe\\anaconda3\\lib\\site-packages\\sklearn\\feature_selection\\_univariate_selection.py:113: RuntimeWarning: divide by zero encountered in true_divide\n",
      "  f = msb / msw\n"
     ]
    },
    {
     "name": "stdout",
     "output_type": "stream",
     "text": [
      "[CV 1/5; 13/40] END modelo=RandomForestClassifier(random_state=0), modelo__max_depth=6, percentiles__percentile=40, preprocesamiento__BagOfWords__ngram_range=(1, 2);, score=(train=0.972, test=0.556) total time=   1.7s\n",
      "[CV 2/5; 13/40] START modelo=RandomForestClassifier(random_state=0), modelo__max_depth=6, percentiles__percentile=40, preprocesamiento__BagOfWords__ngram_range=(1, 2)\n",
      "[CV 2/5; 13/40] END modelo=RandomForestClassifier(random_state=0), modelo__max_depth=6, percentiles__percentile=40, preprocesamiento__BagOfWords__ngram_range=(1, 2);, score=(train=0.704, test=0.389) total time=   1.4s\n",
      "[CV 3/5; 13/40] START modelo=RandomForestClassifier(random_state=0), modelo__max_depth=6, percentiles__percentile=40, preprocesamiento__BagOfWords__ngram_range=(1, 2)\n",
      "[CV 3/5; 13/40] END modelo=RandomForestClassifier(random_state=0), modelo__max_depth=6, percentiles__percentile=40, preprocesamiento__BagOfWords__ngram_range=(1, 2);, score=(train=0.803, test=0.556) total time=   1.3s\n",
      "[CV 4/5; 13/40] START modelo=RandomForestClassifier(random_state=0), modelo__max_depth=6, percentiles__percentile=40, preprocesamiento__BagOfWords__ngram_range=(1, 2)\n",
      "[CV 4/5; 13/40] END modelo=RandomForestClassifier(random_state=0), modelo__max_depth=6, percentiles__percentile=40, preprocesamiento__BagOfWords__ngram_range=(1, 2);, score=(train=0.750, test=0.471) total time=   1.7s\n",
      "[CV 5/5; 13/40] START modelo=RandomForestClassifier(random_state=0), modelo__max_depth=6, percentiles__percentile=40, preprocesamiento__BagOfWords__ngram_range=(1, 2)\n",
      "[CV 5/5; 13/40] END modelo=RandomForestClassifier(random_state=0), modelo__max_depth=6, percentiles__percentile=40, preprocesamiento__BagOfWords__ngram_range=(1, 2);, score=(train=0.694, test=0.706) total time=   1.9s\n",
      "[CV 1/5; 14/40] START modelo=KNeighborsClassifier(), modelo__n_neighbors=6, percentiles__percentile=40, preprocesamiento__BagOfWords__ngram_range=(1, 3)\n"
     ]
    },
    {
     "name": "stderr",
     "output_type": "stream",
     "text": [
      "C:\\Users\\Felipe\\anaconda3\\lib\\site-packages\\sklearn\\feature_selection\\_univariate_selection.py:113: RuntimeWarning: divide by zero encountered in true_divide\n",
      "  f = msb / msw\n"
     ]
    },
    {
     "name": "stdout",
     "output_type": "stream",
     "text": [
      "[CV 1/5; 14/40] END modelo=KNeighborsClassifier(), modelo__n_neighbors=6, percentiles__percentile=40, preprocesamiento__BagOfWords__ngram_range=(1, 3);, score=(train=0.507, test=0.611) total time=   1.7s\n",
      "[CV 2/5; 14/40] START modelo=KNeighborsClassifier(), modelo__n_neighbors=6, percentiles__percentile=40, preprocesamiento__BagOfWords__ngram_range=(1, 3)\n",
      "[CV 2/5; 14/40] END modelo=KNeighborsClassifier(), modelo__n_neighbors=6, percentiles__percentile=40, preprocesamiento__BagOfWords__ngram_range=(1, 3);, score=(train=0.563, test=0.389) total time=   1.4s\n",
      "[CV 3/5; 14/40] START modelo=KNeighborsClassifier(), modelo__n_neighbors=6, percentiles__percentile=40, preprocesamiento__BagOfWords__ngram_range=(1, 3)\n",
      "[CV 3/5; 14/40] END modelo=KNeighborsClassifier(), modelo__n_neighbors=6, percentiles__percentile=40, preprocesamiento__BagOfWords__ngram_range=(1, 3);, score=(train=0.577, test=0.556) total time=   1.2s\n",
      "[CV 4/5; 14/40] START modelo=KNeighborsClassifier(), modelo__n_neighbors=6, percentiles__percentile=40, preprocesamiento__BagOfWords__ngram_range=(1, 3)\n",
      "[CV 4/5; 14/40] END modelo=KNeighborsClassifier(), modelo__n_neighbors=6, percentiles__percentile=40, preprocesamiento__BagOfWords__ngram_range=(1, 3);, score=(train=0.639, test=0.471) total time=   1.7s\n",
      "[CV 5/5; 14/40] START modelo=KNeighborsClassifier(), modelo__n_neighbors=6, percentiles__percentile=40, preprocesamiento__BagOfWords__ngram_range=(1, 3)\n",
      "[CV 5/5; 14/40] END modelo=KNeighborsClassifier(), modelo__n_neighbors=6, percentiles__percentile=40, preprocesamiento__BagOfWords__ngram_range=(1, 3);, score=(train=0.681, test=0.706) total time=   1.4s\n",
      "[CV 1/5; 15/40] START modelo=KNeighborsClassifier(), modelo__n_neighbors=6, percentiles__percentile=20, preprocesamiento__BagOfWords__ngram_range=(1, 1)\n"
     ]
    },
    {
     "name": "stderr",
     "output_type": "stream",
     "text": [
      "C:\\Users\\Felipe\\anaconda3\\lib\\site-packages\\sklearn\\feature_selection\\_univariate_selection.py:113: RuntimeWarning: divide by zero encountered in true_divide\n",
      "  f = msb / msw\n"
     ]
    },
    {
     "name": "stdout",
     "output_type": "stream",
     "text": [
      "[CV 1/5; 15/40] END modelo=KNeighborsClassifier(), modelo__n_neighbors=6, percentiles__percentile=20, preprocesamiento__BagOfWords__ngram_range=(1, 1);, score=(train=0.676, test=0.556) total time=   1.8s\n",
      "[CV 2/5; 15/40] START modelo=KNeighborsClassifier(), modelo__n_neighbors=6, percentiles__percentile=20, preprocesamiento__BagOfWords__ngram_range=(1, 1)\n",
      "[CV 2/5; 15/40] END modelo=KNeighborsClassifier(), modelo__n_neighbors=6, percentiles__percentile=20, preprocesamiento__BagOfWords__ngram_range=(1, 1);, score=(train=0.606, test=0.333) total time=   1.1s\n",
      "[CV 3/5; 15/40] START modelo=KNeighborsClassifier(), modelo__n_neighbors=6, percentiles__percentile=20, preprocesamiento__BagOfWords__ngram_range=(1, 1)\n",
      "[CV 3/5; 15/40] END modelo=KNeighborsClassifier(), modelo__n_neighbors=6, percentiles__percentile=20, preprocesamiento__BagOfWords__ngram_range=(1, 1);, score=(train=0.690, test=0.389) total time=   1.0s\n",
      "[CV 4/5; 15/40] START modelo=KNeighborsClassifier(), modelo__n_neighbors=6, percentiles__percentile=20, preprocesamiento__BagOfWords__ngram_range=(1, 1)\n",
      "[CV 4/5; 15/40] END modelo=KNeighborsClassifier(), modelo__n_neighbors=6, percentiles__percentile=20, preprocesamiento__BagOfWords__ngram_range=(1, 1);, score=(train=0.625, test=0.471) total time=   1.4s\n",
      "[CV 5/5; 15/40] START modelo=KNeighborsClassifier(), modelo__n_neighbors=6, percentiles__percentile=20, preprocesamiento__BagOfWords__ngram_range=(1, 1)\n",
      "[CV 5/5; 15/40] END modelo=KNeighborsClassifier(), modelo__n_neighbors=6, percentiles__percentile=20, preprocesamiento__BagOfWords__ngram_range=(1, 1);, score=(train=0.667, test=0.647) total time=   1.2s\n",
      "[CV 1/5; 16/40] START modelo=KNeighborsClassifier(), modelo__n_neighbors=5, percentiles__percentile=80, preprocesamiento__BagOfWords__ngram_range=(1, 3)\n"
     ]
    },
    {
     "name": "stderr",
     "output_type": "stream",
     "text": [
      "C:\\Users\\Felipe\\anaconda3\\lib\\site-packages\\sklearn\\feature_selection\\_univariate_selection.py:113: RuntimeWarning: divide by zero encountered in true_divide\n",
      "  f = msb / msw\n"
     ]
    },
    {
     "name": "stdout",
     "output_type": "stream",
     "text": [
      "[CV 1/5; 16/40] END modelo=KNeighborsClassifier(), modelo__n_neighbors=5, percentiles__percentile=80, preprocesamiento__BagOfWords__ngram_range=(1, 3);, score=(train=0.521, test=0.500) total time=   1.7s\n",
      "[CV 2/5; 16/40] START modelo=KNeighborsClassifier(), modelo__n_neighbors=5, percentiles__percentile=80, preprocesamiento__BagOfWords__ngram_range=(1, 3)\n",
      "[CV 2/5; 16/40] END modelo=KNeighborsClassifier(), modelo__n_neighbors=5, percentiles__percentile=80, preprocesamiento__BagOfWords__ngram_range=(1, 3);, score=(train=0.718, test=0.389) total time=   2.2s\n",
      "[CV 3/5; 16/40] START modelo=KNeighborsClassifier(), modelo__n_neighbors=5, percentiles__percentile=80, preprocesamiento__BagOfWords__ngram_range=(1, 3)\n",
      "[CV 3/5; 16/40] END modelo=KNeighborsClassifier(), modelo__n_neighbors=5, percentiles__percentile=80, preprocesamiento__BagOfWords__ngram_range=(1, 3);, score=(train=0.620, test=0.611) total time=   1.4s\n",
      "[CV 4/5; 16/40] START modelo=KNeighborsClassifier(), modelo__n_neighbors=5, percentiles__percentile=80, preprocesamiento__BagOfWords__ngram_range=(1, 3)\n",
      "[CV 4/5; 16/40] END modelo=KNeighborsClassifier(), modelo__n_neighbors=5, percentiles__percentile=80, preprocesamiento__BagOfWords__ngram_range=(1, 3);, score=(train=0.667, test=0.471) total time=   1.7s\n",
      "[CV 5/5; 16/40] START modelo=KNeighborsClassifier(), modelo__n_neighbors=5, percentiles__percentile=80, preprocesamiento__BagOfWords__ngram_range=(1, 3)\n",
      "[CV 5/5; 16/40] END modelo=KNeighborsClassifier(), modelo__n_neighbors=5, percentiles__percentile=80, preprocesamiento__BagOfWords__ngram_range=(1, 3);, score=(train=0.583, test=0.647) total time=   1.4s\n",
      "[CV 1/5; 17/40] START modelo=KNeighborsClassifier(), modelo__n_neighbors=6, percentiles__percentile=20, preprocesamiento__BagOfWords__ngram_range=(1, 2)\n"
     ]
    },
    {
     "name": "stderr",
     "output_type": "stream",
     "text": [
      "C:\\Users\\Felipe\\anaconda3\\lib\\site-packages\\sklearn\\feature_selection\\_univariate_selection.py:113: RuntimeWarning: divide by zero encountered in true_divide\n",
      "  f = msb / msw\n"
     ]
    },
    {
     "name": "stdout",
     "output_type": "stream",
     "text": [
      "[CV 1/5; 17/40] END modelo=KNeighborsClassifier(), modelo__n_neighbors=6, percentiles__percentile=20, preprocesamiento__BagOfWords__ngram_range=(1, 2);, score=(train=0.718, test=0.556) total time=   1.5s\n",
      "[CV 2/5; 17/40] START modelo=KNeighborsClassifier(), modelo__n_neighbors=6, percentiles__percentile=20, preprocesamiento__BagOfWords__ngram_range=(1, 2)\n",
      "[CV 2/5; 17/40] END modelo=KNeighborsClassifier(), modelo__n_neighbors=6, percentiles__percentile=20, preprocesamiento__BagOfWords__ngram_range=(1, 2);, score=(train=0.563, test=0.389) total time=   2.1s\n",
      "[CV 3/5; 17/40] START modelo=KNeighborsClassifier(), modelo__n_neighbors=6, percentiles__percentile=20, preprocesamiento__BagOfWords__ngram_range=(1, 2)\n",
      "[CV 3/5; 17/40] END modelo=KNeighborsClassifier(), modelo__n_neighbors=6, percentiles__percentile=20, preprocesamiento__BagOfWords__ngram_range=(1, 2);, score=(train=0.648, test=0.556) total time=   1.2s\n",
      "[CV 4/5; 17/40] START modelo=KNeighborsClassifier(), modelo__n_neighbors=6, percentiles__percentile=20, preprocesamiento__BagOfWords__ngram_range=(1, 2)\n",
      "[CV 4/5; 17/40] END modelo=KNeighborsClassifier(), modelo__n_neighbors=6, percentiles__percentile=20, preprocesamiento__BagOfWords__ngram_range=(1, 2);, score=(train=0.625, test=0.471) total time=   1.5s\n",
      "[CV 5/5; 17/40] START modelo=KNeighborsClassifier(), modelo__n_neighbors=6, percentiles__percentile=20, preprocesamiento__BagOfWords__ngram_range=(1, 2)\n",
      "[CV 5/5; 17/40] END modelo=KNeighborsClassifier(), modelo__n_neighbors=6, percentiles__percentile=20, preprocesamiento__BagOfWords__ngram_range=(1, 2);, score=(train=0.611, test=0.706) total time=   1.3s\n",
      "[CV 1/5; 18/40] START modelo=RandomForestClassifier(random_state=0), modelo__max_depth=2, percentiles__percentile=40, preprocesamiento__BagOfWords__ngram_range=(1, 2)\n"
     ]
    },
    {
     "name": "stderr",
     "output_type": "stream",
     "text": [
      "C:\\Users\\Felipe\\anaconda3\\lib\\site-packages\\sklearn\\feature_selection\\_univariate_selection.py:113: RuntimeWarning: divide by zero encountered in true_divide\n",
      "  f = msb / msw\n"
     ]
    },
    {
     "name": "stdout",
     "output_type": "stream",
     "text": [
      "[CV 1/5; 18/40] END modelo=RandomForestClassifier(random_state=0), modelo__max_depth=2, percentiles__percentile=40, preprocesamiento__BagOfWords__ngram_range=(1, 2);, score=(train=0.831, test=0.444) total time=   1.6s\n",
      "[CV 2/5; 18/40] START modelo=RandomForestClassifier(random_state=0), modelo__max_depth=2, percentiles__percentile=40, preprocesamiento__BagOfWords__ngram_range=(1, 2)\n",
      "[CV 2/5; 18/40] END modelo=RandomForestClassifier(random_state=0), modelo__max_depth=2, percentiles__percentile=40, preprocesamiento__BagOfWords__ngram_range=(1, 2);, score=(train=0.577, test=0.389) total time=   1.4s\n",
      "[CV 3/5; 18/40] START modelo=RandomForestClassifier(random_state=0), modelo__max_depth=2, percentiles__percentile=40, preprocesamiento__BagOfWords__ngram_range=(1, 2)\n",
      "[CV 3/5; 18/40] END modelo=RandomForestClassifier(random_state=0), modelo__max_depth=2, percentiles__percentile=40, preprocesamiento__BagOfWords__ngram_range=(1, 2);, score=(train=0.577, test=0.556) total time=   1.7s\n",
      "[CV 4/5; 18/40] START modelo=RandomForestClassifier(random_state=0), modelo__max_depth=2, percentiles__percentile=40, preprocesamiento__BagOfWords__ngram_range=(1, 2)\n",
      "[CV 4/5; 18/40] END modelo=RandomForestClassifier(random_state=0), modelo__max_depth=2, percentiles__percentile=40, preprocesamiento__BagOfWords__ngram_range=(1, 2);, score=(train=0.667, test=0.471) total time=   1.6s\n",
      "[CV 5/5; 18/40] START modelo=RandomForestClassifier(random_state=0), modelo__max_depth=2, percentiles__percentile=40, preprocesamiento__BagOfWords__ngram_range=(1, 2)\n",
      "[CV 5/5; 18/40] END modelo=RandomForestClassifier(random_state=0), modelo__max_depth=2, percentiles__percentile=40, preprocesamiento__BagOfWords__ngram_range=(1, 2);, score=(train=0.611, test=0.706) total time=   1.4s\n",
      "[CV 1/5; 19/40] START modelo=KNeighborsClassifier(), modelo__n_neighbors=5, percentiles__percentile=60, preprocesamiento__BagOfWords__ngram_range=(1, 3)\n"
     ]
    },
    {
     "name": "stderr",
     "output_type": "stream",
     "text": [
      "C:\\Users\\Felipe\\anaconda3\\lib\\site-packages\\sklearn\\feature_selection\\_univariate_selection.py:113: RuntimeWarning: divide by zero encountered in true_divide\n",
      "  f = msb / msw\n"
     ]
    },
    {
     "name": "stdout",
     "output_type": "stream",
     "text": [
      "[CV 1/5; 19/40] END modelo=KNeighborsClassifier(), modelo__n_neighbors=5, percentiles__percentile=60, preprocesamiento__BagOfWords__ngram_range=(1, 3);, score=(train=0.549, test=0.611) total time=   1.6s\n",
      "[CV 2/5; 19/40] START modelo=KNeighborsClassifier(), modelo__n_neighbors=5, percentiles__percentile=60, preprocesamiento__BagOfWords__ngram_range=(1, 3)\n",
      "[CV 2/5; 19/40] END modelo=KNeighborsClassifier(), modelo__n_neighbors=5, percentiles__percentile=60, preprocesamiento__BagOfWords__ngram_range=(1, 3);, score=(train=0.563, test=0.389) total time=   1.4s\n",
      "[CV 3/5; 19/40] START modelo=KNeighborsClassifier(), modelo__n_neighbors=5, percentiles__percentile=60, preprocesamiento__BagOfWords__ngram_range=(1, 3)\n",
      "[CV 3/5; 19/40] END modelo=KNeighborsClassifier(), modelo__n_neighbors=5, percentiles__percentile=60, preprocesamiento__BagOfWords__ngram_range=(1, 3);, score=(train=0.606, test=0.556) total time=   1.2s\n",
      "[CV 4/5; 19/40] START modelo=KNeighborsClassifier(), modelo__n_neighbors=5, percentiles__percentile=60, preprocesamiento__BagOfWords__ngram_range=(1, 3)\n",
      "[CV 4/5; 19/40] END modelo=KNeighborsClassifier(), modelo__n_neighbors=5, percentiles__percentile=60, preprocesamiento__BagOfWords__ngram_range=(1, 3);, score=(train=0.625, test=0.471) total time=   2.7s\n",
      "[CV 5/5; 19/40] START modelo=KNeighborsClassifier(), modelo__n_neighbors=5, percentiles__percentile=60, preprocesamiento__BagOfWords__ngram_range=(1, 3)\n",
      "[CV 5/5; 19/40] END modelo=KNeighborsClassifier(), modelo__n_neighbors=5, percentiles__percentile=60, preprocesamiento__BagOfWords__ngram_range=(1, 3);, score=(train=0.694, test=0.706) total time=   1.5s\n",
      "[CV 1/5; 20/40] START modelo=KNeighborsClassifier(), modelo__n_neighbors=6, percentiles__percentile=40, preprocesamiento__BagOfWords__ngram_range=(1, 2)\n"
     ]
    },
    {
     "name": "stderr",
     "output_type": "stream",
     "text": [
      "C:\\Users\\Felipe\\anaconda3\\lib\\site-packages\\sklearn\\feature_selection\\_univariate_selection.py:113: RuntimeWarning: divide by zero encountered in true_divide\n",
      "  f = msb / msw\n"
     ]
    },
    {
     "name": "stdout",
     "output_type": "stream",
     "text": [
      "[CV 1/5; 20/40] END modelo=KNeighborsClassifier(), modelo__n_neighbors=6, percentiles__percentile=40, preprocesamiento__BagOfWords__ngram_range=(1, 2);, score=(train=0.507, test=0.611) total time=   1.5s\n",
      "[CV 2/5; 20/40] START modelo=KNeighborsClassifier(), modelo__n_neighbors=6, percentiles__percentile=40, preprocesamiento__BagOfWords__ngram_range=(1, 2)\n",
      "[CV 2/5; 20/40] END modelo=KNeighborsClassifier(), modelo__n_neighbors=6, percentiles__percentile=40, preprocesamiento__BagOfWords__ngram_range=(1, 2);, score=(train=0.577, test=0.389) total time=   1.3s\n",
      "[CV 3/5; 20/40] START modelo=KNeighborsClassifier(), modelo__n_neighbors=6, percentiles__percentile=40, preprocesamiento__BagOfWords__ngram_range=(1, 2)\n",
      "[CV 3/5; 20/40] END modelo=KNeighborsClassifier(), modelo__n_neighbors=6, percentiles__percentile=40, preprocesamiento__BagOfWords__ngram_range=(1, 2);, score=(train=0.634, test=0.556) total time=   1.1s\n",
      "[CV 4/5; 20/40] START modelo=KNeighborsClassifier(), modelo__n_neighbors=6, percentiles__percentile=40, preprocesamiento__BagOfWords__ngram_range=(1, 2)\n",
      "[CV 4/5; 20/40] END modelo=KNeighborsClassifier(), modelo__n_neighbors=6, percentiles__percentile=40, preprocesamiento__BagOfWords__ngram_range=(1, 2);, score=(train=0.639, test=0.471) total time=   2.1s\n",
      "[CV 5/5; 20/40] START modelo=KNeighborsClassifier(), modelo__n_neighbors=6, percentiles__percentile=40, preprocesamiento__BagOfWords__ngram_range=(1, 2)\n",
      "[CV 5/5; 20/40] END modelo=KNeighborsClassifier(), modelo__n_neighbors=6, percentiles__percentile=40, preprocesamiento__BagOfWords__ngram_range=(1, 2);, score=(train=0.681, test=0.706) total time=   1.3s\n",
      "[CV 1/5; 21/40] START modelo=KNeighborsClassifier(), modelo__n_neighbors=6, percentiles__percentile=20, preprocesamiento__BagOfWords__ngram_range=(1, 3)\n"
     ]
    },
    {
     "name": "stderr",
     "output_type": "stream",
     "text": [
      "C:\\Users\\Felipe\\anaconda3\\lib\\site-packages\\sklearn\\feature_selection\\_univariate_selection.py:113: RuntimeWarning: divide by zero encountered in true_divide\n",
      "  f = msb / msw\n"
     ]
    },
    {
     "name": "stdout",
     "output_type": "stream",
     "text": [
      "[CV 1/5; 21/40] END modelo=KNeighborsClassifier(), modelo__n_neighbors=6, percentiles__percentile=20, preprocesamiento__BagOfWords__ngram_range=(1, 3);, score=(train=0.577, test=0.611) total time=   1.7s\n",
      "[CV 2/5; 21/40] START modelo=KNeighborsClassifier(), modelo__n_neighbors=6, percentiles__percentile=20, preprocesamiento__BagOfWords__ngram_range=(1, 3)\n",
      "[CV 2/5; 21/40] END modelo=KNeighborsClassifier(), modelo__n_neighbors=6, percentiles__percentile=20, preprocesamiento__BagOfWords__ngram_range=(1, 3);, score=(train=0.563, test=0.389) total time=   1.4s\n",
      "[CV 3/5; 21/40] START modelo=KNeighborsClassifier(), modelo__n_neighbors=6, percentiles__percentile=20, preprocesamiento__BagOfWords__ngram_range=(1, 3)\n",
      "[CV 3/5; 21/40] END modelo=KNeighborsClassifier(), modelo__n_neighbors=6, percentiles__percentile=20, preprocesamiento__BagOfWords__ngram_range=(1, 3);, score=(train=0.606, test=0.556) total time=   1.2s\n",
      "[CV 4/5; 21/40] START modelo=KNeighborsClassifier(), modelo__n_neighbors=6, percentiles__percentile=20, preprocesamiento__BagOfWords__ngram_range=(1, 3)\n",
      "[CV 4/5; 21/40] END modelo=KNeighborsClassifier(), modelo__n_neighbors=6, percentiles__percentile=20, preprocesamiento__BagOfWords__ngram_range=(1, 3);, score=(train=0.625, test=0.471) total time=   1.7s\n",
      "[CV 5/5; 21/40] START modelo=KNeighborsClassifier(), modelo__n_neighbors=6, percentiles__percentile=20, preprocesamiento__BagOfWords__ngram_range=(1, 3)\n",
      "[CV 5/5; 21/40] END modelo=KNeighborsClassifier(), modelo__n_neighbors=6, percentiles__percentile=20, preprocesamiento__BagOfWords__ngram_range=(1, 3);, score=(train=0.611, test=0.706) total time=   1.8s\n",
      "[CV 1/5; 22/40] START modelo=KNeighborsClassifier(), modelo__n_neighbors=2, percentiles__percentile=20, preprocesamiento__BagOfWords__ngram_range=(1, 3)\n"
     ]
    },
    {
     "name": "stderr",
     "output_type": "stream",
     "text": [
      "C:\\Users\\Felipe\\anaconda3\\lib\\site-packages\\sklearn\\feature_selection\\_univariate_selection.py:113: RuntimeWarning: divide by zero encountered in true_divide\n",
      "  f = msb / msw\n"
     ]
    },
    {
     "name": "stdout",
     "output_type": "stream",
     "text": [
      "[CV 1/5; 22/40] END modelo=KNeighborsClassifier(), modelo__n_neighbors=2, percentiles__percentile=20, preprocesamiento__BagOfWords__ngram_range=(1, 3);, score=(train=0.944, test=0.556) total time=   1.7s\n",
      "[CV 2/5; 22/40] START modelo=KNeighborsClassifier(), modelo__n_neighbors=2, percentiles__percentile=20, preprocesamiento__BagOfWords__ngram_range=(1, 3)\n",
      "[CV 2/5; 22/40] END modelo=KNeighborsClassifier(), modelo__n_neighbors=2, percentiles__percentile=20, preprocesamiento__BagOfWords__ngram_range=(1, 3);, score=(train=0.901, test=0.389) total time=   1.3s\n",
      "[CV 3/5; 22/40] START modelo=KNeighborsClassifier(), modelo__n_neighbors=2, percentiles__percentile=20, preprocesamiento__BagOfWords__ngram_range=(1, 3)\n",
      "[CV 3/5; 22/40] END modelo=KNeighborsClassifier(), modelo__n_neighbors=2, percentiles__percentile=20, preprocesamiento__BagOfWords__ngram_range=(1, 3);, score=(train=0.915, test=0.556) total time=   1.2s\n",
      "[CV 4/5; 22/40] START modelo=KNeighborsClassifier(), modelo__n_neighbors=2, percentiles__percentile=20, preprocesamiento__BagOfWords__ngram_range=(1, 3)\n",
      "[CV 4/5; 22/40] END modelo=KNeighborsClassifier(), modelo__n_neighbors=2, percentiles__percentile=20, preprocesamiento__BagOfWords__ngram_range=(1, 3);, score=(train=0.917, test=0.471) total time=   1.6s\n",
      "[CV 5/5; 22/40] START modelo=KNeighborsClassifier(), modelo__n_neighbors=2, percentiles__percentile=20, preprocesamiento__BagOfWords__ngram_range=(1, 3)\n",
      "[CV 5/5; 22/40] END modelo=KNeighborsClassifier(), modelo__n_neighbors=2, percentiles__percentile=20, preprocesamiento__BagOfWords__ngram_range=(1, 3);, score=(train=0.917, test=0.706) total time=   1.8s\n",
      "[CV 1/5; 23/40] START modelo=KNeighborsClassifier(), modelo__n_neighbors=5, percentiles__percentile=40, preprocesamiento__BagOfWords__ngram_range=(1, 2)\n"
     ]
    },
    {
     "name": "stderr",
     "output_type": "stream",
     "text": [
      "C:\\Users\\Felipe\\anaconda3\\lib\\site-packages\\sklearn\\feature_selection\\_univariate_selection.py:113: RuntimeWarning: divide by zero encountered in true_divide\n",
      "  f = msb / msw\n"
     ]
    },
    {
     "name": "stdout",
     "output_type": "stream",
     "text": [
      "[CV 1/5; 23/40] END modelo=KNeighborsClassifier(), modelo__n_neighbors=5, percentiles__percentile=40, preprocesamiento__BagOfWords__ngram_range=(1, 2);, score=(train=0.507, test=0.611) total time=   1.5s\n",
      "[CV 2/5; 23/40] START modelo=KNeighborsClassifier(), modelo__n_neighbors=5, percentiles__percentile=40, preprocesamiento__BagOfWords__ngram_range=(1, 2)\n",
      "[CV 2/5; 23/40] END modelo=KNeighborsClassifier(), modelo__n_neighbors=5, percentiles__percentile=40, preprocesamiento__BagOfWords__ngram_range=(1, 2);, score=(train=0.563, test=0.389) total time=   1.3s\n",
      "[CV 3/5; 23/40] START modelo=KNeighborsClassifier(), modelo__n_neighbors=5, percentiles__percentile=40, preprocesamiento__BagOfWords__ngram_range=(1, 2)\n",
      "[CV 3/5; 23/40] END modelo=KNeighborsClassifier(), modelo__n_neighbors=5, percentiles__percentile=40, preprocesamiento__BagOfWords__ngram_range=(1, 2);, score=(train=0.606, test=0.556) total time=   1.1s\n",
      "[CV 4/5; 23/40] START modelo=KNeighborsClassifier(), modelo__n_neighbors=5, percentiles__percentile=40, preprocesamiento__BagOfWords__ngram_range=(1, 2)\n",
      "[CV 4/5; 23/40] END modelo=KNeighborsClassifier(), modelo__n_neighbors=5, percentiles__percentile=40, preprocesamiento__BagOfWords__ngram_range=(1, 2);, score=(train=0.625, test=0.471) total time=   1.5s\n",
      "[CV 5/5; 23/40] START modelo=KNeighborsClassifier(), modelo__n_neighbors=5, percentiles__percentile=40, preprocesamiento__BagOfWords__ngram_range=(1, 2)\n",
      "[CV 5/5; 23/40] END modelo=KNeighborsClassifier(), modelo__n_neighbors=5, percentiles__percentile=40, preprocesamiento__BagOfWords__ngram_range=(1, 2);, score=(train=0.681, test=0.706) total time=   1.2s\n",
      "[CV 1/5; 24/40] START modelo=KNeighborsClassifier(), modelo__n_neighbors=2, percentiles__percentile=20, preprocesamiento__BagOfWords__ngram_range=(1, 1)\n"
     ]
    },
    {
     "name": "stderr",
     "output_type": "stream",
     "text": [
      "C:\\Users\\Felipe\\anaconda3\\lib\\site-packages\\sklearn\\feature_selection\\_univariate_selection.py:113: RuntimeWarning: divide by zero encountered in true_divide\n",
      "  f = msb / msw\n"
     ]
    },
    {
     "name": "stdout",
     "output_type": "stream",
     "text": [
      "[CV 1/5; 24/40] END modelo=KNeighborsClassifier(), modelo__n_neighbors=2, percentiles__percentile=20, preprocesamiento__BagOfWords__ngram_range=(1, 1);, score=(train=0.718, test=0.556) total time=   1.7s\n",
      "[CV 2/5; 24/40] START modelo=KNeighborsClassifier(), modelo__n_neighbors=2, percentiles__percentile=20, preprocesamiento__BagOfWords__ngram_range=(1, 1)\n",
      "[CV 2/5; 24/40] END modelo=KNeighborsClassifier(), modelo__n_neighbors=2, percentiles__percentile=20, preprocesamiento__BagOfWords__ngram_range=(1, 1);, score=(train=0.831, test=0.500) total time=   1.2s\n",
      "[CV 3/5; 24/40] START modelo=KNeighborsClassifier(), modelo__n_neighbors=2, percentiles__percentile=20, preprocesamiento__BagOfWords__ngram_range=(1, 1)\n",
      "[CV 3/5; 24/40] END modelo=KNeighborsClassifier(), modelo__n_neighbors=2, percentiles__percentile=20, preprocesamiento__BagOfWords__ngram_range=(1, 1);, score=(train=0.732, test=0.222) total time=   1.0s\n",
      "[CV 4/5; 24/40] START modelo=KNeighborsClassifier(), modelo__n_neighbors=2, percentiles__percentile=20, preprocesamiento__BagOfWords__ngram_range=(1, 1)\n",
      "[CV 4/5; 24/40] END modelo=KNeighborsClassifier(), modelo__n_neighbors=2, percentiles__percentile=20, preprocesamiento__BagOfWords__ngram_range=(1, 1);, score=(train=0.917, test=0.471) total time=   1.3s\n",
      "[CV 5/5; 24/40] START modelo=KNeighborsClassifier(), modelo__n_neighbors=2, percentiles__percentile=20, preprocesamiento__BagOfWords__ngram_range=(1, 1)\n",
      "[CV 5/5; 24/40] END modelo=KNeighborsClassifier(), modelo__n_neighbors=2, percentiles__percentile=20, preprocesamiento__BagOfWords__ngram_range=(1, 1);, score=(train=0.875, test=0.706) total time=   1.2s\n",
      "[CV 1/5; 25/40] START modelo=KNeighborsClassifier(), modelo__n_neighbors=3, percentiles__percentile=20, preprocesamiento__BagOfWords__ngram_range=(1, 2)\n"
     ]
    },
    {
     "name": "stderr",
     "output_type": "stream",
     "text": [
      "C:\\Users\\Felipe\\anaconda3\\lib\\site-packages\\sklearn\\feature_selection\\_univariate_selection.py:113: RuntimeWarning: divide by zero encountered in true_divide\n",
      "  f = msb / msw\n"
     ]
    },
    {
     "name": "stdout",
     "output_type": "stream",
     "text": [
      "[CV 1/5; 25/40] END modelo=KNeighborsClassifier(), modelo__n_neighbors=3, percentiles__percentile=20, preprocesamiento__BagOfWords__ngram_range=(1, 2);, score=(train=0.746, test=0.556) total time=   1.5s\n",
      "[CV 2/5; 25/40] START modelo=KNeighborsClassifier(), modelo__n_neighbors=3, percentiles__percentile=20, preprocesamiento__BagOfWords__ngram_range=(1, 2)\n",
      "[CV 2/5; 25/40] END modelo=KNeighborsClassifier(), modelo__n_neighbors=3, percentiles__percentile=20, preprocesamiento__BagOfWords__ngram_range=(1, 2);, score=(train=0.563, test=0.389) total time=   1.3s\n",
      "[CV 3/5; 25/40] START modelo=KNeighborsClassifier(), modelo__n_neighbors=3, percentiles__percentile=20, preprocesamiento__BagOfWords__ngram_range=(1, 2)\n",
      "[CV 3/5; 25/40] END modelo=KNeighborsClassifier(), modelo__n_neighbors=3, percentiles__percentile=20, preprocesamiento__BagOfWords__ngram_range=(1, 2);, score=(train=0.620, test=0.556) total time=   1.3s\n",
      "[CV 4/5; 25/40] START modelo=KNeighborsClassifier(), modelo__n_neighbors=3, percentiles__percentile=20, preprocesamiento__BagOfWords__ngram_range=(1, 2)\n",
      "[CV 4/5; 25/40] END modelo=KNeighborsClassifier(), modelo__n_neighbors=3, percentiles__percentile=20, preprocesamiento__BagOfWords__ngram_range=(1, 2);, score=(train=0.653, test=0.471) total time=   1.5s\n",
      "[CV 5/5; 25/40] START modelo=KNeighborsClassifier(), modelo__n_neighbors=3, percentiles__percentile=20, preprocesamiento__BagOfWords__ngram_range=(1, 2)\n",
      "[CV 5/5; 25/40] END modelo=KNeighborsClassifier(), modelo__n_neighbors=3, percentiles__percentile=20, preprocesamiento__BagOfWords__ngram_range=(1, 2);, score=(train=0.778, test=0.706) total time=   1.3s\n",
      "[CV 1/5; 26/40] START modelo=KNeighborsClassifier(), modelo__n_neighbors=3, percentiles__percentile=20, preprocesamiento__BagOfWords__ngram_range=(1, 3)\n"
     ]
    },
    {
     "name": "stderr",
     "output_type": "stream",
     "text": [
      "C:\\Users\\Felipe\\anaconda3\\lib\\site-packages\\sklearn\\feature_selection\\_univariate_selection.py:113: RuntimeWarning: divide by zero encountered in true_divide\n",
      "  f = msb / msw\n"
     ]
    },
    {
     "name": "stdout",
     "output_type": "stream",
     "text": [
      "[CV 1/5; 26/40] END modelo=KNeighborsClassifier(), modelo__n_neighbors=3, percentiles__percentile=20, preprocesamiento__BagOfWords__ngram_range=(1, 3);, score=(train=0.592, test=0.611) total time=   1.7s\n",
      "[CV 2/5; 26/40] START modelo=KNeighborsClassifier(), modelo__n_neighbors=3, percentiles__percentile=20, preprocesamiento__BagOfWords__ngram_range=(1, 3)\n",
      "[CV 2/5; 26/40] END modelo=KNeighborsClassifier(), modelo__n_neighbors=3, percentiles__percentile=20, preprocesamiento__BagOfWords__ngram_range=(1, 3);, score=(train=0.563, test=0.389) total time=   1.4s\n",
      "[CV 3/5; 26/40] START modelo=KNeighborsClassifier(), modelo__n_neighbors=3, percentiles__percentile=20, preprocesamiento__BagOfWords__ngram_range=(1, 3)\n",
      "[CV 3/5; 26/40] END modelo=KNeighborsClassifier(), modelo__n_neighbors=3, percentiles__percentile=20, preprocesamiento__BagOfWords__ngram_range=(1, 3);, score=(train=0.606, test=0.556) total time=   1.3s\n",
      "[CV 4/5; 26/40] START modelo=KNeighborsClassifier(), modelo__n_neighbors=3, percentiles__percentile=20, preprocesamiento__BagOfWords__ngram_range=(1, 3)\n",
      "[CV 4/5; 26/40] END modelo=KNeighborsClassifier(), modelo__n_neighbors=3, percentiles__percentile=20, preprocesamiento__BagOfWords__ngram_range=(1, 3);, score=(train=0.625, test=0.471) total time=   1.9s\n",
      "[CV 5/5; 26/40] START modelo=KNeighborsClassifier(), modelo__n_neighbors=3, percentiles__percentile=20, preprocesamiento__BagOfWords__ngram_range=(1, 3)\n",
      "[CV 5/5; 26/40] END modelo=KNeighborsClassifier(), modelo__n_neighbors=3, percentiles__percentile=20, preprocesamiento__BagOfWords__ngram_range=(1, 3);, score=(train=0.611, test=0.706) total time=   1.4s\n",
      "[CV 1/5; 27/40] START modelo=KNeighborsClassifier(), modelo__n_neighbors=3, percentiles__percentile=40, preprocesamiento__BagOfWords__ngram_range=(1, 3)\n"
     ]
    },
    {
     "name": "stderr",
     "output_type": "stream",
     "text": [
      "C:\\Users\\Felipe\\anaconda3\\lib\\site-packages\\sklearn\\feature_selection\\_univariate_selection.py:113: RuntimeWarning: divide by zero encountered in true_divide\n",
      "  f = msb / msw\n"
     ]
    },
    {
     "name": "stdout",
     "output_type": "stream",
     "text": [
      "[CV 1/5; 27/40] END modelo=KNeighborsClassifier(), modelo__n_neighbors=3, percentiles__percentile=40, preprocesamiento__BagOfWords__ngram_range=(1, 3);, score=(train=0.507, test=0.611) total time=   1.6s\n",
      "[CV 2/5; 27/40] START modelo=KNeighborsClassifier(), modelo__n_neighbors=3, percentiles__percentile=40, preprocesamiento__BagOfWords__ngram_range=(1, 3)\n",
      "[CV 2/5; 27/40] END modelo=KNeighborsClassifier(), modelo__n_neighbors=3, percentiles__percentile=40, preprocesamiento__BagOfWords__ngram_range=(1, 3);, score=(train=0.577, test=0.389) total time=   1.4s\n",
      "[CV 3/5; 27/40] START modelo=KNeighborsClassifier(), modelo__n_neighbors=3, percentiles__percentile=40, preprocesamiento__BagOfWords__ngram_range=(1, 3)\n",
      "[CV 3/5; 27/40] END modelo=KNeighborsClassifier(), modelo__n_neighbors=3, percentiles__percentile=40, preprocesamiento__BagOfWords__ngram_range=(1, 3);, score=(train=0.634, test=0.556) total time=   1.2s\n",
      "[CV 4/5; 27/40] START modelo=KNeighborsClassifier(), modelo__n_neighbors=3, percentiles__percentile=40, preprocesamiento__BagOfWords__ngram_range=(1, 3)\n",
      "[CV 4/5; 27/40] END modelo=KNeighborsClassifier(), modelo__n_neighbors=3, percentiles__percentile=40, preprocesamiento__BagOfWords__ngram_range=(1, 3);, score=(train=0.625, test=0.471) total time=   2.4s\n",
      "[CV 5/5; 27/40] START modelo=KNeighborsClassifier(), modelo__n_neighbors=3, percentiles__percentile=40, preprocesamiento__BagOfWords__ngram_range=(1, 3)\n",
      "[CV 5/5; 27/40] END modelo=KNeighborsClassifier(), modelo__n_neighbors=3, percentiles__percentile=40, preprocesamiento__BagOfWords__ngram_range=(1, 3);, score=(train=0.681, test=0.706) total time=   1.5s\n",
      "[CV 1/5; 28/40] START modelo=KNeighborsClassifier(), modelo__n_neighbors=5, percentiles__percentile=40, preprocesamiento__BagOfWords__ngram_range=(1, 3)\n"
     ]
    },
    {
     "name": "stderr",
     "output_type": "stream",
     "text": [
      "C:\\Users\\Felipe\\anaconda3\\lib\\site-packages\\sklearn\\feature_selection\\_univariate_selection.py:113: RuntimeWarning: divide by zero encountered in true_divide\n",
      "  f = msb / msw\n"
     ]
    },
    {
     "name": "stdout",
     "output_type": "stream",
     "text": [
      "[CV 1/5; 28/40] END modelo=KNeighborsClassifier(), modelo__n_neighbors=5, percentiles__percentile=40, preprocesamiento__BagOfWords__ngram_range=(1, 3);, score=(train=0.507, test=0.611) total time=   1.7s\n",
      "[CV 2/5; 28/40] START modelo=KNeighborsClassifier(), modelo__n_neighbors=5, percentiles__percentile=40, preprocesamiento__BagOfWords__ngram_range=(1, 3)\n",
      "[CV 2/5; 28/40] END modelo=KNeighborsClassifier(), modelo__n_neighbors=5, percentiles__percentile=40, preprocesamiento__BagOfWords__ngram_range=(1, 3);, score=(train=0.563, test=0.389) total time=   1.4s\n",
      "[CV 3/5; 28/40] START modelo=KNeighborsClassifier(), modelo__n_neighbors=5, percentiles__percentile=40, preprocesamiento__BagOfWords__ngram_range=(1, 3)\n",
      "[CV 3/5; 28/40] END modelo=KNeighborsClassifier(), modelo__n_neighbors=5, percentiles__percentile=40, preprocesamiento__BagOfWords__ngram_range=(1, 3);, score=(train=0.577, test=0.556) total time=   1.2s\n",
      "[CV 4/5; 28/40] START modelo=KNeighborsClassifier(), modelo__n_neighbors=5, percentiles__percentile=40, preprocesamiento__BagOfWords__ngram_range=(1, 3)\n",
      "[CV 4/5; 28/40] END modelo=KNeighborsClassifier(), modelo__n_neighbors=5, percentiles__percentile=40, preprocesamiento__BagOfWords__ngram_range=(1, 3);, score=(train=0.625, test=0.471) total time=   1.7s\n",
      "[CV 5/5; 28/40] START modelo=KNeighborsClassifier(), modelo__n_neighbors=5, percentiles__percentile=40, preprocesamiento__BagOfWords__ngram_range=(1, 3)\n",
      "[CV 5/5; 28/40] END modelo=KNeighborsClassifier(), modelo__n_neighbors=5, percentiles__percentile=40, preprocesamiento__BagOfWords__ngram_range=(1, 3);, score=(train=0.639, test=0.706) total time=   1.6s\n",
      "[CV 1/5; 29/40] START modelo=RandomForestClassifier(random_state=0), modelo__max_depth=6, percentiles__percentile=20, preprocesamiento__BagOfWords__ngram_range=(1, 1)\n"
     ]
    },
    {
     "name": "stderr",
     "output_type": "stream",
     "text": [
      "C:\\Users\\Felipe\\anaconda3\\lib\\site-packages\\sklearn\\feature_selection\\_univariate_selection.py:113: RuntimeWarning: divide by zero encountered in true_divide\n",
      "  f = msb / msw\n"
     ]
    },
    {
     "name": "stdout",
     "output_type": "stream",
     "text": [
      "[CV 1/5; 29/40] END modelo=RandomForestClassifier(random_state=0), modelo__max_depth=6, percentiles__percentile=20, preprocesamiento__BagOfWords__ngram_range=(1, 1);, score=(train=0.972, test=0.389) total time=   1.5s\n",
      "[CV 2/5; 29/40] START modelo=RandomForestClassifier(random_state=0), modelo__max_depth=6, percentiles__percentile=20, preprocesamiento__BagOfWords__ngram_range=(1, 1)\n",
      "[CV 2/5; 29/40] END modelo=RandomForestClassifier(random_state=0), modelo__max_depth=6, percentiles__percentile=20, preprocesamiento__BagOfWords__ngram_range=(1, 1);, score=(train=0.831, test=0.389) total time=   1.2s\n",
      "[CV 3/5; 29/40] START modelo=RandomForestClassifier(random_state=0), modelo__max_depth=6, percentiles__percentile=20, preprocesamiento__BagOfWords__ngram_range=(1, 1)\n",
      "[CV 3/5; 29/40] END modelo=RandomForestClassifier(random_state=0), modelo__max_depth=6, percentiles__percentile=20, preprocesamiento__BagOfWords__ngram_range=(1, 1);, score=(train=0.845, test=0.556) total time=   1.3s\n",
      "[CV 4/5; 29/40] START modelo=RandomForestClassifier(random_state=0), modelo__max_depth=6, percentiles__percentile=20, preprocesamiento__BagOfWords__ngram_range=(1, 1)\n",
      "[CV 4/5; 29/40] END modelo=RandomForestClassifier(random_state=0), modelo__max_depth=6, percentiles__percentile=20, preprocesamiento__BagOfWords__ngram_range=(1, 1);, score=(train=0.833, test=0.471) total time=   1.5s\n",
      "[CV 5/5; 29/40] START modelo=RandomForestClassifier(random_state=0), modelo__max_depth=6, percentiles__percentile=20, preprocesamiento__BagOfWords__ngram_range=(1, 1)\n",
      "[CV 5/5; 29/40] END modelo=RandomForestClassifier(random_state=0), modelo__max_depth=6, percentiles__percentile=20, preprocesamiento__BagOfWords__ngram_range=(1, 1);, score=(train=0.764, test=0.706) total time=   1.5s\n",
      "[CV 1/5; 30/40] START modelo=RandomForestClassifier(random_state=0), modelo__max_depth=6, percentiles__percentile=20, preprocesamiento__BagOfWords__ngram_range=(1, 2)\n"
     ]
    },
    {
     "name": "stderr",
     "output_type": "stream",
     "text": [
      "C:\\Users\\Felipe\\anaconda3\\lib\\site-packages\\sklearn\\feature_selection\\_univariate_selection.py:113: RuntimeWarning: divide by zero encountered in true_divide\n",
      "  f = msb / msw\n"
     ]
    },
    {
     "name": "stdout",
     "output_type": "stream",
     "text": [
      "[CV 1/5; 30/40] END modelo=RandomForestClassifier(random_state=0), modelo__max_depth=6, percentiles__percentile=20, preprocesamiento__BagOfWords__ngram_range=(1, 2);, score=(train=0.958, test=0.500) total time=   1.7s\n",
      "[CV 2/5; 30/40] START modelo=RandomForestClassifier(random_state=0), modelo__max_depth=6, percentiles__percentile=20, preprocesamiento__BagOfWords__ngram_range=(1, 2)\n",
      "[CV 2/5; 30/40] END modelo=RandomForestClassifier(random_state=0), modelo__max_depth=6, percentiles__percentile=20, preprocesamiento__BagOfWords__ngram_range=(1, 2);, score=(train=0.746, test=0.389) total time=   1.4s\n",
      "[CV 3/5; 30/40] START modelo=RandomForestClassifier(random_state=0), modelo__max_depth=6, percentiles__percentile=20, preprocesamiento__BagOfWords__ngram_range=(1, 2)\n",
      "[CV 3/5; 30/40] END modelo=RandomForestClassifier(random_state=0), modelo__max_depth=6, percentiles__percentile=20, preprocesamiento__BagOfWords__ngram_range=(1, 2);, score=(train=0.789, test=0.556) total time=   1.2s\n",
      "[CV 4/5; 30/40] START modelo=RandomForestClassifier(random_state=0), modelo__max_depth=6, percentiles__percentile=20, preprocesamiento__BagOfWords__ngram_range=(1, 2)\n",
      "[CV 4/5; 30/40] END modelo=RandomForestClassifier(random_state=0), modelo__max_depth=6, percentiles__percentile=20, preprocesamiento__BagOfWords__ngram_range=(1, 2);, score=(train=0.764, test=0.471) total time=   1.6s\n",
      "[CV 5/5; 30/40] START modelo=RandomForestClassifier(random_state=0), modelo__max_depth=6, percentiles__percentile=20, preprocesamiento__BagOfWords__ngram_range=(1, 2)\n",
      "[CV 5/5; 30/40] END modelo=RandomForestClassifier(random_state=0), modelo__max_depth=6, percentiles__percentile=20, preprocesamiento__BagOfWords__ngram_range=(1, 2);, score=(train=0.681, test=0.706) total time=   1.4s\n",
      "[CV 1/5; 31/40] START modelo=RandomForestClassifier(random_state=0), modelo__max_depth=2, percentiles__percentile=80, preprocesamiento__BagOfWords__ngram_range=(1, 3)\n"
     ]
    },
    {
     "name": "stderr",
     "output_type": "stream",
     "text": [
      "C:\\Users\\Felipe\\anaconda3\\lib\\site-packages\\sklearn\\feature_selection\\_univariate_selection.py:113: RuntimeWarning: divide by zero encountered in true_divide\n",
      "  f = msb / msw\n"
     ]
    },
    {
     "name": "stdout",
     "output_type": "stream",
     "text": [
      "[CV 1/5; 31/40] END modelo=RandomForestClassifier(random_state=0), modelo__max_depth=2, percentiles__percentile=80, preprocesamiento__BagOfWords__ngram_range=(1, 3);, score=(train=0.873, test=0.500) total time=   2.8s\n",
      "[CV 2/5; 31/40] START modelo=RandomForestClassifier(random_state=0), modelo__max_depth=2, percentiles__percentile=80, preprocesamiento__BagOfWords__ngram_range=(1, 3)\n",
      "[CV 2/5; 31/40] END modelo=RandomForestClassifier(random_state=0), modelo__max_depth=2, percentiles__percentile=80, preprocesamiento__BagOfWords__ngram_range=(1, 3);, score=(train=0.563, test=0.389) total time=   1.5s\n",
      "[CV 3/5; 31/40] START modelo=RandomForestClassifier(random_state=0), modelo__max_depth=2, percentiles__percentile=80, preprocesamiento__BagOfWords__ngram_range=(1, 3)\n",
      "[CV 3/5; 31/40] END modelo=RandomForestClassifier(random_state=0), modelo__max_depth=2, percentiles__percentile=80, preprocesamiento__BagOfWords__ngram_range=(1, 3);, score=(train=0.592, test=0.556) total time=   1.3s\n",
      "[CV 4/5; 31/40] START modelo=RandomForestClassifier(random_state=0), modelo__max_depth=2, percentiles__percentile=80, preprocesamiento__BagOfWords__ngram_range=(1, 3)\n",
      "[CV 4/5; 31/40] END modelo=RandomForestClassifier(random_state=0), modelo__max_depth=2, percentiles__percentile=80, preprocesamiento__BagOfWords__ngram_range=(1, 3);, score=(train=0.653, test=0.471) total time=   1.8s\n",
      "[CV 5/5; 31/40] START modelo=RandomForestClassifier(random_state=0), modelo__max_depth=2, percentiles__percentile=80, preprocesamiento__BagOfWords__ngram_range=(1, 3)\n",
      "[CV 5/5; 31/40] END modelo=RandomForestClassifier(random_state=0), modelo__max_depth=2, percentiles__percentile=80, preprocesamiento__BagOfWords__ngram_range=(1, 3);, score=(train=0.611, test=0.706) total time=   1.6s\n",
      "[CV 1/5; 32/40] START modelo=KNeighborsClassifier(), modelo__n_neighbors=5, percentiles__percentile=20, preprocesamiento__BagOfWords__ngram_range=(1, 1)\n"
     ]
    },
    {
     "name": "stderr",
     "output_type": "stream",
     "text": [
      "C:\\Users\\Felipe\\anaconda3\\lib\\site-packages\\sklearn\\feature_selection\\_univariate_selection.py:113: RuntimeWarning: divide by zero encountered in true_divide\n",
      "  f = msb / msw\n"
     ]
    },
    {
     "name": "stdout",
     "output_type": "stream",
     "text": [
      "[CV 1/5; 32/40] END modelo=KNeighborsClassifier(), modelo__n_neighbors=5, percentiles__percentile=20, preprocesamiento__BagOfWords__ngram_range=(1, 1);, score=(train=0.704, test=0.611) total time=   1.7s\n",
      "[CV 2/5; 32/40] START modelo=KNeighborsClassifier(), modelo__n_neighbors=5, percentiles__percentile=20, preprocesamiento__BagOfWords__ngram_range=(1, 1)\n",
      "[CV 2/5; 32/40] END modelo=KNeighborsClassifier(), modelo__n_neighbors=5, percentiles__percentile=20, preprocesamiento__BagOfWords__ngram_range=(1, 1);, score=(train=0.592, test=0.389) total time=   1.2s\n",
      "[CV 3/5; 32/40] START modelo=KNeighborsClassifier(), modelo__n_neighbors=5, percentiles__percentile=20, preprocesamiento__BagOfWords__ngram_range=(1, 1)\n",
      "[CV 3/5; 32/40] END modelo=KNeighborsClassifier(), modelo__n_neighbors=5, percentiles__percentile=20, preprocesamiento__BagOfWords__ngram_range=(1, 1);, score=(train=0.831, test=0.389) total time=   1.0s\n",
      "[CV 4/5; 32/40] START modelo=KNeighborsClassifier(), modelo__n_neighbors=5, percentiles__percentile=20, preprocesamiento__BagOfWords__ngram_range=(1, 1)\n",
      "[CV 4/5; 32/40] END modelo=KNeighborsClassifier(), modelo__n_neighbors=5, percentiles__percentile=20, preprocesamiento__BagOfWords__ngram_range=(1, 1);, score=(train=0.639, test=0.471) total time=   1.3s\n",
      "[CV 5/5; 32/40] START modelo=KNeighborsClassifier(), modelo__n_neighbors=5, percentiles__percentile=20, preprocesamiento__BagOfWords__ngram_range=(1, 1)\n",
      "[CV 5/5; 32/40] END modelo=KNeighborsClassifier(), modelo__n_neighbors=5, percentiles__percentile=20, preprocesamiento__BagOfWords__ngram_range=(1, 1);, score=(train=0.653, test=0.706) total time=   1.2s\n",
      "[CV 1/5; 33/40] START modelo=KNeighborsClassifier(), modelo__n_neighbors=5, percentiles__percentile=20, preprocesamiento__BagOfWords__ngram_range=(1, 2)\n"
     ]
    },
    {
     "name": "stderr",
     "output_type": "stream",
     "text": [
      "C:\\Users\\Felipe\\anaconda3\\lib\\site-packages\\sklearn\\feature_selection\\_univariate_selection.py:113: RuntimeWarning: divide by zero encountered in true_divide\n",
      "  f = msb / msw\n"
     ]
    },
    {
     "name": "stdout",
     "output_type": "stream",
     "text": [
      "[CV 1/5; 33/40] END modelo=KNeighborsClassifier(), modelo__n_neighbors=5, percentiles__percentile=20, preprocesamiento__BagOfWords__ngram_range=(1, 2);, score=(train=0.718, test=0.500) total time=   1.5s\n",
      "[CV 2/5; 33/40] START modelo=KNeighborsClassifier(), modelo__n_neighbors=5, percentiles__percentile=20, preprocesamiento__BagOfWords__ngram_range=(1, 2)\n",
      "[CV 2/5; 33/40] END modelo=KNeighborsClassifier(), modelo__n_neighbors=5, percentiles__percentile=20, preprocesamiento__BagOfWords__ngram_range=(1, 2);, score=(train=0.563, test=0.389) total time=   1.2s\n",
      "[CV 3/5; 33/40] START modelo=KNeighborsClassifier(), modelo__n_neighbors=5, percentiles__percentile=20, preprocesamiento__BagOfWords__ngram_range=(1, 2)\n",
      "[CV 3/5; 33/40] END modelo=KNeighborsClassifier(), modelo__n_neighbors=5, percentiles__percentile=20, preprocesamiento__BagOfWords__ngram_range=(1, 2);, score=(train=0.606, test=0.556) total time=   1.6s\n",
      "[CV 4/5; 33/40] START modelo=KNeighborsClassifier(), modelo__n_neighbors=5, percentiles__percentile=20, preprocesamiento__BagOfWords__ngram_range=(1, 2)\n",
      "[CV 4/5; 33/40] END modelo=KNeighborsClassifier(), modelo__n_neighbors=5, percentiles__percentile=20, preprocesamiento__BagOfWords__ngram_range=(1, 2);, score=(train=0.625, test=0.471) total time=   1.5s\n",
      "[CV 5/5; 33/40] START modelo=KNeighborsClassifier(), modelo__n_neighbors=5, percentiles__percentile=20, preprocesamiento__BagOfWords__ngram_range=(1, 2)\n",
      "[CV 5/5; 33/40] END modelo=KNeighborsClassifier(), modelo__n_neighbors=5, percentiles__percentile=20, preprocesamiento__BagOfWords__ngram_range=(1, 2);, score=(train=0.611, test=0.706) total time=   1.5s\n",
      "[CV 1/5; 34/40] START modelo=KNeighborsClassifier(), modelo__n_neighbors=5, percentiles__percentile=20, preprocesamiento__BagOfWords__ngram_range=(1, 3)\n"
     ]
    },
    {
     "name": "stderr",
     "output_type": "stream",
     "text": [
      "C:\\Users\\Felipe\\anaconda3\\lib\\site-packages\\sklearn\\feature_selection\\_univariate_selection.py:113: RuntimeWarning: divide by zero encountered in true_divide\n",
      "  f = msb / msw\n"
     ]
    },
    {
     "name": "stdout",
     "output_type": "stream",
     "text": [
      "[CV 1/5; 34/40] END modelo=KNeighborsClassifier(), modelo__n_neighbors=5, percentiles__percentile=20, preprocesamiento__BagOfWords__ngram_range=(1, 3);, score=(train=0.535, test=0.611) total time=   1.6s\n",
      "[CV 2/5; 34/40] START modelo=KNeighborsClassifier(), modelo__n_neighbors=5, percentiles__percentile=20, preprocesamiento__BagOfWords__ngram_range=(1, 3)\n",
      "[CV 2/5; 34/40] END modelo=KNeighborsClassifier(), modelo__n_neighbors=5, percentiles__percentile=20, preprocesamiento__BagOfWords__ngram_range=(1, 3);, score=(train=0.563, test=0.389) total time=   1.4s\n",
      "[CV 3/5; 34/40] START modelo=KNeighborsClassifier(), modelo__n_neighbors=5, percentiles__percentile=20, preprocesamiento__BagOfWords__ngram_range=(1, 3)\n",
      "[CV 3/5; 34/40] END modelo=KNeighborsClassifier(), modelo__n_neighbors=5, percentiles__percentile=20, preprocesamiento__BagOfWords__ngram_range=(1, 3);, score=(train=0.577, test=0.556) total time=   1.2s\n",
      "[CV 4/5; 34/40] START modelo=KNeighborsClassifier(), modelo__n_neighbors=5, percentiles__percentile=20, preprocesamiento__BagOfWords__ngram_range=(1, 3)\n",
      "[CV 4/5; 34/40] END modelo=KNeighborsClassifier(), modelo__n_neighbors=5, percentiles__percentile=20, preprocesamiento__BagOfWords__ngram_range=(1, 3);, score=(train=0.625, test=0.471) total time=   2.0s\n",
      "[CV 5/5; 34/40] START modelo=KNeighborsClassifier(), modelo__n_neighbors=5, percentiles__percentile=20, preprocesamiento__BagOfWords__ngram_range=(1, 3)\n",
      "[CV 5/5; 34/40] END modelo=KNeighborsClassifier(), modelo__n_neighbors=5, percentiles__percentile=20, preprocesamiento__BagOfWords__ngram_range=(1, 3);, score=(train=0.611, test=0.706) total time=   1.4s\n",
      "[CV 1/5; 35/40] START modelo=RandomForestClassifier(random_state=0), modelo__max_depth=2, percentiles__percentile=60, preprocesamiento__BagOfWords__ngram_range=(1, 3)\n"
     ]
    },
    {
     "name": "stderr",
     "output_type": "stream",
     "text": [
      "C:\\Users\\Felipe\\anaconda3\\lib\\site-packages\\sklearn\\feature_selection\\_univariate_selection.py:113: RuntimeWarning: divide by zero encountered in true_divide\n",
      "  f = msb / msw\n"
     ]
    },
    {
     "name": "stdout",
     "output_type": "stream",
     "text": [
      "[CV 1/5; 35/40] END modelo=RandomForestClassifier(random_state=0), modelo__max_depth=2, percentiles__percentile=60, preprocesamiento__BagOfWords__ngram_range=(1, 3);, score=(train=0.845, test=0.500) total time=   1.8s\n",
      "[CV 2/5; 35/40] START modelo=RandomForestClassifier(random_state=0), modelo__max_depth=2, percentiles__percentile=60, preprocesamiento__BagOfWords__ngram_range=(1, 3)\n",
      "[CV 2/5; 35/40] END modelo=RandomForestClassifier(random_state=0), modelo__max_depth=2, percentiles__percentile=60, preprocesamiento__BagOfWords__ngram_range=(1, 3);, score=(train=0.577, test=0.389) total time=   1.5s\n",
      "[CV 3/5; 35/40] START modelo=RandomForestClassifier(random_state=0), modelo__max_depth=2, percentiles__percentile=60, preprocesamiento__BagOfWords__ngram_range=(1, 3)\n",
      "[CV 3/5; 35/40] END modelo=RandomForestClassifier(random_state=0), modelo__max_depth=2, percentiles__percentile=60, preprocesamiento__BagOfWords__ngram_range=(1, 3);, score=(train=0.577, test=0.556) total time=   1.4s\n",
      "[CV 4/5; 35/40] START modelo=RandomForestClassifier(random_state=0), modelo__max_depth=2, percentiles__percentile=60, preprocesamiento__BagOfWords__ngram_range=(1, 3)\n",
      "[CV 4/5; 35/40] END modelo=RandomForestClassifier(random_state=0), modelo__max_depth=2, percentiles__percentile=60, preprocesamiento__BagOfWords__ngram_range=(1, 3);, score=(train=0.667, test=0.471) total time=   2.5s\n",
      "[CV 5/5; 35/40] START modelo=RandomForestClassifier(random_state=0), modelo__max_depth=2, percentiles__percentile=60, preprocesamiento__BagOfWords__ngram_range=(1, 3)\n",
      "[CV 5/5; 35/40] END modelo=RandomForestClassifier(random_state=0), modelo__max_depth=2, percentiles__percentile=60, preprocesamiento__BagOfWords__ngram_range=(1, 3);, score=(train=0.611, test=0.706) total time=   1.6s\n",
      "[CV 1/5; 36/40] START modelo=KNeighborsClassifier(), modelo__n_neighbors=6, percentiles__percentile=80, preprocesamiento__BagOfWords__ngram_range=(1, 2)\n"
     ]
    },
    {
     "name": "stderr",
     "output_type": "stream",
     "text": [
      "C:\\Users\\Felipe\\anaconda3\\lib\\site-packages\\sklearn\\feature_selection\\_univariate_selection.py:113: RuntimeWarning: divide by zero encountered in true_divide\n",
      "  f = msb / msw\n"
     ]
    },
    {
     "name": "stdout",
     "output_type": "stream",
     "text": [
      "[CV 1/5; 36/40] END modelo=KNeighborsClassifier(), modelo__n_neighbors=6, percentiles__percentile=80, preprocesamiento__BagOfWords__ngram_range=(1, 2);, score=(train=0.620, test=0.444) total time=   1.5s\n",
      "[CV 2/5; 36/40] START modelo=KNeighborsClassifier(), modelo__n_neighbors=6, percentiles__percentile=80, preprocesamiento__BagOfWords__ngram_range=(1, 2)\n",
      "[CV 2/5; 36/40] END modelo=KNeighborsClassifier(), modelo__n_neighbors=6, percentiles__percentile=80, preprocesamiento__BagOfWords__ngram_range=(1, 2);, score=(train=0.648, test=0.389) total time=   1.2s\n",
      "[CV 3/5; 36/40] START modelo=KNeighborsClassifier(), modelo__n_neighbors=6, percentiles__percentile=80, preprocesamiento__BagOfWords__ngram_range=(1, 2)\n",
      "[CV 3/5; 36/40] END modelo=KNeighborsClassifier(), modelo__n_neighbors=6, percentiles__percentile=80, preprocesamiento__BagOfWords__ngram_range=(1, 2);, score=(train=0.648, test=0.389) total time=   1.1s\n",
      "[CV 4/5; 36/40] START modelo=KNeighborsClassifier(), modelo__n_neighbors=6, percentiles__percentile=80, preprocesamiento__BagOfWords__ngram_range=(1, 2)\n",
      "[CV 4/5; 36/40] END modelo=KNeighborsClassifier(), modelo__n_neighbors=6, percentiles__percentile=80, preprocesamiento__BagOfWords__ngram_range=(1, 2);, score=(train=0.653, test=0.471) total time=   1.5s\n",
      "[CV 5/5; 36/40] START modelo=KNeighborsClassifier(), modelo__n_neighbors=6, percentiles__percentile=80, preprocesamiento__BagOfWords__ngram_range=(1, 2)\n",
      "[CV 5/5; 36/40] END modelo=KNeighborsClassifier(), modelo__n_neighbors=6, percentiles__percentile=80, preprocesamiento__BagOfWords__ngram_range=(1, 2);, score=(train=0.736, test=0.647) total time=   1.5s\n",
      "[CV 1/5; 37/40] START modelo=KNeighborsClassifier(), modelo__n_neighbors=6, percentiles__percentile=60, preprocesamiento__BagOfWords__ngram_range=(1, 2)\n"
     ]
    },
    {
     "name": "stderr",
     "output_type": "stream",
     "text": [
      "C:\\Users\\Felipe\\anaconda3\\lib\\site-packages\\sklearn\\feature_selection\\_univariate_selection.py:113: RuntimeWarning: divide by zero encountered in true_divide\n",
      "  f = msb / msw\n"
     ]
    },
    {
     "name": "stdout",
     "output_type": "stream",
     "text": [
      "[CV 1/5; 37/40] END modelo=KNeighborsClassifier(), modelo__n_neighbors=6, percentiles__percentile=60, preprocesamiento__BagOfWords__ngram_range=(1, 2);, score=(train=0.535, test=0.500) total time=   1.6s\n",
      "[CV 2/5; 37/40] START modelo=KNeighborsClassifier(), modelo__n_neighbors=6, percentiles__percentile=60, preprocesamiento__BagOfWords__ngram_range=(1, 2)\n",
      "[CV 2/5; 37/40] END modelo=KNeighborsClassifier(), modelo__n_neighbors=6, percentiles__percentile=60, preprocesamiento__BagOfWords__ngram_range=(1, 2);, score=(train=0.592, test=0.389) total time=   1.3s\n",
      "[CV 3/5; 37/40] START modelo=KNeighborsClassifier(), modelo__n_neighbors=6, percentiles__percentile=60, preprocesamiento__BagOfWords__ngram_range=(1, 2)\n",
      "[CV 3/5; 37/40] END modelo=KNeighborsClassifier(), modelo__n_neighbors=6, percentiles__percentile=60, preprocesamiento__BagOfWords__ngram_range=(1, 2);, score=(train=0.676, test=0.500) total time=   1.1s\n",
      "[CV 4/5; 37/40] START modelo=KNeighborsClassifier(), modelo__n_neighbors=6, percentiles__percentile=60, preprocesamiento__BagOfWords__ngram_range=(1, 2)\n",
      "[CV 4/5; 37/40] END modelo=KNeighborsClassifier(), modelo__n_neighbors=6, percentiles__percentile=60, preprocesamiento__BagOfWords__ngram_range=(1, 2);, score=(train=0.653, test=0.471) total time=   1.5s\n",
      "[CV 5/5; 37/40] START modelo=KNeighborsClassifier(), modelo__n_neighbors=6, percentiles__percentile=60, preprocesamiento__BagOfWords__ngram_range=(1, 2)\n",
      "[CV 5/5; 37/40] END modelo=KNeighborsClassifier(), modelo__n_neighbors=6, percentiles__percentile=60, preprocesamiento__BagOfWords__ngram_range=(1, 2);, score=(train=0.708, test=0.706) total time=   1.5s\n",
      "[CV 1/5; 38/40] START modelo=KNeighborsClassifier(), modelo__n_neighbors=6, percentiles__percentile=60, preprocesamiento__BagOfWords__ngram_range=(1, 3)\n"
     ]
    },
    {
     "name": "stderr",
     "output_type": "stream",
     "text": [
      "C:\\Users\\Felipe\\anaconda3\\lib\\site-packages\\sklearn\\feature_selection\\_univariate_selection.py:113: RuntimeWarning: divide by zero encountered in true_divide\n",
      "  f = msb / msw\n"
     ]
    },
    {
     "name": "stdout",
     "output_type": "stream",
     "text": [
      "[CV 1/5; 38/40] END modelo=KNeighborsClassifier(), modelo__n_neighbors=6, percentiles__percentile=60, preprocesamiento__BagOfWords__ngram_range=(1, 3);, score=(train=0.549, test=0.556) total time=   1.8s\n",
      "[CV 2/5; 38/40] START modelo=KNeighborsClassifier(), modelo__n_neighbors=6, percentiles__percentile=60, preprocesamiento__BagOfWords__ngram_range=(1, 3)\n",
      "[CV 2/5; 38/40] END modelo=KNeighborsClassifier(), modelo__n_neighbors=6, percentiles__percentile=60, preprocesamiento__BagOfWords__ngram_range=(1, 3);, score=(train=0.563, test=0.389) total time=   1.4s\n",
      "[CV 3/5; 38/40] START modelo=KNeighborsClassifier(), modelo__n_neighbors=6, percentiles__percentile=60, preprocesamiento__BagOfWords__ngram_range=(1, 3)\n",
      "[CV 3/5; 38/40] END modelo=KNeighborsClassifier(), modelo__n_neighbors=6, percentiles__percentile=60, preprocesamiento__BagOfWords__ngram_range=(1, 3);, score=(train=0.718, test=0.556) total time=   1.2s\n",
      "[CV 4/5; 38/40] START modelo=KNeighborsClassifier(), modelo__n_neighbors=6, percentiles__percentile=60, preprocesamiento__BagOfWords__ngram_range=(1, 3)\n",
      "[CV 4/5; 38/40] END modelo=KNeighborsClassifier(), modelo__n_neighbors=6, percentiles__percentile=60, preprocesamiento__BagOfWords__ngram_range=(1, 3);, score=(train=0.653, test=0.471) total time=   1.6s\n",
      "[CV 5/5; 38/40] START modelo=KNeighborsClassifier(), modelo__n_neighbors=6, percentiles__percentile=60, preprocesamiento__BagOfWords__ngram_range=(1, 3)\n",
      "[CV 5/5; 38/40] END modelo=KNeighborsClassifier(), modelo__n_neighbors=6, percentiles__percentile=60, preprocesamiento__BagOfWords__ngram_range=(1, 3);, score=(train=0.694, test=0.706) total time=   1.4s\n",
      "[CV 1/5; 39/40] START modelo=KNeighborsClassifier(), modelo__n_neighbors=4, percentiles__percentile=20, preprocesamiento__BagOfWords__ngram_range=(1, 1)\n"
     ]
    },
    {
     "name": "stderr",
     "output_type": "stream",
     "text": [
      "C:\\Users\\Felipe\\anaconda3\\lib\\site-packages\\sklearn\\feature_selection\\_univariate_selection.py:113: RuntimeWarning: divide by zero encountered in true_divide\n",
      "  f = msb / msw\n"
     ]
    },
    {
     "name": "stdout",
     "output_type": "stream",
     "text": [
      "[CV 1/5; 39/40] END modelo=KNeighborsClassifier(), modelo__n_neighbors=4, percentiles__percentile=20, preprocesamiento__BagOfWords__ngram_range=(1, 1);, score=(train=0.690, test=0.556) total time=   2.3s\n",
      "[CV 2/5; 39/40] START modelo=KNeighborsClassifier(), modelo__n_neighbors=4, percentiles__percentile=20, preprocesamiento__BagOfWords__ngram_range=(1, 1)\n",
      "[CV 2/5; 39/40] END modelo=KNeighborsClassifier(), modelo__n_neighbors=4, percentiles__percentile=20, preprocesamiento__BagOfWords__ngram_range=(1, 1);, score=(train=0.620, test=0.500) total time=   1.2s\n",
      "[CV 3/5; 39/40] START modelo=KNeighborsClassifier(), modelo__n_neighbors=4, percentiles__percentile=20, preprocesamiento__BagOfWords__ngram_range=(1, 1)\n",
      "[CV 3/5; 39/40] END modelo=KNeighborsClassifier(), modelo__n_neighbors=4, percentiles__percentile=20, preprocesamiento__BagOfWords__ngram_range=(1, 1);, score=(train=0.676, test=0.278) total time=   1.2s\n",
      "[CV 4/5; 39/40] START modelo=KNeighborsClassifier(), modelo__n_neighbors=4, percentiles__percentile=20, preprocesamiento__BagOfWords__ngram_range=(1, 1)\n",
      "[CV 4/5; 39/40] END modelo=KNeighborsClassifier(), modelo__n_neighbors=4, percentiles__percentile=20, preprocesamiento__BagOfWords__ngram_range=(1, 1);, score=(train=0.681, test=0.471) total time=   1.4s\n",
      "[CV 5/5; 39/40] START modelo=KNeighborsClassifier(), modelo__n_neighbors=4, percentiles__percentile=20, preprocesamiento__BagOfWords__ngram_range=(1, 1)\n",
      "[CV 5/5; 39/40] END modelo=KNeighborsClassifier(), modelo__n_neighbors=4, percentiles__percentile=20, preprocesamiento__BagOfWords__ngram_range=(1, 1);, score=(train=0.653, test=0.706) total time=   1.2s\n",
      "[CV 1/5; 40/40] START modelo=KNeighborsClassifier(), modelo__n_neighbors=6, percentiles__percentile=80, preprocesamiento__BagOfWords__ngram_range=(1, 3)\n"
     ]
    },
    {
     "name": "stderr",
     "output_type": "stream",
     "text": [
      "C:\\Users\\Felipe\\anaconda3\\lib\\site-packages\\sklearn\\feature_selection\\_univariate_selection.py:113: RuntimeWarning: divide by zero encountered in true_divide\n",
      "  f = msb / msw\n"
     ]
    },
    {
     "name": "stdout",
     "output_type": "stream",
     "text": [
      "[CV 1/5; 40/40] END modelo=KNeighborsClassifier(), modelo__n_neighbors=6, percentiles__percentile=80, preprocesamiento__BagOfWords__ngram_range=(1, 3);, score=(train=0.535, test=0.500) total time=   1.6s\n",
      "[CV 2/5; 40/40] START modelo=KNeighborsClassifier(), modelo__n_neighbors=6, percentiles__percentile=80, preprocesamiento__BagOfWords__ngram_range=(1, 3)\n",
      "[CV 2/5; 40/40] END modelo=KNeighborsClassifier(), modelo__n_neighbors=6, percentiles__percentile=80, preprocesamiento__BagOfWords__ngram_range=(1, 3);, score=(train=0.620, test=0.389) total time=   2.1s\n",
      "[CV 3/5; 40/40] START modelo=KNeighborsClassifier(), modelo__n_neighbors=6, percentiles__percentile=80, preprocesamiento__BagOfWords__ngram_range=(1, 3)\n",
      "[CV 3/5; 40/40] END modelo=KNeighborsClassifier(), modelo__n_neighbors=6, percentiles__percentile=80, preprocesamiento__BagOfWords__ngram_range=(1, 3);, score=(train=0.648, test=0.389) total time=   1.2s\n",
      "[CV 4/5; 40/40] START modelo=KNeighborsClassifier(), modelo__n_neighbors=6, percentiles__percentile=80, preprocesamiento__BagOfWords__ngram_range=(1, 3)\n",
      "[CV 4/5; 40/40] END modelo=KNeighborsClassifier(), modelo__n_neighbors=6, percentiles__percentile=80, preprocesamiento__BagOfWords__ngram_range=(1, 3);, score=(train=0.653, test=0.471) total time=   1.7s\n",
      "[CV 5/5; 40/40] START modelo=KNeighborsClassifier(), modelo__n_neighbors=6, percentiles__percentile=80, preprocesamiento__BagOfWords__ngram_range=(1, 3)\n",
      "[CV 5/5; 40/40] END modelo=KNeighborsClassifier(), modelo__n_neighbors=6, percentiles__percentile=80, preprocesamiento__BagOfWords__ngram_range=(1, 3);, score=(train=0.736, test=0.706) total time=   1.4s\n",
      "----------\n",
      "iter: 2\n",
      "n_candidates: 14\n",
      "n_resources: 270\n",
      "Fitting 5 folds for each of 14 candidates, totalling 70 fits\n",
      "[CV 1/5; 1/14] START modelo=KNeighborsClassifier(), modelo__n_neighbors=6, percentiles__percentile=60, preprocesamiento__BagOfWords__ngram_range=(1, 3)\n",
      "[CV 1/5; 1/14] END modelo=KNeighborsClassifier(), modelo__n_neighbors=6, percentiles__percentile=60, preprocesamiento__BagOfWords__ngram_range=(1, 3);, score=(train=0.628, test=0.556) total time=   4.6s\n",
      "[CV 2/5; 1/14] START modelo=KNeighborsClassifier(), modelo__n_neighbors=6, percentiles__percentile=60, preprocesamiento__BagOfWords__ngram_range=(1, 3)\n",
      "[CV 2/5; 1/14] END modelo=KNeighborsClassifier(), modelo__n_neighbors=6, percentiles__percentile=60, preprocesamiento__BagOfWords__ngram_range=(1, 3);, score=(train=0.577, test=0.556) total time=   5.6s\n",
      "[CV 3/5; 1/14] START modelo=KNeighborsClassifier(), modelo__n_neighbors=6, percentiles__percentile=60, preprocesamiento__BagOfWords__ngram_range=(1, 3)\n",
      "[CV 3/5; 1/14] END modelo=KNeighborsClassifier(), modelo__n_neighbors=6, percentiles__percentile=60, preprocesamiento__BagOfWords__ngram_range=(1, 3);, score=(train=0.591, test=0.500) total time=   5.6s\n",
      "[CV 4/5; 1/14] START modelo=KNeighborsClassifier(), modelo__n_neighbors=6, percentiles__percentile=60, preprocesamiento__BagOfWords__ngram_range=(1, 3)\n",
      "[CV 4/5; 1/14] END modelo=KNeighborsClassifier(), modelo__n_neighbors=6, percentiles__percentile=60, preprocesamiento__BagOfWords__ngram_range=(1, 3);, score=(train=0.583, test=0.585) total time=   5.6s\n",
      "[CV 5/5; 1/14] START modelo=KNeighborsClassifier(), modelo__n_neighbors=6, percentiles__percentile=60, preprocesamiento__BagOfWords__ngram_range=(1, 3)\n",
      "[CV 5/5; 1/14] END modelo=KNeighborsClassifier(), modelo__n_neighbors=6, percentiles__percentile=60, preprocesamiento__BagOfWords__ngram_range=(1, 3);, score=(train=0.630, test=0.585) total time=   5.0s\n",
      "[CV 1/5; 2/14] START modelo=RandomForestClassifier(random_state=0), modelo__max_depth=2, percentiles__percentile=20, preprocesamiento__BagOfWords__ngram_range=(1, 2)\n",
      "[CV 1/5; 2/14] END modelo=RandomForestClassifier(random_state=0), modelo__max_depth=2, percentiles__percentile=20, preprocesamiento__BagOfWords__ngram_range=(1, 2);, score=(train=0.600, test=0.556) total time=   4.3s\n",
      "[CV 2/5; 2/14] START modelo=RandomForestClassifier(random_state=0), modelo__max_depth=2, percentiles__percentile=20, preprocesamiento__BagOfWords__ngram_range=(1, 2)\n",
      "[CV 2/5; 2/14] END modelo=RandomForestClassifier(random_state=0), modelo__max_depth=2, percentiles__percentile=20, preprocesamiento__BagOfWords__ngram_range=(1, 2);, score=(train=0.577, test=0.556) total time=   5.1s\n",
      "[CV 3/5; 2/14] START modelo=RandomForestClassifier(random_state=0), modelo__max_depth=2, percentiles__percentile=20, preprocesamiento__BagOfWords__ngram_range=(1, 2)\n",
      "[CV 3/5; 2/14] END modelo=RandomForestClassifier(random_state=0), modelo__max_depth=2, percentiles__percentile=20, preprocesamiento__BagOfWords__ngram_range=(1, 2);, score=(train=0.563, test=0.500) total time=   5.1s\n",
      "[CV 4/5; 2/14] START modelo=RandomForestClassifier(random_state=0), modelo__max_depth=2, percentiles__percentile=20, preprocesamiento__BagOfWords__ngram_range=(1, 2)\n",
      "[CV 4/5; 2/14] END modelo=RandomForestClassifier(random_state=0), modelo__max_depth=2, percentiles__percentile=20, preprocesamiento__BagOfWords__ngram_range=(1, 2);, score=(train=0.597, test=0.585) total time=   5.4s\n",
      "[CV 5/5; 2/14] START modelo=RandomForestClassifier(random_state=0), modelo__max_depth=2, percentiles__percentile=20, preprocesamiento__BagOfWords__ngram_range=(1, 2)\n",
      "[CV 5/5; 2/14] END modelo=RandomForestClassifier(random_state=0), modelo__max_depth=2, percentiles__percentile=20, preprocesamiento__BagOfWords__ngram_range=(1, 2);, score=(train=0.588, test=0.585) total time=   5.3s\n",
      "[CV 1/5; 3/14] START modelo=KNeighborsClassifier(), modelo__n_neighbors=6, percentiles__percentile=20, preprocesamiento__BagOfWords__ngram_range=(1, 2)\n",
      "[CV 1/5; 3/14] END modelo=KNeighborsClassifier(), modelo__n_neighbors=6, percentiles__percentile=20, preprocesamiento__BagOfWords__ngram_range=(1, 2);, score=(train=0.623, test=0.556) total time=   4.1s\n",
      "[CV 2/5; 3/14] START modelo=KNeighborsClassifier(), modelo__n_neighbors=6, percentiles__percentile=20, preprocesamiento__BagOfWords__ngram_range=(1, 2)\n",
      "[CV 2/5; 3/14] END modelo=KNeighborsClassifier(), modelo__n_neighbors=6, percentiles__percentile=20, preprocesamiento__BagOfWords__ngram_range=(1, 2);, score=(train=0.600, test=0.556) total time=   5.8s\n",
      "[CV 3/5; 3/14] START modelo=KNeighborsClassifier(), modelo__n_neighbors=6, percentiles__percentile=20, preprocesamiento__BagOfWords__ngram_range=(1, 2)\n",
      "[CV 3/5; 3/14] END modelo=KNeighborsClassifier(), modelo__n_neighbors=6, percentiles__percentile=20, preprocesamiento__BagOfWords__ngram_range=(1, 2);, score=(train=0.586, test=0.500) total time=   4.3s\n",
      "[CV 4/5; 3/14] START modelo=KNeighborsClassifier(), modelo__n_neighbors=6, percentiles__percentile=20, preprocesamiento__BagOfWords__ngram_range=(1, 2)\n",
      "[CV 4/5; 3/14] END modelo=KNeighborsClassifier(), modelo__n_neighbors=6, percentiles__percentile=20, preprocesamiento__BagOfWords__ngram_range=(1, 2);, score=(train=0.606, test=0.566) total time=   5.1s\n",
      "[CV 5/5; 3/14] START modelo=KNeighborsClassifier(), modelo__n_neighbors=6, percentiles__percentile=20, preprocesamiento__BagOfWords__ngram_range=(1, 2)\n",
      "[CV 5/5; 3/14] END modelo=KNeighborsClassifier(), modelo__n_neighbors=6, percentiles__percentile=20, preprocesamiento__BagOfWords__ngram_range=(1, 2);, score=(train=0.630, test=0.566) total time=   4.6s\n",
      "[CV 1/5; 4/14] START modelo=KNeighborsClassifier(), modelo__n_neighbors=3, percentiles__percentile=20, preprocesamiento__BagOfWords__ngram_range=(1, 2)\n",
      "[CV 1/5; 4/14] END modelo=KNeighborsClassifier(), modelo__n_neighbors=3, percentiles__percentile=20, preprocesamiento__BagOfWords__ngram_range=(1, 2);, score=(train=0.665, test=0.537) total time=   4.2s\n",
      "[CV 2/5; 4/14] START modelo=KNeighborsClassifier(), modelo__n_neighbors=3, percentiles__percentile=20, preprocesamiento__BagOfWords__ngram_range=(1, 2)\n",
      "[CV 2/5; 4/14] END modelo=KNeighborsClassifier(), modelo__n_neighbors=3, percentiles__percentile=20, preprocesamiento__BagOfWords__ngram_range=(1, 2);, score=(train=0.623, test=0.519) total time=   5.3s\n",
      "[CV 3/5; 4/14] START modelo=KNeighborsClassifier(), modelo__n_neighbors=3, percentiles__percentile=20, preprocesamiento__BagOfWords__ngram_range=(1, 2)\n",
      "[CV 3/5; 4/14] END modelo=KNeighborsClassifier(), modelo__n_neighbors=3, percentiles__percentile=20, preprocesamiento__BagOfWords__ngram_range=(1, 2);, score=(train=0.623, test=0.500) total time=   4.3s\n",
      "[CV 4/5; 4/14] START modelo=KNeighborsClassifier(), modelo__n_neighbors=3, percentiles__percentile=20, preprocesamiento__BagOfWords__ngram_range=(1, 2)\n"
     ]
    },
    {
     "name": "stdout",
     "output_type": "stream",
     "text": [
      "[CV 4/5; 4/14] END modelo=KNeighborsClassifier(), modelo__n_neighbors=3, percentiles__percentile=20, preprocesamiento__BagOfWords__ngram_range=(1, 2);, score=(train=0.606, test=0.585) total time=   5.7s\n",
      "[CV 5/5; 4/14] START modelo=KNeighborsClassifier(), modelo__n_neighbors=3, percentiles__percentile=20, preprocesamiento__BagOfWords__ngram_range=(1, 2)\n",
      "[CV 5/5; 4/14] END modelo=KNeighborsClassifier(), modelo__n_neighbors=3, percentiles__percentile=20, preprocesamiento__BagOfWords__ngram_range=(1, 2);, score=(train=0.634, test=0.585) total time=   4.5s\n",
      "[CV 1/5; 5/14] START modelo=RandomForestClassifier(random_state=0), modelo__max_depth=6, percentiles__percentile=80, preprocesamiento__BagOfWords__ngram_range=(1, 2)\n",
      "[CV 1/5; 5/14] END modelo=RandomForestClassifier(random_state=0), modelo__max_depth=6, percentiles__percentile=80, preprocesamiento__BagOfWords__ngram_range=(1, 2);, score=(train=0.628, test=0.556) total time=   5.0s\n",
      "[CV 2/5; 5/14] START modelo=RandomForestClassifier(random_state=0), modelo__max_depth=6, percentiles__percentile=80, preprocesamiento__BagOfWords__ngram_range=(1, 2)\n",
      "[CV 2/5; 5/14] END modelo=RandomForestClassifier(random_state=0), modelo__max_depth=6, percentiles__percentile=80, preprocesamiento__BagOfWords__ngram_range=(1, 2);, score=(train=0.623, test=0.556) total time=   5.2s\n",
      "[CV 3/5; 5/14] START modelo=RandomForestClassifier(random_state=0), modelo__max_depth=6, percentiles__percentile=80, preprocesamiento__BagOfWords__ngram_range=(1, 2)\n",
      "[CV 3/5; 5/14] END modelo=RandomForestClassifier(random_state=0), modelo__max_depth=6, percentiles__percentile=80, preprocesamiento__BagOfWords__ngram_range=(1, 2);, score=(train=0.614, test=0.500) total time=   4.8s\n",
      "[CV 4/5; 5/14] START modelo=RandomForestClassifier(random_state=0), modelo__max_depth=6, percentiles__percentile=80, preprocesamiento__BagOfWords__ngram_range=(1, 2)\n",
      "[CV 4/5; 5/14] END modelo=RandomForestClassifier(random_state=0), modelo__max_depth=6, percentiles__percentile=80, preprocesamiento__BagOfWords__ngram_range=(1, 2);, score=(train=0.685, test=0.585) total time=   5.3s\n",
      "[CV 5/5; 5/14] START modelo=RandomForestClassifier(random_state=0), modelo__max_depth=6, percentiles__percentile=80, preprocesamiento__BagOfWords__ngram_range=(1, 2)\n",
      "[CV 5/5; 5/14] END modelo=RandomForestClassifier(random_state=0), modelo__max_depth=6, percentiles__percentile=80, preprocesamiento__BagOfWords__ngram_range=(1, 2);, score=(train=0.634, test=0.585) total time=   4.8s\n",
      "[CV 1/5; 6/14] START modelo=KNeighborsClassifier(), modelo__n_neighbors=5, percentiles__percentile=20, preprocesamiento__BagOfWords__ngram_range=(1, 3)\n",
      "[CV 1/5; 6/14] END modelo=KNeighborsClassifier(), modelo__n_neighbors=5, percentiles__percentile=20, preprocesamiento__BagOfWords__ngram_range=(1, 3);, score=(train=0.614, test=0.556) total time=   5.2s\n",
      "[CV 2/5; 6/14] START modelo=KNeighborsClassifier(), modelo__n_neighbors=5, percentiles__percentile=20, preprocesamiento__BagOfWords__ngram_range=(1, 3)\n",
      "[CV 2/5; 6/14] END modelo=KNeighborsClassifier(), modelo__n_neighbors=5, percentiles__percentile=20, preprocesamiento__BagOfWords__ngram_range=(1, 3);, score=(train=0.577, test=0.556) total time=   5.6s\n",
      "[CV 3/5; 6/14] START modelo=KNeighborsClassifier(), modelo__n_neighbors=5, percentiles__percentile=20, preprocesamiento__BagOfWords__ngram_range=(1, 3)\n",
      "[CV 3/5; 6/14] END modelo=KNeighborsClassifier(), modelo__n_neighbors=5, percentiles__percentile=20, preprocesamiento__BagOfWords__ngram_range=(1, 3);, score=(train=0.563, test=0.500) total time=   5.5s\n",
      "[CV 4/5; 6/14] START modelo=KNeighborsClassifier(), modelo__n_neighbors=5, percentiles__percentile=20, preprocesamiento__BagOfWords__ngram_range=(1, 3)\n",
      "[CV 4/5; 6/14] END modelo=KNeighborsClassifier(), modelo__n_neighbors=5, percentiles__percentile=20, preprocesamiento__BagOfWords__ngram_range=(1, 3);, score=(train=0.588, test=0.566) total time=   5.6s\n",
      "[CV 5/5; 6/14] START modelo=KNeighborsClassifier(), modelo__n_neighbors=5, percentiles__percentile=20, preprocesamiento__BagOfWords__ngram_range=(1, 3)\n",
      "[CV 5/5; 6/14] END modelo=KNeighborsClassifier(), modelo__n_neighbors=5, percentiles__percentile=20, preprocesamiento__BagOfWords__ngram_range=(1, 3);, score=(train=0.593, test=0.585) total time=   5.0s\n",
      "[CV 1/5; 7/14] START modelo=KNeighborsClassifier(), modelo__n_neighbors=3, percentiles__percentile=40, preprocesamiento__BagOfWords__ngram_range=(1, 3)\n",
      "[CV 1/5; 7/14] END modelo=KNeighborsClassifier(), modelo__n_neighbors=3, percentiles__percentile=40, preprocesamiento__BagOfWords__ngram_range=(1, 3);, score=(train=0.600, test=0.556) total time=   5.0s\n",
      "[CV 2/5; 7/14] START modelo=KNeighborsClassifier(), modelo__n_neighbors=3, percentiles__percentile=40, preprocesamiento__BagOfWords__ngram_range=(1, 3)\n",
      "[CV 2/5; 7/14] END modelo=KNeighborsClassifier(), modelo__n_neighbors=3, percentiles__percentile=40, preprocesamiento__BagOfWords__ngram_range=(1, 3);, score=(train=0.581, test=0.556) total time=   5.8s\n",
      "[CV 3/5; 7/14] START modelo=KNeighborsClassifier(), modelo__n_neighbors=3, percentiles__percentile=40, preprocesamiento__BagOfWords__ngram_range=(1, 3)\n",
      "[CV 3/5; 7/14] END modelo=KNeighborsClassifier(), modelo__n_neighbors=3, percentiles__percentile=40, preprocesamiento__BagOfWords__ngram_range=(1, 3);, score=(train=0.563, test=0.500) total time=   5.7s\n",
      "[CV 4/5; 7/14] START modelo=KNeighborsClassifier(), modelo__n_neighbors=3, percentiles__percentile=40, preprocesamiento__BagOfWords__ngram_range=(1, 3)\n",
      "[CV 4/5; 7/14] END modelo=KNeighborsClassifier(), modelo__n_neighbors=3, percentiles__percentile=40, preprocesamiento__BagOfWords__ngram_range=(1, 3);, score=(train=0.583, test=0.585) total time=   5.5s\n",
      "[CV 5/5; 7/14] START modelo=KNeighborsClassifier(), modelo__n_neighbors=3, percentiles__percentile=40, preprocesamiento__BagOfWords__ngram_range=(1, 3)\n",
      "[CV 5/5; 7/14] END modelo=KNeighborsClassifier(), modelo__n_neighbors=3, percentiles__percentile=40, preprocesamiento__BagOfWords__ngram_range=(1, 3);, score=(train=0.588, test=0.585) total time=   4.9s\n",
      "[CV 1/5; 8/14] START modelo=KNeighborsClassifier(), modelo__n_neighbors=6, percentiles__percentile=40, preprocesamiento__BagOfWords__ngram_range=(1, 3)\n",
      "[CV 1/5; 8/14] END modelo=KNeighborsClassifier(), modelo__n_neighbors=6, percentiles__percentile=40, preprocesamiento__BagOfWords__ngram_range=(1, 3);, score=(train=0.600, test=0.556) total time=   4.7s\n",
      "[CV 2/5; 8/14] START modelo=KNeighborsClassifier(), modelo__n_neighbors=6, percentiles__percentile=40, preprocesamiento__BagOfWords__ngram_range=(1, 3)\n",
      "[CV 2/5; 8/14] END modelo=KNeighborsClassifier(), modelo__n_neighbors=6, percentiles__percentile=40, preprocesamiento__BagOfWords__ngram_range=(1, 3);, score=(train=0.577, test=0.556) total time=   5.5s\n",
      "[CV 3/5; 8/14] START modelo=KNeighborsClassifier(), modelo__n_neighbors=6, percentiles__percentile=40, preprocesamiento__BagOfWords__ngram_range=(1, 3)\n",
      "[CV 3/5; 8/14] END modelo=KNeighborsClassifier(), modelo__n_neighbors=6, percentiles__percentile=40, preprocesamiento__BagOfWords__ngram_range=(1, 3);, score=(train=0.567, test=0.500) total time=   5.6s\n",
      "[CV 4/5; 8/14] START modelo=KNeighborsClassifier(), modelo__n_neighbors=6, percentiles__percentile=40, preprocesamiento__BagOfWords__ngram_range=(1, 3)\n",
      "[CV 4/5; 8/14] END modelo=KNeighborsClassifier(), modelo__n_neighbors=6, percentiles__percentile=40, preprocesamiento__BagOfWords__ngram_range=(1, 3);, score=(train=0.583, test=0.585) total time=   5.5s\n",
      "[CV 5/5; 8/14] START modelo=KNeighborsClassifier(), modelo__n_neighbors=6, percentiles__percentile=40, preprocesamiento__BagOfWords__ngram_range=(1, 3)\n",
      "[CV 5/5; 8/14] END modelo=KNeighborsClassifier(), modelo__n_neighbors=6, percentiles__percentile=40, preprocesamiento__BagOfWords__ngram_range=(1, 3);, score=(train=0.588, test=0.585) total time=   4.9s\n",
      "[CV 1/5; 9/14] START modelo=KNeighborsClassifier(), modelo__n_neighbors=3, percentiles__percentile=20, preprocesamiento__BagOfWords__ngram_range=(1, 3)\n",
      "[CV 1/5; 9/14] END modelo=KNeighborsClassifier(), modelo__n_neighbors=3, percentiles__percentile=20, preprocesamiento__BagOfWords__ngram_range=(1, 3);, score=(train=0.623, test=0.556) total time=   4.5s\n",
      "[CV 2/5; 9/14] START modelo=KNeighborsClassifier(), modelo__n_neighbors=3, percentiles__percentile=20, preprocesamiento__BagOfWords__ngram_range=(1, 3)\n"
     ]
    },
    {
     "name": "stdout",
     "output_type": "stream",
     "text": [
      "[CV 2/5; 9/14] END modelo=KNeighborsClassifier(), modelo__n_neighbors=3, percentiles__percentile=20, preprocesamiento__BagOfWords__ngram_range=(1, 3);, score=(train=0.586, test=0.556) total time=   5.6s\n",
      "[CV 3/5; 9/14] START modelo=KNeighborsClassifier(), modelo__n_neighbors=3, percentiles__percentile=20, preprocesamiento__BagOfWords__ngram_range=(1, 3)\n",
      "[CV 3/5; 9/14] END modelo=KNeighborsClassifier(), modelo__n_neighbors=3, percentiles__percentile=20, preprocesamiento__BagOfWords__ngram_range=(1, 3);, score=(train=0.577, test=0.500) total time=   5.6s\n",
      "[CV 4/5; 9/14] START modelo=KNeighborsClassifier(), modelo__n_neighbors=3, percentiles__percentile=20, preprocesamiento__BagOfWords__ngram_range=(1, 3)\n",
      "[CV 4/5; 9/14] END modelo=KNeighborsClassifier(), modelo__n_neighbors=3, percentiles__percentile=20, preprocesamiento__BagOfWords__ngram_range=(1, 3);, score=(train=0.583, test=0.585) total time=   5.6s\n",
      "[CV 5/5; 9/14] START modelo=KNeighborsClassifier(), modelo__n_neighbors=3, percentiles__percentile=20, preprocesamiento__BagOfWords__ngram_range=(1, 3)\n",
      "[CV 5/5; 9/14] END modelo=KNeighborsClassifier(), modelo__n_neighbors=3, percentiles__percentile=20, preprocesamiento__BagOfWords__ngram_range=(1, 3);, score=(train=0.597, test=0.547) total time=   5.2s\n",
      "[CV 1/5; 10/14] START modelo=KNeighborsClassifier(), modelo__n_neighbors=5, percentiles__percentile=40, preprocesamiento__BagOfWords__ngram_range=(1, 2)\n",
      "[CV 1/5; 10/14] END modelo=KNeighborsClassifier(), modelo__n_neighbors=5, percentiles__percentile=40, preprocesamiento__BagOfWords__ngram_range=(1, 2);, score=(train=0.600, test=0.556) total time=   4.1s\n",
      "[CV 2/5; 10/14] START modelo=KNeighborsClassifier(), modelo__n_neighbors=5, percentiles__percentile=40, preprocesamiento__BagOfWords__ngram_range=(1, 2)\n",
      "[CV 2/5; 10/14] END modelo=KNeighborsClassifier(), modelo__n_neighbors=5, percentiles__percentile=40, preprocesamiento__BagOfWords__ngram_range=(1, 2);, score=(train=0.577, test=0.556) total time=   5.0s\n",
      "[CV 3/5; 10/14] START modelo=KNeighborsClassifier(), modelo__n_neighbors=5, percentiles__percentile=40, preprocesamiento__BagOfWords__ngram_range=(1, 2)\n",
      "[CV 3/5; 10/14] END modelo=KNeighborsClassifier(), modelo__n_neighbors=5, percentiles__percentile=40, preprocesamiento__BagOfWords__ngram_range=(1, 2);, score=(train=0.577, test=0.500) total time=   4.6s\n",
      "[CV 4/5; 10/14] START modelo=KNeighborsClassifier(), modelo__n_neighbors=5, percentiles__percentile=40, preprocesamiento__BagOfWords__ngram_range=(1, 2)\n",
      "[CV 4/5; 10/14] END modelo=KNeighborsClassifier(), modelo__n_neighbors=5, percentiles__percentile=40, preprocesamiento__BagOfWords__ngram_range=(1, 2);, score=(train=0.583, test=0.585) total time=   5.1s\n",
      "[CV 5/5; 10/14] START modelo=KNeighborsClassifier(), modelo__n_neighbors=5, percentiles__percentile=40, preprocesamiento__BagOfWords__ngram_range=(1, 2)\n",
      "[CV 5/5; 10/14] END modelo=KNeighborsClassifier(), modelo__n_neighbors=5, percentiles__percentile=40, preprocesamiento__BagOfWords__ngram_range=(1, 2);, score=(train=0.606, test=0.566) total time=   5.1s\n",
      "[CV 1/5; 11/14] START modelo=KNeighborsClassifier(), modelo__n_neighbors=6, percentiles__percentile=20, preprocesamiento__BagOfWords__ngram_range=(1, 3)\n",
      "[CV 1/5; 11/14] END modelo=KNeighborsClassifier(), modelo__n_neighbors=6, percentiles__percentile=20, preprocesamiento__BagOfWords__ngram_range=(1, 3);, score=(train=0.614, test=0.537) total time=   4.5s\n",
      "[CV 2/5; 11/14] START modelo=KNeighborsClassifier(), modelo__n_neighbors=6, percentiles__percentile=20, preprocesamiento__BagOfWords__ngram_range=(1, 3)\n",
      "[CV 2/5; 11/14] END modelo=KNeighborsClassifier(), modelo__n_neighbors=6, percentiles__percentile=20, preprocesamiento__BagOfWords__ngram_range=(1, 3);, score=(train=0.577, test=0.556) total time=   6.3s\n",
      "[CV 3/5; 11/14] START modelo=KNeighborsClassifier(), modelo__n_neighbors=6, percentiles__percentile=20, preprocesamiento__BagOfWords__ngram_range=(1, 3)\n",
      "[CV 3/5; 11/14] END modelo=KNeighborsClassifier(), modelo__n_neighbors=6, percentiles__percentile=20, preprocesamiento__BagOfWords__ngram_range=(1, 3);, score=(train=0.563, test=0.500) total time=   4.9s\n",
      "[CV 4/5; 11/14] START modelo=KNeighborsClassifier(), modelo__n_neighbors=6, percentiles__percentile=20, preprocesamiento__BagOfWords__ngram_range=(1, 3)\n",
      "[CV 4/5; 11/14] END modelo=KNeighborsClassifier(), modelo__n_neighbors=6, percentiles__percentile=20, preprocesamiento__BagOfWords__ngram_range=(1, 3);, score=(train=0.593, test=0.566) total time=   5.7s\n",
      "[CV 5/5; 11/14] START modelo=KNeighborsClassifier(), modelo__n_neighbors=6, percentiles__percentile=20, preprocesamiento__BagOfWords__ngram_range=(1, 3)\n",
      "[CV 5/5; 11/14] END modelo=KNeighborsClassifier(), modelo__n_neighbors=6, percentiles__percentile=20, preprocesamiento__BagOfWords__ngram_range=(1, 3);, score=(train=0.593, test=0.585) total time=   6.2s\n",
      "[CV 1/5; 12/14] START modelo=KNeighborsClassifier(), modelo__n_neighbors=5, percentiles__percentile=60, preprocesamiento__BagOfWords__ngram_range=(1, 3)\n",
      "[CV 1/5; 12/14] END modelo=KNeighborsClassifier(), modelo__n_neighbors=5, percentiles__percentile=60, preprocesamiento__BagOfWords__ngram_range=(1, 3);, score=(train=0.605, test=0.556) total time=   4.6s\n",
      "[CV 2/5; 12/14] START modelo=KNeighborsClassifier(), modelo__n_neighbors=5, percentiles__percentile=60, preprocesamiento__BagOfWords__ngram_range=(1, 3)\n",
      "[CV 2/5; 12/14] END modelo=KNeighborsClassifier(), modelo__n_neighbors=5, percentiles__percentile=60, preprocesamiento__BagOfWords__ngram_range=(1, 3);, score=(train=0.577, test=0.556) total time=   6.1s\n",
      "[CV 3/5; 12/14] START modelo=KNeighborsClassifier(), modelo__n_neighbors=5, percentiles__percentile=60, preprocesamiento__BagOfWords__ngram_range=(1, 3)\n",
      "[CV 3/5; 12/14] END modelo=KNeighborsClassifier(), modelo__n_neighbors=5, percentiles__percentile=60, preprocesamiento__BagOfWords__ngram_range=(1, 3);, score=(train=0.591, test=0.500) total time=   4.9s\n",
      "[CV 4/5; 12/14] START modelo=KNeighborsClassifier(), modelo__n_neighbors=5, percentiles__percentile=60, preprocesamiento__BagOfWords__ngram_range=(1, 3)\n",
      "[CV 4/5; 12/14] END modelo=KNeighborsClassifier(), modelo__n_neighbors=5, percentiles__percentile=60, preprocesamiento__BagOfWords__ngram_range=(1, 3);, score=(train=0.583, test=0.585) total time=   5.9s\n",
      "[CV 5/5; 12/14] START modelo=KNeighborsClassifier(), modelo__n_neighbors=5, percentiles__percentile=60, preprocesamiento__BagOfWords__ngram_range=(1, 3)\n",
      "[CV 5/5; 12/14] END modelo=KNeighborsClassifier(), modelo__n_neighbors=5, percentiles__percentile=60, preprocesamiento__BagOfWords__ngram_range=(1, 3);, score=(train=0.593, test=0.585) total time=   5.7s\n",
      "[CV 1/5; 13/14] START modelo=KNeighborsClassifier(), modelo__n_neighbors=5, percentiles__percentile=40, preprocesamiento__BagOfWords__ngram_range=(1, 3)\n",
      "[CV 1/5; 13/14] END modelo=KNeighborsClassifier(), modelo__n_neighbors=5, percentiles__percentile=40, preprocesamiento__BagOfWords__ngram_range=(1, 3);, score=(train=0.600, test=0.556) total time=   4.6s\n",
      "[CV 2/5; 13/14] START modelo=KNeighborsClassifier(), modelo__n_neighbors=5, percentiles__percentile=40, preprocesamiento__BagOfWords__ngram_range=(1, 3)\n",
      "[CV 2/5; 13/14] END modelo=KNeighborsClassifier(), modelo__n_neighbors=5, percentiles__percentile=40, preprocesamiento__BagOfWords__ngram_range=(1, 3);, score=(train=0.577, test=0.556) total time=   6.3s\n",
      "[CV 3/5; 13/14] START modelo=KNeighborsClassifier(), modelo__n_neighbors=5, percentiles__percentile=40, preprocesamiento__BagOfWords__ngram_range=(1, 3)\n",
      "[CV 3/5; 13/14] END modelo=KNeighborsClassifier(), modelo__n_neighbors=5, percentiles__percentile=40, preprocesamiento__BagOfWords__ngram_range=(1, 3);, score=(train=0.567, test=0.500) total time=   4.9s\n",
      "[CV 4/5; 13/14] START modelo=KNeighborsClassifier(), modelo__n_neighbors=5, percentiles__percentile=40, preprocesamiento__BagOfWords__ngram_range=(1, 3)\n",
      "[CV 4/5; 13/14] END modelo=KNeighborsClassifier(), modelo__n_neighbors=5, percentiles__percentile=40, preprocesamiento__BagOfWords__ngram_range=(1, 3);, score=(train=0.583, test=0.585) total time=   5.6s\n",
      "[CV 5/5; 13/14] START modelo=KNeighborsClassifier(), modelo__n_neighbors=5, percentiles__percentile=40, preprocesamiento__BagOfWords__ngram_range=(1, 3)\n"
     ]
    },
    {
     "name": "stdout",
     "output_type": "stream",
     "text": [
      "[CV 5/5; 13/14] END modelo=KNeighborsClassifier(), modelo__n_neighbors=5, percentiles__percentile=40, preprocesamiento__BagOfWords__ngram_range=(1, 3);, score=(train=0.588, test=0.585) total time=   5.7s\n",
      "[CV 1/5; 14/14] START modelo=KNeighborsClassifier(), modelo__n_neighbors=6, percentiles__percentile=40, preprocesamiento__BagOfWords__ngram_range=(1, 2)\n",
      "[CV 1/5; 14/14] END modelo=KNeighborsClassifier(), modelo__n_neighbors=6, percentiles__percentile=40, preprocesamiento__BagOfWords__ngram_range=(1, 2);, score=(train=0.609, test=0.556) total time=   4.1s\n",
      "[CV 2/5; 14/14] START modelo=KNeighborsClassifier(), modelo__n_neighbors=6, percentiles__percentile=40, preprocesamiento__BagOfWords__ngram_range=(1, 2)\n",
      "[CV 2/5; 14/14] END modelo=KNeighborsClassifier(), modelo__n_neighbors=6, percentiles__percentile=40, preprocesamiento__BagOfWords__ngram_range=(1, 2);, score=(train=0.577, test=0.556) total time=   5.8s\n",
      "[CV 3/5; 14/14] START modelo=KNeighborsClassifier(), modelo__n_neighbors=6, percentiles__percentile=40, preprocesamiento__BagOfWords__ngram_range=(1, 2)\n",
      "[CV 3/5; 14/14] END modelo=KNeighborsClassifier(), modelo__n_neighbors=6, percentiles__percentile=40, preprocesamiento__BagOfWords__ngram_range=(1, 2);, score=(train=0.600, test=0.500) total time=   4.4s\n",
      "[CV 4/5; 14/14] START modelo=KNeighborsClassifier(), modelo__n_neighbors=6, percentiles__percentile=40, preprocesamiento__BagOfWords__ngram_range=(1, 2)\n",
      "[CV 4/5; 14/14] END modelo=KNeighborsClassifier(), modelo__n_neighbors=6, percentiles__percentile=40, preprocesamiento__BagOfWords__ngram_range=(1, 2);, score=(train=0.583, test=0.585) total time=   5.8s\n",
      "[CV 5/5; 14/14] START modelo=KNeighborsClassifier(), modelo__n_neighbors=6, percentiles__percentile=40, preprocesamiento__BagOfWords__ngram_range=(1, 2)\n",
      "[CV 5/5; 14/14] END modelo=KNeighborsClassifier(), modelo__n_neighbors=6, percentiles__percentile=40, preprocesamiento__BagOfWords__ngram_range=(1, 2);, score=(train=0.606, test=0.585) total time=   4.6s\n",
      "----------\n",
      "iter: 3\n",
      "n_candidates: 5\n",
      "n_resources: 810\n",
      "Fitting 5 folds for each of 5 candidates, totalling 25 fits\n",
      "[CV 1/5; 1/5] START modelo=KNeighborsClassifier(), modelo__n_neighbors=3, percentiles__percentile=40, preprocesamiento__BagOfWords__ngram_range=(1, 3)\n",
      "[CV 1/5; 1/5] END modelo=KNeighborsClassifier(), modelo__n_neighbors=3, percentiles__percentile=40, preprocesamiento__BagOfWords__ngram_range=(1, 3);, score=(train=0.589, test=0.537) total time=  16.4s\n",
      "[CV 2/5; 1/5] START modelo=KNeighborsClassifier(), modelo__n_neighbors=3, percentiles__percentile=40, preprocesamiento__BagOfWords__ngram_range=(1, 3)\n",
      "[CV 2/5; 1/5] END modelo=KNeighborsClassifier(), modelo__n_neighbors=3, percentiles__percentile=40, preprocesamiento__BagOfWords__ngram_range=(1, 3);, score=(train=0.590, test=0.543) total time=  15.8s\n",
      "[CV 3/5; 1/5] START modelo=KNeighborsClassifier(), modelo__n_neighbors=3, percentiles__percentile=40, preprocesamiento__BagOfWords__ngram_range=(1, 3)\n",
      "[CV 3/5; 1/5] END modelo=KNeighborsClassifier(), modelo__n_neighbors=3, percentiles__percentile=40, preprocesamiento__BagOfWords__ngram_range=(1, 3);, score=(train=0.600, test=0.580) total time=  15.5s\n",
      "[CV 4/5; 1/5] START modelo=KNeighborsClassifier(), modelo__n_neighbors=3, percentiles__percentile=40, preprocesamiento__BagOfWords__ngram_range=(1, 3)\n",
      "[CV 4/5; 1/5] END modelo=KNeighborsClassifier(), modelo__n_neighbors=3, percentiles__percentile=40, preprocesamiento__BagOfWords__ngram_range=(1, 3);, score=(train=0.590, test=0.596) total time=  15.8s\n",
      "[CV 5/5; 1/5] START modelo=KNeighborsClassifier(), modelo__n_neighbors=3, percentiles__percentile=40, preprocesamiento__BagOfWords__ngram_range=(1, 3)\n",
      "[CV 5/5; 1/5] END modelo=KNeighborsClassifier(), modelo__n_neighbors=3, percentiles__percentile=40, preprocesamiento__BagOfWords__ngram_range=(1, 3);, score=(train=0.569, test=0.578) total time=  16.4s\n",
      "[CV 1/5; 2/5] START modelo=KNeighborsClassifier(), modelo__n_neighbors=6, percentiles__percentile=40, preprocesamiento__BagOfWords__ngram_range=(1, 3)\n",
      "[CV 1/5; 2/5] END modelo=KNeighborsClassifier(), modelo__n_neighbors=6, percentiles__percentile=40, preprocesamiento__BagOfWords__ngram_range=(1, 3);, score=(train=0.587, test=0.543) total time=  16.4s\n",
      "[CV 2/5; 2/5] START modelo=KNeighborsClassifier(), modelo__n_neighbors=6, percentiles__percentile=40, preprocesamiento__BagOfWords__ngram_range=(1, 3)\n",
      "[CV 2/5; 2/5] END modelo=KNeighborsClassifier(), modelo__n_neighbors=6, percentiles__percentile=40, preprocesamiento__BagOfWords__ngram_range=(1, 3);, score=(train=0.578, test=0.543) total time=  15.4s\n",
      "[CV 3/5; 2/5] START modelo=KNeighborsClassifier(), modelo__n_neighbors=6, percentiles__percentile=40, preprocesamiento__BagOfWords__ngram_range=(1, 3)\n",
      "[CV 3/5; 2/5] END modelo=KNeighborsClassifier(), modelo__n_neighbors=6, percentiles__percentile=40, preprocesamiento__BagOfWords__ngram_range=(1, 3);, score=(train=0.586, test=0.580) total time=  15.6s\n",
      "[CV 4/5; 2/5] START modelo=KNeighborsClassifier(), modelo__n_neighbors=6, percentiles__percentile=40, preprocesamiento__BagOfWords__ngram_range=(1, 3)\n",
      "[CV 4/5; 2/5] END modelo=KNeighborsClassifier(), modelo__n_neighbors=6, percentiles__percentile=40, preprocesamiento__BagOfWords__ngram_range=(1, 3);, score=(train=0.585, test=0.596) total time=  16.3s\n",
      "[CV 5/5; 2/5] START modelo=KNeighborsClassifier(), modelo__n_neighbors=6, percentiles__percentile=40, preprocesamiento__BagOfWords__ngram_range=(1, 3)\n",
      "[CV 5/5; 2/5] END modelo=KNeighborsClassifier(), modelo__n_neighbors=6, percentiles__percentile=40, preprocesamiento__BagOfWords__ngram_range=(1, 3);, score=(train=0.565, test=0.578) total time=  15.7s\n",
      "[CV 1/5; 3/5] START modelo=KNeighborsClassifier(), modelo__n_neighbors=5, percentiles__percentile=60, preprocesamiento__BagOfWords__ngram_range=(1, 3)\n",
      "[CV 1/5; 3/5] END modelo=KNeighborsClassifier(), modelo__n_neighbors=5, percentiles__percentile=60, preprocesamiento__BagOfWords__ngram_range=(1, 3);, score=(train=0.597, test=0.543) total time=  16.7s\n",
      "[CV 2/5; 3/5] START modelo=KNeighborsClassifier(), modelo__n_neighbors=5, percentiles__percentile=60, preprocesamiento__BagOfWords__ngram_range=(1, 3)\n",
      "[CV 2/5; 3/5] END modelo=KNeighborsClassifier(), modelo__n_neighbors=5, percentiles__percentile=60, preprocesamiento__BagOfWords__ngram_range=(1, 3);, score=(train=0.586, test=0.543) total time=  15.3s\n",
      "[CV 3/5; 3/5] START modelo=KNeighborsClassifier(), modelo__n_neighbors=5, percentiles__percentile=60, preprocesamiento__BagOfWords__ngram_range=(1, 3)\n",
      "[CV 3/5; 3/5] END modelo=KNeighborsClassifier(), modelo__n_neighbors=5, percentiles__percentile=60, preprocesamiento__BagOfWords__ngram_range=(1, 3);, score=(train=0.586, test=0.580) total time=  15.9s\n",
      "[CV 4/5; 3/5] START modelo=KNeighborsClassifier(), modelo__n_neighbors=5, percentiles__percentile=60, preprocesamiento__BagOfWords__ngram_range=(1, 3)\n",
      "[CV 4/5; 3/5] END modelo=KNeighborsClassifier(), modelo__n_neighbors=5, percentiles__percentile=60, preprocesamiento__BagOfWords__ngram_range=(1, 3);, score=(train=0.585, test=0.596) total time=  15.7s\n",
      "[CV 5/5; 3/5] START modelo=KNeighborsClassifier(), modelo__n_neighbors=5, percentiles__percentile=60, preprocesamiento__BagOfWords__ngram_range=(1, 3)\n",
      "[CV 5/5; 3/5] END modelo=KNeighborsClassifier(), modelo__n_neighbors=5, percentiles__percentile=60, preprocesamiento__BagOfWords__ngram_range=(1, 3);, score=(train=0.571, test=0.578) total time=  15.7s\n",
      "[CV 1/5; 4/5] START modelo=KNeighborsClassifier(), modelo__n_neighbors=5, percentiles__percentile=40, preprocesamiento__BagOfWords__ngram_range=(1, 3)\n",
      "[CV 1/5; 4/5] END modelo=KNeighborsClassifier(), modelo__n_neighbors=5, percentiles__percentile=40, preprocesamiento__BagOfWords__ngram_range=(1, 3);, score=(train=0.587, test=0.543) total time=  16.4s\n",
      "[CV 2/5; 4/5] START modelo=KNeighborsClassifier(), modelo__n_neighbors=5, percentiles__percentile=40, preprocesamiento__BagOfWords__ngram_range=(1, 3)\n",
      "[CV 2/5; 4/5] END modelo=KNeighborsClassifier(), modelo__n_neighbors=5, percentiles__percentile=40, preprocesamiento__BagOfWords__ngram_range=(1, 3);, score=(train=0.577, test=0.543) total time=  15.5s\n",
      "[CV 3/5; 4/5] START modelo=KNeighborsClassifier(), modelo__n_neighbors=5, percentiles__percentile=40, preprocesamiento__BagOfWords__ngram_range=(1, 3)\n"
     ]
    },
    {
     "name": "stdout",
     "output_type": "stream",
     "text": [
      "[CV 3/5; 4/5] END modelo=KNeighborsClassifier(), modelo__n_neighbors=5, percentiles__percentile=40, preprocesamiento__BagOfWords__ngram_range=(1, 3);, score=(train=0.586, test=0.580) total time=  19.2s\n",
      "[CV 4/5; 4/5] START modelo=KNeighborsClassifier(), modelo__n_neighbors=5, percentiles__percentile=40, preprocesamiento__BagOfWords__ngram_range=(1, 3)\n",
      "[CV 4/5; 4/5] END modelo=KNeighborsClassifier(), modelo__n_neighbors=5, percentiles__percentile=40, preprocesamiento__BagOfWords__ngram_range=(1, 3);, score=(train=0.585, test=0.596) total time=  19.3s\n",
      "[CV 5/5; 4/5] START modelo=KNeighborsClassifier(), modelo__n_neighbors=5, percentiles__percentile=40, preprocesamiento__BagOfWords__ngram_range=(1, 3)\n",
      "[CV 5/5; 4/5] END modelo=KNeighborsClassifier(), modelo__n_neighbors=5, percentiles__percentile=40, preprocesamiento__BagOfWords__ngram_range=(1, 3);, score=(train=0.565, test=0.578) total time=  29.1s\n",
      "[CV 1/5; 5/5] START modelo=KNeighborsClassifier(), modelo__n_neighbors=6, percentiles__percentile=40, preprocesamiento__BagOfWords__ngram_range=(1, 2)\n",
      "[CV 1/5; 5/5] END modelo=KNeighborsClassifier(), modelo__n_neighbors=6, percentiles__percentile=40, preprocesamiento__BagOfWords__ngram_range=(1, 2);, score=(train=0.603, test=0.531) total time=  21.4s\n",
      "[CV 2/5; 5/5] START modelo=KNeighborsClassifier(), modelo__n_neighbors=6, percentiles__percentile=40, preprocesamiento__BagOfWords__ngram_range=(1, 2)\n",
      "[CV 2/5; 5/5] END modelo=KNeighborsClassifier(), modelo__n_neighbors=6, percentiles__percentile=40, preprocesamiento__BagOfWords__ngram_range=(1, 2);, score=(train=0.592, test=0.549) total time=  14.8s\n",
      "[CV 3/5; 5/5] START modelo=KNeighborsClassifier(), modelo__n_neighbors=6, percentiles__percentile=40, preprocesamiento__BagOfWords__ngram_range=(1, 2)\n",
      "[CV 3/5; 5/5] END modelo=KNeighborsClassifier(), modelo__n_neighbors=6, percentiles__percentile=40, preprocesamiento__BagOfWords__ngram_range=(1, 2);, score=(train=0.594, test=0.580) total time=  16.8s\n",
      "[CV 4/5; 5/5] START modelo=KNeighborsClassifier(), modelo__n_neighbors=6, percentiles__percentile=40, preprocesamiento__BagOfWords__ngram_range=(1, 2)\n",
      "[CV 4/5; 5/5] END modelo=KNeighborsClassifier(), modelo__n_neighbors=6, percentiles__percentile=40, preprocesamiento__BagOfWords__ngram_range=(1, 2);, score=(train=0.597, test=0.590) total time=  23.2s\n",
      "[CV 5/5; 5/5] START modelo=KNeighborsClassifier(), modelo__n_neighbors=6, percentiles__percentile=40, preprocesamiento__BagOfWords__ngram_range=(1, 2)\n",
      "[CV 5/5; 5/5] END modelo=KNeighborsClassifier(), modelo__n_neighbors=6, percentiles__percentile=40, preprocesamiento__BagOfWords__ngram_range=(1, 2);, score=(train=0.571, test=0.584) total time=  16.7s\n"
     ]
    },
    {
     "data": {
      "text/plain": [
       "HalvingGridSearchCV(estimator=Pipeline(steps=[('preprocesamiento',\n",
       "                                               ColumnTransformer(transformers=[('MinMax',\n",
       "                                                                                MinMaxScaler(),\n",
       "                                                                                ['intelligence_score',\n",
       "                                                                                 'strength_score',\n",
       "                                                                                 'speed_score',\n",
       "                                                                                 'durability_score',\n",
       "                                                                                 'power_score',\n",
       "                                                                                 'combat_score']),\n",
       "                                                                               ('BagOfWords',\n",
       "                                                                                CountVectorizer(ngram_range=(1,\n",
       "                                                                                                             2),\n",
       "                                                                                                tokenizer=<__main__.StemmerTokenizer object at 0x000001944FBF8AC0>),\n",
       "                                                                                'history_te...\n",
       "                                {'modelo': [RandomForestClassifier(random_state=0)],\n",
       "                                 'modelo__max_depth': [2, 4, 6],\n",
       "                                 'percentiles__percentile': [20, 40, 60, 80],\n",
       "                                 'preprocesamiento__BagOfWords__ngram_range': [(1,\n",
       "                                                                                1),\n",
       "                                                                               (1,\n",
       "                                                                                2),\n",
       "                                                                               (1,\n",
       "                                                                                3)]},\n",
       "                                {'modelo': [KNeighborsClassifier(n_neighbors=6)],\n",
       "                                 'modelo__n_neighbors': [2, 3, 4, 5, 6],\n",
       "                                 'percentiles__percentile': [20, 40, 60, 80],\n",
       "                                 'preprocesamiento__BagOfWords__ngram_range': [(1,\n",
       "                                                                                1),\n",
       "                                                                               (1,\n",
       "                                                                                2),\n",
       "                                                                               (1,\n",
       "                                                                                3)]}],\n",
       "                    verbose=10)"
      ]
     },
     "execution_count": 28,
     "metadata": {},
     "output_type": "execute_result"
    }
   ],
   "source": [
    "grid_model = HalvingGridSearchCV(pipeline_Grid,\n",
    "                           param_grid=params,\n",
    "                           verbose=10)\n",
    "grid_model.fit(X_train, y_train)"
   ]
  },
  {
   "cell_type": "code",
   "execution_count": 29,
   "metadata": {},
   "outputs": [],
   "source": [
    "import pickle"
   ]
  },
  {
   "cell_type": "code",
   "execution_count": 50,
   "metadata": {},
   "outputs": [
    {
     "data": {
      "text/plain": [
       "\"\\nwith open('grid_model.pickle', 'wb') as handle:\\n    pickle.dump(grid_model, handle, protocol=pickle.HIGHEST_PROTOCOL)\\n\""
      ]
     },
     "execution_count": 50,
     "metadata": {},
     "output_type": "execute_result"
    }
   ],
   "source": [
    "# Esta celda guarda el modelo en el pickle, por lo que se ha comentado.\n",
    "'''\n",
    "with open('grid_model.pickle', 'wb') as handle:\n",
    "    pickle.dump(grid_model, handle, protocol=pickle.HIGHEST_PROTOCOL)\n",
    "'''"
   ]
  },
  {
   "cell_type": "code",
   "execution_count": 31,
   "metadata": {},
   "outputs": [],
   "source": [
    "with open('grid_model.pickle', 'rb') as handle:\n",
    "    grid_model = pickle.load(handle)"
   ]
  },
  {
   "cell_type": "code",
   "execution_count": 32,
   "metadata": {},
   "outputs": [
    {
     "name": "stdout",
     "output_type": "stream",
     "text": [
      "              precision    recall  f1-score   support\n",
      "\n",
      "         Bad       0.00      0.00      0.00        86\n",
      "        Good       0.58      1.00      0.73       148\n",
      "     Neutral       0.00      0.00      0.00        23\n",
      "\n",
      "    accuracy                           0.58       257\n",
      "   macro avg       0.19      0.33      0.24       257\n",
      "weighted avg       0.33      0.58      0.42       257\n",
      "\n"
     ]
    },
    {
     "name": "stderr",
     "output_type": "stream",
     "text": [
      "C:\\Users\\Felipe\\anaconda3\\lib\\site-packages\\sklearn\\metrics\\_classification.py:1318: UndefinedMetricWarning: Precision and F-score are ill-defined and being set to 0.0 in labels with no predicted samples. Use `zero_division` parameter to control this behavior.\n",
      "  _warn_prf(average, modifier, msg_start, len(result))\n",
      "C:\\Users\\Felipe\\anaconda3\\lib\\site-packages\\sklearn\\metrics\\_classification.py:1318: UndefinedMetricWarning: Precision and F-score are ill-defined and being set to 0.0 in labels with no predicted samples. Use `zero_division` parameter to control this behavior.\n",
      "  _warn_prf(average, modifier, msg_start, len(result))\n",
      "C:\\Users\\Felipe\\anaconda3\\lib\\site-packages\\sklearn\\metrics\\_classification.py:1318: UndefinedMetricWarning: Precision and F-score are ill-defined and being set to 0.0 in labels with no predicted samples. Use `zero_division` parameter to control this behavior.\n",
      "  _warn_prf(average, modifier, msg_start, len(result))\n"
     ]
    }
   ],
   "source": [
    "y_pred = grid_model.predict(X_test)\n",
    "print(classification_report(y_test, y_pred))"
   ]
  },
  {
   "cell_type": "code",
   "execution_count": 33,
   "metadata": {},
   "outputs": [
    {
     "data": {
      "text/html": [
       "<div>\n",
       "<style scoped>\n",
       "    .dataframe tbody tr th:only-of-type {\n",
       "        vertical-align: middle;\n",
       "    }\n",
       "\n",
       "    .dataframe tbody tr th {\n",
       "        vertical-align: top;\n",
       "    }\n",
       "\n",
       "    .dataframe thead th {\n",
       "        text-align: right;\n",
       "    }\n",
       "</style>\n",
       "<table border=\"1\" class=\"dataframe\">\n",
       "  <thead>\n",
       "    <tr style=\"text-align: right;\">\n",
       "      <th></th>\n",
       "      <th>iter</th>\n",
       "      <th>n_resources</th>\n",
       "      <th>mean_fit_time</th>\n",
       "      <th>std_fit_time</th>\n",
       "      <th>mean_score_time</th>\n",
       "      <th>std_score_time</th>\n",
       "      <th>param_modelo</th>\n",
       "      <th>param_modelo__penalty</th>\n",
       "      <th>param_modelo__solver</th>\n",
       "      <th>param_percentiles__percentile</th>\n",
       "      <th>...</th>\n",
       "      <th>mean_test_score</th>\n",
       "      <th>std_test_score</th>\n",
       "      <th>rank_test_score</th>\n",
       "      <th>split0_train_score</th>\n",
       "      <th>split1_train_score</th>\n",
       "      <th>split2_train_score</th>\n",
       "      <th>split3_train_score</th>\n",
       "      <th>split4_train_score</th>\n",
       "      <th>mean_train_score</th>\n",
       "      <th>std_train_score</th>\n",
       "    </tr>\n",
       "  </thead>\n",
       "  <tbody>\n",
       "    <tr>\n",
       "      <th>115</th>\n",
       "      <td>0</td>\n",
       "      <td>30</td>\n",
       "      <td>0.342891</td>\n",
       "      <td>0.120256</td>\n",
       "      <td>0.090346</td>\n",
       "      <td>0.065709</td>\n",
       "      <td>KNeighborsClassifier(n_neighbors=6)</td>\n",
       "      <td>NaN</td>\n",
       "      <td>NaN</td>\n",
       "      <td>60</td>\n",
       "      <td>...</td>\n",
       "      <td>0.673333</td>\n",
       "      <td>0.152607</td>\n",
       "      <td>1</td>\n",
       "      <td>0.652174</td>\n",
       "      <td>0.478261</td>\n",
       "      <td>0.608696</td>\n",
       "      <td>0.666667</td>\n",
       "      <td>0.625000</td>\n",
       "      <td>0.606159</td>\n",
       "      <td>0.067079</td>\n",
       "    </tr>\n",
       "    <tr>\n",
       "      <th>84</th>\n",
       "      <td>0</td>\n",
       "      <td>30</td>\n",
       "      <td>0.319721</td>\n",
       "      <td>0.116841</td>\n",
       "      <td>0.091145</td>\n",
       "      <td>0.069558</td>\n",
       "      <td>KNeighborsClassifier(n_neighbors=6)</td>\n",
       "      <td>NaN</td>\n",
       "      <td>NaN</td>\n",
       "      <td>20</td>\n",
       "      <td>...</td>\n",
       "      <td>0.673333</td>\n",
       "      <td>0.213333</td>\n",
       "      <td>1</td>\n",
       "      <td>0.826087</td>\n",
       "      <td>0.521739</td>\n",
       "      <td>0.608696</td>\n",
       "      <td>0.666667</td>\n",
       "      <td>0.708333</td>\n",
       "      <td>0.666304</td>\n",
       "      <td>0.101504</td>\n",
       "    </tr>\n",
       "    <tr>\n",
       "      <th>119</th>\n",
       "      <td>0</td>\n",
       "      <td>30</td>\n",
       "      <td>0.381760</td>\n",
       "      <td>0.123010</td>\n",
       "      <td>0.085810</td>\n",
       "      <td>0.068413</td>\n",
       "      <td>KNeighborsClassifier(n_neighbors=6)</td>\n",
       "      <td>NaN</td>\n",
       "      <td>NaN</td>\n",
       "      <td>80</td>\n",
       "      <td>...</td>\n",
       "      <td>0.673333</td>\n",
       "      <td>0.152607</td>\n",
       "      <td>1</td>\n",
       "      <td>0.652174</td>\n",
       "      <td>0.478261</td>\n",
       "      <td>0.608696</td>\n",
       "      <td>0.666667</td>\n",
       "      <td>0.625000</td>\n",
       "      <td>0.606159</td>\n",
       "      <td>0.067079</td>\n",
       "    </tr>\n",
       "    <tr>\n",
       "      <th>118</th>\n",
       "      <td>0</td>\n",
       "      <td>30</td>\n",
       "      <td>0.357498</td>\n",
       "      <td>0.113097</td>\n",
       "      <td>0.089441</td>\n",
       "      <td>0.069084</td>\n",
       "      <td>KNeighborsClassifier(n_neighbors=6)</td>\n",
       "      <td>NaN</td>\n",
       "      <td>NaN</td>\n",
       "      <td>80</td>\n",
       "      <td>...</td>\n",
       "      <td>0.673333</td>\n",
       "      <td>0.152607</td>\n",
       "      <td>1</td>\n",
       "      <td>0.608696</td>\n",
       "      <td>0.478261</td>\n",
       "      <td>0.608696</td>\n",
       "      <td>0.666667</td>\n",
       "      <td>0.666667</td>\n",
       "      <td>0.605797</td>\n",
       "      <td>0.068837</td>\n",
       "    </tr>\n",
       "    <tr>\n",
       "      <th>116</th>\n",
       "      <td>0</td>\n",
       "      <td>30</td>\n",
       "      <td>0.387772</td>\n",
       "      <td>0.133169</td>\n",
       "      <td>0.094329</td>\n",
       "      <td>0.068302</td>\n",
       "      <td>KNeighborsClassifier(n_neighbors=6)</td>\n",
       "      <td>NaN</td>\n",
       "      <td>NaN</td>\n",
       "      <td>60</td>\n",
       "      <td>...</td>\n",
       "      <td>0.673333</td>\n",
       "      <td>0.152607</td>\n",
       "      <td>1</td>\n",
       "      <td>0.652174</td>\n",
       "      <td>0.478261</td>\n",
       "      <td>0.608696</td>\n",
       "      <td>0.666667</td>\n",
       "      <td>0.625000</td>\n",
       "      <td>0.606159</td>\n",
       "      <td>0.067079</td>\n",
       "    </tr>\n",
       "    <tr>\n",
       "      <th>96</th>\n",
       "      <td>0</td>\n",
       "      <td>30</td>\n",
       "      <td>0.324265</td>\n",
       "      <td>0.115351</td>\n",
       "      <td>0.083775</td>\n",
       "      <td>0.068607</td>\n",
       "      <td>KNeighborsClassifier(n_neighbors=6)</td>\n",
       "      <td>NaN</td>\n",
       "      <td>NaN</td>\n",
       "      <td>20</td>\n",
       "      <td>...</td>\n",
       "      <td>0.640000</td>\n",
       "      <td>0.130639</td>\n",
       "      <td>6</td>\n",
       "      <td>0.695652</td>\n",
       "      <td>0.478261</td>\n",
       "      <td>0.608696</td>\n",
       "      <td>0.708333</td>\n",
       "      <td>0.666667</td>\n",
       "      <td>0.631522</td>\n",
       "      <td>0.083974</td>\n",
       "    </tr>\n",
       "    <tr>\n",
       "      <th>49</th>\n",
       "      <td>0</td>\n",
       "      <td>30</td>\n",
       "      <td>0.471111</td>\n",
       "      <td>0.129804</td>\n",
       "      <td>0.099977</td>\n",
       "      <td>0.067461</td>\n",
       "      <td>RandomForestClassifier(random_state=0)</td>\n",
       "      <td>NaN</td>\n",
       "      <td>NaN</td>\n",
       "      <td>20</td>\n",
       "      <td>...</td>\n",
       "      <td>0.640000</td>\n",
       "      <td>0.130639</td>\n",
       "      <td>6</td>\n",
       "      <td>1.000000</td>\n",
       "      <td>1.000000</td>\n",
       "      <td>0.956522</td>\n",
       "      <td>0.958333</td>\n",
       "      <td>1.000000</td>\n",
       "      <td>0.982971</td>\n",
       "      <td>0.020864</td>\n",
       "    </tr>\n",
       "    <tr>\n",
       "      <th>97</th>\n",
       "      <td>0</td>\n",
       "      <td>30</td>\n",
       "      <td>0.358799</td>\n",
       "      <td>0.120367</td>\n",
       "      <td>0.090420</td>\n",
       "      <td>0.066274</td>\n",
       "      <td>KNeighborsClassifier(n_neighbors=6)</td>\n",
       "      <td>NaN</td>\n",
       "      <td>NaN</td>\n",
       "      <td>20</td>\n",
       "      <td>...</td>\n",
       "      <td>0.640000</td>\n",
       "      <td>0.130639</td>\n",
       "      <td>6</td>\n",
       "      <td>0.608696</td>\n",
       "      <td>0.521739</td>\n",
       "      <td>0.608696</td>\n",
       "      <td>0.666667</td>\n",
       "      <td>0.625000</td>\n",
       "      <td>0.606159</td>\n",
       "      <td>0.047235</td>\n",
       "    </tr>\n",
       "    <tr>\n",
       "      <th>98</th>\n",
       "      <td>0</td>\n",
       "      <td>30</td>\n",
       "      <td>0.465248</td>\n",
       "      <td>0.175722</td>\n",
       "      <td>0.114155</td>\n",
       "      <td>0.075358</td>\n",
       "      <td>KNeighborsClassifier(n_neighbors=6)</td>\n",
       "      <td>NaN</td>\n",
       "      <td>NaN</td>\n",
       "      <td>20</td>\n",
       "      <td>...</td>\n",
       "      <td>0.640000</td>\n",
       "      <td>0.130639</td>\n",
       "      <td>6</td>\n",
       "      <td>0.565217</td>\n",
       "      <td>0.478261</td>\n",
       "      <td>0.608696</td>\n",
       "      <td>0.666667</td>\n",
       "      <td>0.625000</td>\n",
       "      <td>0.588768</td>\n",
       "      <td>0.064101</td>\n",
       "    </tr>\n",
       "    <tr>\n",
       "      <th>28</th>\n",
       "      <td>0</td>\n",
       "      <td>30</td>\n",
       "      <td>0.499567</td>\n",
       "      <td>0.124468</td>\n",
       "      <td>0.099897</td>\n",
       "      <td>0.072386</td>\n",
       "      <td>RandomForestClassifier(random_state=0)</td>\n",
       "      <td>NaN</td>\n",
       "      <td>NaN</td>\n",
       "      <td>40</td>\n",
       "      <td>...</td>\n",
       "      <td>0.640000</td>\n",
       "      <td>0.130639</td>\n",
       "      <td>6</td>\n",
       "      <td>0.739130</td>\n",
       "      <td>0.956522</td>\n",
       "      <td>0.695652</td>\n",
       "      <td>0.833333</td>\n",
       "      <td>0.833333</td>\n",
       "      <td>0.811594</td>\n",
       "      <td>0.090158</td>\n",
       "    </tr>\n",
       "    <tr>\n",
       "      <th>101</th>\n",
       "      <td>0</td>\n",
       "      <td>30</td>\n",
       "      <td>0.378862</td>\n",
       "      <td>0.128632</td>\n",
       "      <td>0.091886</td>\n",
       "      <td>0.066271</td>\n",
       "      <td>KNeighborsClassifier(n_neighbors=6)</td>\n",
       "      <td>NaN</td>\n",
       "      <td>NaN</td>\n",
       "      <td>40</td>\n",
       "      <td>...</td>\n",
       "      <td>0.640000</td>\n",
       "      <td>0.130639</td>\n",
       "      <td>6</td>\n",
       "      <td>0.608696</td>\n",
       "      <td>0.478261</td>\n",
       "      <td>0.608696</td>\n",
       "      <td>0.666667</td>\n",
       "      <td>0.625000</td>\n",
       "      <td>0.597464</td>\n",
       "      <td>0.063260</td>\n",
       "    </tr>\n",
       "    <tr>\n",
       "      <th>32</th>\n",
       "      <td>0</td>\n",
       "      <td>30</td>\n",
       "      <td>0.506792</td>\n",
       "      <td>0.148657</td>\n",
       "      <td>0.106214</td>\n",
       "      <td>0.075513</td>\n",
       "      <td>RandomForestClassifier(random_state=0)</td>\n",
       "      <td>NaN</td>\n",
       "      <td>NaN</td>\n",
       "      <td>60</td>\n",
       "      <td>...</td>\n",
       "      <td>0.640000</td>\n",
       "      <td>0.130639</td>\n",
       "      <td>6</td>\n",
       "      <td>0.608696</td>\n",
       "      <td>0.956522</td>\n",
       "      <td>0.782609</td>\n",
       "      <td>0.833333</td>\n",
       "      <td>0.833333</td>\n",
       "      <td>0.802899</td>\n",
       "      <td>0.112764</td>\n",
       "    </tr>\n",
       "    <tr>\n",
       "      <th>104</th>\n",
       "      <td>0</td>\n",
       "      <td>30</td>\n",
       "      <td>0.380865</td>\n",
       "      <td>0.142010</td>\n",
       "      <td>0.094026</td>\n",
       "      <td>0.072578</td>\n",
       "      <td>KNeighborsClassifier(n_neighbors=6)</td>\n",
       "      <td>NaN</td>\n",
       "      <td>NaN</td>\n",
       "      <td>60</td>\n",
       "      <td>...</td>\n",
       "      <td>0.640000</td>\n",
       "      <td>0.130639</td>\n",
       "      <td>6</td>\n",
       "      <td>0.608696</td>\n",
       "      <td>0.478261</td>\n",
       "      <td>0.608696</td>\n",
       "      <td>0.666667</td>\n",
       "      <td>0.625000</td>\n",
       "      <td>0.597464</td>\n",
       "      <td>0.063260</td>\n",
       "    </tr>\n",
       "    <tr>\n",
       "      <th>100</th>\n",
       "      <td>0</td>\n",
       "      <td>30</td>\n",
       "      <td>0.345233</td>\n",
       "      <td>0.123005</td>\n",
       "      <td>0.090651</td>\n",
       "      <td>0.070109</td>\n",
       "      <td>KNeighborsClassifier(n_neighbors=6)</td>\n",
       "      <td>NaN</td>\n",
       "      <td>NaN</td>\n",
       "      <td>40</td>\n",
       "      <td>...</td>\n",
       "      <td>0.640000</td>\n",
       "      <td>0.130639</td>\n",
       "      <td>6</td>\n",
       "      <td>0.652174</td>\n",
       "      <td>0.478261</td>\n",
       "      <td>0.608696</td>\n",
       "      <td>0.666667</td>\n",
       "      <td>0.625000</td>\n",
       "      <td>0.606159</td>\n",
       "      <td>0.067079</td>\n",
       "    </tr>\n",
       "    <tr>\n",
       "      <th>35</th>\n",
       "      <td>0</td>\n",
       "      <td>30</td>\n",
       "      <td>0.511351</td>\n",
       "      <td>0.129060</td>\n",
       "      <td>0.103099</td>\n",
       "      <td>0.066732</td>\n",
       "      <td>RandomForestClassifier(random_state=0)</td>\n",
       "      <td>NaN</td>\n",
       "      <td>NaN</td>\n",
       "      <td>80</td>\n",
       "      <td>...</td>\n",
       "      <td>0.640000</td>\n",
       "      <td>0.130639</td>\n",
       "      <td>6</td>\n",
       "      <td>0.695652</td>\n",
       "      <td>0.869565</td>\n",
       "      <td>0.695652</td>\n",
       "      <td>0.833333</td>\n",
       "      <td>0.833333</td>\n",
       "      <td>0.785507</td>\n",
       "      <td>0.074550</td>\n",
       "    </tr>\n",
       "    <tr>\n",
       "      <th>60</th>\n",
       "      <td>0</td>\n",
       "      <td>30</td>\n",
       "      <td>0.413574</td>\n",
       "      <td>0.079834</td>\n",
       "      <td>0.105074</td>\n",
       "      <td>0.093077</td>\n",
       "      <td>KNeighborsClassifier(n_neighbors=6)</td>\n",
       "      <td>NaN</td>\n",
       "      <td>NaN</td>\n",
       "      <td>20</td>\n",
       "      <td>...</td>\n",
       "      <td>0.640000</td>\n",
       "      <td>0.248014</td>\n",
       "      <td>6</td>\n",
       "      <td>0.869565</td>\n",
       "      <td>0.826087</td>\n",
       "      <td>0.869565</td>\n",
       "      <td>0.666667</td>\n",
       "      <td>0.958333</td>\n",
       "      <td>0.838043</td>\n",
       "      <td>0.095885</td>\n",
       "    </tr>\n",
       "    <tr>\n",
       "      <th>62</th>\n",
       "      <td>0</td>\n",
       "      <td>30</td>\n",
       "      <td>0.372283</td>\n",
       "      <td>0.125293</td>\n",
       "      <td>0.089628</td>\n",
       "      <td>0.068752</td>\n",
       "      <td>KNeighborsClassifier(n_neighbors=6)</td>\n",
       "      <td>NaN</td>\n",
       "      <td>NaN</td>\n",
       "      <td>20</td>\n",
       "      <td>...</td>\n",
       "      <td>0.640000</td>\n",
       "      <td>0.130639</td>\n",
       "      <td>6</td>\n",
       "      <td>0.913043</td>\n",
       "      <td>0.869565</td>\n",
       "      <td>0.869565</td>\n",
       "      <td>0.666667</td>\n",
       "      <td>0.958333</td>\n",
       "      <td>0.855435</td>\n",
       "      <td>0.099940</td>\n",
       "    </tr>\n",
       "    <tr>\n",
       "      <th>107</th>\n",
       "      <td>0</td>\n",
       "      <td>30</td>\n",
       "      <td>0.457024</td>\n",
       "      <td>0.179587</td>\n",
       "      <td>0.096745</td>\n",
       "      <td>0.071145</td>\n",
       "      <td>KNeighborsClassifier(n_neighbors=6)</td>\n",
       "      <td>NaN</td>\n",
       "      <td>NaN</td>\n",
       "      <td>80</td>\n",
       "      <td>...</td>\n",
       "      <td>0.640000</td>\n",
       "      <td>0.130639</td>\n",
       "      <td>6</td>\n",
       "      <td>0.695652</td>\n",
       "      <td>0.478261</td>\n",
       "      <td>0.652174</td>\n",
       "      <td>0.666667</td>\n",
       "      <td>0.625000</td>\n",
       "      <td>0.623551</td>\n",
       "      <td>0.076142</td>\n",
       "    </tr>\n",
       "    <tr>\n",
       "      <th>48</th>\n",
       "      <td>0</td>\n",
       "      <td>30</td>\n",
       "      <td>0.440398</td>\n",
       "      <td>0.105977</td>\n",
       "      <td>0.090583</td>\n",
       "      <td>0.066551</td>\n",
       "      <td>RandomForestClassifier(random_state=0)</td>\n",
       "      <td>NaN</td>\n",
       "      <td>NaN</td>\n",
       "      <td>20</td>\n",
       "      <td>...</td>\n",
       "      <td>0.640000</td>\n",
       "      <td>0.167862</td>\n",
       "      <td>6</td>\n",
       "      <td>1.000000</td>\n",
       "      <td>1.000000</td>\n",
       "      <td>0.956522</td>\n",
       "      <td>1.000000</td>\n",
       "      <td>1.000000</td>\n",
       "      <td>0.991304</td>\n",
       "      <td>0.017391</td>\n",
       "    </tr>\n",
       "    <tr>\n",
       "      <th>109</th>\n",
       "      <td>0</td>\n",
       "      <td>30</td>\n",
       "      <td>0.373647</td>\n",
       "      <td>0.110328</td>\n",
       "      <td>0.096080</td>\n",
       "      <td>0.079646</td>\n",
       "      <td>KNeighborsClassifier(n_neighbors=6)</td>\n",
       "      <td>NaN</td>\n",
       "      <td>NaN</td>\n",
       "      <td>20</td>\n",
       "      <td>...</td>\n",
       "      <td>0.640000</td>\n",
       "      <td>0.130639</td>\n",
       "      <td>6</td>\n",
       "      <td>0.608696</td>\n",
       "      <td>0.565217</td>\n",
       "      <td>0.608696</td>\n",
       "      <td>0.666667</td>\n",
       "      <td>0.625000</td>\n",
       "      <td>0.614855</td>\n",
       "      <td>0.032641</td>\n",
       "    </tr>\n",
       "  </tbody>\n",
       "</table>\n",
       "<p>20 rows × 29 columns</p>\n",
       "</div>"
      ],
      "text/plain": [
       "     iter  n_resources  mean_fit_time  std_fit_time  mean_score_time  \\\n",
       "115     0           30       0.342891      0.120256         0.090346   \n",
       "84      0           30       0.319721      0.116841         0.091145   \n",
       "119     0           30       0.381760      0.123010         0.085810   \n",
       "118     0           30       0.357498      0.113097         0.089441   \n",
       "116     0           30       0.387772      0.133169         0.094329   \n",
       "96      0           30       0.324265      0.115351         0.083775   \n",
       "49      0           30       0.471111      0.129804         0.099977   \n",
       "97      0           30       0.358799      0.120367         0.090420   \n",
       "98      0           30       0.465248      0.175722         0.114155   \n",
       "28      0           30       0.499567      0.124468         0.099897   \n",
       "101     0           30       0.378862      0.128632         0.091886   \n",
       "32      0           30       0.506792      0.148657         0.106214   \n",
       "104     0           30       0.380865      0.142010         0.094026   \n",
       "100     0           30       0.345233      0.123005         0.090651   \n",
       "35      0           30       0.511351      0.129060         0.103099   \n",
       "60      0           30       0.413574      0.079834         0.105074   \n",
       "62      0           30       0.372283      0.125293         0.089628   \n",
       "107     0           30       0.457024      0.179587         0.096745   \n",
       "48      0           30       0.440398      0.105977         0.090583   \n",
       "109     0           30       0.373647      0.110328         0.096080   \n",
       "\n",
       "     std_score_time                            param_modelo  \\\n",
       "115        0.065709     KNeighborsClassifier(n_neighbors=6)   \n",
       "84         0.069558     KNeighborsClassifier(n_neighbors=6)   \n",
       "119        0.068413     KNeighborsClassifier(n_neighbors=6)   \n",
       "118        0.069084     KNeighborsClassifier(n_neighbors=6)   \n",
       "116        0.068302     KNeighborsClassifier(n_neighbors=6)   \n",
       "96         0.068607     KNeighborsClassifier(n_neighbors=6)   \n",
       "49         0.067461  RandomForestClassifier(random_state=0)   \n",
       "97         0.066274     KNeighborsClassifier(n_neighbors=6)   \n",
       "98         0.075358     KNeighborsClassifier(n_neighbors=6)   \n",
       "28         0.072386  RandomForestClassifier(random_state=0)   \n",
       "101        0.066271     KNeighborsClassifier(n_neighbors=6)   \n",
       "32         0.075513  RandomForestClassifier(random_state=0)   \n",
       "104        0.072578     KNeighborsClassifier(n_neighbors=6)   \n",
       "100        0.070109     KNeighborsClassifier(n_neighbors=6)   \n",
       "35         0.066732  RandomForestClassifier(random_state=0)   \n",
       "60         0.093077     KNeighborsClassifier(n_neighbors=6)   \n",
       "62         0.068752     KNeighborsClassifier(n_neighbors=6)   \n",
       "107        0.071145     KNeighborsClassifier(n_neighbors=6)   \n",
       "48         0.066551  RandomForestClassifier(random_state=0)   \n",
       "109        0.079646     KNeighborsClassifier(n_neighbors=6)   \n",
       "\n",
       "    param_modelo__penalty param_modelo__solver param_percentiles__percentile  \\\n",
       "115                   NaN                  NaN                            60   \n",
       "84                    NaN                  NaN                            20   \n",
       "119                   NaN                  NaN                            80   \n",
       "118                   NaN                  NaN                            80   \n",
       "116                   NaN                  NaN                            60   \n",
       "96                    NaN                  NaN                            20   \n",
       "49                    NaN                  NaN                            20   \n",
       "97                    NaN                  NaN                            20   \n",
       "98                    NaN                  NaN                            20   \n",
       "28                    NaN                  NaN                            40   \n",
       "101                   NaN                  NaN                            40   \n",
       "32                    NaN                  NaN                            60   \n",
       "104                   NaN                  NaN                            60   \n",
       "100                   NaN                  NaN                            40   \n",
       "35                    NaN                  NaN                            80   \n",
       "60                    NaN                  NaN                            20   \n",
       "62                    NaN                  NaN                            20   \n",
       "107                   NaN                  NaN                            80   \n",
       "48                    NaN                  NaN                            20   \n",
       "109                   NaN                  NaN                            20   \n",
       "\n",
       "     ... mean_test_score std_test_score rank_test_score split0_train_score  \\\n",
       "115  ...        0.673333       0.152607               1           0.652174   \n",
       "84   ...        0.673333       0.213333               1           0.826087   \n",
       "119  ...        0.673333       0.152607               1           0.652174   \n",
       "118  ...        0.673333       0.152607               1           0.608696   \n",
       "116  ...        0.673333       0.152607               1           0.652174   \n",
       "96   ...        0.640000       0.130639               6           0.695652   \n",
       "49   ...        0.640000       0.130639               6           1.000000   \n",
       "97   ...        0.640000       0.130639               6           0.608696   \n",
       "98   ...        0.640000       0.130639               6           0.565217   \n",
       "28   ...        0.640000       0.130639               6           0.739130   \n",
       "101  ...        0.640000       0.130639               6           0.608696   \n",
       "32   ...        0.640000       0.130639               6           0.608696   \n",
       "104  ...        0.640000       0.130639               6           0.608696   \n",
       "100  ...        0.640000       0.130639               6           0.652174   \n",
       "35   ...        0.640000       0.130639               6           0.695652   \n",
       "60   ...        0.640000       0.248014               6           0.869565   \n",
       "62   ...        0.640000       0.130639               6           0.913043   \n",
       "107  ...        0.640000       0.130639               6           0.695652   \n",
       "48   ...        0.640000       0.167862               6           1.000000   \n",
       "109  ...        0.640000       0.130639               6           0.608696   \n",
       "\n",
       "     split1_train_score  split2_train_score  split3_train_score  \\\n",
       "115            0.478261            0.608696            0.666667   \n",
       "84             0.521739            0.608696            0.666667   \n",
       "119            0.478261            0.608696            0.666667   \n",
       "118            0.478261            0.608696            0.666667   \n",
       "116            0.478261            0.608696            0.666667   \n",
       "96             0.478261            0.608696            0.708333   \n",
       "49             1.000000            0.956522            0.958333   \n",
       "97             0.521739            0.608696            0.666667   \n",
       "98             0.478261            0.608696            0.666667   \n",
       "28             0.956522            0.695652            0.833333   \n",
       "101            0.478261            0.608696            0.666667   \n",
       "32             0.956522            0.782609            0.833333   \n",
       "104            0.478261            0.608696            0.666667   \n",
       "100            0.478261            0.608696            0.666667   \n",
       "35             0.869565            0.695652            0.833333   \n",
       "60             0.826087            0.869565            0.666667   \n",
       "62             0.869565            0.869565            0.666667   \n",
       "107            0.478261            0.652174            0.666667   \n",
       "48             1.000000            0.956522            1.000000   \n",
       "109            0.565217            0.608696            0.666667   \n",
       "\n",
       "     split4_train_score  mean_train_score  std_train_score  \n",
       "115            0.625000          0.606159         0.067079  \n",
       "84             0.708333          0.666304         0.101504  \n",
       "119            0.625000          0.606159         0.067079  \n",
       "118            0.666667          0.605797         0.068837  \n",
       "116            0.625000          0.606159         0.067079  \n",
       "96             0.666667          0.631522         0.083974  \n",
       "49             1.000000          0.982971         0.020864  \n",
       "97             0.625000          0.606159         0.047235  \n",
       "98             0.625000          0.588768         0.064101  \n",
       "28             0.833333          0.811594         0.090158  \n",
       "101            0.625000          0.597464         0.063260  \n",
       "32             0.833333          0.802899         0.112764  \n",
       "104            0.625000          0.597464         0.063260  \n",
       "100            0.625000          0.606159         0.067079  \n",
       "35             0.833333          0.785507         0.074550  \n",
       "60             0.958333          0.838043         0.095885  \n",
       "62             0.958333          0.855435         0.099940  \n",
       "107            0.625000          0.623551         0.076142  \n",
       "48             1.000000          0.991304         0.017391  \n",
       "109            0.625000          0.614855         0.032641  \n",
       "\n",
       "[20 rows x 29 columns]"
      ]
     },
     "execution_count": 33,
     "metadata": {},
     "output_type": "execute_result"
    }
   ],
   "source": [
    "pd.DataFrame(grid_model.cv_results_).sort_values('rank_test_score', ascending = True).head(20)"
   ]
  },
  {
   "cell_type": "code",
   "execution_count": 49,
   "metadata": {},
   "outputs": [
    {
     "data": {
      "text/plain": [
       "iter                                                                                               0\n",
       "n_resources                                                                                       30\n",
       "mean_fit_time                                                                               0.342891\n",
       "std_fit_time                                                                                0.120256\n",
       "mean_score_time                                                                             0.090346\n",
       "std_score_time                                                                              0.065709\n",
       "param_modelo                                                     KNeighborsClassifier(n_neighbors=6)\n",
       "param_modelo__penalty                                                                            NaN\n",
       "param_modelo__solver                                                                             NaN\n",
       "param_percentiles__percentile                                                                     60\n",
       "param_preprocesamiento__BagOfWords__ngram_range                                               (1, 2)\n",
       "param_modelo__max_depth                                                                          NaN\n",
       "param_modelo__n_neighbors                                                                          6\n",
       "params                                             {'modelo': KNeighborsClassifier(n_neighbors=6)...\n",
       "split0_test_score                                                                           0.833333\n",
       "split1_test_score                                                                           0.666667\n",
       "split2_test_score                                                                           0.666667\n",
       "split3_test_score                                                                                0.4\n",
       "split4_test_score                                                                                0.8\n",
       "mean_test_score                                                                             0.673333\n",
       "std_test_score                                                                              0.152607\n",
       "rank_test_score                                                                                    1\n",
       "split0_train_score                                                                          0.652174\n",
       "split1_train_score                                                                          0.478261\n",
       "split2_train_score                                                                          0.608696\n",
       "split3_train_score                                                                          0.666667\n",
       "split4_train_score                                                                             0.625\n",
       "mean_train_score                                                                            0.606159\n",
       "std_train_score                                                                             0.067079\n",
       "Name: 115, dtype: object"
      ]
     },
     "execution_count": 49,
     "metadata": {},
     "output_type": "execute_result"
    }
   ],
   "source": [
    "pd.DataFrame(grid_model.cv_results_).iloc[115]"
   ]
  },
  {
   "cell_type": "markdown",
   "metadata": {
    "cell_id": "9548ab417c8847e4a3d10235845e1ece",
    "deepnote_cell_height": 70.796875,
    "deepnote_cell_type": "markdown",
    "tags": []
   },
   "source": [
    "El mejor modelo obtenido es un KNeighborsClassifier con K=6 con Percentil=60 y Ngram=(1,2), el cual permite clasificar la mayoría de los registros dado que posee un alto K pero que toma las carácteristicas principales de los datos, ya que usa el percentil 60 y un enegrama de 1,2, indicando que solo toma las palabras más importantes de cada registro."
   ]
  },
  {
   "cell_type": "markdown",
   "metadata": {
    "cell_id": "00042-1dc5444c-59e9-4d79-93fb-3c545fe3b086",
    "deepnote_cell_height": 600.15625,
    "deepnote_cell_type": "markdown",
    "id": "OmQUw2aZ_6z2"
   },
   "source": [
    "## 1.4 Predicción del datos sin etiquetado  [0.5 puntos]\n",
    "\n",
    "<p align=\"center\">\n",
    "  <img src=\"https://pbs.twimg.com/media/DolotxUUYAAbg7f.jpg\" width=\"350\">\n",
    "</p>\n"
   ]
  },
  {
   "cell_type": "markdown",
   "metadata": {
    "cell_id": "00043-bdf593d2-92b5-4d74-869a-8c9541a6e572",
    "deepnote_cell_height": 111.171875,
    "deepnote_cell_type": "markdown",
    "id": "Cj0ERBgTBFWN"
   },
   "source": [
    "LLego el momento de predecir \n",
    "`Vergil`, `Gorilla Girl` y `Batcow`\n",
    "\n",
    "\n",
    "**Nota:** Recuerde que pueden existir campos vacios en `history_text`, por lo que se les recomienda borrar los nan."
   ]
  },
  {
   "cell_type": "markdown",
   "metadata": {
    "cell_id": "00035-1e9b40e0-20dc-4ed1-81ca-b7f8f9679771",
    "deepnote_cell_height": 52.390625,
    "deepnote_cell_type": "markdown",
    "tags": []
   },
   "source": [
    "**Respuesta:**"
   ]
  },
  {
   "cell_type": "code",
   "execution_count": 41,
   "metadata": {
    "cell_id": "00035-1ec91701-af2f-4571-9067-f82dbc6f2989",
    "deepnote_cell_height": 66,
    "deepnote_cell_type": "code",
    "tags": []
   },
   "outputs": [],
   "source": [
    "comics_to_clas = df_comics_no_label.dropna(subset=[\"history_text\"]).drop_duplicates(keep = 'first')\n",
    "new_heroes = comics_to_clas[comics_to_clas['name'].isin(['Vergil', 'Gorilla Girl', 'Batcow'])]"
   ]
  },
  {
   "cell_type": "code",
   "execution_count": 43,
   "metadata": {},
   "outputs": [],
   "source": [
    "X = new_heroes.drop('alignment', axis = 1)\n",
    "y_pred = grid_model.predict(X)"
   ]
  },
  {
   "cell_type": "code",
   "execution_count": 45,
   "metadata": {},
   "outputs": [
    {
     "data": {
      "text/html": [
       "<div>\n",
       "<style scoped>\n",
       "    .dataframe tbody tr th:only-of-type {\n",
       "        vertical-align: middle;\n",
       "    }\n",
       "\n",
       "    .dataframe tbody tr th {\n",
       "        vertical-align: top;\n",
       "    }\n",
       "\n",
       "    .dataframe thead th {\n",
       "        text-align: right;\n",
       "    }\n",
       "</style>\n",
       "<table border=\"1\" class=\"dataframe\">\n",
       "  <thead>\n",
       "    <tr style=\"text-align: right;\">\n",
       "      <th></th>\n",
       "      <th>name</th>\n",
       "      <th>alignment_pred</th>\n",
       "    </tr>\n",
       "  </thead>\n",
       "  <tbody>\n",
       "    <tr>\n",
       "      <th>16</th>\n",
       "      <td>Batcow</td>\n",
       "      <td>Good</td>\n",
       "    </tr>\n",
       "    <tr>\n",
       "      <th>40</th>\n",
       "      <td>Gorilla Girl</td>\n",
       "      <td>Good</td>\n",
       "    </tr>\n",
       "    <tr>\n",
       "      <th>78</th>\n",
       "      <td>Vergil</td>\n",
       "      <td>Good</td>\n",
       "    </tr>\n",
       "  </tbody>\n",
       "</table>\n",
       "</div>"
      ],
      "text/plain": [
       "            name alignment_pred\n",
       "16        Batcow           Good\n",
       "40  Gorilla Girl           Good\n",
       "78        Vergil           Good"
      ]
     },
     "execution_count": 45,
     "metadata": {},
     "output_type": "execute_result"
    }
   ],
   "source": [
    "X['alignment_pred'] = y_pred\n",
    "X[['name', 'alignment_pred']].head()"
   ]
  },
  {
   "cell_type": "markdown",
   "metadata": {},
   "source": [
    "Los tres sujetos en cuestión son heroes."
   ]
  },
  {
   "cell_type": "markdown",
   "metadata": {
    "cell_id": "00045-bf830861-7edd-434b-93f5-af4b0404ce83",
    "deepnote_cell_height": 269,
    "deepnote_cell_type": "markdown",
    "id": "Rg4ZMq8ezAH6"
   },
   "source": [
    "<p align=\"center\">\n",
    "  <img src=\"https://media1.tenor.com/images/fb5bf7cc5a4acb91b4177672886a88ba/tenor.gif?itemid=5591338\">\n",
    "</p>"
   ]
  },
  {
   "cell_type": "markdown",
   "metadata": {
    "created_in_deepnote_cell": true,
    "deepnote_cell_type": "markdown",
    "tags": []
   },
   "source": [
    "<a style='text-decoration:none;line-height:16px;display:flex;color:#5B5B62;padding:10px;justify-content:end;' href='https://deepnote.com?utm_source=created-in-deepnote-cell&projectId=87110296-876e-426f-b91d-aaf681223468' target=\"_blank\">\n",
    "<img alt='Created in deepnote.com' style='display:inline;max-height:16px;margin:0px;margin-right:7.5px;' src='data:image/svg+xml;base64,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' > </img>\n",
    "Created in <span style='font-weight:600;margin-left:4px;'>Deepnote</span></a>"
   ]
  }
 ],
 "metadata": {
  "colab": {
   "collapsed_sections": [
    "LCOUC4jss148",
    "GtG74Cphq56p"
   ],
   "name": "Laboratorio4.ipynb",
   "provenance": [],
   "toc_visible": true
  },
  "deepnote": {},
  "deepnote_execution_queue": [],
  "deepnote_notebook_id": "038fcdf2-d87a-4a74-89c6-f5afff22afb6",
  "kernelspec": {
   "display_name": "Python 3 (ipykernel)",
   "language": "python",
   "name": "python3"
  },
  "language_info": {
   "codemirror_mode": {
    "name": "ipython",
    "version": 3
   },
   "file_extension": ".py",
   "mimetype": "text/x-python",
   "name": "python",
   "nbconvert_exporter": "python",
   "pygments_lexer": "ipython3",
   "version": "3.9.12"
  },
  "toc": {
   "base_numbering": 1,
   "nav_menu": {},
   "number_sections": true,
   "sideBar": true,
   "skip_h1_title": true,
   "title_cell": "Tabla de Contenidos",
   "title_sidebar": "Contenidos",
   "toc_cell": false,
   "toc_position": {
    "height": "calc(100% - 180px)",
    "left": "10px",
    "top": "150px",
    "width": "241.867px"
   },
   "toc_section_display": true,
   "toc_window_display": true
  },
  "varInspector": {
   "cols": {
    "lenName": 16,
    "lenType": 16,
    "lenVar": 40
   },
   "kernels_config": {
    "python": {
     "delete_cmd_postfix": "",
     "delete_cmd_prefix": "del ",
     "library": "var_list.py",
     "varRefreshCmd": "print(var_dic_list())"
    },
    "r": {
     "delete_cmd_postfix": ") ",
     "delete_cmd_prefix": "rm(",
     "library": "var_list.r",
     "varRefreshCmd": "cat(var_dic_list()) "
    }
   },
   "types_to_exclude": [
    "module",
    "function",
    "builtin_function_or_method",
    "instance",
    "_Feature"
   ],
   "window_display": false
  }
 },
 "nbformat": 4,
 "nbformat_minor": 1
}
