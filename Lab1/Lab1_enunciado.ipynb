{
 "cells": [
  {
   "cell_type": "markdown",
   "source": "<h1><center>Laboratorio 1: Primeros pasos 👣</center></h1>\n\n<center><strong>MDS7202: Laboratorio de Programación Científica para Ciencia de Datos - Primavera 2021</strong></center>",
   "metadata": {
    "id": "cd7b1b55",
    "cell_id": "bfdbf4ab-01a2-4eb3-975a-8637166de34a",
    "deepnote_cell_type": "markdown",
    "deepnote_cell_height": 104.390625
   }
  },
  {
   "cell_type": "markdown",
   "source": "### Cuerpo Docente:\n\n- Profesor: Pablo Badilla\n- Auxiliar: Ignacio Meza D.\n- Ayudante: Patricio Ortiz",
   "metadata": {
    "id": "Vp_vOHK7V97e",
    "cell_id": "00001-34166f5e-1967-44bf-93ae-9e1f689a9d2b",
    "deepnote_cell_type": "markdown",
    "deepnote_cell_height": 165.1875
   }
  },
  {
   "cell_type": "markdown",
   "source": "### Equipo: SUPER IMPORTANTE - notebooks sin nombre no serán revisados\n\n- Nombre de alumno 1:\n- Nombre de alumno 2:\n",
   "metadata": {
    "id": "4N_5AYgyWKyA",
    "cell_id": "00002-de00814c-fecc-4f73-81d3-0c551d90f502",
    "deepnote_cell_type": "markdown",
    "deepnote_cell_height": 139.796875
   }
  },
  {
   "cell_type": "markdown",
   "source": "### **Link de repositorio de GitHub:** `http://....`",
   "metadata": {
    "id": "1rjlaJDEWxd9",
    "cell_id": "00003-9e155e1b-c755-4987-a921-ef4b610a8cac",
    "deepnote_cell_type": "markdown",
    "deepnote_cell_height": 62
   }
  },
  {
   "cell_type": "markdown",
   "source": "## Reglas:\n\n- Fecha de entrega: 6 días desde la publicación, 3 días de atraso con 1 punto de descuento c/u. Pueden utilizar días bonus sin descuento.\n- **Grupos de 2 personas**.\n- **Ausentes** deberán realizar la actividad solos. \n- Cualquier duda fuera del horario de clases al foro. Mensajes al equipo docente serán respondidos por este medio.\n- Prohibidas las copias. \n- Pueden usar cualquer material del curso que estimen conveniente.",
   "metadata": {
    "id": "9el9ERaKWW3i",
    "cell_id": "00004-b68898c3-df7f-4924-b546-39989db5c1eb",
    "deepnote_cell_type": "markdown",
    "deepnote_cell_height": 271.796875
   }
  },
  {
   "cell_type": "markdown",
   "source": "\n## Objetivos del lab:\n\n\n- Variables, Operadores y Expresiones.\n- Estructuras de Control (if/else).\n- Iteraciones.\n- Listas y Diccionarios.\n- Programación Funcional (Map, Filter y Reduce).\n- Programación Orientada a Objetos (Encapsulamiento, Polimorfismo y Herencia)",
   "metadata": {
    "id": "4708b9b7",
    "cell_id": "00005-ee364add-3449-4845-8a64-70b2026cf418",
    "deepnote_cell_type": "markdown",
    "deepnote_cell_height": 249.390625
   }
  },
  {
   "cell_type": "markdown",
   "source": "## Parte 1: 🍋 Frutas 🍓\n\nEn esta primera parte se trabajará lo escencial visto hasta el momento más un poco de programación funcional a través de frutas:\n\n<div align='center'>\n<img src='https://upload.wikimedia.org/wikipedia/commons/a/a2/Berries_in_Berlin.jpg' width=600/>\n</div>",
   "metadata": {
    "id": "d58b089c",
    "cell_id": "00006-ee59127c-6e4d-4f0a-b7b3-91fa67030c38",
    "deepnote_cell_type": "markdown",
    "deepnote_cell_height": 485.890625
   }
  },
  {
   "cell_type": "markdown",
   "source": "Defina las siguientes frutas como diccionarios a partir de sus características (nombre, color, tipo y si posee o no pepas):\n\n| Nombre    | Tipo     | Color    | Pepas |\n|-----------|----------|----------|-------|\n| limon     | cítrica  | amarillo | True  |\n| naranja   | cítrica  | naranjo  | True  |\n| plátano   | tropical | amarillo | False |\n| piña      | tropical | amarillo | False |\n| frutilla  | bosque   | rojo     | True |\n| frambuesa | bosque   | rojo     | True |",
   "metadata": {
    "id": "5fdf6b19",
    "cell_id": "00007-a7c16348-8e92-4ca9-8186-61b6469ed037",
    "deepnote_cell_type": "markdown",
    "deepnote_cell_height": 237.1875
   }
  },
  {
   "cell_type": "markdown",
   "source": "### [0.5] Estructurar Datos \n\nAgregue Piña, Frutilla y Frambuesa como diccionarios (siga los ejemplos de las frutas dadas) y luego cree un arreglo que contenga estas frutas.\n",
   "metadata": {
    "id": "33aed47b",
    "cell_id": "00008-129dfcb2-92ca-420e-914c-ef3d28ca94cb",
    "deepnote_cell_type": "markdown",
    "deepnote_cell_height": 122.796875
   }
  },
  {
   "cell_type": "code",
   "metadata": {
    "id": "26d23e26",
    "executionInfo": {
     "status": "ok",
     "timestamp": 1631284900014,
     "user_tz": 180,
     "elapsed": 204,
     "user": {
      "displayName": "Ignacio Meza",
      "photoUrl": "https://lh3.googleusercontent.com/a-/AOh14GhI9R2Sl9kpnSGYDYcmCbQ2_IwnY3_WeFFdC_YSXg=s64",
      "userId": "07738957670140287594"
     }
    },
    "deepnote_to_be_reexecuted": false,
    "source_hash": "56db5a38",
    "execution_start": 1648863016482,
    "execution_millis": 22,
    "cell_id": "00009-dc5bdf7c-c90a-4657-9ab2-b459aae42f9c",
    "deepnote_cell_type": "code",
    "deepnote_cell_height": 441
   },
   "source": "limon = {\n    \"nombre\": \"limón\", \n    \"tipo\": \"cítrica\", \n    \"color\": \"amarillo\", \n    \"pepas\": True\n    }\n\nnaranja = {\"nombre\": \"naranja\", \n           \"tipo\": \"cítrica\", \n           \"color\": \"naranjo\", \n           \"pepas\": True\n          }\n\nplatano = {\"nombre\": \"plátano\", \n           \"tipo\": \"tropical\", \n           \"color\": \"amarillo\", \n           \"pepas\": False\n          }\n          \n# agregar las frutas que faltan aquí\n...",
   "execution_count": 1,
   "outputs": []
  },
  {
   "cell_type": "markdown",
   "source": "Ahora, agregue todas las frutas a un arreglo.",
   "metadata": {
    "id": "259ee333",
    "cell_id": "00010-8baad02c-338c-4832-a1fb-421094a960d5",
    "deepnote_cell_type": "markdown",
    "deepnote_cell_height": 52.390625
   }
  },
  {
   "cell_type": "code",
   "metadata": {
    "id": "fcf62186",
    "executionInfo": {
     "status": "ok",
     "timestamp": 1631284901845,
     "user_tz": 180,
     "elapsed": 3,
     "user": {
      "displayName": "Ignacio Meza",
      "photoUrl": "https://lh3.googleusercontent.com/a-/AOh14GhI9R2Sl9kpnSGYDYcmCbQ2_IwnY3_WeFFdC_YSXg=s64",
      "userId": "07738957670140287594"
     }
    },
    "deepnote_to_be_reexecuted": false,
    "source_hash": "78d4e62",
    "execution_start": 1648863016524,
    "execution_millis": 29,
    "cell_id": "00011-c1317f9f-b373-4ffa-85a4-edae3c0d74f6",
    "deepnote_cell_type": "code",
    "deepnote_cell_height": 99
   },
   "source": "# Ojo: agregue los datos en el mismo orden que aparecen en la tabla\ndatos = [...]",
   "execution_count": 2,
   "outputs": []
  },
  {
   "cell_type": "markdown",
   "source": "Este arreglo será la información con la que se trabajará durante el lab.",
   "metadata": {
    "id": "2ed7730e",
    "cell_id": "00012-5549a576-e1ee-4f26-8bea-dfbed941bef9",
    "deepnote_cell_type": "markdown",
    "deepnote_cell_height": 52.390625
   }
  },
  {
   "cell_type": "markdown",
   "source": "### Funciones Aplicadas a los Datos [1.5 puntos]",
   "metadata": {
    "id": "e9b1e46d",
    "cell_id": "00013-28d3dfd6-20bb-4cec-aade-bedb822304cd",
    "deepnote_cell_type": "markdown",
    "deepnote_cell_height": 62
   }
  },
  {
   "cell_type": "markdown",
   "source": "Elabore las siguientes funciones:\n    \n**1. La función `describir(datos)` que genere un arreglo con strings que describan cada fruta de la siguiente manera:**\n\n```{El/La} {...} es una fruta de tipo {...} de color {...}. {Presenta/No presenta} pepas en su interior.```\n    \nPor ejemplo, para el plátano se debe generar el siguiente string:\n    \n```\n'El plátano es una fruta de tipo tropical de color amarillo. No presenta pepas en su interior.'\n```\n    \nIndicaciones: \n- Usen formateo o suma de strings, if, else y for.\n- Para saber si ocupar 'El' o 'La', pueden acceder al nombre de la fruta y ver cual es el último carácter a través de indexadores `string[indice]`.\n    \n**2. La función `filtrar_por_pepa(datos, tiene_pepas)` que dado un tipo de fruta y un booleano, retorne las frutas que tienen o no tienen pepas (según el valor de `tiene_pepas`).**\n    \n\nPor ejemplo, `filtrar_por_pepa(datos, True)` deberá retornar un arreglo con los diccionarios de: naranja, limon, frutilla y frambuesa.\n\n\n**3. La función `conteo_colores(datos)` que cree un diccionario que haga un conteo los colores de las frutas.**\n\nPara estos datos, la función debería retornar el siguiente diccionario: \n    \n```python\n{\"amarillo\": 3, \"naranjo\": 1, \"rojo\": 2}\n````",
   "metadata": {
    "id": "b7b016d6",
    "cell_id": "00014-cd5b819f-eab4-4c58-ad5d-38f8c7748b2a",
    "deepnote_cell_type": "markdown",
    "deepnote_cell_height": 569.796875
   }
  },
  {
   "cell_type": "code",
   "metadata": {
    "id": "023bc051",
    "executionInfo": {
     "status": "ok",
     "timestamp": 1631284903875,
     "user_tz": 180,
     "elapsed": 207,
     "user": {
      "displayName": "Ignacio Meza",
      "photoUrl": "https://lh3.googleusercontent.com/a-/AOh14GhI9R2Sl9kpnSGYDYcmCbQ2_IwnY3_WeFFdC_YSXg=s64",
      "userId": "07738957670140287594"
     }
    },
    "deepnote_to_be_reexecuted": false,
    "source_hash": "cc4d3003",
    "execution_start": 1648863316144,
    "execution_millis": 0,
    "cell_id": "00015-60e93552-c571-4d33-8760-e0224417f3ff",
    "deepnote_cell_type": "code",
    "deepnote_cell_height": 315
   },
   "source": "def describir(datos):\n    # Código Aquí\n    return descripciones\n\n\ndef filtrar_por_pepa(datos, tiene_pepas):\n    # Código Aquí\n    return filtrados\n\n\ndef conteo_colores(datos):\n    # Código Aquí\n    return conteo\n",
   "execution_count": 15,
   "outputs": []
  },
  {
   "cell_type": "markdown",
   "source": "El código de la siguiente celda presenta tests para probar sus funciones: Si la ejecución de esta celda no les levanta ninguna excepción, entonces sus funciones están implementadas según lo requerido. Si alguna falla, entonces deberán corregir los errores mostrados. \nNoten que los strings, diccionarios y en general, los objetos deben ser exactamente idénticos para que el test no falle.\n",
   "metadata": {
    "id": "5240bec1",
    "cell_id": "00016-3a23b5a7-7670-44ae-9d7f-799a1c55e7fe",
    "deepnote_cell_type": "markdown",
    "deepnote_cell_height": 119.59375
   }
  },
  {
   "cell_type": "markdown",
   "source": "**Ejecuten esta celda para comprobar su código:**",
   "metadata": {
    "id": "F2mt7aIusap8",
    "cell_id": "00017-069e9135-e447-4925-b184-6b3caef5395d",
    "deepnote_cell_type": "markdown",
    "deepnote_cell_height": 52.390625
   }
  },
  {
   "cell_type": "code",
   "metadata": {
    "id": "c39b58c0",
    "executionInfo": {
     "status": "ok",
     "timestamp": 1631284905456,
     "user_tz": 180,
     "elapsed": 212,
     "user": {
      "displayName": "Ignacio Meza",
      "photoUrl": "https://lh3.googleusercontent.com/a-/AOh14GhI9R2Sl9kpnSGYDYcmCbQ2_IwnY3_WeFFdC_YSXg=s64",
      "userId": "07738957670140287594"
     }
    },
    "deepnote_to_be_reexecuted": false,
    "source_hash": "af520603",
    "execution_start": 1648863016644,
    "execution_millis": 0,
    "cell_id": "00018-e3eddceb-a874-4260-8649-c594aedc83ce",
    "deepnote_cell_type": "code",
    "deepnote_cell_height": 657
   },
   "source": "# ---------------------------------------------------------------------\n# test descripciones\n# note que las frutas deben estar en igual orden para que este assert no falle.\n\ndescripciones_esperadas = [\n    \"El limón es una fruta de tipo cítrica de color amarillo. Presenta pepas en su interior.\",\n    \"La naranja es una fruta de tipo cítrica de color naranjo. Presenta pepas en su interior.\",\n    \"El plátano es una fruta de tipo tropical de color amarillo. No presenta pepas en su interior.\",\n    \"La piña es una fruta de tipo tropical de color amarillo. No presenta pepas en su interior.\",\n    \"La frutilla es una fruta de tipo bosque de color rojo. Presenta pepas en su interior.\",\n    \"La frambuesa es una fruta de tipo bosque de color rojo. Presenta pepas en su interior.\",\n]\n\nassert descripciones_esperadas == describir(datos)\n\n\n# ---------------------------------------------------------------------\n# test filtro\nfrutas_con_pepa_esperadas = [\n    {\"nombre\": \"limón\", \"tipo\": \"cítrica\", \"color\": \"amarillo\", \"pepas\": True},\n    {\"nombre\": \"naranja\", \"tipo\": \"cítrica\", \"color\": \"naranjo\", \"pepas\": True},\n    {\"nombre\": \"frutilla\", \"tipo\": \"bosque\", \"color\": \"rojo\", \"pepas\": True},\n    {\"nombre\": \"frambuesa\", \"tipo\": \"bosque\", \"color\": \"rojo\", \"pepas\": True}\n]\n\nassert frutas_con_pepa_esperadas == filtrar_por_pepa(datos, True)\n\n# ---------------------------------------------------------------------\n# test conteo\nconteo_esperado = {'amarillo': 3, 'naranjo': 1, 'rojo': 2}\n\n\nassert conteo_esperado == conteo_colores(datos)",
   "execution_count": 4,
   "outputs": []
  },
  {
   "cell_type": "markdown",
   "source": "### Implementaciones Funcionales [1.0 punto] \n\nImplementar las funciones de la sección anterior de forma funcional (solo las primeras 2).",
   "metadata": {
    "id": "yvry-8cgmHk5",
    "cell_id": "00019-4f86fe93-a6fe-4f70-a2de-9502e44b49b5",
    "deepnote_cell_type": "markdown",
    "deepnote_cell_height": 100.390625
   }
  },
  {
   "cell_type": "code",
   "metadata": {
    "id": "c6ef993a",
    "deepnote_to_be_reexecuted": false,
    "source_hash": "64c31950",
    "execution_start": 1648863330543,
    "execution_millis": 3,
    "cell_id": "00020-dad72fd1-f187-41f7-8a0c-4146cb5b306f",
    "deepnote_cell_type": "code",
    "deepnote_cell_height": 279
   },
   "source": "def describir_funcional(datos):\n\n    def generar_descripcion(fruta):\n        # esta función debería retornar el string para una fruta en particular.\n        return ...\n\n    # descripciones = list(map(..., ...))\n    # return descripciones\n    \ndef filtrar_por_pepa_funcional(datos, tipo_de_dato):\n    # filtrados = list(filter(..., ...))\n    # return filtrados",
   "execution_count": 17,
   "outputs": []
  },
  {
   "cell_type": "code",
   "metadata": {
    "id": "OyGdi9IRS9fy",
    "deepnote_to_be_reexecuted": false,
    "source_hash": "a202dbc8",
    "execution_start": 1648863332481,
    "execution_millis": 4,
    "cell_id": "00021-b768865a-b51d-42df-870e-5ce765869644",
    "deepnote_cell_type": "code",
    "deepnote_cell_height": 99
   },
   "source": "assert descripciones_esperadas == describir_funcional(datos)\nassert frutas_con_pepa_esperadas == filtrar_por_pepa_funcional(datos, True)",
   "execution_count": 18,
   "outputs": []
  },
  {
   "cell_type": "markdown",
   "source": "## Parte 2: Electrodomésticos \n\nEn esta parte se solicitarán un par de clases que permitirá jugar con la Programación Orientada a Objetos.\n\n<div align='center'>\n<img src='https://upload.wikimedia.org/wikipedia/commons/6/67/Breville.jpg' width=400/>\n</div>\n\n\n### [0.5] Clase Electrodoméstico\n\nDefina la clase `Electrodomestico` que implemente:\n\n\n- Un constructor que defina un atributo de instancia llamado `enchufado` que almacene valores booleanos. \n- Un método llamado `esta_enchufado(self)` que levante una excepción `Exception` y que termine con la ejecución del programa cuando el atributo enchuado sea `False`. La exepción debe levantar el mensaje `'Alerta ⚠️: El electrodoméstico no está enchufado'`\n- Un método llamado `enchufar(self)` que cambia el estado de `enchufado` a True.\n\n",
   "metadata": {
    "id": "492b941a",
    "cell_id": "00022-276603b2-51d4-4b7f-8001-a1616289e70e",
    "deepnote_cell_type": "markdown",
    "deepnote_cell_height": 664.796875
   }
  },
  {
   "cell_type": "code",
   "metadata": {
    "id": "9f8aa475",
    "executionInfo": {
     "status": "ok",
     "timestamp": 1631284910016,
     "user_tz": 180,
     "elapsed": 211,
     "user": {
      "displayName": "Ignacio Meza",
      "photoUrl": "https://lh3.googleusercontent.com/a-/AOh14GhI9R2Sl9kpnSGYDYcmCbQ2_IwnY3_WeFFdC_YSXg=s64",
      "userId": "07738957670140287594"
     }
    },
    "deepnote_to_be_reexecuted": false,
    "source_hash": "43ca10f0",
    "execution_start": 1648863016745,
    "execution_millis": 21,
    "cell_id": "00023-6491b37f-6bf9-48c1-8dd6-64734002117f",
    "deepnote_cell_type": "code",
    "deepnote_cell_height": 243
   },
   "source": "class Electrodomestico:\n    \n    def __init__(self):\n      # Código Aquí\n        \n    def esta_enchufado(self):\n      # Código Aquí\n            \n    def enchufar(self):\n      # Código Aquí",
   "execution_count": 7,
   "outputs": []
  },
  {
   "cell_type": "markdown",
   "source": "### Clase Jugera [1.0 puntos] \n\n\n<div align='center'>\n<img src='https://upload.wikimedia.org/wikipedia/commons/b/bb/Liquadora_%28parts%29.JPG' width=400/>\n</div>\n\n\nImplemente la clase `Jugera` que extiende `Electrodomestico` y que implemente: \n\n\n- Un constructor que tenga una lista de ingredientes frutales (llamado `bandeja`).\n\n\n- Un método llamado `agregar_ingrediente(self, nueva_fruta)` que dado una fruta, agregue esa fruta a la `bandeja`.\n\n- Un método llamado `listar_ingredientes(self)` que imprima (con `print`) los ingredientes actuales de la `bandeja` de la siguiente forma: \n\n    `Ingredientes en la bandeja: frutilla, frambuesa, piña.`\n\nDe lo contrario si no tiene ingredientes imprima:\n\n    `Bandeja vacía`\n\n\n**Hint:** Investigar el método `join` de un string para generar el string con los nombres de las frutas.\n    \n    \n    \n\n- Un método llamado `preparar_jugo(self)` que: \n    - Primero verifique que el electrodoméstico esté enchufado usando `self.esta_enchufado()`.\n    - Verifique que haya por lo menos un ingrediente en la `bandeja`. En el caso que no haya, levantar una excepción con contenido `'Error ❌: La bandeja no tiene ingredientes.'`\n    - Verifique que ninguna fruta tenga pepas. En el caso que haya alguna, imprimir (con `print`) el mensaje de advertencia `'Alerta ⚠️: El jugo puede contener restos de pepas.'`. Puede usar la función definida en la sección anterior.\n    - Genere un mensaje indicado `Jugo de {nombres de las frutas separadas por una ,} listo. 🏖️🥤 Que lo disfrutes!!! 🥤🏖️. ` (Hint: Usar nuevamente `join`).\n    - Vacie la `bandeja` (es decir, eliminar todas las frutas de la bandeja).\n    - Retorne el mensaje generado.\n",
   "metadata": {
    "id": "d7d477b5",
    "cell_id": "00024-0d2d8181-6462-4204-9fa4-da88063e46c8",
    "deepnote_cell_type": "markdown",
    "deepnote_cell_height": 954
   }
  },
  {
   "cell_type": "code",
   "metadata": {
    "id": "d9db037b",
    "executionInfo": {
     "status": "ok",
     "timestamp": 1631284912218,
     "user_tz": 180,
     "elapsed": 200,
     "user": {
      "displayName": "Ignacio Meza",
      "photoUrl": "https://lh3.googleusercontent.com/a-/AOh14GhI9R2Sl9kpnSGYDYcmCbQ2_IwnY3_WeFFdC_YSXg=s64",
      "userId": "07738957670140287594"
     }
    },
    "deepnote_to_be_reexecuted": false,
    "source_hash": "fe592b51",
    "execution_start": 1648863366156,
    "execution_millis": 0,
    "cell_id": "00025-bb7f14a6-ab47-4169-9435-6cab7ecf5ccf",
    "deepnote_cell_type": "code",
    "deepnote_cell_height": 351
   },
   "source": "class Jugera(Electrodomestico):\n    \n    def __init__(self):\n      super().__init__()\n      # Código Aquí\n        \n    def agregar_ingrediente(self, nueva_fruta):\n        # Código Aquí\n     \n    def listar_ingredientes(self):\n        # Código Aquí\n    \n    def preparar_jugo(self):\n        # Código Aquí\n        \n        return mensaje",
   "execution_count": 20,
   "outputs": []
  },
  {
   "cell_type": "markdown",
   "source": "### Interacciones\n\nLas siguientes celdas les permitirán probar las interacciones de esta clase.\nLa ejecución es solo referencial y no lleva puntaje. La idea es que la utilice como guía para desarrollar la clase.",
   "metadata": {
    "id": "6889015a",
    "cell_id": "00026-21181882-8e79-4805-8e16-94ba7fcf4a37",
    "deepnote_cell_type": "markdown",
    "deepnote_cell_height": 122.796875
   }
  },
  {
   "cell_type": "code",
   "metadata": {
    "id": "913af660",
    "colab": {
     "base_uri": "https://localhost:8080/"
    },
    "executionInfo": {
     "status": "ok",
     "timestamp": 1631284915045,
     "user_tz": 180,
     "elapsed": 269,
     "user": {
      "displayName": "Ignacio Meza",
      "photoUrl": "https://lh3.googleusercontent.com/a-/AOh14GhI9R2Sl9kpnSGYDYcmCbQ2_IwnY3_WeFFdC_YSXg=s64",
      "userId": "07738957670140287594"
     }
    },
    "outputId": "7164b289-ab75-48f5-a03f-4396c8841115",
    "deepnote_to_be_reexecuted": false,
    "source_hash": "239b8903",
    "execution_start": 1648863369348,
    "execution_millis": 8,
    "cell_id": "00027-1867ac2c-f7af-402f-b64b-90b3a762058a",
    "deepnote_cell_type": "code",
    "deepnote_cell_height": 166
   },
   "source": "jugera = Jugera()\n\n# Como no tenemos ingredientes, listar_ingredientes deberá imprimir 'Bandeja vacía'\njugera.listar_ingredientes()",
   "execution_count": 21,
   "outputs": [
    {
     "name": "stdout",
     "text": "Bandeja vacía\n",
     "output_type": "stream"
    }
   ]
  },
  {
   "cell_type": "code",
   "metadata": {
    "scrolled": false,
    "id": "9d06bf3e",
    "colab": {
     "base_uri": "https://localhost:8080/",
     "height": 337
    },
    "executionInfo": {
     "status": "error",
     "timestamp": 1630330986057,
     "user_tz": 240,
     "elapsed": 237,
     "user": {
      "displayName": "Pablo Fernando Badilla Torrealba",
      "photoUrl": "https://lh3.googleusercontent.com/a-/AOh14GhZ9wO5kZX0PA8fZAhVQswlN5woaZe0JQGA3vxVLw=s64",
      "userId": "14091881033206329524"
     }
    },
    "outputId": "0570ec3a-fc16-4239-b7d2-ed3db46b9cbe",
    "deepnote_to_be_reexecuted": false,
    "source_hash": "77689b24",
    "execution_start": 1648863371573,
    "execution_millis": 20,
    "cell_id": "00028-de679d95-a42c-48f6-86ff-3ca92f9de2c2",
    "deepnote_cell_type": "code",
    "deepnote_cell_height": 162.1875
   },
   "source": "# Esta celda debería levantar una excepcion indicando que no está enchufada la jugera.\njugera.preparar_jugo()",
   "execution_count": 22,
   "outputs": [
    {
     "output_type": "error",
     "ename": "Exception",
     "evalue": "Error ❌: El electrodoméstico no está enchufado",
     "traceback": [
      "\u001b[0;31m---------------------------------------------------------------------------\u001b[0m",
      "\u001b[0;31mException\u001b[0m                                 Traceback (most recent call last)",
      "\u001b[0;32m<ipython-input-22-12a82fa67e1d>\u001b[0m in \u001b[0;36m<cell line: 2>\u001b[0;34m()\u001b[0m\n\u001b[1;32m      1\u001b[0m \u001b[0;31m# Esta celda debería levantar una excepcion indicando que no está enchufada la jugera.\u001b[0m\u001b[0;34m\u001b[0m\u001b[0;34m\u001b[0m\u001b[0m\n\u001b[0;32m----> 2\u001b[0;31m \u001b[0mjugera\u001b[0m\u001b[0;34m.\u001b[0m\u001b[0mpreparar_jugo\u001b[0m\u001b[0;34m(\u001b[0m\u001b[0;34m)\u001b[0m\u001b[0;34m\u001b[0m\u001b[0;34m\u001b[0m\u001b[0m\n\u001b[0m",
      "\u001b[0;32m<ipython-input-20-58d9f0b443aa>\u001b[0m in \u001b[0;36mpreparar_jugo\u001b[0;34m(self)\u001b[0m\n\u001b[1;32m     17\u001b[0m \u001b[0;34m\u001b[0m\u001b[0m\n\u001b[1;32m     18\u001b[0m     \u001b[0;32mdef\u001b[0m \u001b[0mpreparar_jugo\u001b[0m\u001b[0;34m(\u001b[0m\u001b[0mself\u001b[0m\u001b[0;34m)\u001b[0m\u001b[0;34m:\u001b[0m\u001b[0;34m\u001b[0m\u001b[0;34m\u001b[0m\u001b[0m\n\u001b[0;32m---> 19\u001b[0;31m         \u001b[0mself\u001b[0m\u001b[0;34m.\u001b[0m\u001b[0mesta_enchufado\u001b[0m\u001b[0;34m(\u001b[0m\u001b[0;34m)\u001b[0m\u001b[0;34m\u001b[0m\u001b[0;34m\u001b[0m\u001b[0m\n\u001b[0m\u001b[1;32m     20\u001b[0m \u001b[0;34m\u001b[0m\u001b[0m\n\u001b[1;32m     21\u001b[0m         \u001b[0;32mif\u001b[0m \u001b[0mlen\u001b[0m\u001b[0;34m(\u001b[0m\u001b[0mself\u001b[0m\u001b[0;34m.\u001b[0m\u001b[0mbandeja\u001b[0m\u001b[0;34m)\u001b[0m \u001b[0;34m==\u001b[0m \u001b[0;36m0\u001b[0m\u001b[0;34m:\u001b[0m\u001b[0;34m\u001b[0m\u001b[0;34m\u001b[0m\u001b[0m\n",
      "\u001b[0;32m<ipython-input-7-c5b6abc9c6cb>\u001b[0m in \u001b[0;36mesta_enchufado\u001b[0;34m(self)\u001b[0m\n\u001b[1;32m      6\u001b[0m     \u001b[0;32mdef\u001b[0m \u001b[0mesta_enchufado\u001b[0m\u001b[0;34m(\u001b[0m\u001b[0mself\u001b[0m\u001b[0;34m)\u001b[0m\u001b[0;34m:\u001b[0m\u001b[0;34m\u001b[0m\u001b[0;34m\u001b[0m\u001b[0m\n\u001b[1;32m      7\u001b[0m         \u001b[0;32mif\u001b[0m \u001b[0;32mnot\u001b[0m \u001b[0mself\u001b[0m\u001b[0;34m.\u001b[0m\u001b[0menchufado\u001b[0m\u001b[0;34m:\u001b[0m\u001b[0;34m\u001b[0m\u001b[0;34m\u001b[0m\u001b[0m\n\u001b[0;32m----> 8\u001b[0;31m             \u001b[0;32mraise\u001b[0m \u001b[0mException\u001b[0m\u001b[0;34m(\u001b[0m\u001b[0;34m'Error ❌: El electrodoméstico no está enchufado'\u001b[0m\u001b[0;34m)\u001b[0m\u001b[0;34m\u001b[0m\u001b[0;34m\u001b[0m\u001b[0m\n\u001b[0m\u001b[1;32m      9\u001b[0m \u001b[0;34m\u001b[0m\u001b[0m\n\u001b[1;32m     10\u001b[0m     \u001b[0;32mdef\u001b[0m \u001b[0menchufar\u001b[0m\u001b[0;34m(\u001b[0m\u001b[0mself\u001b[0m\u001b[0;34m)\u001b[0m\u001b[0;34m:\u001b[0m\u001b[0;34m\u001b[0m\u001b[0;34m\u001b[0m\u001b[0m\n",
      "\u001b[0;31mException\u001b[0m: Error ❌: El electrodoméstico no está enchufado"
     ]
    }
   ]
  },
  {
   "cell_type": "code",
   "metadata": {
    "id": "3ad38f18",
    "deepnote_to_be_reexecuted": false,
    "source_hash": "36a2ab49",
    "execution_start": 1648863372430,
    "execution_millis": 0,
    "cell_id": "00029-d9165e10-9c64-4c24-9a09-8ab9d42107fe",
    "deepnote_cell_type": "code",
    "deepnote_cell_height": 99
   },
   "source": "# Enchufamos el electrodoméstico\njugera.enchufar()",
   "execution_count": 23,
   "outputs": []
  },
  {
   "cell_type": "code",
   "metadata": {
    "scrolled": true,
    "id": "48009872",
    "colab": {
     "base_uri": "https://localhost:8080/",
     "height": 299
    },
    "executionInfo": {
     "status": "error",
     "timestamp": 1630289215369,
     "user_tz": 240,
     "elapsed": 235,
     "user": {
      "displayName": "Ignacio Meza",
      "photoUrl": "https://lh3.googleusercontent.com/a-/AOh14GhI9R2Sl9kpnSGYDYcmCbQ2_IwnY3_WeFFdC_YSXg=s64",
      "userId": "07738957670140287594"
     }
    },
    "outputId": "c340d269-afa0-4d70-e489-d5c3710dda6e",
    "deepnote_to_be_reexecuted": false,
    "source_hash": "27514b2c",
    "execution_start": 1648863376136,
    "execution_millis": 173,
    "cell_id": "00030-21f1cce1-c787-421e-9a9d-568148509bfa",
    "deepnote_cell_type": "code",
    "deepnote_cell_height": 162.1875
   },
   "source": "# Esta celda debería levantar ina excepción informandoles que la bandeja no tiene ingredientes.\njugera.preparar_jugo()",
   "execution_count": 24,
   "outputs": [
    {
     "output_type": "error",
     "ename": "Exception",
     "evalue": "Error ❌: La bandeja no tiene ingredientes.",
     "traceback": [
      "\u001b[0;31m---------------------------------------------------------------------------\u001b[0m",
      "\u001b[0;31mException\u001b[0m                                 Traceback (most recent call last)",
      "\u001b[0;32m<ipython-input-24-763feb2b9970>\u001b[0m in \u001b[0;36m<cell line: 2>\u001b[0;34m()\u001b[0m\n\u001b[1;32m      1\u001b[0m \u001b[0;31m# Esta celda debería levantar ina excepción informandoles que la bandeja no tiene ingredientes.\u001b[0m\u001b[0;34m\u001b[0m\u001b[0;34m\u001b[0m\u001b[0m\n\u001b[0;32m----> 2\u001b[0;31m \u001b[0mjugera\u001b[0m\u001b[0;34m.\u001b[0m\u001b[0mpreparar_jugo\u001b[0m\u001b[0;34m(\u001b[0m\u001b[0;34m)\u001b[0m\u001b[0;34m\u001b[0m\u001b[0;34m\u001b[0m\u001b[0m\n\u001b[0m",
      "\u001b[0;32m<ipython-input-20-58d9f0b443aa>\u001b[0m in \u001b[0;36mpreparar_jugo\u001b[0;34m(self)\u001b[0m\n\u001b[1;32m     20\u001b[0m \u001b[0;34m\u001b[0m\u001b[0m\n\u001b[1;32m     21\u001b[0m         \u001b[0;32mif\u001b[0m \u001b[0mlen\u001b[0m\u001b[0;34m(\u001b[0m\u001b[0mself\u001b[0m\u001b[0;34m.\u001b[0m\u001b[0mbandeja\u001b[0m\u001b[0;34m)\u001b[0m \u001b[0;34m==\u001b[0m \u001b[0;36m0\u001b[0m\u001b[0;34m:\u001b[0m\u001b[0;34m\u001b[0m\u001b[0;34m\u001b[0m\u001b[0m\n\u001b[0;32m---> 22\u001b[0;31m             \u001b[0;32mraise\u001b[0m \u001b[0mException\u001b[0m\u001b[0;34m(\u001b[0m\u001b[0;34m'Error ❌: La bandeja no tiene ingredientes.'\u001b[0m\u001b[0;34m)\u001b[0m\u001b[0;34m\u001b[0m\u001b[0;34m\u001b[0m\u001b[0m\n\u001b[0m\u001b[1;32m     23\u001b[0m \u001b[0;34m\u001b[0m\u001b[0m\n\u001b[1;32m     24\u001b[0m         \u001b[0;32mif\u001b[0m \u001b[0mlen\u001b[0m\u001b[0;34m(\u001b[0m\u001b[0mfiltrar_por_pepa\u001b[0m\u001b[0;34m(\u001b[0m\u001b[0mself\u001b[0m\u001b[0;34m.\u001b[0m\u001b[0mbandeja\u001b[0m\u001b[0;34m,\u001b[0m \u001b[0;32mTrue\u001b[0m\u001b[0;34m)\u001b[0m\u001b[0;34m)\u001b[0m \u001b[0;34m>\u001b[0m \u001b[0;36m0\u001b[0m\u001b[0;34m:\u001b[0m\u001b[0;34m\u001b[0m\u001b[0;34m\u001b[0m\u001b[0m\n",
      "\u001b[0;31mException\u001b[0m: Error ❌: La bandeja no tiene ingredientes."
     ]
    }
   ]
  },
  {
   "cell_type": "code",
   "metadata": {
    "id": "4873e0bf",
    "colab": {
     "base_uri": "https://localhost:8080/"
    },
    "executionInfo": {
     "status": "ok",
     "timestamp": 1631284926980,
     "user_tz": 180,
     "elapsed": 194,
     "user": {
      "displayName": "Ignacio Meza",
      "photoUrl": "https://lh3.googleusercontent.com/a-/AOh14GhI9R2Sl9kpnSGYDYcmCbQ2_IwnY3_WeFFdC_YSXg=s64",
      "userId": "07738957670140287594"
     }
    },
    "outputId": "4ee534c1-047a-44e7-a78f-dfb2f9c35ecc",
    "deepnote_to_be_reexecuted": false,
    "source_hash": "a8f0979e",
    "execution_start": 1648863377052,
    "execution_millis": 6,
    "cell_id": "00031-557247ee-0b0e-419d-ab91-05eb6c622fea",
    "deepnote_cell_type": "code",
    "deepnote_cell_height": 202
   },
   "source": "# Agregamos algunos ingredientes\njugera.agregar_ingrediente(naranja)\njugera.agregar_ingrediente(platano)\n\n# Y los listamos (debería imprimir: 'Ingredientes en la bandeja: naranja, plátano')\njugera.listar_ingredientes()",
   "execution_count": 25,
   "outputs": [
    {
     "name": "stdout",
     "text": "Ingredientes en la bandeja: naranja, plátano\n",
     "output_type": "stream"
    }
   ]
  },
  {
   "cell_type": "code",
   "metadata": {
    "id": "ff555151",
    "colab": {
     "base_uri": "https://localhost:8080/",
     "height": 35
    },
    "executionInfo": {
     "status": "ok",
     "timestamp": 1630289217727,
     "user_tz": 240,
     "elapsed": 4,
     "user": {
      "displayName": "Ignacio Meza",
      "photoUrl": "https://lh3.googleusercontent.com/a-/AOh14GhI9R2Sl9kpnSGYDYcmCbQ2_IwnY3_WeFFdC_YSXg=s64",
      "userId": "07738957670140287594"
     }
    },
    "outputId": "a1645680-8b1c-47d7-f2c0-111198632692",
    "deepnote_to_be_reexecuted": false,
    "source_hash": "7086345e",
    "execution_start": 1648863380098,
    "execution_millis": 5,
    "cell_id": "00032-fe1976d4-c86a-446c-bd56-cc8fcc77902d",
    "deepnote_cell_type": "code",
    "deepnote_cell_height": 182.1875,
    "deepnote_output_heights": [
     null,
     21.1875
    ]
   },
   "source": "# Preparamos el jugo: 'Jugo de naranja, plátano listo. 🏖️🥤 Que lo disfrutes!!! 🥤🏖️.'\njugera.preparar_jugo()",
   "execution_count": 26,
   "outputs": [
    {
     "name": "stdout",
     "text": "Alerta ⚠️: El jugo puede contener restos de pepas.\n",
     "output_type": "stream"
    },
    {
     "output_type": "execute_result",
     "execution_count": 26,
     "data": {
      "text/plain": "'Jugo de naranja, plátano listo. 🏖️🥤 Que lo disfrutes!!! 🥤🏖️.'"
     },
     "metadata": {}
    }
   ]
  },
  {
   "cell_type": "code",
   "metadata": {
    "id": "bbc532b2",
    "colab": {
     "base_uri": "https://localhost:8080/"
    },
    "executionInfo": {
     "status": "ok",
     "timestamp": 1630289219060,
     "user_tz": 240,
     "elapsed": 3,
     "user": {
      "displayName": "Ignacio Meza",
      "photoUrl": "https://lh3.googleusercontent.com/a-/AOh14GhI9R2Sl9kpnSGYDYcmCbQ2_IwnY3_WeFFdC_YSXg=s64",
      "userId": "07738957670140287594"
     }
    },
    "outputId": "b4c0f575-3a0c-45ab-dec0-6bd27b30d9e7",
    "deepnote_to_be_reexecuted": false,
    "source_hash": "6a032d0a",
    "execution_start": 1648863382273,
    "execution_millis": 0,
    "cell_id": "00033-b4fab02e-5c0b-4370-b0ff-f5e7fc5e06ba",
    "deepnote_cell_type": "code",
    "deepnote_cell_height": 130
   },
   "source": "# Una vez preparado el jugo, debería vaciarse la bandeja (imprimir Bandeja vacía)\njugera.listar_ingredientes()",
   "execution_count": 27,
   "outputs": [
    {
     "name": "stdout",
     "text": "Bandeja vacía\n",
     "output_type": "stream"
    }
   ]
  },
  {
   "cell_type": "markdown",
   "source": "### Clase Jugera + Properties  [1.0]\n\nImplementar `bandeja` usando una `property` que permita setear una `nueva_bandeja` como `bandeja` según las siguientes condiciones:\n\n\n- Compruebe que `nueva_bandeja` sea una lista. En caso contrario, levante una excepción.\n- No permita agregar más de 3 ingredientes a la bandeja a la vez. Si se entregan más de 3 frutas, se levante una excepción.\n- Se compruebe que todos los elementos del arreglo sean frutas. Para esto, por cada fruta compruebe que:\n    1. La fruta sea diccionario.\n    2. El diccionario entregado tenga las llaves `nombre`, `tipo`, `color` y `pepas`.",
   "metadata": {
    "id": "972dbcac",
    "cell_id": "00034-73d8fb0c-4cf8-48a7-8cba-d20f701f942e",
    "deepnote_cell_type": "markdown",
    "deepnote_cell_height": 274.796875
   }
  },
  {
   "cell_type": "code",
   "metadata": {
    "id": "X3RXI9nisGfa",
    "executionInfo": {
     "status": "ok",
     "timestamp": 1631284838081,
     "user_tz": 180,
     "elapsed": 229,
     "user": {
      "displayName": "Ignacio Meza",
      "photoUrl": "https://lh3.googleusercontent.com/a-/AOh14GhI9R2Sl9kpnSGYDYcmCbQ2_IwnY3_WeFFdC_YSXg=s64",
      "userId": "07738957670140287594"
     }
    },
    "deepnote_to_be_reexecuted": false,
    "source_hash": "68977855",
    "execution_start": 1648863394051,
    "execution_millis": 5,
    "cell_id": "00035-61c68f41-ca47-4794-9d61-1b5d3197d5a1",
    "deepnote_cell_type": "code",
    "deepnote_cell_height": 495
   },
   "source": "class Jugera(Electrodomestico):\n    \n    \n    def __init__(self):\n        # Código Aquí\n\n    @property\n    def bandeja(self):\n        # Código Aquí\n        \n    @bandeja.setter\n    def bandeja(self, nueva_bandeja):\n        # Código Aquí\n\n    def agregar_ingrediente(self, nueva_fruta):\n        # Código Aquí\n     \n    def listar_ingredientes(self):\n        # Código Aquí\n    \n    def preparar_jugo(self):\n        # Código Aquí\n        \n        return mensaje",
   "execution_count": 28,
   "outputs": []
  },
  {
   "cell_type": "markdown",
   "source": "### Interacciones\n\nLas siguientes celdas les permitirán probar las interacciones de esta clase.\nLa ejecución es solo referencial y no lleva puntaje. La idea es que la utilice como guía para desarrollar la clase.",
   "metadata": {
    "tags": [],
    "cell_id": "00036-342fea3a-f9ca-4640-8b91-b8aad9dbe1f4",
    "deepnote_cell_type": "markdown",
    "deepnote_cell_height": 122.796875
   }
  },
  {
   "cell_type": "code",
   "metadata": {
    "tags": [],
    "deepnote_to_be_reexecuted": false,
    "source_hash": "d7617c26",
    "execution_start": 1648863396777,
    "execution_millis": 4,
    "cell_id": "00037-17d018bc-6787-43f5-b3bf-cced43cb481c",
    "deepnote_cell_type": "code",
    "deepnote_cell_height": 148
   },
   "source": "jugera_2 = Jugera()\n\njugera_2.listar_ingredientes()",
   "execution_count": 29,
   "outputs": [
    {
     "name": "stdout",
     "text": "Bandeja vacía\n",
     "output_type": "stream"
    }
   ]
  },
  {
   "cell_type": "code",
   "metadata": {
    "tags": [],
    "deepnote_to_be_reexecuted": false,
    "source_hash": "480070d3",
    "execution_start": 1648863398145,
    "execution_millis": 18,
    "cell_id": "00038-95a2db01-4115-48c9-bb65-7038de5dd2ff",
    "deepnote_cell_type": "code",
    "deepnote_cell_height": 144.1875
   },
   "source": "jugera_2.preparar_jugo()",
   "execution_count": 30,
   "outputs": [
    {
     "output_type": "error",
     "ename": "Exception",
     "evalue": "Error ❌: El electrodoméstico no está enchufado",
     "traceback": [
      "\u001b[0;31m---------------------------------------------------------------------------\u001b[0m",
      "\u001b[0;31mException\u001b[0m                                 Traceback (most recent call last)",
      "\u001b[0;32m<ipython-input-30-b7b38da5dd79>\u001b[0m in \u001b[0;36m<cell line: 1>\u001b[0;34m()\u001b[0m\n\u001b[0;32m----> 1\u001b[0;31m \u001b[0mjugera_2\u001b[0m\u001b[0;34m.\u001b[0m\u001b[0mpreparar_jugo\u001b[0m\u001b[0;34m(\u001b[0m\u001b[0;34m)\u001b[0m\u001b[0;34m\u001b[0m\u001b[0;34m\u001b[0m\u001b[0m\n\u001b[0m",
      "\u001b[0;32m<ipython-input-28-c66f013ab6f4>\u001b[0m in \u001b[0;36mpreparar_jugo\u001b[0;34m(self)\u001b[0m\n\u001b[1;32m     40\u001b[0m \u001b[0;34m\u001b[0m\u001b[0m\n\u001b[1;32m     41\u001b[0m     \u001b[0;32mdef\u001b[0m \u001b[0mpreparar_jugo\u001b[0m\u001b[0;34m(\u001b[0m\u001b[0mself\u001b[0m\u001b[0;34m)\u001b[0m\u001b[0;34m:\u001b[0m\u001b[0;34m\u001b[0m\u001b[0;34m\u001b[0m\u001b[0m\n\u001b[0;32m---> 42\u001b[0;31m         \u001b[0mself\u001b[0m\u001b[0;34m.\u001b[0m\u001b[0mesta_enchufado\u001b[0m\u001b[0;34m(\u001b[0m\u001b[0;34m)\u001b[0m\u001b[0;34m\u001b[0m\u001b[0;34m\u001b[0m\u001b[0m\n\u001b[0m\u001b[1;32m     43\u001b[0m \u001b[0;34m\u001b[0m\u001b[0m\n\u001b[1;32m     44\u001b[0m         \u001b[0;32mif\u001b[0m \u001b[0mlen\u001b[0m\u001b[0;34m(\u001b[0m\u001b[0mself\u001b[0m\u001b[0;34m.\u001b[0m\u001b[0mbandeja\u001b[0m\u001b[0;34m)\u001b[0m \u001b[0;34m==\u001b[0m \u001b[0;36m0\u001b[0m\u001b[0;34m:\u001b[0m\u001b[0;34m\u001b[0m\u001b[0;34m\u001b[0m\u001b[0m\n",
      "\u001b[0;32m<ipython-input-7-c5b6abc9c6cb>\u001b[0m in \u001b[0;36mesta_enchufado\u001b[0;34m(self)\u001b[0m\n\u001b[1;32m      6\u001b[0m     \u001b[0;32mdef\u001b[0m \u001b[0mesta_enchufado\u001b[0m\u001b[0;34m(\u001b[0m\u001b[0mself\u001b[0m\u001b[0;34m)\u001b[0m\u001b[0;34m:\u001b[0m\u001b[0;34m\u001b[0m\u001b[0;34m\u001b[0m\u001b[0m\n\u001b[1;32m      7\u001b[0m         \u001b[0;32mif\u001b[0m \u001b[0;32mnot\u001b[0m \u001b[0mself\u001b[0m\u001b[0;34m.\u001b[0m\u001b[0menchufado\u001b[0m\u001b[0;34m:\u001b[0m\u001b[0;34m\u001b[0m\u001b[0;34m\u001b[0m\u001b[0m\n\u001b[0;32m----> 8\u001b[0;31m             \u001b[0;32mraise\u001b[0m \u001b[0mException\u001b[0m\u001b[0;34m(\u001b[0m\u001b[0;34m'Error ❌: El electrodoméstico no está enchufado'\u001b[0m\u001b[0;34m)\u001b[0m\u001b[0;34m\u001b[0m\u001b[0;34m\u001b[0m\u001b[0m\n\u001b[0m\u001b[1;32m      9\u001b[0m \u001b[0;34m\u001b[0m\u001b[0m\n\u001b[1;32m     10\u001b[0m     \u001b[0;32mdef\u001b[0m \u001b[0menchufar\u001b[0m\u001b[0;34m(\u001b[0m\u001b[0mself\u001b[0m\u001b[0;34m)\u001b[0m\u001b[0;34m:\u001b[0m\u001b[0;34m\u001b[0m\u001b[0;34m\u001b[0m\u001b[0m\n",
      "\u001b[0;31mException\u001b[0m: Error ❌: El electrodoméstico no está enchufado"
     ]
    }
   ]
  },
  {
   "cell_type": "code",
   "metadata": {
    "tags": [],
    "deepnote_to_be_reexecuted": false,
    "source_hash": "d3e1edd9",
    "execution_start": 1648863398900,
    "execution_millis": 3,
    "cell_id": "00039-648e90a9-a693-4d0a-8692-a20751cfc99a",
    "deepnote_cell_type": "code",
    "deepnote_cell_height": 99
   },
   "source": "# Enchufamos el electrodoméstico\njugera_2.enchufar()",
   "execution_count": 31,
   "outputs": []
  },
  {
   "cell_type": "code",
   "metadata": {
    "tags": [],
    "deepnote_to_be_reexecuted": false,
    "source_hash": "b81f1f5b",
    "execution_start": 1648863400238,
    "execution_millis": 17,
    "cell_id": "00040-88f17b75-396d-4170-88cd-bafad6f7f911",
    "deepnote_cell_type": "code",
    "deepnote_cell_height": 162.1875
   },
   "source": "# Esta celda debería levantar ina excepción informandoles que la bandeja no tiene ingredientes.\njugera_2.preparar_jugo()",
   "execution_count": 32,
   "outputs": [
    {
     "output_type": "error",
     "ename": "Exception",
     "evalue": "Error ❌: La bandeja no tiene ingredientes.",
     "traceback": [
      "\u001b[0;31m---------------------------------------------------------------------------\u001b[0m",
      "\u001b[0;31mException\u001b[0m                                 Traceback (most recent call last)",
      "\u001b[0;32m<ipython-input-32-50e6459dff43>\u001b[0m in \u001b[0;36m<cell line: 2>\u001b[0;34m()\u001b[0m\n\u001b[1;32m      1\u001b[0m \u001b[0;31m# Esta celda debería levantar ina excepción informandoles que la bandeja no tiene ingredientes.\u001b[0m\u001b[0;34m\u001b[0m\u001b[0;34m\u001b[0m\u001b[0m\n\u001b[0;32m----> 2\u001b[0;31m \u001b[0mjugera_2\u001b[0m\u001b[0;34m.\u001b[0m\u001b[0mpreparar_jugo\u001b[0m\u001b[0;34m(\u001b[0m\u001b[0;34m)\u001b[0m\u001b[0;34m\u001b[0m\u001b[0;34m\u001b[0m\u001b[0m\n\u001b[0m",
      "\u001b[0;32m<ipython-input-28-c66f013ab6f4>\u001b[0m in \u001b[0;36mpreparar_jugo\u001b[0;34m(self)\u001b[0m\n\u001b[1;32m     43\u001b[0m \u001b[0;34m\u001b[0m\u001b[0m\n\u001b[1;32m     44\u001b[0m         \u001b[0;32mif\u001b[0m \u001b[0mlen\u001b[0m\u001b[0;34m(\u001b[0m\u001b[0mself\u001b[0m\u001b[0;34m.\u001b[0m\u001b[0mbandeja\u001b[0m\u001b[0;34m)\u001b[0m \u001b[0;34m==\u001b[0m \u001b[0;36m0\u001b[0m\u001b[0;34m:\u001b[0m\u001b[0;34m\u001b[0m\u001b[0;34m\u001b[0m\u001b[0m\n\u001b[0;32m---> 45\u001b[0;31m             \u001b[0;32mraise\u001b[0m \u001b[0mException\u001b[0m\u001b[0;34m(\u001b[0m\u001b[0;34m'Error ❌: La bandeja no tiene ingredientes.'\u001b[0m\u001b[0;34m)\u001b[0m\u001b[0;34m\u001b[0m\u001b[0;34m\u001b[0m\u001b[0m\n\u001b[0m\u001b[1;32m     46\u001b[0m \u001b[0;34m\u001b[0m\u001b[0m\n\u001b[1;32m     47\u001b[0m         \u001b[0;32mif\u001b[0m \u001b[0mlen\u001b[0m\u001b[0;34m(\u001b[0m\u001b[0mfiltrar_por_pepa\u001b[0m\u001b[0;34m(\u001b[0m\u001b[0mself\u001b[0m\u001b[0;34m.\u001b[0m\u001b[0mbandeja\u001b[0m\u001b[0;34m,\u001b[0m \u001b[0;32mTrue\u001b[0m\u001b[0;34m)\u001b[0m\u001b[0;34m)\u001b[0m \u001b[0;34m>\u001b[0m \u001b[0;36m0\u001b[0m\u001b[0;34m:\u001b[0m\u001b[0;34m\u001b[0m\u001b[0;34m\u001b[0m\u001b[0m\n",
      "\u001b[0;31mException\u001b[0m: Error ❌: La bandeja no tiene ingredientes."
     ]
    }
   ]
  },
  {
   "cell_type": "code",
   "metadata": {
    "tags": [],
    "deepnote_to_be_reexecuted": false,
    "source_hash": "a016a727",
    "execution_start": 1648863402271,
    "execution_millis": 482,
    "cell_id": "00041-d568b85e-c5c6-4906-94a7-01c11a0dc18d",
    "deepnote_cell_type": "code",
    "deepnote_cell_height": 162.1875
   },
   "source": "# Agregamos algunos ingredientes (en este caso, como son más de 3, fallará)\njugera_2.bandeja = [naranja, platano, frutilla, limon]",
   "execution_count": 33,
   "outputs": [
    {
     "output_type": "error",
     "ename": "ValueError",
     "evalue": "nueva_bandeja tiene más de 3 frutas.",
     "traceback": [
      "\u001b[0;31m---------------------------------------------------------------------------\u001b[0m",
      "\u001b[0;31mValueError\u001b[0m                                Traceback (most recent call last)",
      "\u001b[0;32m<ipython-input-33-a2a110761309>\u001b[0m in \u001b[0;36m<cell line: 2>\u001b[0;34m()\u001b[0m\n\u001b[1;32m      1\u001b[0m \u001b[0;31m# Agregamos algunos ingredientes (en este caso, como son más de 3, fallará)\u001b[0m\u001b[0;34m\u001b[0m\u001b[0;34m\u001b[0m\u001b[0m\n\u001b[0;32m----> 2\u001b[0;31m \u001b[0mjugera_2\u001b[0m\u001b[0;34m.\u001b[0m\u001b[0mbandeja\u001b[0m \u001b[0;34m=\u001b[0m \u001b[0;34m[\u001b[0m\u001b[0mnaranja\u001b[0m\u001b[0;34m,\u001b[0m \u001b[0mplatano\u001b[0m\u001b[0;34m,\u001b[0m \u001b[0mfrutilla\u001b[0m\u001b[0;34m,\u001b[0m \u001b[0mlimon\u001b[0m\u001b[0;34m]\u001b[0m\u001b[0;34m\u001b[0m\u001b[0;34m\u001b[0m\u001b[0m\n\u001b[0m",
      "\u001b[0;32m<ipython-input-28-c66f013ab6f4>\u001b[0m in \u001b[0;36mbandeja\u001b[0;34m(self, nueva_bandeja)\u001b[0m\n\u001b[1;32m     17\u001b[0m \u001b[0;34m\u001b[0m\u001b[0m\n\u001b[1;32m     18\u001b[0m         \u001b[0;32mif\u001b[0m \u001b[0mlen\u001b[0m\u001b[0;34m(\u001b[0m\u001b[0mnueva_bandeja\u001b[0m\u001b[0;34m)\u001b[0m \u001b[0;34m>\u001b[0m \u001b[0;36m3\u001b[0m\u001b[0;34m:\u001b[0m\u001b[0;34m\u001b[0m\u001b[0;34m\u001b[0m\u001b[0m\n\u001b[0;32m---> 19\u001b[0;31m             \u001b[0;32mraise\u001b[0m \u001b[0mValueError\u001b[0m\u001b[0;34m(\u001b[0m\u001b[0;34m'nueva_bandeja tiene más de 3 frutas.'\u001b[0m\u001b[0;34m)\u001b[0m\u001b[0;34m\u001b[0m\u001b[0;34m\u001b[0m\u001b[0m\n\u001b[0m\u001b[1;32m     20\u001b[0m \u001b[0;34m\u001b[0m\u001b[0m\n\u001b[1;32m     21\u001b[0m         \u001b[0;32mfor\u001b[0m \u001b[0mfruta\u001b[0m \u001b[0;32min\u001b[0m \u001b[0mnueva_bandeja\u001b[0m\u001b[0;34m:\u001b[0m\u001b[0;34m\u001b[0m\u001b[0;34m\u001b[0m\u001b[0m\n",
      "\u001b[0;31mValueError\u001b[0m: nueva_bandeja tiene más de 3 frutas."
     ]
    }
   ]
  },
  {
   "cell_type": "code",
   "metadata": {
    "tags": [],
    "deepnote_to_be_reexecuted": false,
    "source_hash": "561a3ff9",
    "execution_start": 1648863404537,
    "execution_millis": 20,
    "cell_id": "00042-8428a7c5-2a18-4c9f-9550-f5caa8f375f5",
    "deepnote_cell_type": "code",
    "deepnote_cell_height": 180.1875
   },
   "source": "# Agregamos algunos ingredientes \n# (en este caso debería fallar, ya que estamos entregando un string en el primer lugar)\njugera_2.bandeja = [\"naranja\", platano, frutilla]",
   "execution_count": 34,
   "outputs": [
    {
     "output_type": "error",
     "ename": "TypeError",
     "evalue": "fruta naranja no es diccionario",
     "traceback": [
      "\u001b[0;31m---------------------------------------------------------------------------\u001b[0m",
      "\u001b[0;31mTypeError\u001b[0m                                 Traceback (most recent call last)",
      "\u001b[0;32m<ipython-input-34-7b6a7af0ac43>\u001b[0m in \u001b[0;36m<cell line: 3>\u001b[0;34m()\u001b[0m\n\u001b[1;32m      1\u001b[0m \u001b[0;31m# Agregamos algunos ingredientes\u001b[0m\u001b[0;34m\u001b[0m\u001b[0;34m\u001b[0m\u001b[0m\n\u001b[1;32m      2\u001b[0m \u001b[0;31m# (en este caso debería fallar, ya que estamos entregando un string en el primer lugar)\u001b[0m\u001b[0;34m\u001b[0m\u001b[0;34m\u001b[0m\u001b[0m\n\u001b[0;32m----> 3\u001b[0;31m \u001b[0mjugera_2\u001b[0m\u001b[0;34m.\u001b[0m\u001b[0mbandeja\u001b[0m \u001b[0;34m=\u001b[0m \u001b[0;34m[\u001b[0m\u001b[0;34m\"naranja\"\u001b[0m\u001b[0;34m,\u001b[0m \u001b[0mplatano\u001b[0m\u001b[0;34m,\u001b[0m \u001b[0mfrutilla\u001b[0m\u001b[0;34m]\u001b[0m\u001b[0;34m\u001b[0m\u001b[0;34m\u001b[0m\u001b[0m\n\u001b[0m",
      "\u001b[0;32m<ipython-input-28-c66f013ab6f4>\u001b[0m in \u001b[0;36mbandeja\u001b[0;34m(self, nueva_bandeja)\u001b[0m\n\u001b[1;32m     21\u001b[0m         \u001b[0;32mfor\u001b[0m \u001b[0mfruta\u001b[0m \u001b[0;32min\u001b[0m \u001b[0mnueva_bandeja\u001b[0m\u001b[0;34m:\u001b[0m\u001b[0;34m\u001b[0m\u001b[0;34m\u001b[0m\u001b[0m\n\u001b[1;32m     22\u001b[0m             \u001b[0;32mif\u001b[0m \u001b[0;32mnot\u001b[0m \u001b[0misinstance\u001b[0m\u001b[0;34m(\u001b[0m\u001b[0mfruta\u001b[0m\u001b[0;34m,\u001b[0m \u001b[0mdict\u001b[0m\u001b[0;34m)\u001b[0m\u001b[0;34m:\u001b[0m\u001b[0;34m\u001b[0m\u001b[0;34m\u001b[0m\u001b[0m\n\u001b[0;32m---> 23\u001b[0;31m                 \u001b[0;32mraise\u001b[0m \u001b[0mTypeError\u001b[0m\u001b[0;34m(\u001b[0m\u001b[0;34mf'fruta {fruta} no es diccionario'\u001b[0m\u001b[0;34m)\u001b[0m\u001b[0;34m\u001b[0m\u001b[0;34m\u001b[0m\u001b[0m\n\u001b[0m\u001b[1;32m     24\u001b[0m \u001b[0;34m\u001b[0m\u001b[0m\n\u001b[1;32m     25\u001b[0m             \u001b[0;32mfor\u001b[0m \u001b[0mk\u001b[0m \u001b[0;32min\u001b[0m \u001b[0;34m[\u001b[0m\u001b[0;34m'nombre'\u001b[0m\u001b[0;34m,\u001b[0m \u001b[0;34m'tipo'\u001b[0m\u001b[0;34m,\u001b[0m \u001b[0;34m'color'\u001b[0m\u001b[0;34m,\u001b[0m \u001b[0;34m'pepas'\u001b[0m\u001b[0;34m]\u001b[0m\u001b[0;34m:\u001b[0m\u001b[0;34m\u001b[0m\u001b[0;34m\u001b[0m\u001b[0m\n",
      "\u001b[0;31mTypeError\u001b[0m: fruta naranja no es diccionario"
     ]
    }
   ]
  },
  {
   "cell_type": "code",
   "metadata": {
    "tags": [],
    "deepnote_to_be_reexecuted": false,
    "source_hash": "ecc3586",
    "execution_start": 1648863408300,
    "execution_millis": 2,
    "cell_id": "00043-cdaa6e03-e046-4306-b84e-6aa8d00e6b4f",
    "deepnote_cell_type": "code",
    "deepnote_cell_height": 180.1875
   },
   "source": "# Agregamos algunos ingredientes \n# (en este caso debería fallar, ya que arándando tiene solo la llave nombre)\njugera_2.bandeja = [{'nombre': 'arándano'}, platano, frutilla]",
   "execution_count": 35,
   "outputs": [
    {
     "output_type": "error",
     "ename": "ValueError",
     "evalue": "falta una llave en la fruta entregada",
     "traceback": [
      "\u001b[0;31m---------------------------------------------------------------------------\u001b[0m",
      "\u001b[0;31mValueError\u001b[0m                                Traceback (most recent call last)",
      "\u001b[0;32m<ipython-input-35-4b28cdf8df59>\u001b[0m in \u001b[0;36m<cell line: 3>\u001b[0;34m()\u001b[0m\n\u001b[1;32m      1\u001b[0m \u001b[0;31m# Agregamos algunos ingredientes\u001b[0m\u001b[0;34m\u001b[0m\u001b[0;34m\u001b[0m\u001b[0m\n\u001b[1;32m      2\u001b[0m \u001b[0;31m# (en este caso debería fallar, ya que arándando tiene solo la llave nombre)\u001b[0m\u001b[0;34m\u001b[0m\u001b[0;34m\u001b[0m\u001b[0m\n\u001b[0;32m----> 3\u001b[0;31m \u001b[0mjugera_2\u001b[0m\u001b[0;34m.\u001b[0m\u001b[0mbandeja\u001b[0m \u001b[0;34m=\u001b[0m \u001b[0;34m[\u001b[0m\u001b[0;34m{\u001b[0m\u001b[0;34m'nombre'\u001b[0m\u001b[0;34m:\u001b[0m \u001b[0;34m'arándano'\u001b[0m\u001b[0;34m}\u001b[0m\u001b[0;34m,\u001b[0m \u001b[0mplatano\u001b[0m\u001b[0;34m,\u001b[0m \u001b[0mfrutilla\u001b[0m\u001b[0;34m]\u001b[0m\u001b[0;34m\u001b[0m\u001b[0;34m\u001b[0m\u001b[0m\n\u001b[0m",
      "\u001b[0;32m<ipython-input-28-c66f013ab6f4>\u001b[0m in \u001b[0;36mbandeja\u001b[0;34m(self, nueva_bandeja)\u001b[0m\n\u001b[1;32m     25\u001b[0m             \u001b[0;32mfor\u001b[0m \u001b[0mk\u001b[0m \u001b[0;32min\u001b[0m \u001b[0;34m[\u001b[0m\u001b[0;34m'nombre'\u001b[0m\u001b[0;34m,\u001b[0m \u001b[0;34m'tipo'\u001b[0m\u001b[0;34m,\u001b[0m \u001b[0;34m'color'\u001b[0m\u001b[0;34m,\u001b[0m \u001b[0;34m'pepas'\u001b[0m\u001b[0;34m]\u001b[0m\u001b[0;34m:\u001b[0m\u001b[0;34m\u001b[0m\u001b[0;34m\u001b[0m\u001b[0m\n\u001b[1;32m     26\u001b[0m                 \u001b[0;32mif\u001b[0m \u001b[0mk\u001b[0m \u001b[0;32mnot\u001b[0m \u001b[0;32min\u001b[0m \u001b[0mfruta\u001b[0m\u001b[0;34m:\u001b[0m\u001b[0;34m\u001b[0m\u001b[0;34m\u001b[0m\u001b[0m\n\u001b[0;32m---> 27\u001b[0;31m                     \u001b[0;32mraise\u001b[0m \u001b[0mValueError\u001b[0m\u001b[0;34m(\u001b[0m\u001b[0;34m'falta una llave en la fruta entregada'\u001b[0m\u001b[0;34m)\u001b[0m\u001b[0;34m\u001b[0m\u001b[0;34m\u001b[0m\u001b[0m\n\u001b[0m\u001b[1;32m     28\u001b[0m \u001b[0;34m\u001b[0m\u001b[0m\n\u001b[1;32m     29\u001b[0m         \u001b[0mself\u001b[0m\u001b[0;34m.\u001b[0m\u001b[0m_bandeja\u001b[0m \u001b[0;34m=\u001b[0m \u001b[0mnueva_bandeja\u001b[0m\u001b[0;34m\u001b[0m\u001b[0;34m\u001b[0m\u001b[0m\n",
      "\u001b[0;31mValueError\u001b[0m: falta una llave en la fruta entregada"
     ]
    }
   ]
  },
  {
   "cell_type": "code",
   "metadata": {
    "tags": [],
    "deepnote_to_be_reexecuted": false,
    "source_hash": "b2bcbf",
    "execution_start": 1648863409767,
    "execution_millis": 6,
    "cell_id": "00044-5f6a180e-79e3-43be-9bac-9d8ca3d8994d",
    "deepnote_cell_type": "code",
    "deepnote_cell_height": 184
   },
   "source": "# Agregamos algunos ingredientes (en este caso, como son 3, debería funcionar)\njugera_2.bandeja = [naranja, platano, frutilla]\n\n# Y los listamos (debería imprimir: 'Ingredientes en la bandeja: naranja, plátano')\njugera_2.listar_ingredientes()",
   "execution_count": 36,
   "outputs": [
    {
     "name": "stdout",
     "text": "Ingredientes en la bandeja: naranja, plátano, frutilla\n",
     "output_type": "stream"
    }
   ]
  },
  {
   "cell_type": "code",
   "metadata": {
    "tags": [],
    "deepnote_to_be_reexecuted": false,
    "source_hash": "a9d685c1",
    "execution_start": 1648863411760,
    "execution_millis": 5,
    "cell_id": "00045-97676ca5-7d02-499f-974d-9e53412fcdc2",
    "deepnote_cell_type": "code",
    "deepnote_cell_height": 182.1875,
    "deepnote_output_heights": [
     null,
     21.1875
    ]
   },
   "source": "# Una vez preparado el jugo, imprima el contenido del jugo y si una alerta, \n# en el caso que el jugo tenga pepas.\njugera_2.preparar_jugo()",
   "execution_count": 37,
   "outputs": [
    {
     "name": "stdout",
     "text": "Alerta ⚠️: El jugo puede contener restos de pepas.\n",
     "output_type": "stream"
    },
    {
     "output_type": "execute_result",
     "execution_count": 37,
     "data": {
      "text/plain": "'Jugo de naranja, plátano, frutilla listo. 🏖️🥤 Que lo disfrutes!!! 🥤🏖️.'"
     },
     "metadata": {}
    }
   ]
  },
  {
   "cell_type": "markdown",
   "source": "<a style='text-decoration:none;line-height:16px;display:flex;color:#5B5B62;padding:10px;justify-content:end;' href='https://deepnote.com?utm_source=created-in-deepnote-cell&projectId=87110296-876e-426f-b91d-aaf681223468' target=\"_blank\">\n<img alt='Created in deepnote.com' style='display:inline;max-height:16px;margin:0px;margin-right:7.5px;' src='data:image/svg+xml;base64,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' > </img>\nCreated in <span style='font-weight:600;margin-left:4px;'>Deepnote</span></a>",
   "metadata": {
    "tags": [],
    "created_in_deepnote_cell": true,
    "deepnote_cell_type": "markdown"
   }
  }
 ],
 "nbformat": 4,
 "nbformat_minor": 5,
 "metadata": {
  "kernelspec": {
   "display_name": "Python 3",
   "language": "python",
   "name": "python3"
  },
  "language_info": {
   "codemirror_mode": {
    "name": "ipython",
    "version": 3
   },
   "file_extension": ".py",
   "mimetype": "text/x-python",
   "name": "python",
   "nbconvert_exporter": "python",
   "pygments_lexer": "ipython3",
   "version": "3.8.3"
  },
  "colab": {
   "name": "Lab1_pauta.ipynb",
   "provenance": [],
   "collapsed_sections": []
  },
  "deepnote_notebook_id": "de356b11-874c-495a-ba14-3a203f214e90",
  "deepnote": {},
  "deepnote_execution_queue": []
 }
}