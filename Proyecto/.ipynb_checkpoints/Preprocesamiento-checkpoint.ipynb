{
 "cells": [
  {
   "cell_type": "code",
   "execution_count": 1,
   "metadata": {},
   "outputs": [],
   "source": [
    "import pandas as pd\n",
    "import numpy as np\n",
    "import pickle"
   ]
  },
  {
   "cell_type": "code",
   "execution_count": 2,
   "metadata": {},
   "outputs": [],
   "source": [
    "from sklearn.pipeline import Pipeline"
   ]
  },
  {
   "cell_type": "code",
   "execution_count": 3,
   "metadata": {},
   "outputs": [],
   "source": [
    "#pip install pickle5\n",
    "#pip install pyarrow"
   ]
  },
  {
   "cell_type": "code",
   "execution_count": 4,
   "metadata": {},
   "outputs": [],
   "source": [
    "with open('test.pickle', \"rb\") as fh:\n",
    "    data_val = pickle.load(fh)"
   ]
  },
  {
   "cell_type": "code",
   "execution_count": 5,
   "metadata": {},
   "outputs": [],
   "source": [
    "data1 = pd.read_parquet('train_numerical_features.parquet')\n",
    "data2 = pd.read_parquet('train_text_features.parquet')\n",
    "\n",
    "data = data1.merge(data2, on = ['id', 'tagline', 'credits', 'title'])"
   ]
  },
  {
   "cell_type": "code",
   "execution_count": 6,
   "metadata": {},
   "outputs": [],
   "source": [
    "data.drop(['poster_path', 'backdrop_path', 'recommendations'], axis=1, inplace=True)\n",
    "\n",
    "data = data[~ (\n",
    "    (data['revenue']==0) |\n",
    "    (data['release_date'].isna()) |\n",
    "    (data['runtime'].isna()) |\n",
    "    ((data['status'] != 'Released'))\n",
    "                )]\n",
    "\n",
    "data['release_date'] = pd.to_datetime(data['release_date'], format = '%Y-%m-%d')\n",
    "\n",
    "data_cat = data.select_dtypes(include=[object])\n",
    "data[data_cat.columns] = data_cat.fillna('')\n",
    "\n",
    "data.loc[:, 'label'] = 'Very Positive'\n",
    "\n",
    "data.loc[(data['vote_average'] <= 8) & (data['vote_average'] > 7), 'label'] = 'Positive'\n",
    "data.loc[(data['vote_average'] <= 7) & (data['vote_average'] > 6), 'label'] = 'Mostly Positive'\n",
    "data.loc[(data['vote_average'] <= 6) & (data['vote_average'] > 5), 'label'] = 'Mixed'\n",
    "data.loc[(data['vote_average'] <= 5) , 'label'] = 'Negative'\n",
    "\n",
    "data.drop(['vote_average', 'id', 'status'], axis=1, inplace=True)\n",
    "data.rename(columns = {'revenue':'target'},\n",
    "            inplace=True)"
   ]
  },
  {
   "cell_type": "code",
   "execution_count": 7,
   "metadata": {},
   "outputs": [],
   "source": [
    "from sklearn.compose import ColumnTransformer\n",
    "from sklearn.preprocessing import StandardScaler\n",
    "from sklearn.tree import DecisionTreeClassifier\n",
    "from sklearn.model_selection import train_test_split\n",
    "from sklearn.metrics import classification_report\n",
    "from sklearn.preprocessing import OneHotEncoder\n",
    "from sklearn.preprocessing import FunctionTransformer"
   ]
  },
  {
   "cell_type": "code",
   "execution_count": 8,
   "metadata": {},
   "outputs": [
    {
     "data": {
      "text/html": [
       "<div>\n",
       "<style scoped>\n",
       "    .dataframe tbody tr th:only-of-type {\n",
       "        vertical-align: middle;\n",
       "    }\n",
       "\n",
       "    .dataframe tbody tr th {\n",
       "        vertical-align: top;\n",
       "    }\n",
       "\n",
       "    .dataframe thead th {\n",
       "        text-align: right;\n",
       "    }\n",
       "</style>\n",
       "<table border=\"1\" class=\"dataframe\">\n",
       "  <thead>\n",
       "    <tr style=\"text-align: right;\">\n",
       "      <th></th>\n",
       "      <th>title</th>\n",
       "      <th>budget</th>\n",
       "      <th>target</th>\n",
       "      <th>runtime</th>\n",
       "      <th>tagline</th>\n",
       "      <th>credits</th>\n",
       "      <th>genres</th>\n",
       "      <th>original_language</th>\n",
       "      <th>overview</th>\n",
       "      <th>production_companies</th>\n",
       "      <th>release_date</th>\n",
       "      <th>keywords</th>\n",
       "      <th>label</th>\n",
       "    </tr>\n",
       "  </thead>\n",
       "  <tbody>\n",
       "    <tr>\n",
       "      <th>0</th>\n",
       "      <td>Fantastic Beasts: The Secrets of Dumbledore</td>\n",
       "      <td>200000000.0</td>\n",
       "      <td>400000000.0</td>\n",
       "      <td>142.0</td>\n",
       "      <td>Return to the magic.</td>\n",
       "      <td>Jude Law-Eddie Redmayne-Mads Mikkelsen-Ezra Mi...</td>\n",
       "      <td>Fantasy-Adventure-Action</td>\n",
       "      <td>en</td>\n",
       "      <td>Professor Albus Dumbledore knows the powerful ...</td>\n",
       "      <td>Warner Bros. Pictures-Heyday Films</td>\n",
       "      <td>2022-04-06</td>\n",
       "      <td>magic-curse-fantasy world-wizard-magical creat...</td>\n",
       "      <td>Mostly Positive</td>\n",
       "    </tr>\n",
       "  </tbody>\n",
       "</table>\n",
       "</div>"
      ],
      "text/plain": [
       "                                         title       budget       target  \\\n",
       "0  Fantastic Beasts: The Secrets of Dumbledore  200000000.0  400000000.0   \n",
       "\n",
       "   runtime               tagline  \\\n",
       "0    142.0  Return to the magic.   \n",
       "\n",
       "                                             credits  \\\n",
       "0  Jude Law-Eddie Redmayne-Mads Mikkelsen-Ezra Mi...   \n",
       "\n",
       "                     genres original_language  \\\n",
       "0  Fantasy-Adventure-Action                en   \n",
       "\n",
       "                                            overview  \\\n",
       "0  Professor Albus Dumbledore knows the powerful ...   \n",
       "\n",
       "                 production_companies release_date  \\\n",
       "0  Warner Bros. Pictures-Heyday Films   2022-04-06   \n",
       "\n",
       "                                            keywords            label  \n",
       "0  magic-curse-fantasy world-wizard-magical creat...  Mostly Positive  "
      ]
     },
     "execution_count": 8,
     "metadata": {},
     "output_type": "execute_result"
    }
   ],
   "source": [
    "data.head(1)"
   ]
  },
  {
   "cell_type": "code",
   "execution_count": 9,
   "metadata": {},
   "outputs": [],
   "source": [
    "col_num = data.select_dtypes(include=[np.number]).columns"
   ]
  },
  {
   "cell_type": "code",
   "execution_count": 10,
   "metadata": {},
   "outputs": [],
   "source": [
    "#pip install -U scikit-learn==1.1"
   ]
  },
  {
   "cell_type": "code",
   "execution_count": 121,
   "metadata": {},
   "outputs": [],
   "source": [
    "values = [x.split(sep='-') for x in data_cat['genres'].unique()]\n",
    "values = [i  for x in values for i in x]\n",
    "\n",
    "val_unique, counts = np.unique(values, return_counts=True)\n",
    "series_count = pd.Series(counts, index = val_unique).sort_values(ascending = False).head(10)\n",
    "    \n",
    "genres_cols = series_count.index\n",
    "global genres_cols"
   ]
  },
  {
   "cell_type": "code",
   "execution_count": 122,
   "metadata": {},
   "outputs": [],
   "source": [
    "def generos(dataframe):\n",
    "    df = {}\n",
    "    for genero in genres_cols:\n",
    "        df[f'genre_{genero}'] = pd.DataFrame(np.where(dataframe['genres'].str.contains(genero), 1, 0))\n",
    "    df_final = pd.concat(df.values(), axis=1)\n",
    "    df_final.columns = df.keys()\n",
    "    return df_final\n",
    "\n",
    "transformer = FunctionTransformer(generos)"
   ]
  },
  {
   "cell_type": "code",
   "execution_count": 123,
   "metadata": {},
   "outputs": [],
   "source": [
    "preprocessing = ColumnTransformer(\n",
    "    transformers = [\n",
    "        ('StandardScaler', StandardScaler(), col_num),\n",
    "        ('OneHotEncoder', OneHotEncoder(max_categories = 1, handle_unknown = 'ignore'),\n",
    "         ['original_language']),\n",
    "        ('GenresEncoder',transformer, ['genres'])\n",
    "    ])"
   ]
  },
  {
   "cell_type": "code",
   "execution_count": 124,
   "metadata": {},
   "outputs": [],
   "source": [
    "pipe1 = Pipeline(steps = [\n",
    "    ('prepro', preprocessing),\n",
    "    ('model', DecisionTreeClassifier())\n",
    "])"
   ]
  },
  {
   "cell_type": "markdown",
   "metadata": {},
   "source": [
    "Clasificación"
   ]
  },
  {
   "cell_type": "code",
   "execution_count": 129,
   "metadata": {},
   "outputs": [],
   "source": [
    "X_train, X_test, y_train, y_test = train_test_split(\n",
    "    data[['original_language', 'budget', 'target', 'runtime', 'genres']],\n",
    "    data['label'],\n",
    "    shuffle = True,\n",
    "    test_size = 0.2,\n",
    "    random_state = 0\n",
    ")"
   ]
  },
  {
   "cell_type": "code",
   "execution_count": 130,
   "metadata": {},
   "outputs": [],
   "source": [
    "pipelines = {'DecisionTree': pipe1}"
   ]
  },
  {
   "cell_type": "code",
   "execution_count": 131,
   "metadata": {},
   "outputs": [
    {
     "name": "stdout",
     "output_type": "stream",
     "text": [
      "Para el modelo DecisionTree el performance es el siguiente:\n",
      "                  precision    recall  f1-score   support\n",
      "\n",
      "          Mixed       0.33      0.32      0.33       272\n",
      "Mostly Positive       0.52      0.52      0.52       611\n",
      "       Negative       0.03      0.03      0.03        31\n",
      "       Positive       0.44      0.45      0.44       346\n",
      "  Very Positive       0.09      0.10      0.10        31\n",
      "\n",
      "       accuracy                           0.43      1291\n",
      "      macro avg       0.28      0.28      0.28      1291\n",
      "   weighted avg       0.44      0.43      0.43      1291\n",
      " \n",
      "\n",
      "\n"
     ]
    }
   ],
   "source": [
    "for name, model in pipelines.items():\n",
    "    model.fit(X_train, y_train)\n",
    "    y_pred = model.predict(X_test)\n",
    "    \n",
    "    scores = classification_report(y_test, y_pred)\n",
    "    print(f'Para el modelo {name} el performance es el siguiente:\\n',scores,'\\n\\n')"
   ]
  },
  {
   "cell_type": "code",
   "execution_count": 132,
   "metadata": {},
   "outputs": [
    {
     "data": {
      "text/plain": [
       "array(['original_language', 'budget', 'target', 'runtime', 'genres'],\n",
       "      dtype=object)"
      ]
     },
     "execution_count": 132,
     "metadata": {},
     "output_type": "execute_result"
    }
   ],
   "source": [
    "model.feature_names_in_"
   ]
  },
  {
   "cell_type": "code",
   "execution_count": null,
   "metadata": {},
   "outputs": [],
   "source": []
  }
 ],
 "metadata": {
  "kernelspec": {
   "display_name": "Python 3 (ipykernel)",
   "language": "python",
   "name": "python3"
  },
  "language_info": {
   "codemirror_mode": {
    "name": "ipython",
    "version": 3
   },
   "file_extension": ".py",
   "mimetype": "text/x-python",
   "name": "python",
   "nbconvert_exporter": "python",
   "pygments_lexer": "ipython3",
   "version": "3.9.12"
  }
 },
 "nbformat": 4,
 "nbformat_minor": 4
}
