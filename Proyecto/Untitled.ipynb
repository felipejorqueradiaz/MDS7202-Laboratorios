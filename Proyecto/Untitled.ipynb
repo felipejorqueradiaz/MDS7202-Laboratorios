{
 "cells": [
  {
   "cell_type": "markdown",
   "id": "aa4617e1",
   "metadata": {},
   "source": [
    "# Proyecto final\n"
   ]
  },
  {
   "cell_type": "markdown",
   "id": "b8f5ba7d",
   "metadata": {},
   "source": [
    "### Equipo\n",
    "# Felipe Jorquera Díaz\n"
   ]
  },
  {
   "cell_type": "code",
   "execution_count": null,
   "id": "f4bd6394",
   "metadata": {},
   "outputs": [],
   "source": []
  }
 ],
 "metadata": {
  "kernelspec": {
   "display_name": "Python 3 (ipykernel)",
   "language": "python",
   "name": "python3"
  },
  "language_info": {
   "codemirror_mode": {
    "name": "ipython",
    "version": 3
   },
   "file_extension": ".py",
   "mimetype": "text/x-python",
   "name": "python",
   "nbconvert_exporter": "python",
   "pygments_lexer": "ipython3",
   "version": "3.9.12"
  }
 },
 "nbformat": 4,
 "nbformat_minor": 5
}
